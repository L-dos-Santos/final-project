{
 "cells": [
  {
   "cell_type": "code",
   "execution_count": 12,
   "id": "2bfc944c",
   "metadata": {},
   "outputs": [],
   "source": [
    "from statsmodels.tsa.ar_model import AutoReg #implements AR model\n",
    "\n",
    "import matplotlib.pyplot as plt\n",
    "import warnings\n",
    "warnings.filterwarnings('ignore')"
   ]
  },
  {
   "cell_type": "markdown",
   "id": "f1503866",
   "metadata": {},
   "source": [
    "\n",
    "# Auto Regression"
   ]
  },
  {
   "cell_type": "code",
   "execution_count": 13,
   "id": "b4d0e54b",
   "metadata": {},
   "outputs": [
    {
     "data": {
      "image/png": "[encoded data removed]",
      "text/plain": [
       "<Figure size 432x288 with 1 Axes>"
      ]
     },
     "metadata": {
      "needs_background": "light"
     },
     "output_type": "display_data"
    }
   ],
   "source": [
    "#Auto regression example\n",
    "#Suitable for data without trend and seasonal component\n",
    "\n",
    "#Create a linear data\n",
    "data = [10, 12, 14, 16, 18, 20, 20, 22]\n",
    "plt.plot(data);"
   ]
  },
  {
   "cell_type": "code",
   "execution_count": 14,
   "id": "f4327612",
   "metadata": {},
   "outputs": [],
   "source": [
    "#lags=1 means high level\n",
    "ARmodel = AutoReg(data, lags=1)#calling Auto regression model\n",
    "ARmodel_fit = ARmodel.fit()#fitting model"
   ]
  },
  {
   "cell_type": "code",
   "execution_count": 15,
   "id": "512ae9fc",
   "metadata": {},
   "outputs": [
    {
     "name": "stdout",
     "output_type": "stream",
     "text": [
      "[23.125      24.14453125 25.06848145]\n"
     ]
    }
   ],
   "source": [
    "#making predctions\n",
    "#it will predict the next 3 values\n",
    "ypredicted = ARmodel_fit.predict(8,10)\n",
    "print(ypredicted)"
   ]
  },
  {
   "cell_type": "code",
   "execution_count": 16,
   "id": "9e5ba272",
   "metadata": {},
   "outputs": [
    {
     "data": {
      "image/png": "[encoded data removed]",
      "text/plain": [
       "<Figure size 432x288 with 1 Axes>"
      ]
     },
     "metadata": {
      "needs_background": "light"
     },
     "output_type": "display_data"
    }
   ],
   "source": [
    "pred_list = ypredicted.tolist()\n",
    "combinedlist = data + pred_list\n",
    "plt.plot(combinedlist);"
   ]
  },
  {
   "cell_type": "markdown",
   "id": "1e91258f",
   "metadata": {},
   "source": [
    "# Moving Average Model"
   ]
  },
  {
   "cell_type": "code",
   "execution_count": 17,
   "id": "0e7a9c26",
   "metadata": {},
   "outputs": [
    {
     "data": {
      "image/png": "[encoded data removed]",
      "text/plain": [
       "<Figure size 432x288 with 1 Axes>"
      ]
     },
     "metadata": {
      "needs_background": "light"
     },
     "output_type": "display_data"
    }
   ],
   "source": [
    "plt.plot(data);"
   ]
  },
  {
   "cell_type": "code",
   "execution_count": 18,
   "id": "fb26a313",
   "metadata": {},
   "outputs": [],
   "source": [
    "#pip install --upgrade statsmodels"
   ]
  },
  {
   "cell_type": "code",
   "execution_count": 19,
   "id": "0deeef52",
   "metadata": {},
   "outputs": [],
   "source": [
    "#conda install -c conda-forge pmdarima"
   ]
  },
  {
   "cell_type": "code",
   "execution_count": 20,
   "id": "6011f182",
   "metadata": {},
   "outputs": [],
   "source": [
    "#conda update -n base -c defaults conda\n"
   ]
  },
  {
   "cell_type": "code",
   "execution_count": 23,
   "id": "be123ea8",
   "metadata": {},
   "outputs": [],
   "source": [
    "import pandas as pd\n",
    "from statsmodels.tsa.arima.model import ARIMA #Suitable for data without trend and seasonal component"
   ]
  },
  {
   "cell_type": "code",
   "execution_count": 25,
   "id": "65091383",
   "metadata": {},
   "outputs": [],
   "source": [
    "#fit model\n",
    "#lear how to set the order\n",
    "#bring some model\n",
    "MAmodel = ARIMA(data, order=(0, 0, 1))#model with AR=0 and MA=1\n",
    "MAmodel_fit = MAmodel.fit()"
   ]
  },
  {
   "cell_type": "code",
   "execution_count": 26,
   "id": "fd28f6ac",
   "metadata": {},
   "outputs": [
    {
     "name": "stdout",
     "output_type": "stream",
     "text": [
      "                               SARIMAX Results                                \n",
      "==============================================================================\n",
      "Dep. Variable:                      y   No. Observations:                    8\n",
      "Model:                 ARIMA(0, 0, 1)   Log Likelihood                 -19.857\n",
      "Date:                Mon, 25 Mar 2024   AIC                             45.714\n",
      "Time:                        16:08:52   BIC                             45.952\n",
      "Sample:                             0   HQIC                            44.107\n",
      "                                  - 8                                         \n",
      "Covariance Type:                  opg                                         \n",
      "==============================================================================\n",
      "                 coef    std err          z      P>|z|      [0.025      0.975]\n",
      "------------------------------------------------------------------------------\n",
      "const         16.4990      2.373      6.953      0.000      11.848      21.150\n",
      "ma.L1          0.8969      2.319      0.387      0.699      -3.649       5.442\n",
      "sigma2         6.9685     10.420      0.669      0.504     -13.455      27.392\n",
      "===================================================================================\n",
      "Ljung-Box (L1) (Q):                   0.99   Jarque-Bera (JB):                 0.27\n",
      "Prob(Q):                              0.32   Prob(JB):                         0.87\n",
      "Heteroskedasticity (H):               1.03   Skew:                            -0.42\n",
      "Prob(H) (two-sided):                  0.98   Kurtosis:                         2.69\n",
      "===================================================================================\n",
      "\n",
      "Warnings:\n",
      "[1] Covariance matrix calculated using the outer product of gradients (complex-step).\n"
     ]
    }
   ],
   "source": [
    "data = [10, 12, 14, 16, 18, 20, 20, 22]\n",
    "order = (0, 0, 1)\n",
    "\n",
    "MAmodel = ARIMA(data, order= order)\n",
    "MAmodel_fit = MAmodel.fit()\n",
    "\n",
    "print(MAmodel_fit.summary())"
   ]
  },
  {
   "cell_type": "code",
   "execution_count": null,
   "id": "8b269cf6",
   "metadata": {},
   "outputs": [],
   "source": []
  }
 ],
 "metadata": {
  "kernelspec": {
   "display_name": "Python 3 (ipykernel)",
   "language": "python",
   "name": "python3"
  },
  "language_info": {
   "codemirror_mode": {
    "name": "ipython",
    "version": 3
   },
   "file_extension": ".py",
   "mimetype": "text/x-python",
   "name": "python",
   "nbconvert_exporter": "python",
   "pygments_lexer": "ipython3",
   "version": "3.9.12"
  }
 },
 "nbformat": 4,
 "nbformat_minor": 5
}
