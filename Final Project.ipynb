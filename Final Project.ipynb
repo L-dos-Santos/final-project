{
 "cells": [
  {
   "cell_type": "code",
   "execution_count": 117,
   "id": "8794db34",
   "metadata": {},
   "outputs": [],
   "source": [
    "# Importing the necassary libraries\n",
    "import pandas as pd\n",
    "import numpy as np\n",
    "import seaborn as sns\n",
    "import math\n",
    "from sklearn.tree import export_graphviz\n",
    "import pydot\n",
    "from sklearn.ensemble import RandomForestRegressor\n",
    "from matplotlib import pyplot\n",
    "from statsmodels.tsa.stattools import adfuller\n",
    "import matplotlib.pyplot as plt\n",
    "\n",
    "import warnings\n",
    "warnings.filterwarnings('ignore')"
   ]
  },
  {
   "cell_type": "code",
   "execution_count": 56,
   "id": "ab145ac3",
   "metadata": {},
   "outputs": [
    {
     "data": {
      "text/html": [
       "<div>\n",
       "<style scoped>\n",
       "    .dataframe tbody tr th:only-of-type {\n",
       "        vertical-align: middle;\n",
       "    }\n",
       "\n",
       "    .dataframe tbody tr th {\n",
       "        vertical-align: top;\n",
       "    }\n",
       "\n",
       "    .dataframe thead th {\n",
       "        text-align: right;\n",
       "    }\n",
       "</style>\n",
       "<table border=\"1\" class=\"dataframe\">\n",
       "  <thead>\n",
       "    <tr style=\"text-align: right;\">\n",
       "      <th></th>\n",
       "      <th>country</th>\n",
       "      <th>year</th>\n",
       "      <th>iso_code</th>\n",
       "      <th>population</th>\n",
       "      <th>gdp</th>\n",
       "      <th>cement_co2</th>\n",
       "      <th>cement_co2_per_capita</th>\n",
       "      <th>co2</th>\n",
       "      <th>co2_growth_abs</th>\n",
       "      <th>co2_growth_prct</th>\n",
       "      <th>...</th>\n",
       "      <th>share_global_other_co2</th>\n",
       "      <th>share_of_temperature_change_from_ghg</th>\n",
       "      <th>temperature_change_from_ch4</th>\n",
       "      <th>temperature_change_from_co2</th>\n",
       "      <th>temperature_change_from_ghg</th>\n",
       "      <th>temperature_change_from_n2o</th>\n",
       "      <th>total_ghg</th>\n",
       "      <th>total_ghg_excluding_lucf</th>\n",
       "      <th>trade_co2</th>\n",
       "      <th>trade_co2_share</th>\n",
       "    </tr>\n",
       "  </thead>\n",
       "  <tbody>\n",
       "    <tr>\n",
       "      <th>0</th>\n",
       "      <td>Afghanistan</td>\n",
       "      <td>1850</td>\n",
       "      <td>AFG</td>\n",
       "      <td>3752993.0</td>\n",
       "      <td>NaN</td>\n",
       "      <td>NaN</td>\n",
       "      <td>NaN</td>\n",
       "      <td>NaN</td>\n",
       "      <td>NaN</td>\n",
       "      <td>NaN</td>\n",
       "      <td>...</td>\n",
       "      <td>NaN</td>\n",
       "      <td>NaN</td>\n",
       "      <td>NaN</td>\n",
       "      <td>NaN</td>\n",
       "      <td>NaN</td>\n",
       "      <td>NaN</td>\n",
       "      <td>NaN</td>\n",
       "      <td>NaN</td>\n",
       "      <td>NaN</td>\n",
       "      <td>NaN</td>\n",
       "    </tr>\n",
       "    <tr>\n",
       "      <th>1</th>\n",
       "      <td>Afghanistan</td>\n",
       "      <td>1851</td>\n",
       "      <td>AFG</td>\n",
       "      <td>3767956.0</td>\n",
       "      <td>NaN</td>\n",
       "      <td>NaN</td>\n",
       "      <td>NaN</td>\n",
       "      <td>NaN</td>\n",
       "      <td>NaN</td>\n",
       "      <td>NaN</td>\n",
       "      <td>...</td>\n",
       "      <td>NaN</td>\n",
       "      <td>0.165</td>\n",
       "      <td>0.0</td>\n",
       "      <td>0.0</td>\n",
       "      <td>0.0</td>\n",
       "      <td>0.0</td>\n",
       "      <td>NaN</td>\n",
       "      <td>NaN</td>\n",
       "      <td>NaN</td>\n",
       "      <td>NaN</td>\n",
       "    </tr>\n",
       "    <tr>\n",
       "      <th>2</th>\n",
       "      <td>Afghanistan</td>\n",
       "      <td>1852</td>\n",
       "      <td>AFG</td>\n",
       "      <td>3783940.0</td>\n",
       "      <td>NaN</td>\n",
       "      <td>NaN</td>\n",
       "      <td>NaN</td>\n",
       "      <td>NaN</td>\n",
       "      <td>NaN</td>\n",
       "      <td>NaN</td>\n",
       "      <td>...</td>\n",
       "      <td>NaN</td>\n",
       "      <td>0.164</td>\n",
       "      <td>0.0</td>\n",
       "      <td>0.0</td>\n",
       "      <td>0.0</td>\n",
       "      <td>0.0</td>\n",
       "      <td>NaN</td>\n",
       "      <td>NaN</td>\n",
       "      <td>NaN</td>\n",
       "      <td>NaN</td>\n",
       "    </tr>\n",
       "    <tr>\n",
       "      <th>3</th>\n",
       "      <td>Afghanistan</td>\n",
       "      <td>1853</td>\n",
       "      <td>AFG</td>\n",
       "      <td>3800954.0</td>\n",
       "      <td>NaN</td>\n",
       "      <td>NaN</td>\n",
       "      <td>NaN</td>\n",
       "      <td>NaN</td>\n",
       "      <td>NaN</td>\n",
       "      <td>NaN</td>\n",
       "      <td>...</td>\n",
       "      <td>NaN</td>\n",
       "      <td>0.164</td>\n",
       "      <td>0.0</td>\n",
       "      <td>0.0</td>\n",
       "      <td>0.0</td>\n",
       "      <td>0.0</td>\n",
       "      <td>NaN</td>\n",
       "      <td>NaN</td>\n",
       "      <td>NaN</td>\n",
       "      <td>NaN</td>\n",
       "    </tr>\n",
       "    <tr>\n",
       "      <th>4</th>\n",
       "      <td>Afghanistan</td>\n",
       "      <td>1854</td>\n",
       "      <td>AFG</td>\n",
       "      <td>3818038.0</td>\n",
       "      <td>NaN</td>\n",
       "      <td>NaN</td>\n",
       "      <td>NaN</td>\n",
       "      <td>NaN</td>\n",
       "      <td>NaN</td>\n",
       "      <td>NaN</td>\n",
       "      <td>...</td>\n",
       "      <td>NaN</td>\n",
       "      <td>0.163</td>\n",
       "      <td>0.0</td>\n",
       "      <td>0.0</td>\n",
       "      <td>0.0</td>\n",
       "      <td>0.0</td>\n",
       "      <td>NaN</td>\n",
       "      <td>NaN</td>\n",
       "      <td>NaN</td>\n",
       "      <td>NaN</td>\n",
       "    </tr>\n",
       "  </tbody>\n",
       "</table>\n",
       "<p>5 rows × 79 columns</p>\n",
       "</div>"
      ],
      "text/plain": [
       "       country  year iso_code  population  gdp  cement_co2  \\\n",
       "0  Afghanistan  1850      AFG   3752993.0  NaN         NaN   \n",
       "1  Afghanistan  1851      AFG   3767956.0  NaN         NaN   \n",
       "2  Afghanistan  1852      AFG   3783940.0  NaN         NaN   \n",
       "3  Afghanistan  1853      AFG   3800954.0  NaN         NaN   \n",
       "4  Afghanistan  1854      AFG   3818038.0  NaN         NaN   \n",
       "\n",
       "   cement_co2_per_capita  co2  co2_growth_abs  co2_growth_prct  ...  \\\n",
       "0                    NaN  NaN             NaN              NaN  ...   \n",
       "1                    NaN  NaN             NaN              NaN  ...   \n",
       "2                    NaN  NaN             NaN              NaN  ...   \n",
       "3                    NaN  NaN             NaN              NaN  ...   \n",
       "4                    NaN  NaN             NaN              NaN  ...   \n",
       "\n",
       "   share_global_other_co2  share_of_temperature_change_from_ghg  \\\n",
       "0                     NaN                                   NaN   \n",
       "1                     NaN                                 0.165   \n",
       "2                     NaN                                 0.164   \n",
       "3                     NaN                                 0.164   \n",
       "4                     NaN                                 0.163   \n",
       "\n",
       "   temperature_change_from_ch4  temperature_change_from_co2  \\\n",
       "0                          NaN                          NaN   \n",
       "1                          0.0                          0.0   \n",
       "2                          0.0                          0.0   \n",
       "3                          0.0                          0.0   \n",
       "4                          0.0                          0.0   \n",
       "\n",
       "   temperature_change_from_ghg  temperature_change_from_n2o  total_ghg  \\\n",
       "0                          NaN                          NaN        NaN   \n",
       "1                          0.0                          0.0        NaN   \n",
       "2                          0.0                          0.0        NaN   \n",
       "3                          0.0                          0.0        NaN   \n",
       "4                          0.0                          0.0        NaN   \n",
       "\n",
       "   total_ghg_excluding_lucf  trade_co2  trade_co2_share  \n",
       "0                       NaN        NaN              NaN  \n",
       "1                       NaN        NaN              NaN  \n",
       "2                       NaN        NaN              NaN  \n",
       "3                       NaN        NaN              NaN  \n",
       "4                       NaN        NaN              NaN  \n",
       "\n",
       "[5 rows x 79 columns]"
      ]
     },
     "execution_count": 56,
     "metadata": {},
     "output_type": "execute_result"
    }
   ],
   "source": [
    "# Reading the dataset\n",
    "dataset = pd.read_csv(\"co2emission.csv\")\n",
    "dataset.head()"
   ]
  },
  {
   "cell_type": "code",
   "execution_count": 57,
   "id": "ac7a5625",
   "metadata": {},
   "outputs": [
    {
     "data": {
      "text/plain": [
       "(50598, 79)"
      ]
     },
     "execution_count": 57,
     "metadata": {},
     "output_type": "execute_result"
    }
   ],
   "source": [
    "# Getting the dimensions\n",
    "dataset.shape"
   ]
  },
  {
   "cell_type": "code",
   "execution_count": 58,
   "id": "4722e5f7",
   "metadata": {},
   "outputs": [
    {
     "data": {
      "text/html": [
       "<div>\n",
       "<style scoped>\n",
       "    .dataframe tbody tr th:only-of-type {\n",
       "        vertical-align: middle;\n",
       "    }\n",
       "\n",
       "    .dataframe tbody tr th {\n",
       "        vertical-align: top;\n",
       "    }\n",
       "\n",
       "    .dataframe thead th {\n",
       "        text-align: right;\n",
       "    }\n",
       "</style>\n",
       "<table border=\"1\" class=\"dataframe\">\n",
       "  <thead>\n",
       "    <tr style=\"text-align: right;\">\n",
       "      <th></th>\n",
       "      <th>country</th>\n",
       "      <th>year</th>\n",
       "      <th>co2_per_capita</th>\n",
       "    </tr>\n",
       "  </thead>\n",
       "  <tbody>\n",
       "    <tr>\n",
       "      <th>50593</th>\n",
       "      <td>Zimbabwe</td>\n",
       "      <td>2017</td>\n",
       "      <td>0.651</td>\n",
       "    </tr>\n",
       "    <tr>\n",
       "      <th>50594</th>\n",
       "      <td>Zimbabwe</td>\n",
       "      <td>2018</td>\n",
       "      <td>0.784</td>\n",
       "    </tr>\n",
       "    <tr>\n",
       "      <th>50595</th>\n",
       "      <td>Zimbabwe</td>\n",
       "      <td>2019</td>\n",
       "      <td>0.724</td>\n",
       "    </tr>\n",
       "    <tr>\n",
       "      <th>50596</th>\n",
       "      <td>Zimbabwe</td>\n",
       "      <td>2020</td>\n",
       "      <td>0.677</td>\n",
       "    </tr>\n",
       "    <tr>\n",
       "      <th>50597</th>\n",
       "      <td>Zimbabwe</td>\n",
       "      <td>2021</td>\n",
       "      <td>0.706</td>\n",
       "    </tr>\n",
       "  </tbody>\n",
       "</table>\n",
       "</div>"
      ],
      "text/plain": [
       "        country  year  co2_per_capita\n",
       "50593  Zimbabwe  2017           0.651\n",
       "50594  Zimbabwe  2018           0.784\n",
       "50595  Zimbabwe  2019           0.724\n",
       "50596  Zimbabwe  2020           0.677\n",
       "50597  Zimbabwe  2021           0.706"
      ]
     },
     "execution_count": 58,
     "metadata": {},
     "output_type": "execute_result"
    }
   ],
   "source": [
    "# Selecting specific columns from the dataset\n",
    "new_data = dataset[[\"country\", \"year\", \"co2_per_capita\"]]\n",
    "\n",
    "new_data.tail()"
   ]
  },
  {
   "cell_type": "code",
   "execution_count": 59,
   "id": "8e069efe",
   "metadata": {},
   "outputs": [
    {
     "data": {
      "text/html": [
       "<div>\n",
       "<style scoped>\n",
       "    .dataframe tbody tr th:only-of-type {\n",
       "        vertical-align: middle;\n",
       "    }\n",
       "\n",
       "    .dataframe tbody tr th {\n",
       "        vertical-align: top;\n",
       "    }\n",
       "\n",
       "    .dataframe thead th {\n",
       "        text-align: right;\n",
       "    }\n",
       "</style>\n",
       "<table border=\"1\" class=\"dataframe\">\n",
       "  <thead>\n",
       "    <tr style=\"text-align: right;\">\n",
       "      <th></th>\n",
       "      <th>country</th>\n",
       "      <th>year</th>\n",
       "      <th>co2_per_capita</th>\n",
       "    </tr>\n",
       "  </thead>\n",
       "  <tbody>\n",
       "    <tr>\n",
       "      <th>788</th>\n",
       "      <td>Albania</td>\n",
       "      <td>1850</td>\n",
       "      <td>NaN</td>\n",
       "    </tr>\n",
       "    <tr>\n",
       "      <th>789</th>\n",
       "      <td>Albania</td>\n",
       "      <td>1851</td>\n",
       "      <td>NaN</td>\n",
       "    </tr>\n",
       "    <tr>\n",
       "      <th>790</th>\n",
       "      <td>Albania</td>\n",
       "      <td>1852</td>\n",
       "      <td>NaN</td>\n",
       "    </tr>\n",
       "    <tr>\n",
       "      <th>791</th>\n",
       "      <td>Albania</td>\n",
       "      <td>1853</td>\n",
       "      <td>NaN</td>\n",
       "    </tr>\n",
       "    <tr>\n",
       "      <th>792</th>\n",
       "      <td>Albania</td>\n",
       "      <td>1854</td>\n",
       "      <td>NaN</td>\n",
       "    </tr>\n",
       "  </tbody>\n",
       "</table>\n",
       "</div>"
      ],
      "text/plain": [
       "     country  year  co2_per_capita\n",
       "788  Albania  1850             NaN\n",
       "789  Albania  1851             NaN\n",
       "790  Albania  1852             NaN\n",
       "791  Albania  1853             NaN\n",
       "792  Albania  1854             NaN"
      ]
     },
     "execution_count": 59,
     "metadata": {},
     "output_type": "execute_result"
    }
   ],
   "source": [
    "europe = new_data[new_data[\"country\"].isin([\"Albania\",\"Austria\",\"Andorra\",\"Armenia\",\"Azerbaijan\",\n",
    "                                            \"Belarus\",\"Belgium\",\"Bosnia and Herzegovina\",\"Bulgaria\",\n",
    "                                            \"Croatia\",\"Cyprus\",\"Czechia\",\n",
    "                                            \"Denmark\",\n",
    "                                            \"Estonia\",\n",
    "                                            \"Finland\",\"France\",\n",
    "                                            \"Georgia\",\"Germany\",\"Greece\",\n",
    "                                            \"Hungary\",\n",
    "                                            \"Iceland\",\"Ireland\",\"Italy\",\n",
    "                                            \"Kazakhstan\",\"Kosovo\",\n",
    "                                            \"Latvia\",\"Liechtenstein\",\"Lithuania\",\"Luxembourg\",\n",
    "                                            \"Malta\",\"Moldova\",\"Montenegro\",\n",
    "                                            \"Netherlands\",\"North Macedonia\",\"Norway\",\n",
    "                                            \"Poland\",\"Portugal\",\n",
    "                                            \"Romania\",\"Russia\",\n",
    "                                            \"Serbia\",\"Slovakia\",\"Spain\",\"Sweden\",\"Switzerland\",\n",
    "                                           \"Turkey\",\n",
    "                                           \"Ukraine\", \"United Kingdom\"])]\n",
    "europe.head()"
   ]
  },
  {
   "cell_type": "code",
   "execution_count": 60,
   "id": "191ae6b7-ebc0-4e6e-8645-8067f4723a75",
   "metadata": {},
   "outputs": [
    {
     "data": {
      "text/html": [
       "<div>\n",
       "<style scoped>\n",
       "    .dataframe tbody tr th:only-of-type {\n",
       "        vertical-align: middle;\n",
       "    }\n",
       "\n",
       "    .dataframe tbody tr th {\n",
       "        vertical-align: top;\n",
       "    }\n",
       "\n",
       "    .dataframe thead th {\n",
       "        text-align: right;\n",
       "    }\n",
       "</style>\n",
       "<table border=\"1\" class=\"dataframe\">\n",
       "  <thead>\n",
       "    <tr style=\"text-align: right;\">\n",
       "      <th></th>\n",
       "      <th>country</th>\n",
       "      <th>year</th>\n",
       "      <th>co2_per_capita</th>\n",
       "    </tr>\n",
       "  </thead>\n",
       "  <tbody>\n",
       "    <tr>\n",
       "      <th>838</th>\n",
       "      <td>Albania</td>\n",
       "      <td>1900</td>\n",
       "      <td>NaN</td>\n",
       "    </tr>\n",
       "    <tr>\n",
       "      <th>839</th>\n",
       "      <td>Albania</td>\n",
       "      <td>1901</td>\n",
       "      <td>NaN</td>\n",
       "    </tr>\n",
       "    <tr>\n",
       "      <th>840</th>\n",
       "      <td>Albania</td>\n",
       "      <td>1902</td>\n",
       "      <td>NaN</td>\n",
       "    </tr>\n",
       "    <tr>\n",
       "      <th>841</th>\n",
       "      <td>Albania</td>\n",
       "      <td>1903</td>\n",
       "      <td>NaN</td>\n",
       "    </tr>\n",
       "    <tr>\n",
       "      <th>842</th>\n",
       "      <td>Albania</td>\n",
       "      <td>1904</td>\n",
       "      <td>NaN</td>\n",
       "    </tr>\n",
       "    <tr>\n",
       "      <th>...</th>\n",
       "      <td>...</td>\n",
       "      <td>...</td>\n",
       "      <td>...</td>\n",
       "    </tr>\n",
       "    <tr>\n",
       "      <th>47932</th>\n",
       "      <td>United Kingdom</td>\n",
       "      <td>2017</td>\n",
       "      <td>5.863</td>\n",
       "    </tr>\n",
       "    <tr>\n",
       "      <th>47933</th>\n",
       "      <td>United Kingdom</td>\n",
       "      <td>2018</td>\n",
       "      <td>5.716</td>\n",
       "    </tr>\n",
       "    <tr>\n",
       "      <th>47934</th>\n",
       "      <td>United Kingdom</td>\n",
       "      <td>2019</td>\n",
       "      <td>5.462</td>\n",
       "    </tr>\n",
       "    <tr>\n",
       "      <th>47935</th>\n",
       "      <td>United Kingdom</td>\n",
       "      <td>2020</td>\n",
       "      <td>4.865</td>\n",
       "    </tr>\n",
       "    <tr>\n",
       "      <th>47936</th>\n",
       "      <td>United Kingdom</td>\n",
       "      <td>2021</td>\n",
       "      <td>5.154</td>\n",
       "    </tr>\n",
       "  </tbody>\n",
       "</table>\n",
       "<p>5734 rows × 3 columns</p>\n",
       "</div>"
      ],
      "text/plain": [
       "              country  year  co2_per_capita\n",
       "838           Albania  1900             NaN\n",
       "839           Albania  1901             NaN\n",
       "840           Albania  1902             NaN\n",
       "841           Albania  1903             NaN\n",
       "842           Albania  1904             NaN\n",
       "...               ...   ...             ...\n",
       "47932  United Kingdom  2017           5.863\n",
       "47933  United Kingdom  2018           5.716\n",
       "47934  United Kingdom  2019           5.462\n",
       "47935  United Kingdom  2020           4.865\n",
       "47936  United Kingdom  2021           5.154\n",
       "\n",
       "[5734 rows x 3 columns]"
      ]
     },
     "execution_count": 60,
     "metadata": {},
     "output_type": "execute_result"
    }
   ],
   "source": [
    "# Filterig the dataframe\n",
    "europe_data = europe.loc[(europe[\"year\"] >= 1900)]\n",
    "europe_data"
   ]
  },
  {
   "cell_type": "code",
   "execution_count": 61,
   "id": "cec6ef0d",
   "metadata": {},
   "outputs": [
    {
     "name": "stdout",
     "output_type": "stream",
     "text": [
      "       country   year  co2_per_capita\n",
      "838      False  False            True\n",
      "839      False  False            True\n",
      "840      False  False            True\n",
      "841      False  False            True\n",
      "842      False  False            True\n",
      "...        ...    ...             ...\n",
      "47932    False  False           False\n",
      "47933    False  False           False\n",
      "47934    False  False           False\n",
      "47935    False  False           False\n",
      "47936    False  False           False\n",
      "\n",
      "[5734 rows x 3 columns]\n",
      "country             0\n",
      "year                0\n",
      "co2_per_capita    426\n",
      "dtype: int64\n"
     ]
    }
   ],
   "source": [
    "# Checking mssing values\n",
    "print(europe_data.isnull())\n",
    "missing_counts = europe_data.isnull().sum()\n",
    "print(missing_counts)"
   ]
  },
  {
   "cell_type": "code",
   "execution_count": 62,
   "id": "9050d7d3",
   "metadata": {},
   "outputs": [
    {
     "name": "stdout",
     "output_type": "stream",
     "text": [
      "<class 'pandas.core.frame.DataFrame'>\n",
      "Index: 8708 entries, 788 to 47936\n",
      "Data columns (total 3 columns):\n",
      " #   Column          Non-Null Count  Dtype  \n",
      "---  ------          --------------  -----  \n",
      " 0   country         8708 non-null   object \n",
      " 1   year            8708 non-null   int64  \n",
      " 2   co2_per_capita  7380 non-null   float64\n",
      "dtypes: float64(1), int64(1), object(1)\n",
      "memory usage: 272.1+ KB\n"
     ]
    }
   ],
   "source": [
    "# Printing summary\n",
    "europe.info()"
   ]
  },
  {
   "cell_type": "code",
   "execution_count": 63,
   "id": "2cb58395",
   "metadata": {},
   "outputs": [
    {
     "data": {
      "text/html": [
       "<div>\n",
       "<style scoped>\n",
       "    .dataframe tbody tr th:only-of-type {\n",
       "        vertical-align: middle;\n",
       "    }\n",
       "\n",
       "    .dataframe tbody tr th {\n",
       "        vertical-align: top;\n",
       "    }\n",
       "\n",
       "    .dataframe thead th {\n",
       "        text-align: right;\n",
       "    }\n",
       "</style>\n",
       "<table border=\"1\" class=\"dataframe\">\n",
       "  <thead>\n",
       "    <tr style=\"text-align: right;\">\n",
       "      <th></th>\n",
       "      <th>country</th>\n",
       "      <th>year</th>\n",
       "      <th>co2_per_capita</th>\n",
       "    </tr>\n",
       "  </thead>\n",
       "  <tbody>\n",
       "    <tr>\n",
       "      <th>838</th>\n",
       "      <td>Albania</td>\n",
       "      <td>1900</td>\n",
       "      <td>1.232888</td>\n",
       "    </tr>\n",
       "    <tr>\n",
       "      <th>839</th>\n",
       "      <td>Albania</td>\n",
       "      <td>1901</td>\n",
       "      <td>1.232888</td>\n",
       "    </tr>\n",
       "    <tr>\n",
       "      <th>840</th>\n",
       "      <td>Albania</td>\n",
       "      <td>1902</td>\n",
       "      <td>1.232888</td>\n",
       "    </tr>\n",
       "    <tr>\n",
       "      <th>841</th>\n",
       "      <td>Albania</td>\n",
       "      <td>1903</td>\n",
       "      <td>1.232888</td>\n",
       "    </tr>\n",
       "    <tr>\n",
       "      <th>842</th>\n",
       "      <td>Albania</td>\n",
       "      <td>1904</td>\n",
       "      <td>1.232888</td>\n",
       "    </tr>\n",
       "    <tr>\n",
       "      <th>...</th>\n",
       "      <td>...</td>\n",
       "      <td>...</td>\n",
       "      <td>...</td>\n",
       "    </tr>\n",
       "    <tr>\n",
       "      <th>47932</th>\n",
       "      <td>United Kingdom</td>\n",
       "      <td>2017</td>\n",
       "      <td>5.863000</td>\n",
       "    </tr>\n",
       "    <tr>\n",
       "      <th>47933</th>\n",
       "      <td>United Kingdom</td>\n",
       "      <td>2018</td>\n",
       "      <td>5.716000</td>\n",
       "    </tr>\n",
       "    <tr>\n",
       "      <th>47934</th>\n",
       "      <td>United Kingdom</td>\n",
       "      <td>2019</td>\n",
       "      <td>5.462000</td>\n",
       "    </tr>\n",
       "    <tr>\n",
       "      <th>47935</th>\n",
       "      <td>United Kingdom</td>\n",
       "      <td>2020</td>\n",
       "      <td>4.865000</td>\n",
       "    </tr>\n",
       "    <tr>\n",
       "      <th>47936</th>\n",
       "      <td>United Kingdom</td>\n",
       "      <td>2021</td>\n",
       "      <td>5.154000</td>\n",
       "    </tr>\n",
       "  </tbody>\n",
       "</table>\n",
       "<p>5734 rows × 3 columns</p>\n",
       "</div>"
      ],
      "text/plain": [
       "              country  year  co2_per_capita\n",
       "838           Albania  1900        1.232888\n",
       "839           Albania  1901        1.232888\n",
       "840           Albania  1902        1.232888\n",
       "841           Albania  1903        1.232888\n",
       "842           Albania  1904        1.232888\n",
       "...               ...   ...             ...\n",
       "47932  United Kingdom  2017        5.863000\n",
       "47933  United Kingdom  2018        5.716000\n",
       "47934  United Kingdom  2019        5.462000\n",
       "47935  United Kingdom  2020        4.865000\n",
       "47936  United Kingdom  2021        5.154000\n",
       "\n",
       "[5734 rows x 3 columns]"
      ]
     },
     "execution_count": 63,
     "metadata": {},
     "output_type": "execute_result"
    }
   ],
   "source": [
    "# Grouping dataframe by country\n",
    "grouped = europe_data.groupby(['country'])\n",
    "#Calculating the mean values for each group\n",
    "mean_values = grouped.mean()\n",
    "# Filling missing values with the mean\n",
    "europe_data.loc[:,'co2_per_capita'] = grouped['co2_per_capita'].transform(lambda x: x.fillna(x.mean()))\n",
    "europe_data"
   ]
  },
  {
   "cell_type": "code",
   "execution_count": 64,
   "id": "e0b578e3",
   "metadata": {},
   "outputs": [
    {
     "data": {
      "text/plain": [
       "year\n",
       "1900    2.395832\n",
       "1901    2.375619\n",
       "1902    2.365278\n",
       "1903    2.400300\n",
       "1904    2.419300\n",
       "1905    2.426151\n",
       "1906    2.514151\n",
       "1907    2.627321\n",
       "1908    2.707172\n",
       "1909    2.663959\n",
       "Name: co2_per_capita, dtype: float64"
      ]
     },
     "execution_count": 64,
     "metadata": {},
     "output_type": "execute_result"
    }
   ],
   "source": [
    "# Grouping by 'year' and calculate the mean of 'co2_per_capita' within each year group\n",
    "mean_by_year = europe_data.groupby('year')['co2_per_capita'].mean()\n",
    "\n",
    "mean_by_year.head(10)"
   ]
  },
  {
   "cell_type": "code",
   "execution_count": 65,
   "id": "a78599c1",
   "metadata": {},
   "outputs": [
    {
     "data": {
      "text/html": [
       "<div>\n",
       "<style scoped>\n",
       "    .dataframe tbody tr th:only-of-type {\n",
       "        vertical-align: middle;\n",
       "    }\n",
       "\n",
       "    .dataframe tbody tr th {\n",
       "        vertical-align: top;\n",
       "    }\n",
       "\n",
       "    .dataframe thead th {\n",
       "        text-align: right;\n",
       "    }\n",
       "</style>\n",
       "<table border=\"1\" class=\"dataframe\">\n",
       "  <thead>\n",
       "    <tr style=\"text-align: right;\">\n",
       "      <th></th>\n",
       "      <th>year</th>\n",
       "      <th>co2_per_capita</th>\n",
       "    </tr>\n",
       "  </thead>\n",
       "  <tbody>\n",
       "    <tr>\n",
       "      <th>0</th>\n",
       "      <td>1900</td>\n",
       "      <td>2.395832</td>\n",
       "    </tr>\n",
       "    <tr>\n",
       "      <th>1</th>\n",
       "      <td>1901</td>\n",
       "      <td>2.375619</td>\n",
       "    </tr>\n",
       "    <tr>\n",
       "      <th>2</th>\n",
       "      <td>1902</td>\n",
       "      <td>2.365278</td>\n",
       "    </tr>\n",
       "    <tr>\n",
       "      <th>3</th>\n",
       "      <td>1903</td>\n",
       "      <td>2.400300</td>\n",
       "    </tr>\n",
       "    <tr>\n",
       "      <th>4</th>\n",
       "      <td>1904</td>\n",
       "      <td>2.419300</td>\n",
       "    </tr>\n",
       "    <tr>\n",
       "      <th>...</th>\n",
       "      <td>...</td>\n",
       "      <td>...</td>\n",
       "    </tr>\n",
       "    <tr>\n",
       "      <th>117</th>\n",
       "      <td>2017</td>\n",
       "      <td>6.501851</td>\n",
       "    </tr>\n",
       "    <tr>\n",
       "      <th>118</th>\n",
       "      <td>2018</td>\n",
       "      <td>6.448809</td>\n",
       "    </tr>\n",
       "    <tr>\n",
       "      <th>119</th>\n",
       "      <td>2019</td>\n",
       "      <td>6.175596</td>\n",
       "    </tr>\n",
       "    <tr>\n",
       "      <th>120</th>\n",
       "      <td>2020</td>\n",
       "      <td>5.677936</td>\n",
       "    </tr>\n",
       "    <tr>\n",
       "      <th>121</th>\n",
       "      <td>2021</td>\n",
       "      <td>5.756660</td>\n",
       "    </tr>\n",
       "  </tbody>\n",
       "</table>\n",
       "<p>122 rows × 2 columns</p>\n",
       "</div>"
      ],
      "text/plain": [
       "     year  co2_per_capita\n",
       "0    1900        2.395832\n",
       "1    1901        2.375619\n",
       "2    1902        2.365278\n",
       "3    1903        2.400300\n",
       "4    1904        2.419300\n",
       "..    ...             ...\n",
       "117  2017        6.501851\n",
       "118  2018        6.448809\n",
       "119  2019        6.175596\n",
       "120  2020        5.677936\n",
       "121  2021        5.756660\n",
       "\n",
       "[122 rows x 2 columns]"
      ]
     },
     "execution_count": 65,
     "metadata": {},
     "output_type": "execute_result"
    }
   ],
   "source": [
    "# Converting Series to DataFrame\n",
    "df = mean_by_year.reset_index()\n",
    "\n",
    "# Display the DataFrame\n",
    "df"
   ]
  },
  {
   "cell_type": "code",
   "execution_count": 66,
   "id": "17e0903d",
   "metadata": {},
   "outputs": [
    {
     "name": "stdout",
     "output_type": "stream",
     "text": [
      "<class 'pandas.core.frame.DataFrame'>\n",
      "RangeIndex: 122 entries, 0 to 121\n",
      "Data columns (total 2 columns):\n",
      " #   Column          Non-Null Count  Dtype  \n",
      "---  ------          --------------  -----  \n",
      " 0   year            122 non-null    int64  \n",
      " 1   co2_per_capita  122 non-null    float64\n",
      "dtypes: float64(1), int64(1)\n",
      "memory usage: 2.0 KB\n"
     ]
    }
   ],
   "source": [
    "df.info()"
   ]
  },
  {
   "cell_type": "code",
   "execution_count": 67,
   "id": "dfdbd1b6-1576-4257-a0d6-79ac927bd6e2",
   "metadata": {},
   "outputs": [
    {
     "name": "stdout",
     "output_type": "stream",
     "text": [
      "          year  co2_per_capita\n",
      "0   1900-01-01        2.395832\n",
      "1   1901-01-01        2.375619\n",
      "2   1902-01-01        2.365278\n",
      "3   1903-01-01        2.400300\n",
      "4   1904-01-01        2.419300\n",
      "..         ...             ...\n",
      "117 2017-01-01        6.501851\n",
      "118 2018-01-01        6.448809\n",
      "119 2019-01-01        6.175596\n",
      "120 2020-01-01        5.677936\n",
      "121 2021-01-01        5.756660\n",
      "\n",
      "[122 rows x 2 columns]\n",
      "year              datetime64[ns]\n",
      "co2_per_capita           float64\n",
      "dtype: object\n"
     ]
    }
   ],
   "source": [
    "# Converting 'year' column to datetime format without considering it as a timestamp\n",
    "df['year'] = pd.to_datetime(df['year'], format='%Y')\n",
    "\n",
    "print(df)\n",
    "print(df.dtypes)"
   ]
  },
  {
   "cell_type": "code",
   "execution_count": 68,
   "id": "66717558-b3d6-46be-9ea9-aaae27ac53ac",
   "metadata": {},
   "outputs": [
    {
     "name": "stdout",
     "output_type": "stream",
     "text": [
      "Empty DataFrame\n",
      "Columns: [year, co2_per_capita]\n",
      "Index: []\n"
     ]
    }
   ],
   "source": [
    "# Calculating IQR for column 'co2_per_capita'\n",
    "Q1 = df['co2_per_capita'].quantile(0.25)\n",
    "Q3 = df['co2_per_capita'].quantile(0.75)\n",
    "IQR = Q3 - Q1\n",
    "\n",
    "# Identifying outliers\n",
    "threshold = 1.5\n",
    "outliers = df[(df['co2_per_capita'] < Q1 - threshold * IQR) | (df['co2_per_capita'] > Q3 + threshold * IQR)]\n",
    "print(outliers)\n"
   ]
  },
  {
   "cell_type": "raw",
   "id": "bc37a63e-a54c-44ad-8047-bf942b8c3b06",
   "metadata": {},
   "source": [
    "import plotly.express as px\n",
    "\n",
    "# Filter DataFrame to include data for every 5 years\n",
    "df_subset = df[df['year'] % 5 == 0]\n",
    "\n",
    "# Plotting\n",
    "fig = px.bar(df_subset, x='year', y='co2_per_capita', \n",
    "             labels={'year': 'Year', 'co2_per_capita': 'CO2 Emissions per Capita'},\n",
    "             title='CO2 Emissions Over the Years (Every 5 Years)',\n",
    "             color_discrete_sequence=['blue'])\n",
    "\n",
    "# Update layout for better readability\n",
    "fig.update_layout(xaxis=dict(tickangle=45),\n",
    "                  yaxis=dict(title='Mean Value'),\n",
    "                  legend_title='Legend',\n",
    "                  autosize=False,\n",
    "                  width=1000,\n",
    "                  height=600)\n",
    "\n",
    "# Show plot\n",
    "fig.show()"
   ]
  },
  {
   "cell_type": "code",
   "execution_count": 69,
   "id": "ee1fc7dc",
   "metadata": {},
   "outputs": [],
   "source": [
    "# Importing modules\n",
    "from statsmodels.graphics.tsaplots import plot_acf, plot_pacf"
   ]
  },
  {
   "cell_type": "code",
   "execution_count": 70,
   "id": "e59645e7",
   "metadata": {},
   "outputs": [
    {
     "data": {
      "image/png": "[encoded data removed]",
      "text/plain": [
       "<Figure size 640x480 with 1 Axes>"
      ]
     },
     "metadata": {},
     "output_type": "display_data"
    },
    {
     "data": {
      "image/png": "[encoded data removed]",
      "text/plain": [
       "<Figure size 640x480 with 1 Axes>"
      ]
     },
     "metadata": {},
     "output_type": "display_data"
    }
   ],
   "source": [
    "# Plotting ACF\n",
    "acf_original = plot_acf((df['co2_per_capita']))\n",
    "# Plotting PACF\n",
    "pacf_original = plot_pacf((df['co2_per_capita']))"
   ]
  },
  {
   "cell_type": "code",
   "execution_count": 71,
   "id": "60d18e6a",
   "metadata": {},
   "outputs": [],
   "source": [
    "import statsmodels.api as sm"
   ]
  },
  {
   "cell_type": "code",
   "execution_count": 72,
   "id": "006bef51",
   "metadata": {},
   "outputs": [
    {
     "data": {
      "image/png": "[encoded data removed]",
      "text/plain": [
       "<Figure size 640x480 with 1 Axes>"
      ]
     },
     "metadata": {},
     "output_type": "display_data"
    }
   ],
   "source": [
    "# Creating a Q_Q plot for the co2_per_capita_column\n",
    "x = sm.qqplot(df['co2_per_capita'], line = 's')"
   ]
  },
  {
   "cell_type": "code",
   "execution_count": 73,
   "id": "1dc7b643",
   "metadata": {},
   "outputs": [
    {
     "name": "stdout",
     "output_type": "stream",
     "text": [
      "ADF Test Results\n",
      "Null Hypothesis: The series has a unit root (non-stationary)\n",
      "ADF-Statistic: -1.1838322326020234\n",
      "P-Value: 0.680511724082201\n",
      "Number of lags: 1\n",
      "Number of observations: 120\n",
      "Critical Values: {'1%': -3.486055829282407, '5%': -2.8859430324074076, '10%': -2.5797850694444446}\n",
      "Note: If P-Value is smaller than 0.05, we reject the null hypothesis and the series is stationary\n"
     ]
    }
   ],
   "source": [
    "# Performing the Augmented Dickey_fuller (ADF)\n",
    "adftest = adfuller(df['co2_per_capita'])\n",
    "print(\"ADF Test Results\")\n",
    "print(\"Null Hypothesis: The series has a unit root (non-stationary)\")\n",
    "print(\"ADF-Statistic:\", adftest[0])\n",
    "print(\"P-Value:\", adftest[1])\n",
    "print(\"Number of lags:\", adftest[2])\n",
    "print(\"Number of observations:\", adftest[3])\n",
    "print(\"Critical Values:\", adftest[4])\n",
    "print(\"Note: If P-Value is smaller than 0.05, we reject the null hypothesis and the series is stationary\")"
   ]
  },
  {
   "cell_type": "code",
   "execution_count": 74,
   "id": "191e0246",
   "metadata": {},
   "outputs": [],
   "source": [
    "# Importing ARIMA class\n",
    "from statsmodels.tsa.arima.model import ARIMA\n",
    "from pmdarima import auto_arima"
   ]
  },
  {
   "cell_type": "code",
   "execution_count": 75,
   "id": "36d30be7",
   "metadata": {},
   "outputs": [
    {
     "name": "stdout",
     "output_type": "stream",
     "text": [
      "Performing stepwise search to minimize aic\n",
      " ARIMA(2,1,2)(0,0,0)[0] intercept   : AIC=-15.347, Time=0.31 sec\n",
      " ARIMA(0,1,0)(0,0,0)[0] intercept   : AIC=-11.202, Time=0.04 sec\n",
      " ARIMA(1,1,0)(0,0,0)[0] intercept   : AIC=-17.991, Time=0.05 sec\n",
      " ARIMA(0,1,1)(0,0,0)[0] intercept   : AIC=-16.320, Time=0.07 sec\n",
      " ARIMA(0,1,0)(0,0,0)[0]             : AIC=-11.407, Time=0.02 sec\n",
      " ARIMA(2,1,0)(0,0,0)[0] intercept   : AIC=-17.301, Time=0.06 sec\n",
      " ARIMA(1,1,1)(0,0,0)[0] intercept   : AIC=-18.447, Time=0.11 sec\n",
      " ARIMA(2,1,1)(0,0,0)[0] intercept   : AIC=-17.316, Time=0.22 sec\n",
      " ARIMA(1,1,2)(0,0,0)[0] intercept   : AIC=-17.241, Time=0.19 sec\n",
      " ARIMA(0,1,2)(0,0,0)[0] intercept   : AIC=-16.132, Time=0.07 sec\n",
      " ARIMA(1,1,1)(0,0,0)[0]             : AIC=-20.100, Time=0.07 sec\n",
      " ARIMA(0,1,1)(0,0,0)[0]             : AIC=-17.019, Time=0.03 sec\n",
      " ARIMA(1,1,0)(0,0,0)[0]             : AIC=-18.949, Time=0.03 sec\n",
      " ARIMA(2,1,1)(0,0,0)[0]             : AIC=-19.161, Time=0.13 sec\n",
      " ARIMA(1,1,2)(0,0,0)[0]             : AIC=-19.081, Time=0.11 sec\n",
      " ARIMA(0,1,2)(0,0,0)[0]             : AIC=-17.062, Time=0.05 sec\n",
      " ARIMA(2,1,0)(0,0,0)[0]             : AIC=-18.505, Time=0.06 sec\n",
      " ARIMA(2,1,2)(0,0,0)[0]             : AIC=-17.194, Time=0.26 sec\n",
      "\n",
      "Best model:  ARIMA(1,1,1)(0,0,0)[0]          \n",
      "Total fit time: 1.906 seconds\n"
     ]
    }
   ],
   "source": [
    "# Automatically selects the best ARIMA model\n",
    "stepwise_fit = auto_arima(df['co2_per_capita'], trace = True,\n",
    "                         suppress_warnings = True)"
   ]
  },
  {
   "cell_type": "code",
   "execution_count": 76,
   "id": "26b5337f",
   "metadata": {},
   "outputs": [
    {
     "name": "stdout",
     "output_type": "stream",
     "text": [
      "[[0, 0, 0, 562.4703268416656], [0, 0, 1, 412.59735871315297], [0, 0, 2, 294.84797259976744], [1, 0, 0, -3.6224074584299686], [1, 0, 1, -9.31018275543472], [1, 0, 2, -9.425985832748779], [2, 0, 0, -11.327132836982074], [2, 0, 1, -16.000370760513054], [2, 0, 2, -16.68535109248187], [0, 1, 0, -11.407116814033158], [0, 1, 1, -17.01855697648189], [0, 1, 2, -17.061730746043274], [1, 1, 0, -18.949477465863918], [1, 1, 1, -20.100000189567357], [1, 1, 2, -19.080918533634875], [2, 1, 0, -18.50468642417404], [2, 1, 1, -19.16081959265658], [2, 1, 2, -17.19444192838876], [0, 2, 0, 33.98112121683988], [0, 2, 1, -16.822927324755028], [0, 2, 2, -16.58741047615775], [1, 2, 0, 10.719914321615752], [1, 2, 1, -16.729951968758222], [1, 2, 2, -14.814095276190965], [2, 2, 0, 2.8059454275459483], [2, 2, 1, -14.81369222909511], [2, 2, 2, -12.84113511540037]]\n"
     ]
    }
   ],
   "source": [
    "# A nested loop is written to calculate the AIC values\n",
    "# The lowest AIC the better\n",
    "\n",
    "aic_values=[]\n",
    "for d in range(0,3):\n",
    "    for ari in range(0, 3):\n",
    "        for maj in range(0,3):\n",
    "            try:\n",
    "                arima_obj = ARIMA(df['co2_per_capita'], order=(ari,d,maj))\n",
    "                arima_obj_fit = arima_obj.fit()\n",
    "                aic_values.append([ari, d, maj, arima_obj_fit.aic])\n",
    "            except ValueError:\n",
    "                pass\n",
    "print(aic_values)"
   ]
  },
  {
   "cell_type": "markdown",
   "id": "27eab0f8",
   "metadata": {},
   "source": [
    "import statsmodels.api as sm"
   ]
  },
  {
   "cell_type": "code",
   "execution_count": 77,
   "id": "abf84f9c",
   "metadata": {},
   "outputs": [
    {
     "data": {
      "text/plain": [
       "1   -0.020213\n",
       "2   -0.010340\n",
       "3    0.035021\n",
       "4    0.019000\n",
       "5    0.006851\n",
       "Name: co2_per_capita, dtype: float64"
      ]
     },
     "execution_count": 77,
     "metadata": {},
     "output_type": "execute_result"
    }
   ],
   "source": [
    "# Storing one difference value of the 'co2 per capita' column\n",
    "diffval = df['co2_per_capita'].diff(1)\n",
    "# Dropping the first row of 'co2 per capita' column because It has 'NaN' value\n",
    "diffval = df['co2_per_capita'].diff(1).dropna()\n",
    "\n",
    "\n",
    "# Displaying the first five records\n",
    "diffval.head()"
   ]
  },
  {
   "cell_type": "code",
   "execution_count": 78,
   "id": "b8bbcf11",
   "metadata": {},
   "outputs": [
    {
     "data": {
      "image/png": "[encoded data removed]",
      "text/plain": [
       "<Figure size 550x550 with 2 Axes>"
      ]
     },
     "metadata": {},
     "output_type": "display_data"
    }
   ],
   "source": [
    "# Declaring the fig abd ax as two arguments \n",
    "fig, ax = plt.subplots(2, sharex = True)\n",
    "fig.set_size_inches(5.5, 5.5)\n",
    "df['co2_per_capita'].plot(ax = ax[0], color = 'b')\n",
    "ax[0].set_title('Co2 per capita values')\n",
    "diffval.plot(ax = ax[1], color = 'r')\n",
    "ax[1].set_title('First-order differences');"
   ]
  },
  {
   "cell_type": "code",
   "execution_count": 79,
   "id": "60495d15",
   "metadata": {},
   "outputs": [
    {
     "data": {
      "text/html": [
       "<table class=\"simpletable\">\n",
       "<caption>SARIMAX Results</caption>\n",
       "<tr>\n",
       "  <th>Dep. Variable:</th>           <td>y</td>        <th>  No. Observations:  </th>   <td>122</td>  \n",
       "</tr>\n",
       "<tr>\n",
       "  <th>Model:</th>            <td>ARIMA(1, 1, 1)</td>  <th>  Log Likelihood     </th> <td>13.050</td> \n",
       "</tr>\n",
       "<tr>\n",
       "  <th>Date:</th>            <td>Fri, 17 May 2024</td> <th>  AIC                </th> <td>-20.100</td>\n",
       "</tr>\n",
       "<tr>\n",
       "  <th>Time:</th>                <td>21:16:43</td>     <th>  BIC                </th> <td>-11.713</td>\n",
       "</tr>\n",
       "<tr>\n",
       "  <th>Sample:</th>                  <td>0</td>        <th>  HQIC               </th> <td>-16.694</td>\n",
       "</tr>\n",
       "<tr>\n",
       "  <th></th>                      <td> - 122</td>      <th>                     </th>    <td> </td>   \n",
       "</tr>\n",
       "<tr>\n",
       "  <th>Covariance Type:</th>        <td>opg</td>       <th>                     </th>    <td> </td>   \n",
       "</tr>\n",
       "</table>\n",
       "<table class=\"simpletable\">\n",
       "<tr>\n",
       "     <td></td>       <th>coef</th>     <th>std err</th>      <th>z</th>      <th>P>|z|</th>  <th>[0.025</th>    <th>0.975]</th>  \n",
       "</tr>\n",
       "<tr>\n",
       "  <th>ar.L1</th>  <td>    0.8537</td> <td>    0.128</td> <td>    6.687</td> <td> 0.000</td> <td>    0.603</td> <td>    1.104</td>\n",
       "</tr>\n",
       "<tr>\n",
       "  <th>ma.L1</th>  <td>   -0.6816</td> <td>    0.149</td> <td>   -4.567</td> <td> 0.000</td> <td>   -0.974</td> <td>   -0.389</td>\n",
       "</tr>\n",
       "<tr>\n",
       "  <th>sigma2</th> <td>    0.0471</td> <td>    0.004</td> <td>   11.879</td> <td> 0.000</td> <td>    0.039</td> <td>    0.055</td>\n",
       "</tr>\n",
       "</table>\n",
       "<table class=\"simpletable\">\n",
       "<tr>\n",
       "  <th>Ljung-Box (L1) (Q):</th>     <td>0.25</td> <th>  Jarque-Bera (JB):  </th> <td>46.22</td>\n",
       "</tr>\n",
       "<tr>\n",
       "  <th>Prob(Q):</th>                <td>0.62</td> <th>  Prob(JB):          </th> <td>0.00</td> \n",
       "</tr>\n",
       "<tr>\n",
       "  <th>Heteroskedasticity (H):</th> <td>3.15</td> <th>  Skew:              </th> <td>-0.50</td>\n",
       "</tr>\n",
       "<tr>\n",
       "  <th>Prob(H) (two-sided):</th>    <td>0.00</td> <th>  Kurtosis:          </th> <td>5.86</td> \n",
       "</tr>\n",
       "</table><br/><br/>Warnings:<br/>[1] Covariance matrix calculated using the outer product of gradients (complex-step)."
      ],
      "text/latex": [
       "\\begin{center}\n",
       "\\begin{tabular}{lclc}\n",
       "\\toprule\n",
       "\\textbf{Dep. Variable:}          &        y         & \\textbf{  No. Observations:  } &    122      \\\\\n",
       "\\textbf{Model:}                  &  ARIMA(1, 1, 1)  & \\textbf{  Log Likelihood     } &   13.050    \\\\\n",
       "\\textbf{Date:}                   & Fri, 17 May 2024 & \\textbf{  AIC                } &  -20.100    \\\\\n",
       "\\textbf{Time:}                   &     21:16:43     & \\textbf{  BIC                } &  -11.713    \\\\\n",
       "\\textbf{Sample:}                 &        0         & \\textbf{  HQIC               } &  -16.694    \\\\\n",
       "\\textbf{}                        &       - 122      & \\textbf{                     } &             \\\\\n",
       "\\textbf{Covariance Type:}        &       opg        & \\textbf{                     } &             \\\\\n",
       "\\bottomrule\n",
       "\\end{tabular}\n",
       "\\begin{tabular}{lcccccc}\n",
       "                & \\textbf{coef} & \\textbf{std err} & \\textbf{z} & \\textbf{P$> |$z$|$} & \\textbf{[0.025} & \\textbf{0.975]}  \\\\\n",
       "\\midrule\n",
       "\\textbf{ar.L1}  &       0.8537  &        0.128     &     6.687  &         0.000        &        0.603    &        1.104     \\\\\n",
       "\\textbf{ma.L1}  &      -0.6816  &        0.149     &    -4.567  &         0.000        &       -0.974    &       -0.389     \\\\\n",
       "\\textbf{sigma2} &       0.0471  &        0.004     &    11.879  &         0.000        &        0.039    &        0.055     \\\\\n",
       "\\bottomrule\n",
       "\\end{tabular}\n",
       "\\begin{tabular}{lclc}\n",
       "\\textbf{Ljung-Box (L1) (Q):}     & 0.25 & \\textbf{  Jarque-Bera (JB):  } & 46.22  \\\\\n",
       "\\textbf{Prob(Q):}                & 0.62 & \\textbf{  Prob(JB):          } &  0.00  \\\\\n",
       "\\textbf{Heteroskedasticity (H):} & 3.15 & \\textbf{  Skew:              } & -0.50  \\\\\n",
       "\\textbf{Prob(H) (two-sided):}    & 0.00 & \\textbf{  Kurtosis:          } &  5.86  \\\\\n",
       "\\bottomrule\n",
       "\\end{tabular}\n",
       "%\\caption{SARIMAX Results}\n",
       "\\end{center}\n",
       "\n",
       "Warnings: \\newline\n",
       " [1] Covariance matrix calculated using the outer product of gradients (complex-step)."
      ],
      "text/plain": [
       "<class 'statsmodels.iolib.summary.Summary'>\n",
       "\"\"\"\n",
       "                               SARIMAX Results                                \n",
       "==============================================================================\n",
       "Dep. Variable:                      y   No. Observations:                  122\n",
       "Model:                 ARIMA(1, 1, 1)   Log Likelihood                  13.050\n",
       "Date:                Fri, 17 May 2024   AIC                            -20.100\n",
       "Time:                        21:16:43   BIC                            -11.713\n",
       "Sample:                             0   HQIC                           -16.694\n",
       "                                - 122                                         \n",
       "Covariance Type:                  opg                                         \n",
       "==============================================================================\n",
       "                 coef    std err          z      P>|z|      [0.025      0.975]\n",
       "------------------------------------------------------------------------------\n",
       "ar.L1          0.8537      0.128      6.687      0.000       0.603       1.104\n",
       "ma.L1         -0.6816      0.149     -4.567      0.000      -0.974      -0.389\n",
       "sigma2         0.0471      0.004     11.879      0.000       0.039       0.055\n",
       "===================================================================================\n",
       "Ljung-Box (L1) (Q):                   0.25   Jarque-Bera (JB):                46.22\n",
       "Prob(Q):                              0.62   Prob(JB):                         0.00\n",
       "Heteroskedasticity (H):               3.15   Skew:                            -0.50\n",
       "Prob(H) (two-sided):                  0.00   Kurtosis:                         5.86\n",
       "===================================================================================\n",
       "\n",
       "Warnings:\n",
       "[1] Covariance matrix calculated using the outer product of gradients (complex-step).\n",
       "\"\"\""
      ]
     },
     "execution_count": 79,
     "metadata": {},
     "output_type": "execute_result"
    }
   ],
   "source": [
    "# Fitting the model\n",
    "model = ARIMA(df['co2_per_capita'].tolist(), order = (1, 1, 1))\n",
    "\n",
    "model_fit = model.fit()\n",
    "model_fit.summary()"
   ]
  },
  {
   "cell_type": "code",
   "execution_count": 80,
   "id": "177d66d7",
   "metadata": {},
   "outputs": [
    {
     "data": {
      "text/html": [
       "<div>\n",
       "<style scoped>\n",
       "    .dataframe tbody tr th:only-of-type {\n",
       "        vertical-align: middle;\n",
       "    }\n",
       "\n",
       "    .dataframe tbody tr th {\n",
       "        vertical-align: top;\n",
       "    }\n",
       "\n",
       "    .dataframe thead th {\n",
       "        text-align: right;\n",
       "    }\n",
       "</style>\n",
       "<table border=\"1\" class=\"dataframe\">\n",
       "  <thead>\n",
       "    <tr style=\"text-align: right;\">\n",
       "      <th></th>\n",
       "      <th>year</th>\n",
       "      <th>co2_per_capita</th>\n",
       "      <th>ARIMA</th>\n",
       "      <th>diffval</th>\n",
       "    </tr>\n",
       "  </thead>\n",
       "  <tbody>\n",
       "    <tr>\n",
       "      <th>0</th>\n",
       "      <td>1900-01-01</td>\n",
       "      <td>2.395832</td>\n",
       "      <td>0.000000</td>\n",
       "      <td>NaN</td>\n",
       "    </tr>\n",
       "    <tr>\n",
       "      <th>1</th>\n",
       "      <td>1901-01-01</td>\n",
       "      <td>2.375619</td>\n",
       "      <td>2.395832</td>\n",
       "      <td>-0.020213</td>\n",
       "    </tr>\n",
       "    <tr>\n",
       "      <th>2</th>\n",
       "      <td>1902-01-01</td>\n",
       "      <td>2.365278</td>\n",
       "      <td>2.370785</td>\n",
       "      <td>-0.010340</td>\n",
       "    </tr>\n",
       "    <tr>\n",
       "      <th>3</th>\n",
       "      <td>1903-01-01</td>\n",
       "      <td>2.400300</td>\n",
       "      <td>2.360041</td>\n",
       "      <td>0.035021</td>\n",
       "    </tr>\n",
       "    <tr>\n",
       "      <th>4</th>\n",
       "      <td>1904-01-01</td>\n",
       "      <td>2.419300</td>\n",
       "      <td>2.403302</td>\n",
       "      <td>0.019000</td>\n",
       "    </tr>\n",
       "    <tr>\n",
       "      <th>5</th>\n",
       "      <td>1905-01-01</td>\n",
       "      <td>2.426151</td>\n",
       "      <td>2.424715</td>\n",
       "      <td>0.006851</td>\n",
       "    </tr>\n",
       "    <tr>\n",
       "      <th>6</th>\n",
       "      <td>1906-01-01</td>\n",
       "      <td>2.514151</td>\n",
       "      <td>2.431025</td>\n",
       "      <td>0.088000</td>\n",
       "    </tr>\n",
       "    <tr>\n",
       "      <th>7</th>\n",
       "      <td>1907-01-01</td>\n",
       "      <td>2.627321</td>\n",
       "      <td>2.532726</td>\n",
       "      <td>0.113170</td>\n",
       "    </tr>\n",
       "    <tr>\n",
       "      <th>8</th>\n",
       "      <td>1908-01-01</td>\n",
       "      <td>2.707172</td>\n",
       "      <td>2.659513</td>\n",
       "      <td>0.079851</td>\n",
       "    </tr>\n",
       "    <tr>\n",
       "      <th>9</th>\n",
       "      <td>1909-01-01</td>\n",
       "      <td>2.663959</td>\n",
       "      <td>2.742867</td>\n",
       "      <td>-0.043213</td>\n",
       "    </tr>\n",
       "  </tbody>\n",
       "</table>\n",
       "</div>"
      ],
      "text/plain": [
       "        year  co2_per_capita     ARIMA   diffval\n",
       "0 1900-01-01        2.395832  0.000000       NaN\n",
       "1 1901-01-01        2.375619  2.395832 -0.020213\n",
       "2 1902-01-01        2.365278  2.370785 -0.010340\n",
       "3 1903-01-01        2.400300  2.360041  0.035021\n",
       "4 1904-01-01        2.419300  2.403302  0.019000\n",
       "5 1905-01-01        2.426151  2.424715  0.006851\n",
       "6 1906-01-01        2.514151  2.431025  0.088000\n",
       "7 1907-01-01        2.627321  2.532726  0.113170\n",
       "8 1908-01-01        2.707172  2.659513  0.079851\n",
       "9 1909-01-01        2.663959  2.742867 -0.043213"
      ]
     },
     "execution_count": 80,
     "metadata": {},
     "output_type": "execute_result"
    }
   ],
   "source": [
    "# Declaring the array 'pred' and append the values \n",
    "pred = model_fit.fittedvalues\n",
    "\n",
    "# Adding a new column 'ARIMA' into dataframe\n",
    "df['ARIMA'] = pred\n",
    "\n",
    "# Add a column 'diffval' into dataframe\n",
    "df['diffval'] = diffval\n",
    "\n",
    "# Display first five records\n",
    "df.head(10)\n"
   ]
  },
  {
   "cell_type": "code",
   "execution_count": 81,
   "id": "0eb71348",
   "metadata": {},
   "outputs": [
    {
     "data": {
      "image/png": "[encoded data removed]",
      "text/plain": [
       "<Figure size 1500x1200 with 4 Axes>"
      ]
     },
     "metadata": {},
     "output_type": "display_data"
    }
   ],
   "source": [
    "# Diagnosing the model residuals\n",
    "model_fit.plot_diagnostics(figsize = (15, 12))\n",
    "plt.show()"
   ]
  },
  {
   "cell_type": "code",
   "execution_count": 82,
   "id": "550cfab3-7544-45cd-93a4-dc6d763c984e",
   "metadata": {},
   "outputs": [
    {
     "data": {
      "application/vnd.plotly.v1+json": {
       "config": {
        "plotlyServerURL": "https://plot.ly"
       },
       "data": [
        {
         "line": {
          "color": "blue"
         },
         "mode": "lines",
         "name": "Actual",
         "type": "scatter",
         "x": [
          "1902-01-01T00:00:00",
          "1903-01-01T00:00:00",
          "1904-01-01T00:00:00",
          "1905-01-01T00:00:00",
          "1906-01-01T00:00:00",
          "1907-01-01T00:00:00",
          "1908-01-01T00:00:00",
          "1909-01-01T00:00:00",
          "1910-01-01T00:00:00",
          "1911-01-01T00:00:00",
          "1912-01-01T00:00:00",
          "1913-01-01T00:00:00",
          "1914-01-01T00:00:00",
          "1915-01-01T00:00:00",
          "1916-01-01T00:00:00",
          "1917-01-01T00:00:00",
          "1918-01-01T00:00:00",
          "1919-01-01T00:00:00",
          "1920-01-01T00:00:00",
          "1921-01-01T00:00:00",
          "1922-01-01T00:00:00",
          "1923-01-01T00:00:00",
          "1924-01-01T00:00:00",
          "1925-01-01T00:00:00",
          "1926-01-01T00:00:00",
          "1927-01-01T00:00:00",
          "1928-01-01T00:00:00",
          "1929-01-01T00:00:00",
          "1930-01-01T00:00:00",
          "1931-01-01T00:00:00",
          "1932-01-01T00:00:00",
          "1933-01-01T00:00:00",
          "1934-01-01T00:00:00",
          "1935-01-01T00:00:00",
          "1936-01-01T00:00:00",
          "1937-01-01T00:00:00",
          "1938-01-01T00:00:00",
          "1939-01-01T00:00:00",
          "1940-01-01T00:00:00",
          "1941-01-01T00:00:00",
          "1942-01-01T00:00:00",
          "1943-01-01T00:00:00",
          "1944-01-01T00:00:00",
          "1945-01-01T00:00:00",
          "1946-01-01T00:00:00",
          "1947-01-01T00:00:00",
          "1948-01-01T00:00:00",
          "1949-01-01T00:00:00",
          "1950-01-01T00:00:00",
          "1951-01-01T00:00:00",
          "1952-01-01T00:00:00",
          "1953-01-01T00:00:00",
          "1954-01-01T00:00:00",
          "1955-01-01T00:00:00",
          "1956-01-01T00:00:00",
          "1957-01-01T00:00:00",
          "1958-01-01T00:00:00",
          "1959-01-01T00:00:00",
          "1960-01-01T00:00:00",
          "1961-01-01T00:00:00",
          "1962-01-01T00:00:00",
          "1963-01-01T00:00:00",
          "1964-01-01T00:00:00",
          "1965-01-01T00:00:00",
          "1966-01-01T00:00:00",
          "1967-01-01T00:00:00",
          "1968-01-01T00:00:00",
          "1969-01-01T00:00:00",
          "1970-01-01T00:00:00",
          "1971-01-01T00:00:00",
          "1972-01-01T00:00:00",
          "1973-01-01T00:00:00",
          "1974-01-01T00:00:00",
          "1975-01-01T00:00:00",
          "1976-01-01T00:00:00",
          "1977-01-01T00:00:00",
          "1978-01-01T00:00:00",
          "1979-01-01T00:00:00",
          "1980-01-01T00:00:00",
          "1981-01-01T00:00:00",
          "1982-01-01T00:00:00",
          "1983-01-01T00:00:00",
          "1984-01-01T00:00:00",
          "1985-01-01T00:00:00",
          "1986-01-01T00:00:00",
          "1987-01-01T00:00:00",
          "1988-01-01T00:00:00",
          "1989-01-01T00:00:00",
          "1990-01-01T00:00:00",
          "1991-01-01T00:00:00",
          "1992-01-01T00:00:00",
          "1993-01-01T00:00:00",
          "1994-01-01T00:00:00",
          "1995-01-01T00:00:00",
          "1996-01-01T00:00:00",
          "1997-01-01T00:00:00",
          "1998-01-01T00:00:00",
          "1999-01-01T00:00:00",
          "2000-01-01T00:00:00",
          "2001-01-01T00:00:00",
          "2002-01-01T00:00:00",
          "2003-01-01T00:00:00",
          "2004-01-01T00:00:00",
          "2005-01-01T00:00:00",
          "2006-01-01T00:00:00",
          "2007-01-01T00:00:00",
          "2008-01-01T00:00:00",
          "2009-01-01T00:00:00",
          "2010-01-01T00:00:00",
          "2011-01-01T00:00:00",
          "2012-01-01T00:00:00",
          "2013-01-01T00:00:00",
          "2014-01-01T00:00:00",
          "2015-01-01T00:00:00",
          "2016-01-01T00:00:00",
          "2017-01-01T00:00:00",
          "2018-01-01T00:00:00",
          "2019-01-01T00:00:00",
          "2020-01-01T00:00:00",
          "2021-01-01T00:00:00"
         ],
         "y": [
          2.3652784851887096,
          2.400299761784454,
          2.4192997617844543,
          2.4261508256142417,
          2.5141508256142417,
          2.6273210383801993,
          2.707172102209986,
          2.6639593362525393,
          2.58552080197358,
          2.7146189107206244,
          2.875529935865692,
          2.8419676104842178,
          2.820432365340832,
          2.717496195128066,
          2.7051557695961512,
          2.496943003638705,
          2.3671983227876408,
          2.0235846317608135,
          2.218691014739537,
          2.120882504101239,
          2.4083635915716886,
          2.462257208592965,
          2.535691014739537,
          2.509882504101239,
          2.43615909984592,
          2.728456972186345,
          2.7393718658033666,
          2.932903780696984,
          2.8479037806969836,
          2.7964569721863453,
          2.6550739934629415,
          2.670055107495932,
          2.799714681964017,
          2.8587572351555064,
          2.982927447921464,
          3.159629575581038,
          3.0949274479214637,
          3.141331703240613,
          3.183714681964017,
          3.265711351714248,
          3.0200305006504187,
          2.8301827670704003,
          2.7255870223895493,
          1.7539874092367445,
          2.2501150688112124,
          2.663157622002702,
          2.8112427283856807,
          2.9401150688112123,
          3.5163559080547113,
          3.828292078267477,
          3.9278452697568387,
          3.936249525075988,
          4.1142069718844985,
          4.4787601633738605,
          4.711526120820668,
          4.865185695288754,
          4.856972929331307,
          5.010696333586626,
          5.289058035714286,
          5.391845269756839,
          5.615419737841946,
          5.894653780395137,
          6.18048356762918,
          6.2909090995440735,
          6.447462291033434,
          6.5023133548632215,
          6.851696333586626,
          7.1537388867781155,
          7.609398461246201,
          7.750717610182371,
          7.993164418693009,
          8.340185695288755,
          8.255547397416413,
          8.148058035714286,
          8.497866546352583,
          8.515504844224925,
          8.764079312310031,
          8.93976016337386,
          8.791887822948329,
          8.46184526975684,
          8.268696333586625,
          8.201270801671733,
          8.341611227203648,
          8.601377184650456,
          8.655611227203647,
          8.590355908054711,
          8.557419737841945,
          8.563143142097264,
          8.982331306990881,
          8.591841945288754,
          8.057310030395136,
          7.720756838905776,
          7.414395136778116,
          7.19850151975684,
          7.417246200607902,
          7.256841945288754,
          7.213863221884498,
          7.015565349544073,
          7.095841945288753,
          7.22945896656535,
          7.269905775075988,
          7.534607902735562,
          7.622501519756839,
          7.550841945288754,
          7.6802036474164135,
          7.650735562310031,
          7.5127021276595745,
          6.934127659574468,
          7.212297872340426,
          7.047553191489362,
          6.8486170212765956,
          6.695936170212766,
          6.478744680851063,
          6.408404255319149,
          6.423276595744681,
          6.501851063829787,
          6.4488085106382975,
          6.175595744680851,
          5.6779361702127655,
          5.756659574468085
         ]
        },
        {
         "line": {
          "color": "red",
          "dash": "dash"
         },
         "mode": "lines",
         "name": "ARIMA Forecast",
         "type": "scatter",
         "x": [
          "1902-01-01T00:00:00",
          "1903-01-01T00:00:00",
          "1904-01-01T00:00:00",
          "1905-01-01T00:00:00",
          "1906-01-01T00:00:00",
          "1907-01-01T00:00:00",
          "1908-01-01T00:00:00",
          "1909-01-01T00:00:00",
          "1910-01-01T00:00:00",
          "1911-01-01T00:00:00",
          "1912-01-01T00:00:00",
          "1913-01-01T00:00:00",
          "1914-01-01T00:00:00",
          "1915-01-01T00:00:00",
          "1916-01-01T00:00:00",
          "1917-01-01T00:00:00",
          "1918-01-01T00:00:00",
          "1919-01-01T00:00:00",
          "1920-01-01T00:00:00",
          "1921-01-01T00:00:00",
          "1922-01-01T00:00:00",
          "1923-01-01T00:00:00",
          "1924-01-01T00:00:00",
          "1925-01-01T00:00:00",
          "1926-01-01T00:00:00",
          "1927-01-01T00:00:00",
          "1928-01-01T00:00:00",
          "1929-01-01T00:00:00",
          "1930-01-01T00:00:00",
          "1931-01-01T00:00:00",
          "1932-01-01T00:00:00",
          "1933-01-01T00:00:00",
          "1934-01-01T00:00:00",
          "1935-01-01T00:00:00",
          "1936-01-01T00:00:00",
          "1937-01-01T00:00:00",
          "1938-01-01T00:00:00",
          "1939-01-01T00:00:00",
          "1940-01-01T00:00:00",
          "1941-01-01T00:00:00",
          "1942-01-01T00:00:00",
          "1943-01-01T00:00:00",
          "1944-01-01T00:00:00",
          "1945-01-01T00:00:00",
          "1946-01-01T00:00:00",
          "1947-01-01T00:00:00",
          "1948-01-01T00:00:00",
          "1949-01-01T00:00:00",
          "1950-01-01T00:00:00",
          "1951-01-01T00:00:00",
          "1952-01-01T00:00:00",
          "1953-01-01T00:00:00",
          "1954-01-01T00:00:00",
          "1955-01-01T00:00:00",
          "1956-01-01T00:00:00",
          "1957-01-01T00:00:00",
          "1958-01-01T00:00:00",
          "1959-01-01T00:00:00",
          "1960-01-01T00:00:00",
          "1961-01-01T00:00:00",
          "1962-01-01T00:00:00",
          "1963-01-01T00:00:00",
          "1964-01-01T00:00:00",
          "1965-01-01T00:00:00",
          "1966-01-01T00:00:00",
          "1967-01-01T00:00:00",
          "1968-01-01T00:00:00",
          "1969-01-01T00:00:00",
          "1970-01-01T00:00:00",
          "1971-01-01T00:00:00",
          "1972-01-01T00:00:00",
          "1973-01-01T00:00:00",
          "1974-01-01T00:00:00",
          "1975-01-01T00:00:00",
          "1976-01-01T00:00:00",
          "1977-01-01T00:00:00",
          "1978-01-01T00:00:00",
          "1979-01-01T00:00:00",
          "1980-01-01T00:00:00",
          "1981-01-01T00:00:00",
          "1982-01-01T00:00:00",
          "1983-01-01T00:00:00",
          "1984-01-01T00:00:00",
          "1985-01-01T00:00:00",
          "1986-01-01T00:00:00",
          "1987-01-01T00:00:00",
          "1988-01-01T00:00:00",
          "1989-01-01T00:00:00",
          "1990-01-01T00:00:00",
          "1991-01-01T00:00:00",
          "1992-01-01T00:00:00",
          "1993-01-01T00:00:00",
          "1994-01-01T00:00:00",
          "1995-01-01T00:00:00",
          "1996-01-01T00:00:00",
          "1997-01-01T00:00:00",
          "1998-01-01T00:00:00",
          "1999-01-01T00:00:00",
          "2000-01-01T00:00:00",
          "2001-01-01T00:00:00",
          "2002-01-01T00:00:00",
          "2003-01-01T00:00:00",
          "2004-01-01T00:00:00",
          "2005-01-01T00:00:00",
          "2006-01-01T00:00:00",
          "2007-01-01T00:00:00",
          "2008-01-01T00:00:00",
          "2009-01-01T00:00:00",
          "2010-01-01T00:00:00",
          "2011-01-01T00:00:00",
          "2012-01-01T00:00:00",
          "2013-01-01T00:00:00",
          "2014-01-01T00:00:00",
          "2015-01-01T00:00:00",
          "2016-01-01T00:00:00",
          "2017-01-01T00:00:00",
          "2018-01-01T00:00:00",
          "2019-01-01T00:00:00",
          "2020-01-01T00:00:00",
          "2021-01-01T00:00:00"
         ],
         "y": [
          2.3707854605929364,
          2.3600407556462004,
          2.4033017799877263,
          2.424715009833973,
          2.431024782564767,
          2.5327257241393952,
          2.659512726444103,
          2.7428668800080933,
          2.6808427888101933,
          2.5835261872254107,
          2.735476128946616,
          2.9174347142441426,
          2.864754347767423,
          2.8322581215924223,
          2.7078449461959035,
          2.6964542148464203,
          2.455186416472719,
          2.316413099309657,
          1.9298467085543125,
          2.1883703504608127,
          2.0833869593885552,
          2.432271583129197,
          2.487825810404906,
          2.565753611746276,
          2.525932298802227,
          2.434413503372466,
          2.7775606848068564,
          2.7747186819150613,
          2.990295524769869,
          2.872396309874559,
          2.8042988553660986,
          2.636092262798237,
          2.6596949706654303,
          2.8149628291258884,
          2.879309282198081,
          3.0183006260567433,
          3.214143512733295,
          3.1209509850154977,
          3.167053609230227,
          3.2085390872815935,
          3.296740056723145,
          2.9989070058326788,
          2.7831194560372667,
          2.6755119702374706,
          1.5526807290227498,
          2.198270700715442,
          2.6988899670171724,
          2.8610775554055645,
          2.99625625982386,
          3.653770813951377,
          3.975625701991759,
          4.045396283033335,
          4.017817591102307,
          4.200423038622272,
          4.600250405813253,
          4.834383373146085,
          4.975363451429256,
          4.930656265007432,
          5.0873684494951315,
          5.389212860798292,
          5.477795977011779,
          5.712471962729243,
          6.008849652763343,
          6.307499319286674,
          6.396482304848967,
          6.546357235675389,
          6.579157318943803,
          6.964188386996506,
          7.282382935361832,
          7.77548333233141,
          7.888235706807071,
          8.128611863915236,
          8.492215141348002,
          8.344606606390192,
          8.19026532818216,
          8.586823686915817,
          8.579172344254989,
          8.850245009807708,
          9.028718229196581,
          8.827077781009276,
          8.429042573488793,
          8.213104541386363,
          8.151778391398908,
          8.332024844196066,
          8.639539145681724,
          8.690953816983736,
          8.603217195503698,
          8.560518828554418,
          8.566240245434935,
          9.056568832171724,
          8.575253189332216,
          7.954030349332577,
          7.592453897246143,
          7.274231325694425,
          7.065819580960247,
          7.364448805453007,
          7.19325602722758,
          7.163128445982,
          6.946865229283192,
          7.062828979479503,
          7.229948020437927,
          7.277198489629223,
          7.585123877028798,
          7.672056075133187,
          7.572288084275841,
          7.717079493416082,
          7.670799547878225,
          7.50262723367938,
          6.827709713238052,
          7.187626749274354,
          7.002391133800794,
          6.783605402517894,
          6.625354024661521,
          6.393265839249234,
          6.338039481985374,
          6.377875394132156,
          6.484425617671519,
          6.42780480565119,
          6.114270086533502,
          5.550508453231371
         ]
        }
       ],
       "layout": {
        "autosize": true,
        "legend": {
         "x": 0.7,
         "y": 0.95
        },
        "template": {
         "data": {
          "bar": [
           {
            "error_x": {
             "color": "#2a3f5f"
            },
            "error_y": {
             "color": "#2a3f5f"
            },
            "marker": {
             "line": {
              "color": "#E5ECF6",
              "width": 0.5
             },
             "pattern": {
              "fillmode": "overlay",
              "size": 10,
              "solidity": 0.2
             }
            },
            "type": "bar"
           }
          ],
          "barpolar": [
           {
            "marker": {
             "line": {
              "color": "#E5ECF6",
              "width": 0.5
             },
             "pattern": {
              "fillmode": "overlay",
              "size": 10,
              "solidity": 0.2
             }
            },
            "type": "barpolar"
           }
          ],
          "carpet": [
           {
            "aaxis": {
             "endlinecolor": "#2a3f5f",
             "gridcolor": "white",
             "linecolor": "white",
             "minorgridcolor": "white",
             "startlinecolor": "#2a3f5f"
            },
            "baxis": {
             "endlinecolor": "#2a3f5f",
             "gridcolor": "white",
             "linecolor": "white",
             "minorgridcolor": "white",
             "startlinecolor": "#2a3f5f"
            },
            "type": "carpet"
           }
          ],
          "choropleth": [
           {
            "colorbar": {
             "outlinewidth": 0,
             "ticks": ""
            },
            "type": "choropleth"
           }
          ],
          "contour": [
           {
            "colorbar": {
             "outlinewidth": 0,
             "ticks": ""
            },
            "colorscale": [
             [
              0,
              "#0d0887"
             ],
             [
              0.1111111111111111,
              "#46039f"
             ],
             [
              0.2222222222222222,
              "#7201a8"
             ],
             [
              0.3333333333333333,
              "#9c179e"
             ],
             [
              0.4444444444444444,
              "#bd3786"
             ],
             [
              0.5555555555555556,
              "#d8576b"
             ],
             [
              0.6666666666666666,
              "#ed7953"
             ],
             [
              0.7777777777777778,
              "#fb9f3a"
             ],
             [
              0.8888888888888888,
              "#fdca26"
             ],
             [
              1,
              "#f0f921"
             ]
            ],
            "type": "contour"
           }
          ],
          "contourcarpet": [
           {
            "colorbar": {
             "outlinewidth": 0,
             "ticks": ""
            },
            "type": "contourcarpet"
           }
          ],
          "heatmap": [
           {
            "colorbar": {
             "outlinewidth": 0,
             "ticks": ""
            },
            "colorscale": [
             [
              0,
              "#0d0887"
             ],
             [
              0.1111111111111111,
              "#46039f"
             ],
             [
              0.2222222222222222,
              "#7201a8"
             ],
             [
              0.3333333333333333,
              "#9c179e"
             ],
             [
              0.4444444444444444,
              "#bd3786"
             ],
             [
              0.5555555555555556,
              "#d8576b"
             ],
             [
              0.6666666666666666,
              "#ed7953"
             ],
             [
              0.7777777777777778,
              "#fb9f3a"
             ],
             [
              0.8888888888888888,
              "#fdca26"
             ],
             [
              1,
              "#f0f921"
             ]
            ],
            "type": "heatmap"
           }
          ],
          "heatmapgl": [
           {
            "colorbar": {
             "outlinewidth": 0,
             "ticks": ""
            },
            "colorscale": [
             [
              0,
              "#0d0887"
             ],
             [
              0.1111111111111111,
              "#46039f"
             ],
             [
              0.2222222222222222,
              "#7201a8"
             ],
             [
              0.3333333333333333,
              "#9c179e"
             ],
             [
              0.4444444444444444,
              "#bd3786"
             ],
             [
              0.5555555555555556,
              "#d8576b"
             ],
             [
              0.6666666666666666,
              "#ed7953"
             ],
             [
              0.7777777777777778,
              "#fb9f3a"
             ],
             [
              0.8888888888888888,
              "#fdca26"
             ],
             [
              1,
              "#f0f921"
             ]
            ],
            "type": "heatmapgl"
           }
          ],
          "histogram": [
           {
            "marker": {
             "pattern": {
              "fillmode": "overlay",
              "size": 10,
              "solidity": 0.2
             }
            },
            "type": "histogram"
           }
          ],
          "histogram2d": [
           {
            "colorbar": {
             "outlinewidth": 0,
             "ticks": ""
            },
            "colorscale": [
             [
              0,
              "#0d0887"
             ],
             [
              0.1111111111111111,
              "#46039f"
             ],
             [
              0.2222222222222222,
              "#7201a8"
             ],
             [
              0.3333333333333333,
              "#9c179e"
             ],
             [
              0.4444444444444444,
              "#bd3786"
             ],
             [
              0.5555555555555556,
              "#d8576b"
             ],
             [
              0.6666666666666666,
              "#ed7953"
             ],
             [
              0.7777777777777778,
              "#fb9f3a"
             ],
             [
              0.8888888888888888,
              "#fdca26"
             ],
             [
              1,
              "#f0f921"
             ]
            ],
            "type": "histogram2d"
           }
          ],
          "histogram2dcontour": [
           {
            "colorbar": {
             "outlinewidth": 0,
             "ticks": ""
            },
            "colorscale": [
             [
              0,
              "#0d0887"
             ],
             [
              0.1111111111111111,
              "#46039f"
             ],
             [
              0.2222222222222222,
              "#7201a8"
             ],
             [
              0.3333333333333333,
              "#9c179e"
             ],
             [
              0.4444444444444444,
              "#bd3786"
             ],
             [
              0.5555555555555556,
              "#d8576b"
             ],
             [
              0.6666666666666666,
              "#ed7953"
             ],
             [
              0.7777777777777778,
              "#fb9f3a"
             ],
             [
              0.8888888888888888,
              "#fdca26"
             ],
             [
              1,
              "#f0f921"
             ]
            ],
            "type": "histogram2dcontour"
           }
          ],
          "mesh3d": [
           {
            "colorbar": {
             "outlinewidth": 0,
             "ticks": ""
            },
            "type": "mesh3d"
           }
          ],
          "parcoords": [
           {
            "line": {
             "colorbar": {
              "outlinewidth": 0,
              "ticks": ""
             }
            },
            "type": "parcoords"
           }
          ],
          "pie": [
           {
            "automargin": true,
            "type": "pie"
           }
          ],
          "scatter": [
           {
            "fillpattern": {
             "fillmode": "overlay",
             "size": 10,
             "solidity": 0.2
            },
            "type": "scatter"
           }
          ],
          "scatter3d": [
           {
            "line": {
             "colorbar": {
              "outlinewidth": 0,
              "ticks": ""
             }
            },
            "marker": {
             "colorbar": {
              "outlinewidth": 0,
              "ticks": ""
             }
            },
            "type": "scatter3d"
           }
          ],
          "scattercarpet": [
           {
            "marker": {
             "colorbar": {
              "outlinewidth": 0,
              "ticks": ""
             }
            },
            "type": "scattercarpet"
           }
          ],
          "scattergeo": [
           {
            "marker": {
             "colorbar": {
              "outlinewidth": 0,
              "ticks": ""
             }
            },
            "type": "scattergeo"
           }
          ],
          "scattergl": [
           {
            "marker": {
             "colorbar": {
              "outlinewidth": 0,
              "ticks": ""
             }
            },
            "type": "scattergl"
           }
          ],
          "scattermapbox": [
           {
            "marker": {
             "colorbar": {
              "outlinewidth": 0,
              "ticks": ""
             }
            },
            "type": "scattermapbox"
           }
          ],
          "scatterpolar": [
           {
            "marker": {
             "colorbar": {
              "outlinewidth": 0,
              "ticks": ""
             }
            },
            "type": "scatterpolar"
           }
          ],
          "scatterpolargl": [
           {
            "marker": {
             "colorbar": {
              "outlinewidth": 0,
              "ticks": ""
             }
            },
            "type": "scatterpolargl"
           }
          ],
          "scatterternary": [
           {
            "marker": {
             "colorbar": {
              "outlinewidth": 0,
              "ticks": ""
             }
            },
            "type": "scatterternary"
           }
          ],
          "surface": [
           {
            "colorbar": {
             "outlinewidth": 0,
             "ticks": ""
            },
            "colorscale": [
             [
              0,
              "#0d0887"
             ],
             [
              0.1111111111111111,
              "#46039f"
             ],
             [
              0.2222222222222222,
              "#7201a8"
             ],
             [
              0.3333333333333333,
              "#9c179e"
             ],
             [
              0.4444444444444444,
              "#bd3786"
             ],
             [
              0.5555555555555556,
              "#d8576b"
             ],
             [
              0.6666666666666666,
              "#ed7953"
             ],
             [
              0.7777777777777778,
              "#fb9f3a"
             ],
             [
              0.8888888888888888,
              "#fdca26"
             ],
             [
              1,
              "#f0f921"
             ]
            ],
            "type": "surface"
           }
          ],
          "table": [
           {
            "cells": {
             "fill": {
              "color": "#EBF0F8"
             },
             "line": {
              "color": "white"
             }
            },
            "header": {
             "fill": {
              "color": "#C8D4E3"
             },
             "line": {
              "color": "white"
             }
            },
            "type": "table"
           }
          ]
         },
         "layout": {
          "annotationdefaults": {
           "arrowcolor": "#2a3f5f",
           "arrowhead": 0,
           "arrowwidth": 1
          },
          "autotypenumbers": "strict",
          "coloraxis": {
           "colorbar": {
            "outlinewidth": 0,
            "ticks": ""
           }
          },
          "colorscale": {
           "diverging": [
            [
             0,
             "#8e0152"
            ],
            [
             0.1,
             "#c51b7d"
            ],
            [
             0.2,
             "#de77ae"
            ],
            [
             0.3,
             "#f1b6da"
            ],
            [
             0.4,
             "#fde0ef"
            ],
            [
             0.5,
             "#f7f7f7"
            ],
            [
             0.6,
             "#e6f5d0"
            ],
            [
             0.7,
             "#b8e186"
            ],
            [
             0.8,
             "#7fbc41"
            ],
            [
             0.9,
             "#4d9221"
            ],
            [
             1,
             "#276419"
            ]
           ],
           "sequential": [
            [
             0,
             "#0d0887"
            ],
            [
             0.1111111111111111,
             "#46039f"
            ],
            [
             0.2222222222222222,
             "#7201a8"
            ],
            [
             0.3333333333333333,
             "#9c179e"
            ],
            [
             0.4444444444444444,
             "#bd3786"
            ],
            [
             0.5555555555555556,
             "#d8576b"
            ],
            [
             0.6666666666666666,
             "#ed7953"
            ],
            [
             0.7777777777777778,
             "#fb9f3a"
            ],
            [
             0.8888888888888888,
             "#fdca26"
            ],
            [
             1,
             "#f0f921"
            ]
           ],
           "sequentialminus": [
            [
             0,
             "#0d0887"
            ],
            [
             0.1111111111111111,
             "#46039f"
            ],
            [
             0.2222222222222222,
             "#7201a8"
            ],
            [
             0.3333333333333333,
             "#9c179e"
            ],
            [
             0.4444444444444444,
             "#bd3786"
            ],
            [
             0.5555555555555556,
             "#d8576b"
            ],
            [
             0.6666666666666666,
             "#ed7953"
            ],
            [
             0.7777777777777778,
             "#fb9f3a"
            ],
            [
             0.8888888888888888,
             "#fdca26"
            ],
            [
             1,
             "#f0f921"
            ]
           ]
          },
          "colorway": [
           "#636efa",
           "#EF553B",
           "#00cc96",
           "#ab63fa",
           "#FFA15A",
           "#19d3f3",
           "#FF6692",
           "#B6E880",
           "#FF97FF",
           "#FECB52"
          ],
          "font": {
           "color": "#2a3f5f"
          },
          "geo": {
           "bgcolor": "white",
           "lakecolor": "white",
           "landcolor": "#E5ECF6",
           "showlakes": true,
           "showland": true,
           "subunitcolor": "white"
          },
          "hoverlabel": {
           "align": "left"
          },
          "hovermode": "closest",
          "mapbox": {
           "style": "light"
          },
          "paper_bgcolor": "white",
          "plot_bgcolor": "#E5ECF6",
          "polar": {
           "angularaxis": {
            "gridcolor": "white",
            "linecolor": "white",
            "ticks": ""
           },
           "bgcolor": "#E5ECF6",
           "radialaxis": {
            "gridcolor": "white",
            "linecolor": "white",
            "ticks": ""
           }
          },
          "scene": {
           "xaxis": {
            "backgroundcolor": "#E5ECF6",
            "gridcolor": "white",
            "gridwidth": 2,
            "linecolor": "white",
            "showbackground": true,
            "ticks": "",
            "zerolinecolor": "white"
           },
           "yaxis": {
            "backgroundcolor": "#E5ECF6",
            "gridcolor": "white",
            "gridwidth": 2,
            "linecolor": "white",
            "showbackground": true,
            "ticks": "",
            "zerolinecolor": "white"
           },
           "zaxis": {
            "backgroundcolor": "#E5ECF6",
            "gridcolor": "white",
            "gridwidth": 2,
            "linecolor": "white",
            "showbackground": true,
            "ticks": "",
            "zerolinecolor": "white"
           }
          },
          "shapedefaults": {
           "line": {
            "color": "#2a3f5f"
           }
          },
          "ternary": {
           "aaxis": {
            "gridcolor": "white",
            "linecolor": "white",
            "ticks": ""
           },
           "baxis": {
            "gridcolor": "white",
            "linecolor": "white",
            "ticks": ""
           },
           "bgcolor": "#E5ECF6",
           "caxis": {
            "gridcolor": "white",
            "linecolor": "white",
            "ticks": ""
           }
          },
          "title": {
           "x": 0.05
          },
          "xaxis": {
           "automargin": true,
           "gridcolor": "white",
           "linecolor": "white",
           "ticks": "",
           "title": {
            "standoff": 15
           },
           "zerolinecolor": "white",
           "zerolinewidth": 2
          },
          "yaxis": {
           "automargin": true,
           "gridcolor": "white",
           "linecolor": "white",
           "ticks": "",
           "title": {
            "standoff": 15
           },
           "zerolinecolor": "white",
           "zerolinewidth": 2
          }
         }
        },
        "title": {
         "text": "ARIMA(1, 1, 1) Forecast vs. Actual CO2 Per Capita"
        },
        "xaxis": {
         "autorange": false,
         "range": [
          "1981-09-24 08:45:33.6747",
          "2021-01-01"
         ],
         "title": {
          "text": "Year"
         },
         "type": "date"
        },
        "yaxis": {
         "autorange": false,
         "range": [
          6.479354894130141,
          9.473451504568889
         ],
         "title": {
          "text": "CO2 Per Capita"
         },
         "type": "linear"
        }
       }
      },
      "image/png": "[encoded data removed]",
      "text/html": [
       "<div>                            <div id=\"ade09ef4-1c30-47d1-a1ca-83060f776acc\" class=\"plotly-graph-div\" style=\"height:525px; width:100%;\"></div>            <script type=\"text/javascript\">                require([\"plotly\"], function(Plotly) {                    window.PLOTLYENV=window.PLOTLYENV || {};                                    if (document.getElementById(\"ade09ef4-1c30-47d1-a1ca-83060f776acc\")) {                    Plotly.newPlot(                        \"ade09ef4-1c30-47d1-a1ca-83060f776acc\",                        [{\"line\":{\"color\":\"blue\"},\"mode\":\"lines\",\"name\":\"Actual\",\"x\":[\"1902-01-01T00:00:00\",\"1903-01-01T00:00:00\",\"1904-01-01T00:00:00\",\"1905-01-01T00:00:00\",\"1906-01-01T00:00:00\",\"1907-01-01T00:00:00\",\"1908-01-01T00:00:00\",\"1909-01-01T00:00:00\",\"1910-01-01T00:00:00\",\"1911-01-01T00:00:00\",\"1912-01-01T00:00:00\",\"1913-01-01T00:00:00\",\"1914-01-01T00:00:00\",\"1915-01-01T00:00:00\",\"1916-01-01T00:00:00\",\"1917-01-01T00:00:00\",\"1918-01-01T00:00:00\",\"1919-01-01T00:00:00\",\"1920-01-01T00:00:00\",\"1921-01-01T00:00:00\",\"1922-01-01T00:00:00\",\"1923-01-01T00:00:00\",\"1924-01-01T00:00:00\",\"1925-01-01T00:00:00\",\"1926-01-01T00:00:00\",\"1927-01-01T00:00:00\",\"1928-01-01T00:00:00\",\"1929-01-01T00:00:00\",\"1930-01-01T00:00:00\",\"1931-01-01T00:00:00\",\"1932-01-01T00:00:00\",\"1933-01-01T00:00:00\",\"1934-01-01T00:00:00\",\"1935-01-01T00:00:00\",\"1936-01-01T00:00:00\",\"1937-01-01T00:00:00\",\"1938-01-01T00:00:00\",\"1939-01-01T00:00:00\",\"1940-01-01T00:00:00\",\"1941-01-01T00:00:00\",\"1942-01-01T00:00:00\",\"1943-01-01T00:00:00\",\"1944-01-01T00:00:00\",\"1945-01-01T00:00:00\",\"1946-01-01T00:00:00\",\"1947-01-01T00:00:00\",\"1948-01-01T00:00:00\",\"1949-01-01T00:00:00\",\"1950-01-01T00:00:00\",\"1951-01-01T00:00:00\",\"1952-01-01T00:00:00\",\"1953-01-01T00:00:00\",\"1954-01-01T00:00:00\",\"1955-01-01T00:00:00\",\"1956-01-01T00:00:00\",\"1957-01-01T00:00:00\",\"1958-01-01T00:00:00\",\"1959-01-01T00:00:00\",\"1960-01-01T00:00:00\",\"1961-01-01T00:00:00\",\"1962-01-01T00:00:00\",\"1963-01-01T00:00:00\",\"1964-01-01T00:00:00\",\"1965-01-01T00:00:00\",\"1966-01-01T00:00:00\",\"1967-01-01T00:00:00\",\"1968-01-01T00:00:00\",\"1969-01-01T00:00:00\",\"1970-01-01T00:00:00\",\"1971-01-01T00:00:00\",\"1972-01-01T00:00:00\",\"1973-01-01T00:00:00\",\"1974-01-01T00:00:00\",\"1975-01-01T00:00:00\",\"1976-01-01T00:00:00\",\"1977-01-01T00:00:00\",\"1978-01-01T00:00:00\",\"1979-01-01T00:00:00\",\"1980-01-01T00:00:00\",\"1981-01-01T00:00:00\",\"1982-01-01T00:00:00\",\"1983-01-01T00:00:00\",\"1984-01-01T00:00:00\",\"1985-01-01T00:00:00\",\"1986-01-01T00:00:00\",\"1987-01-01T00:00:00\",\"1988-01-01T00:00:00\",\"1989-01-01T00:00:00\",\"1990-01-01T00:00:00\",\"1991-01-01T00:00:00\",\"1992-01-01T00:00:00\",\"1993-01-01T00:00:00\",\"1994-01-01T00:00:00\",\"1995-01-01T00:00:00\",\"1996-01-01T00:00:00\",\"1997-01-01T00:00:00\",\"1998-01-01T00:00:00\",\"1999-01-01T00:00:00\",\"2000-01-01T00:00:00\",\"2001-01-01T00:00:00\",\"2002-01-01T00:00:00\",\"2003-01-01T00:00:00\",\"2004-01-01T00:00:00\",\"2005-01-01T00:00:00\",\"2006-01-01T00:00:00\",\"2007-01-01T00:00:00\",\"2008-01-01T00:00:00\",\"2009-01-01T00:00:00\",\"2010-01-01T00:00:00\",\"2011-01-01T00:00:00\",\"2012-01-01T00:00:00\",\"2013-01-01T00:00:00\",\"2014-01-01T00:00:00\",\"2015-01-01T00:00:00\",\"2016-01-01T00:00:00\",\"2017-01-01T00:00:00\",\"2018-01-01T00:00:00\",\"2019-01-01T00:00:00\",\"2020-01-01T00:00:00\",\"2021-01-01T00:00:00\"],\"y\":[2.3652784851887096,2.400299761784454,2.4192997617844543,2.4261508256142417,2.5141508256142417,2.6273210383801993,2.707172102209986,2.6639593362525393,2.58552080197358,2.7146189107206244,2.875529935865692,2.8419676104842178,2.820432365340832,2.717496195128066,2.7051557695961512,2.496943003638705,2.3671983227876408,2.0235846317608135,2.218691014739537,2.120882504101239,2.4083635915716886,2.462257208592965,2.535691014739537,2.509882504101239,2.43615909984592,2.728456972186345,2.7393718658033666,2.932903780696984,2.8479037806969836,2.7964569721863453,2.6550739934629415,2.670055107495932,2.799714681964017,2.8587572351555064,2.982927447921464,3.159629575581038,3.0949274479214637,3.141331703240613,3.183714681964017,3.265711351714248,3.0200305006504187,2.8301827670704003,2.7255870223895493,1.7539874092367445,2.2501150688112124,2.663157622002702,2.8112427283856807,2.9401150688112123,3.5163559080547113,3.828292078267477,3.9278452697568387,3.936249525075988,4.1142069718844985,4.4787601633738605,4.711526120820668,4.865185695288754,4.856972929331307,5.010696333586626,5.289058035714286,5.391845269756839,5.615419737841946,5.894653780395137,6.18048356762918,6.2909090995440735,6.447462291033434,6.5023133548632215,6.851696333586626,7.1537388867781155,7.609398461246201,7.750717610182371,7.993164418693009,8.340185695288755,8.255547397416413,8.148058035714286,8.497866546352583,8.515504844224925,8.764079312310031,8.93976016337386,8.791887822948329,8.46184526975684,8.268696333586625,8.201270801671733,8.341611227203648,8.601377184650456,8.655611227203647,8.590355908054711,8.557419737841945,8.563143142097264,8.982331306990881,8.591841945288754,8.057310030395136,7.720756838905776,7.414395136778116,7.19850151975684,7.417246200607902,7.256841945288754,7.213863221884498,7.015565349544073,7.095841945288753,7.22945896656535,7.269905775075988,7.534607902735562,7.622501519756839,7.550841945288754,7.6802036474164135,7.650735562310031,7.5127021276595745,6.934127659574468,7.212297872340426,7.047553191489362,6.8486170212765956,6.695936170212766,6.478744680851063,6.408404255319149,6.423276595744681,6.501851063829787,6.4488085106382975,6.175595744680851,5.6779361702127655,5.756659574468085],\"type\":\"scatter\"},{\"line\":{\"color\":\"red\",\"dash\":\"dash\"},\"mode\":\"lines\",\"name\":\"ARIMA Forecast\",\"x\":[\"1902-01-01T00:00:00\",\"1903-01-01T00:00:00\",\"1904-01-01T00:00:00\",\"1905-01-01T00:00:00\",\"1906-01-01T00:00:00\",\"1907-01-01T00:00:00\",\"1908-01-01T00:00:00\",\"1909-01-01T00:00:00\",\"1910-01-01T00:00:00\",\"1911-01-01T00:00:00\",\"1912-01-01T00:00:00\",\"1913-01-01T00:00:00\",\"1914-01-01T00:00:00\",\"1915-01-01T00:00:00\",\"1916-01-01T00:00:00\",\"1917-01-01T00:00:00\",\"1918-01-01T00:00:00\",\"1919-01-01T00:00:00\",\"1920-01-01T00:00:00\",\"1921-01-01T00:00:00\",\"1922-01-01T00:00:00\",\"1923-01-01T00:00:00\",\"1924-01-01T00:00:00\",\"1925-01-01T00:00:00\",\"1926-01-01T00:00:00\",\"1927-01-01T00:00:00\",\"1928-01-01T00:00:00\",\"1929-01-01T00:00:00\",\"1930-01-01T00:00:00\",\"1931-01-01T00:00:00\",\"1932-01-01T00:00:00\",\"1933-01-01T00:00:00\",\"1934-01-01T00:00:00\",\"1935-01-01T00:00:00\",\"1936-01-01T00:00:00\",\"1937-01-01T00:00:00\",\"1938-01-01T00:00:00\",\"1939-01-01T00:00:00\",\"1940-01-01T00:00:00\",\"1941-01-01T00:00:00\",\"1942-01-01T00:00:00\",\"1943-01-01T00:00:00\",\"1944-01-01T00:00:00\",\"1945-01-01T00:00:00\",\"1946-01-01T00:00:00\",\"1947-01-01T00:00:00\",\"1948-01-01T00:00:00\",\"1949-01-01T00:00:00\",\"1950-01-01T00:00:00\",\"1951-01-01T00:00:00\",\"1952-01-01T00:00:00\",\"1953-01-01T00:00:00\",\"1954-01-01T00:00:00\",\"1955-01-01T00:00:00\",\"1956-01-01T00:00:00\",\"1957-01-01T00:00:00\",\"1958-01-01T00:00:00\",\"1959-01-01T00:00:00\",\"1960-01-01T00:00:00\",\"1961-01-01T00:00:00\",\"1962-01-01T00:00:00\",\"1963-01-01T00:00:00\",\"1964-01-01T00:00:00\",\"1965-01-01T00:00:00\",\"1966-01-01T00:00:00\",\"1967-01-01T00:00:00\",\"1968-01-01T00:00:00\",\"1969-01-01T00:00:00\",\"1970-01-01T00:00:00\",\"1971-01-01T00:00:00\",\"1972-01-01T00:00:00\",\"1973-01-01T00:00:00\",\"1974-01-01T00:00:00\",\"1975-01-01T00:00:00\",\"1976-01-01T00:00:00\",\"1977-01-01T00:00:00\",\"1978-01-01T00:00:00\",\"1979-01-01T00:00:00\",\"1980-01-01T00:00:00\",\"1981-01-01T00:00:00\",\"1982-01-01T00:00:00\",\"1983-01-01T00:00:00\",\"1984-01-01T00:00:00\",\"1985-01-01T00:00:00\",\"1986-01-01T00:00:00\",\"1987-01-01T00:00:00\",\"1988-01-01T00:00:00\",\"1989-01-01T00:00:00\",\"1990-01-01T00:00:00\",\"1991-01-01T00:00:00\",\"1992-01-01T00:00:00\",\"1993-01-01T00:00:00\",\"1994-01-01T00:00:00\",\"1995-01-01T00:00:00\",\"1996-01-01T00:00:00\",\"1997-01-01T00:00:00\",\"1998-01-01T00:00:00\",\"1999-01-01T00:00:00\",\"2000-01-01T00:00:00\",\"2001-01-01T00:00:00\",\"2002-01-01T00:00:00\",\"2003-01-01T00:00:00\",\"2004-01-01T00:00:00\",\"2005-01-01T00:00:00\",\"2006-01-01T00:00:00\",\"2007-01-01T00:00:00\",\"2008-01-01T00:00:00\",\"2009-01-01T00:00:00\",\"2010-01-01T00:00:00\",\"2011-01-01T00:00:00\",\"2012-01-01T00:00:00\",\"2013-01-01T00:00:00\",\"2014-01-01T00:00:00\",\"2015-01-01T00:00:00\",\"2016-01-01T00:00:00\",\"2017-01-01T00:00:00\",\"2018-01-01T00:00:00\",\"2019-01-01T00:00:00\",\"2020-01-01T00:00:00\",\"2021-01-01T00:00:00\"],\"y\":[2.3707854605929364,2.3600407556462004,2.4033017799877263,2.424715009833973,2.431024782564767,2.5327257241393952,2.659512726444103,2.7428668800080933,2.6808427888101933,2.5835261872254107,2.735476128946616,2.9174347142441426,2.864754347767423,2.8322581215924223,2.7078449461959035,2.6964542148464203,2.455186416472719,2.316413099309657,1.9298467085543125,2.1883703504608127,2.0833869593885552,2.432271583129197,2.487825810404906,2.565753611746276,2.525932298802227,2.434413503372466,2.7775606848068564,2.7747186819150613,2.990295524769869,2.872396309874559,2.8042988553660986,2.636092262798237,2.6596949706654303,2.8149628291258884,2.879309282198081,3.0183006260567433,3.214143512733295,3.1209509850154977,3.167053609230227,3.2085390872815935,3.296740056723145,2.9989070058326788,2.7831194560372667,2.6755119702374706,1.5526807290227498,2.198270700715442,2.6988899670171724,2.8610775554055645,2.99625625982386,3.653770813951377,3.975625701991759,4.045396283033335,4.017817591102307,4.200423038622272,4.600250405813253,4.834383373146085,4.975363451429256,4.930656265007432,5.0873684494951315,5.389212860798292,5.477795977011779,5.712471962729243,6.008849652763343,6.307499319286674,6.396482304848967,6.546357235675389,6.579157318943803,6.964188386996506,7.282382935361832,7.77548333233141,7.888235706807071,8.128611863915236,8.492215141348002,8.344606606390192,8.19026532818216,8.586823686915817,8.579172344254989,8.850245009807708,9.028718229196581,8.827077781009276,8.429042573488793,8.213104541386363,8.151778391398908,8.332024844196066,8.639539145681724,8.690953816983736,8.603217195503698,8.560518828554418,8.566240245434935,9.056568832171724,8.575253189332216,7.954030349332577,7.592453897246143,7.274231325694425,7.065819580960247,7.364448805453007,7.19325602722758,7.163128445982,6.946865229283192,7.062828979479503,7.229948020437927,7.277198489629223,7.585123877028798,7.672056075133187,7.572288084275841,7.717079493416082,7.670799547878225,7.50262723367938,6.827709713238052,7.187626749274354,7.002391133800794,6.783605402517894,6.625354024661521,6.393265839249234,6.338039481985374,6.377875394132156,6.484425617671519,6.42780480565119,6.114270086533502,5.550508453231371],\"type\":\"scatter\"}],                        {\"legend\":{\"x\":0.7,\"y\":0.95},\"title\":{\"text\":\"ARIMA(1, 1, 1) Forecast vs. Actual CO2 Per Capita\"},\"xaxis\":{\"title\":{\"text\":\"Year\"}},\"yaxis\":{\"title\":{\"text\":\"CO2 Per Capita\"}},\"template\":{\"data\":{\"histogram2dcontour\":[{\"type\":\"histogram2dcontour\",\"colorbar\":{\"outlinewidth\":0,\"ticks\":\"\"},\"colorscale\":[[0.0,\"#0d0887\"],[0.1111111111111111,\"#46039f\"],[0.2222222222222222,\"#7201a8\"],[0.3333333333333333,\"#9c179e\"],[0.4444444444444444,\"#bd3786\"],[0.5555555555555556,\"#d8576b\"],[0.6666666666666666,\"#ed7953\"],[0.7777777777777778,\"#fb9f3a\"],[0.8888888888888888,\"#fdca26\"],[1.0,\"#f0f921\"]]}],\"choropleth\":[{\"type\":\"choropleth\",\"colorbar\":{\"outlinewidth\":0,\"ticks\":\"\"}}],\"histogram2d\":[{\"type\":\"histogram2d\",\"colorbar\":{\"outlinewidth\":0,\"ticks\":\"\"},\"colorscale\":[[0.0,\"#0d0887\"],[0.1111111111111111,\"#46039f\"],[0.2222222222222222,\"#7201a8\"],[0.3333333333333333,\"#9c179e\"],[0.4444444444444444,\"#bd3786\"],[0.5555555555555556,\"#d8576b\"],[0.6666666666666666,\"#ed7953\"],[0.7777777777777778,\"#fb9f3a\"],[0.8888888888888888,\"#fdca26\"],[1.0,\"#f0f921\"]]}],\"heatmap\":[{\"type\":\"heatmap\",\"colorbar\":{\"outlinewidth\":0,\"ticks\":\"\"},\"colorscale\":[[0.0,\"#0d0887\"],[0.1111111111111111,\"#46039f\"],[0.2222222222222222,\"#7201a8\"],[0.3333333333333333,\"#9c179e\"],[0.4444444444444444,\"#bd3786\"],[0.5555555555555556,\"#d8576b\"],[0.6666666666666666,\"#ed7953\"],[0.7777777777777778,\"#fb9f3a\"],[0.8888888888888888,\"#fdca26\"],[1.0,\"#f0f921\"]]}],\"heatmapgl\":[{\"type\":\"heatmapgl\",\"colorbar\":{\"outlinewidth\":0,\"ticks\":\"\"},\"colorscale\":[[0.0,\"#0d0887\"],[0.1111111111111111,\"#46039f\"],[0.2222222222222222,\"#7201a8\"],[0.3333333333333333,\"#9c179e\"],[0.4444444444444444,\"#bd3786\"],[0.5555555555555556,\"#d8576b\"],[0.6666666666666666,\"#ed7953\"],[0.7777777777777778,\"#fb9f3a\"],[0.8888888888888888,\"#fdca26\"],[1.0,\"#f0f921\"]]}],\"contourcarpet\":[{\"type\":\"contourcarpet\",\"colorbar\":{\"outlinewidth\":0,\"ticks\":\"\"}}],\"contour\":[{\"type\":\"contour\",\"colorbar\":{\"outlinewidth\":0,\"ticks\":\"\"},\"colorscale\":[[0.0,\"#0d0887\"],[0.1111111111111111,\"#46039f\"],[0.2222222222222222,\"#7201a8\"],[0.3333333333333333,\"#9c179e\"],[0.4444444444444444,\"#bd3786\"],[0.5555555555555556,\"#d8576b\"],[0.6666666666666666,\"#ed7953\"],[0.7777777777777778,\"#fb9f3a\"],[0.8888888888888888,\"#fdca26\"],[1.0,\"#f0f921\"]]}],\"surface\":[{\"type\":\"surface\",\"colorbar\":{\"outlinewidth\":0,\"ticks\":\"\"},\"colorscale\":[[0.0,\"#0d0887\"],[0.1111111111111111,\"#46039f\"],[0.2222222222222222,\"#7201a8\"],[0.3333333333333333,\"#9c179e\"],[0.4444444444444444,\"#bd3786\"],[0.5555555555555556,\"#d8576b\"],[0.6666666666666666,\"#ed7953\"],[0.7777777777777778,\"#fb9f3a\"],[0.8888888888888888,\"#fdca26\"],[1.0,\"#f0f921\"]]}],\"mesh3d\":[{\"type\":\"mesh3d\",\"colorbar\":{\"outlinewidth\":0,\"ticks\":\"\"}}],\"scatter\":[{\"fillpattern\":{\"fillmode\":\"overlay\",\"size\":10,\"solidity\":0.2},\"type\":\"scatter\"}],\"parcoords\":[{\"type\":\"parcoords\",\"line\":{\"colorbar\":{\"outlinewidth\":0,\"ticks\":\"\"}}}],\"scatterpolargl\":[{\"type\":\"scatterpolargl\",\"marker\":{\"colorbar\":{\"outlinewidth\":0,\"ticks\":\"\"}}}],\"bar\":[{\"error_x\":{\"color\":\"#2a3f5f\"},\"error_y\":{\"color\":\"#2a3f5f\"},\"marker\":{\"line\":{\"color\":\"#E5ECF6\",\"width\":0.5},\"pattern\":{\"fillmode\":\"overlay\",\"size\":10,\"solidity\":0.2}},\"type\":\"bar\"}],\"scattergeo\":[{\"type\":\"scattergeo\",\"marker\":{\"colorbar\":{\"outlinewidth\":0,\"ticks\":\"\"}}}],\"scatterpolar\":[{\"type\":\"scatterpolar\",\"marker\":{\"colorbar\":{\"outlinewidth\":0,\"ticks\":\"\"}}}],\"histogram\":[{\"marker\":{\"pattern\":{\"fillmode\":\"overlay\",\"size\":10,\"solidity\":0.2}},\"type\":\"histogram\"}],\"scattergl\":[{\"type\":\"scattergl\",\"marker\":{\"colorbar\":{\"outlinewidth\":0,\"ticks\":\"\"}}}],\"scatter3d\":[{\"type\":\"scatter3d\",\"line\":{\"colorbar\":{\"outlinewidth\":0,\"ticks\":\"\"}},\"marker\":{\"colorbar\":{\"outlinewidth\":0,\"ticks\":\"\"}}}],\"scattermapbox\":[{\"type\":\"scattermapbox\",\"marker\":{\"colorbar\":{\"outlinewidth\":0,\"ticks\":\"\"}}}],\"scatterternary\":[{\"type\":\"scatterternary\",\"marker\":{\"colorbar\":{\"outlinewidth\":0,\"ticks\":\"\"}}}],\"scattercarpet\":[{\"type\":\"scattercarpet\",\"marker\":{\"colorbar\":{\"outlinewidth\":0,\"ticks\":\"\"}}}],\"carpet\":[{\"aaxis\":{\"endlinecolor\":\"#2a3f5f\",\"gridcolor\":\"white\",\"linecolor\":\"white\",\"minorgridcolor\":\"white\",\"startlinecolor\":\"#2a3f5f\"},\"baxis\":{\"endlinecolor\":\"#2a3f5f\",\"gridcolor\":\"white\",\"linecolor\":\"white\",\"minorgridcolor\":\"white\",\"startlinecolor\":\"#2a3f5f\"},\"type\":\"carpet\"}],\"table\":[{\"cells\":{\"fill\":{\"color\":\"#EBF0F8\"},\"line\":{\"color\":\"white\"}},\"header\":{\"fill\":{\"color\":\"#C8D4E3\"},\"line\":{\"color\":\"white\"}},\"type\":\"table\"}],\"barpolar\":[{\"marker\":{\"line\":{\"color\":\"#E5ECF6\",\"width\":0.5},\"pattern\":{\"fillmode\":\"overlay\",\"size\":10,\"solidity\":0.2}},\"type\":\"barpolar\"}],\"pie\":[{\"automargin\":true,\"type\":\"pie\"}]},\"layout\":{\"autotypenumbers\":\"strict\",\"colorway\":[\"#636efa\",\"#EF553B\",\"#00cc96\",\"#ab63fa\",\"#FFA15A\",\"#19d3f3\",\"#FF6692\",\"#B6E880\",\"#FF97FF\",\"#FECB52\"],\"font\":{\"color\":\"#2a3f5f\"},\"hovermode\":\"closest\",\"hoverlabel\":{\"align\":\"left\"},\"paper_bgcolor\":\"white\",\"plot_bgcolor\":\"#E5ECF6\",\"polar\":{\"bgcolor\":\"#E5ECF6\",\"angularaxis\":{\"gridcolor\":\"white\",\"linecolor\":\"white\",\"ticks\":\"\"},\"radialaxis\":{\"gridcolor\":\"white\",\"linecolor\":\"white\",\"ticks\":\"\"}},\"ternary\":{\"bgcolor\":\"#E5ECF6\",\"aaxis\":{\"gridcolor\":\"white\",\"linecolor\":\"white\",\"ticks\":\"\"},\"baxis\":{\"gridcolor\":\"white\",\"linecolor\":\"white\",\"ticks\":\"\"},\"caxis\":{\"gridcolor\":\"white\",\"linecolor\":\"white\",\"ticks\":\"\"}},\"coloraxis\":{\"colorbar\":{\"outlinewidth\":0,\"ticks\":\"\"}},\"colorscale\":{\"sequential\":[[0.0,\"#0d0887\"],[0.1111111111111111,\"#46039f\"],[0.2222222222222222,\"#7201a8\"],[0.3333333333333333,\"#9c179e\"],[0.4444444444444444,\"#bd3786\"],[0.5555555555555556,\"#d8576b\"],[0.6666666666666666,\"#ed7953\"],[0.7777777777777778,\"#fb9f3a\"],[0.8888888888888888,\"#fdca26\"],[1.0,\"#f0f921\"]],\"sequentialminus\":[[0.0,\"#0d0887\"],[0.1111111111111111,\"#46039f\"],[0.2222222222222222,\"#7201a8\"],[0.3333333333333333,\"#9c179e\"],[0.4444444444444444,\"#bd3786\"],[0.5555555555555556,\"#d8576b\"],[0.6666666666666666,\"#ed7953\"],[0.7777777777777778,\"#fb9f3a\"],[0.8888888888888888,\"#fdca26\"],[1.0,\"#f0f921\"]],\"diverging\":[[0,\"#8e0152\"],[0.1,\"#c51b7d\"],[0.2,\"#de77ae\"],[0.3,\"#f1b6da\"],[0.4,\"#fde0ef\"],[0.5,\"#f7f7f7\"],[0.6,\"#e6f5d0\"],[0.7,\"#b8e186\"],[0.8,\"#7fbc41\"],[0.9,\"#4d9221\"],[1,\"#276419\"]]},\"xaxis\":{\"gridcolor\":\"white\",\"linecolor\":\"white\",\"ticks\":\"\",\"title\":{\"standoff\":15},\"zerolinecolor\":\"white\",\"automargin\":true,\"zerolinewidth\":2},\"yaxis\":{\"gridcolor\":\"white\",\"linecolor\":\"white\",\"ticks\":\"\",\"title\":{\"standoff\":15},\"zerolinecolor\":\"white\",\"automargin\":true,\"zerolinewidth\":2},\"scene\":{\"xaxis\":{\"backgroundcolor\":\"#E5ECF6\",\"gridcolor\":\"white\",\"linecolor\":\"white\",\"showbackground\":true,\"ticks\":\"\",\"zerolinecolor\":\"white\",\"gridwidth\":2},\"yaxis\":{\"backgroundcolor\":\"#E5ECF6\",\"gridcolor\":\"white\",\"linecolor\":\"white\",\"showbackground\":true,\"ticks\":\"\",\"zerolinecolor\":\"white\",\"gridwidth\":2},\"zaxis\":{\"backgroundcolor\":\"#E5ECF6\",\"gridcolor\":\"white\",\"linecolor\":\"white\",\"showbackground\":true,\"ticks\":\"\",\"zerolinecolor\":\"white\",\"gridwidth\":2}},\"shapedefaults\":{\"line\":{\"color\":\"#2a3f5f\"}},\"annotationdefaults\":{\"arrowcolor\":\"#2a3f5f\",\"arrowhead\":0,\"arrowwidth\":1},\"geo\":{\"bgcolor\":\"white\",\"landcolor\":\"#E5ECF6\",\"subunitcolor\":\"white\",\"showland\":true,\"showlakes\":true,\"lakecolor\":\"white\"},\"title\":{\"x\":0.05},\"mapbox\":{\"style\":\"light\"}}}},                        {\"responsive\": true}                    ).then(function(){\n",
       "                            \n",
       "var gd = document.getElementById('ade09ef4-1c30-47d1-a1ca-83060f776acc');\n",
       "var x = new MutationObserver(function (mutations, observer) {{\n",
       "        var display = window.getComputedStyle(gd).display;\n",
       "        if (!display || display === 'none') {{\n",
       "            console.log([gd, 'removed!']);\n",
       "            Plotly.purge(gd);\n",
       "            observer.disconnect();\n",
       "        }}\n",
       "}});\n",
       "\n",
       "// Listen for the removal of the full notebook cells\n",
       "var notebookContainer = gd.closest('#notebook-container');\n",
       "if (notebookContainer) {{\n",
       "    x.observe(notebookContainer, {childList: true});\n",
       "}}\n",
       "\n",
       "// Listen for the clearing of the current output cell\n",
       "var outputEl = gd.closest('.output');\n",
       "if (outputEl) {{\n",
       "    x.observe(outputEl, {childList: true});\n",
       "}}\n",
       "\n",
       "                        })                };                });            </script>        </div>"
      ]
     },
     "metadata": {},
     "output_type": "display_data"
    }
   ],
   "source": [
    "import plotly.graph_objs as go\n",
    "# Set the index of the DataFrame to the 'Year' column\n",
    "df.set_index('year', inplace=True)\n",
    "\n",
    "\n",
    "# Create traces for actual and ARIMA forecast values\n",
    "trace_actual = go.Scatter(x=df.index[2:], y=df['co2_per_capita'].iloc[2:], mode='lines', name='Actual', line=dict(color='blue'))\n",
    "trace_arima = go.Scatter(x=df.index[2:], y=df['ARIMA'].iloc[2:], mode='lines', name='ARIMA Forecast', line=dict(color='red', dash='dash'))\n",
    "\n",
    "# Create layout\n",
    "layout = go.Layout(title='ARIMA(1, 1, 1) Forecast vs. Actual CO2 Per Capita',\n",
    "                   xaxis=dict(title='Year'),\n",
    "                   yaxis=dict(title='CO2 Per Capita'),\n",
    "                   legend=dict(x=0.7, y=0.95))\n",
    "\n",
    "# Combine traces and layout\n",
    "fig = go.Figure(data=[trace_actual, trace_arima], layout=layout)\n",
    "\n",
    "# Show plot\n",
    "fig.show()\n"
   ]
  },
  {
   "cell_type": "code",
   "execution_count": 83,
   "id": "934f2c2b",
   "metadata": {},
   "outputs": [],
   "source": [
    "from sklearn.metrics import mean_squared_error, mean_absolute_error"
   ]
  },
  {
   "cell_type": "code",
   "execution_count": 84,
   "id": "21cb2477-381c-4539-9b7b-e2568be55c55",
   "metadata": {},
   "outputs": [],
   "source": [
    "# Split the data into train and test\n",
    "train_size = int(len(df) * 0.8)\n",
    "train, test = df[0:train_size], df[train_size:len(df)]"
   ]
  },
  {
   "cell_type": "code",
   "execution_count": 85,
   "id": "a59146d2-0382-4cfc-bbc7-899ca7903942",
   "metadata": {},
   "outputs": [
    {
     "name": "stdout",
     "output_type": "stream",
     "text": [
      "ARIMA Order (AIC): (2, 2)\n",
      "ARIMA Order (BIC): (2, 1)\n"
     ]
    }
   ],
   "source": [
    "# Another model selection\n",
    "order_aic_bic = sm.tsa.arma_order_select_ic(train[\"co2_per_capita\"].dropna(), ic=[\"aic\", \"bic\"])\n",
    "print(f\"ARIMA Order (AIC): {order_aic_bic['aic_min_order']}\")\n",
    "print(f\"ARIMA Order (BIC): {order_aic_bic['bic_min_order']}\")"
   ]
  },
  {
   "cell_type": "code",
   "execution_count": 86,
   "id": "29020b6c-03ac-4e17-b359-8c8442e1ff1b",
   "metadata": {},
   "outputs": [
    {
     "data": {
      "text/html": [
       "<table class=\"simpletable\">\n",
       "<caption>SARIMAX Results</caption>\n",
       "<tr>\n",
       "  <th>Dep. Variable:</th>    <td>co2_per_capita</td>  <th>  No. Observations:  </th>   <td>97</td>  \n",
       "</tr>\n",
       "<tr>\n",
       "  <th>Model:</th>            <td>ARIMA(2, 2, 0)</td>  <th>  Log Likelihood     </th>  <td>0.564</td>\n",
       "</tr>\n",
       "<tr>\n",
       "  <th>Date:</th>            <td>Fri, 17 May 2024</td> <th>  AIC                </th>  <td>4.872</td>\n",
       "</tr>\n",
       "<tr>\n",
       "  <th>Time:</th>                <td>21:16:46</td>     <th>  BIC                </th> <td>12.534</td>\n",
       "</tr>\n",
       "<tr>\n",
       "  <th>Sample:</th>             <td>01-01-1900</td>    <th>  HQIC               </th>  <td>7.968</td>\n",
       "</tr>\n",
       "<tr>\n",
       "  <th></th>                   <td>- 01-01-1996</td>   <th>                     </th>    <td> </td>  \n",
       "</tr>\n",
       "<tr>\n",
       "  <th>Covariance Type:</th>        <td>opg</td>       <th>                     </th>    <td> </td>  \n",
       "</tr>\n",
       "</table>\n",
       "<table class=\"simpletable\">\n",
       "<tr>\n",
       "     <td></td>       <th>coef</th>     <th>std err</th>      <th>z</th>      <th>P>|z|</th>  <th>[0.025</th>    <th>0.975]</th>  \n",
       "</tr>\n",
       "<tr>\n",
       "  <th>ar.L1</th>  <td>   -0.5241</td> <td>    0.079</td> <td>   -6.624</td> <td> 0.000</td> <td>   -0.679</td> <td>   -0.369</td>\n",
       "</tr>\n",
       "<tr>\n",
       "  <th>ar.L2</th>  <td>   -0.2760</td> <td>    0.138</td> <td>   -1.999</td> <td> 0.046</td> <td>   -0.547</td> <td>   -0.005</td>\n",
       "</tr>\n",
       "<tr>\n",
       "  <th>sigma2</th> <td>    0.0576</td> <td>    0.007</td> <td>    8.384</td> <td> 0.000</td> <td>    0.044</td> <td>    0.071</td>\n",
       "</tr>\n",
       "</table>\n",
       "<table class=\"simpletable\">\n",
       "<tr>\n",
       "  <th>Ljung-Box (L1) (Q):</th>     <td>0.33</td> <th>  Jarque-Bera (JB):  </th> <td>55.55</td>\n",
       "</tr>\n",
       "<tr>\n",
       "  <th>Prob(Q):</th>                <td>0.57</td> <th>  Prob(JB):          </th> <td>0.00</td> \n",
       "</tr>\n",
       "<tr>\n",
       "  <th>Heteroskedasticity (H):</th> <td>2.45</td> <th>  Skew:              </th> <td>0.50</td> \n",
       "</tr>\n",
       "<tr>\n",
       "  <th>Prob(H) (two-sided):</th>    <td>0.01</td> <th>  Kurtosis:          </th> <td>6.61</td> \n",
       "</tr>\n",
       "</table><br/><br/>Warnings:<br/>[1] Covariance matrix calculated using the outer product of gradients (complex-step)."
      ],
      "text/latex": [
       "\\begin{center}\n",
       "\\begin{tabular}{lclc}\n",
       "\\toprule\n",
       "\\textbf{Dep. Variable:}          & co2\\_per\\_capita & \\textbf{  No. Observations:  } &     97      \\\\\n",
       "\\textbf{Model:}                  &  ARIMA(2, 2, 0)  & \\textbf{  Log Likelihood     } &   0.564     \\\\\n",
       "\\textbf{Date:}                   & Fri, 17 May 2024 & \\textbf{  AIC                } &   4.872     \\\\\n",
       "\\textbf{Time:}                   &     21:16:46     & \\textbf{  BIC                } &   12.534    \\\\\n",
       "\\textbf{Sample:}                 &    01-01-1900    & \\textbf{  HQIC               } &   7.968     \\\\\n",
       "\\textbf{}                        &   - 01-01-1996   & \\textbf{                     } &             \\\\\n",
       "\\textbf{Covariance Type:}        &       opg        & \\textbf{                     } &             \\\\\n",
       "\\bottomrule\n",
       "\\end{tabular}\n",
       "\\begin{tabular}{lcccccc}\n",
       "                & \\textbf{coef} & \\textbf{std err} & \\textbf{z} & \\textbf{P$> |$z$|$} & \\textbf{[0.025} & \\textbf{0.975]}  \\\\\n",
       "\\midrule\n",
       "\\textbf{ar.L1}  &      -0.5241  &        0.079     &    -6.624  &         0.000        &       -0.679    &       -0.369     \\\\\n",
       "\\textbf{ar.L2}  &      -0.2760  &        0.138     &    -1.999  &         0.046        &       -0.547    &       -0.005     \\\\\n",
       "\\textbf{sigma2} &       0.0576  &        0.007     &     8.384  &         0.000        &        0.044    &        0.071     \\\\\n",
       "\\bottomrule\n",
       "\\end{tabular}\n",
       "\\begin{tabular}{lclc}\n",
       "\\textbf{Ljung-Box (L1) (Q):}     & 0.33 & \\textbf{  Jarque-Bera (JB):  } & 55.55  \\\\\n",
       "\\textbf{Prob(Q):}                & 0.57 & \\textbf{  Prob(JB):          } &  0.00  \\\\\n",
       "\\textbf{Heteroskedasticity (H):} & 2.45 & \\textbf{  Skew:              } &  0.50  \\\\\n",
       "\\textbf{Prob(H) (two-sided):}    & 0.01 & \\textbf{  Kurtosis:          } &  6.61  \\\\\n",
       "\\bottomrule\n",
       "\\end{tabular}\n",
       "%\\caption{SARIMAX Results}\n",
       "\\end{center}\n",
       "\n",
       "Warnings: \\newline\n",
       " [1] Covariance matrix calculated using the outer product of gradients (complex-step)."
      ],
      "text/plain": [
       "<class 'statsmodels.iolib.summary.Summary'>\n",
       "\"\"\"\n",
       "                               SARIMAX Results                                \n",
       "==============================================================================\n",
       "Dep. Variable:         co2_per_capita   No. Observations:                   97\n",
       "Model:                 ARIMA(2, 2, 0)   Log Likelihood                   0.564\n",
       "Date:                Fri, 17 May 2024   AIC                              4.872\n",
       "Time:                        21:16:46   BIC                             12.534\n",
       "Sample:                    01-01-1900   HQIC                             7.968\n",
       "                         - 01-01-1996                                         \n",
       "Covariance Type:                  opg                                         \n",
       "==============================================================================\n",
       "                 coef    std err          z      P>|z|      [0.025      0.975]\n",
       "------------------------------------------------------------------------------\n",
       "ar.L1         -0.5241      0.079     -6.624      0.000      -0.679      -0.369\n",
       "ar.L2         -0.2760      0.138     -1.999      0.046      -0.547      -0.005\n",
       "sigma2         0.0576      0.007      8.384      0.000       0.044       0.071\n",
       "===================================================================================\n",
       "Ljung-Box (L1) (Q):                   0.33   Jarque-Bera (JB):                55.55\n",
       "Prob(Q):                              0.57   Prob(JB):                         0.00\n",
       "Heteroskedasticity (H):               2.45   Skew:                             0.50\n",
       "Prob(H) (two-sided):                  0.01   Kurtosis:                         6.61\n",
       "===================================================================================\n",
       "\n",
       "Warnings:\n",
       "[1] Covariance matrix calculated using the outer product of gradients (complex-step).\n",
       "\"\"\""
      ]
     },
     "execution_count": 86,
     "metadata": {},
     "output_type": "execute_result"
    }
   ],
   "source": [
    "# Fit the ARIMA model on the training dataset\n",
    "model_train = ARIMA(train['co2_per_capita'], order=(2,2, 0))\n",
    "model_train_fit = model_train.fit()\n",
    "model_train_fit.summary()\n"
   ]
  },
  {
   "cell_type": "code",
   "execution_count": 87,
   "id": "c12fa3e7-dc67-4e6d-877d-2ad92e9d2d0e",
   "metadata": {},
   "outputs": [
    {
     "data": {
      "text/plain": [
       "year\n",
       "1997-01-01    7.383242\n",
       "1998-01-01    7.361747\n",
       "1999-01-01    7.403449\n",
       "2000-01-01    7.408579\n",
       "2001-01-01    7.415435\n",
       "2002-01-01    7.431479\n",
       "2003-01-01    7.442231\n",
       "2004-01-01    7.453221\n",
       "2005-01-01    7.465547\n",
       "2006-01-01    7.477107\n",
       "2007-01-01    7.488700\n",
       "2008-01-01    7.500487\n",
       "2009-01-01    7.512163\n",
       "2010-01-01    7.523844\n",
       "2011-01-01    7.535553\n",
       "2012-01-01    7.547246\n",
       "2013-01-01    7.558939\n",
       "2014-01-01    7.570637\n",
       "2015-01-01    7.582332\n",
       "2016-01-01    7.594027\n",
       "2017-01-01    7.605723\n",
       "2018-01-01    7.617419\n",
       "2019-01-01    7.629114\n",
       "2020-01-01    7.640810\n",
       "2021-01-01    7.652506\n",
       "Name: predicted_mean, dtype: float64"
      ]
     },
     "execution_count": 87,
     "metadata": {},
     "output_type": "execute_result"
    }
   ],
   "source": [
    "# Forecast on the test dataset\n",
    "test_forecast = model_train_fit.get_forecast(steps=len(test))\n",
    "test_forecast_series = pd.Series(test_forecast.predicted_mean, index=test.index)\n",
    "test_forecast_series"
   ]
  },
  {
   "cell_type": "code",
   "execution_count": 88,
   "id": "8d68633b-38fd-4ba8-b803-fdfb3ccd7d71",
   "metadata": {},
   "outputs": [
    {
     "data": {
      "text/html": [
       "<div>\n",
       "<style scoped>\n",
       "    .dataframe tbody tr th:only-of-type {\n",
       "        vertical-align: middle;\n",
       "    }\n",
       "\n",
       "    .dataframe tbody tr th {\n",
       "        vertical-align: top;\n",
       "    }\n",
       "\n",
       "    .dataframe thead th {\n",
       "        text-align: right;\n",
       "    }\n",
       "</style>\n",
       "<table border=\"1\" class=\"dataframe\">\n",
       "  <thead>\n",
       "    <tr style=\"text-align: right;\">\n",
       "      <th></th>\n",
       "      <th>Actual_CO2_Per_Capita</th>\n",
       "      <th>Predicted_CO2_Per_Capita</th>\n",
       "    </tr>\n",
       "    <tr>\n",
       "      <th>year</th>\n",
       "      <th></th>\n",
       "      <th></th>\n",
       "    </tr>\n",
       "  </thead>\n",
       "  <tbody>\n",
       "    <tr>\n",
       "      <th>1997-01-01</th>\n",
       "      <td>7.256842</td>\n",
       "      <td>7.383242</td>\n",
       "    </tr>\n",
       "    <tr>\n",
       "      <th>1998-01-01</th>\n",
       "      <td>7.213863</td>\n",
       "      <td>7.361747</td>\n",
       "    </tr>\n",
       "    <tr>\n",
       "      <th>1999-01-01</th>\n",
       "      <td>7.015565</td>\n",
       "      <td>7.403449</td>\n",
       "    </tr>\n",
       "    <tr>\n",
       "      <th>2000-01-01</th>\n",
       "      <td>7.095842</td>\n",
       "      <td>7.408579</td>\n",
       "    </tr>\n",
       "    <tr>\n",
       "      <th>2001-01-01</th>\n",
       "      <td>7.229459</td>\n",
       "      <td>7.415435</td>\n",
       "    </tr>\n",
       "    <tr>\n",
       "      <th>2002-01-01</th>\n",
       "      <td>7.269906</td>\n",
       "      <td>7.431479</td>\n",
       "    </tr>\n",
       "    <tr>\n",
       "      <th>2003-01-01</th>\n",
       "      <td>7.534608</td>\n",
       "      <td>7.442231</td>\n",
       "    </tr>\n",
       "    <tr>\n",
       "      <th>2004-01-01</th>\n",
       "      <td>7.622502</td>\n",
       "      <td>7.453221</td>\n",
       "    </tr>\n",
       "    <tr>\n",
       "      <th>2005-01-01</th>\n",
       "      <td>7.550842</td>\n",
       "      <td>7.465547</td>\n",
       "    </tr>\n",
       "    <tr>\n",
       "      <th>2006-01-01</th>\n",
       "      <td>7.680204</td>\n",
       "      <td>7.477107</td>\n",
       "    </tr>\n",
       "    <tr>\n",
       "      <th>2007-01-01</th>\n",
       "      <td>7.650736</td>\n",
       "      <td>7.488700</td>\n",
       "    </tr>\n",
       "    <tr>\n",
       "      <th>2008-01-01</th>\n",
       "      <td>7.512702</td>\n",
       "      <td>7.500487</td>\n",
       "    </tr>\n",
       "    <tr>\n",
       "      <th>2009-01-01</th>\n",
       "      <td>6.934128</td>\n",
       "      <td>7.512163</td>\n",
       "    </tr>\n",
       "    <tr>\n",
       "      <th>2010-01-01</th>\n",
       "      <td>7.212298</td>\n",
       "      <td>7.523844</td>\n",
       "    </tr>\n",
       "    <tr>\n",
       "      <th>2011-01-01</th>\n",
       "      <td>7.047553</td>\n",
       "      <td>7.535553</td>\n",
       "    </tr>\n",
       "    <tr>\n",
       "      <th>2012-01-01</th>\n",
       "      <td>6.848617</td>\n",
       "      <td>7.547246</td>\n",
       "    </tr>\n",
       "    <tr>\n",
       "      <th>2013-01-01</th>\n",
       "      <td>6.695936</td>\n",
       "      <td>7.558939</td>\n",
       "    </tr>\n",
       "    <tr>\n",
       "      <th>2014-01-01</th>\n",
       "      <td>6.478745</td>\n",
       "      <td>7.570637</td>\n",
       "    </tr>\n",
       "    <tr>\n",
       "      <th>2015-01-01</th>\n",
       "      <td>6.408404</td>\n",
       "      <td>7.582332</td>\n",
       "    </tr>\n",
       "    <tr>\n",
       "      <th>2016-01-01</th>\n",
       "      <td>6.423277</td>\n",
       "      <td>7.594027</td>\n",
       "    </tr>\n",
       "    <tr>\n",
       "      <th>2017-01-01</th>\n",
       "      <td>6.501851</td>\n",
       "      <td>7.605723</td>\n",
       "    </tr>\n",
       "    <tr>\n",
       "      <th>2018-01-01</th>\n",
       "      <td>6.448809</td>\n",
       "      <td>7.617419</td>\n",
       "    </tr>\n",
       "    <tr>\n",
       "      <th>2019-01-01</th>\n",
       "      <td>6.175596</td>\n",
       "      <td>7.629114</td>\n",
       "    </tr>\n",
       "    <tr>\n",
       "      <th>2020-01-01</th>\n",
       "      <td>5.677936</td>\n",
       "      <td>7.640810</td>\n",
       "    </tr>\n",
       "    <tr>\n",
       "      <th>2021-01-01</th>\n",
       "      <td>5.756660</td>\n",
       "      <td>7.652506</td>\n",
       "    </tr>\n",
       "  </tbody>\n",
       "</table>\n",
       "</div>"
      ],
      "text/plain": [
       "            Actual_CO2_Per_Capita  Predicted_CO2_Per_Capita\n",
       "year                                                       \n",
       "1997-01-01               7.256842                  7.383242\n",
       "1998-01-01               7.213863                  7.361747\n",
       "1999-01-01               7.015565                  7.403449\n",
       "2000-01-01               7.095842                  7.408579\n",
       "2001-01-01               7.229459                  7.415435\n",
       "2002-01-01               7.269906                  7.431479\n",
       "2003-01-01               7.534608                  7.442231\n",
       "2004-01-01               7.622502                  7.453221\n",
       "2005-01-01               7.550842                  7.465547\n",
       "2006-01-01               7.680204                  7.477107\n",
       "2007-01-01               7.650736                  7.488700\n",
       "2008-01-01               7.512702                  7.500487\n",
       "2009-01-01               6.934128                  7.512163\n",
       "2010-01-01               7.212298                  7.523844\n",
       "2011-01-01               7.047553                  7.535553\n",
       "2012-01-01               6.848617                  7.547246\n",
       "2013-01-01               6.695936                  7.558939\n",
       "2014-01-01               6.478745                  7.570637\n",
       "2015-01-01               6.408404                  7.582332\n",
       "2016-01-01               6.423277                  7.594027\n",
       "2017-01-01               6.501851                  7.605723\n",
       "2018-01-01               6.448809                  7.617419\n",
       "2019-01-01               6.175596                  7.629114\n",
       "2020-01-01               5.677936                  7.640810\n",
       "2021-01-01               5.756660                  7.652506"
      ]
     },
     "execution_count": 88,
     "metadata": {},
     "output_type": "execute_result"
    }
   ],
   "source": [
    "# Comparing predicted values with actual values\n",
    "comparison_df = pd.DataFrame({'Actual_CO2_Per_Capita': test['co2_per_capita'], 'Predicted_CO2_Per_Capita': test_forecast_series})\n",
    "comparison_df"
   ]
  },
  {
   "cell_type": "code",
   "execution_count": 89,
   "id": "cead2e74-ebf3-4d2e-8b17-62ccdf504386",
   "metadata": {},
   "outputs": [
    {
     "data": {
      "image/png": "[encoded data removed]",
      "text/plain": [
       "<Figure size 1400x700 with 1 Axes>"
      ]
     },
     "metadata": {},
     "output_type": "display_data"
    }
   ],
   "source": [
    "# Create a plot to compare the forecast with the actual test data\n",
    "plt.figure(figsize=(14,7))\n",
    "plt.plot(train['co2_per_capita'], label='Training Data')\n",
    "plt.plot(test['co2_per_capita'], label='Actual Data', color='orange')\n",
    "plt.plot(test_forecast_series, label='Forecasted Data', color='green')\n",
    "plt.fill_between(test.index, \n",
    "                 test_forecast.conf_int().iloc[:, 0], \n",
    "                 test_forecast.conf_int().iloc[:, 1], \n",
    "                 color='k', alpha=.15)\n",
    "plt.title('ARIMA Model Evaluation')\n",
    "plt.xlabel('Year')\n",
    "plt.ylabel('CO2 Emissions Per Capita')\n",
    "plt.legend()\n",
    "plt.show()\n"
   ]
  },
  {
   "cell_type": "code",
   "execution_count": 90,
   "id": "98a168db-cb8b-4748-9696-9ca20dd0452f",
   "metadata": {},
   "outputs": [
    {
     "data": {
      "text/plain": [
       "1997-01-01    7.383242\n",
       "1998-01-01    7.361747\n",
       "1999-01-01    7.403449\n",
       "2000-01-01    7.408579\n",
       "2001-01-01    7.415435\n",
       "2002-01-01    7.431479\n",
       "2003-01-01    7.442231\n",
       "2004-01-01    7.453221\n",
       "2005-01-01    7.465547\n",
       "2006-01-01    7.477107\n",
       "2007-01-01    7.488700\n",
       "2008-01-01    7.500487\n",
       "2009-01-01    7.512163\n",
       "2010-01-01    7.523844\n",
       "2011-01-01    7.535553\n",
       "2012-01-01    7.547246\n",
       "2013-01-01    7.558939\n",
       "2014-01-01    7.570637\n",
       "2015-01-01    7.582332\n",
       "2016-01-01    7.594027\n",
       "2017-01-01    7.605723\n",
       "2018-01-01    7.617419\n",
       "2019-01-01    7.629114\n",
       "2020-01-01    7.640810\n",
       "2021-01-01    7.652506\n",
       "2022-01-01    7.664201\n",
       "2023-01-01    7.675897\n",
       "2024-01-01    7.687593\n",
       "2025-01-01    7.699288\n",
       "2026-01-01    7.710984\n",
       "2027-01-01    7.722680\n",
       "2028-01-01    7.734375\n",
       "2029-01-01    7.746071\n",
       "2030-01-01    7.757766\n",
       "2031-01-01    7.769462\n",
       "2032-01-01    7.781158\n",
       "2033-01-01    7.792853\n",
       "2034-01-01    7.804549\n",
       "2035-01-01    7.816245\n",
       "2036-01-01    7.827940\n",
       "2037-01-01    7.839636\n",
       "2038-01-01    7.851332\n",
       "2039-01-01    7.863027\n",
       "2040-01-01    7.874723\n",
       "2041-01-01    7.886419\n",
       "2042-01-01    7.898114\n",
       "2043-01-01    7.909810\n",
       "2044-01-01    7.921506\n",
       "2045-01-01    7.933201\n",
       "2046-01-01    7.944897\n",
       "Freq: AS-JAN, Name: predicted_mean, dtype: float64"
      ]
     },
     "execution_count": 90,
     "metadata": {},
     "output_type": "execute_result"
    }
   ],
   "source": [
    "forecast_steps = 50\n",
    "forecast = model_train_fit.forecast(steps=forecast_steps)\n",
    "forecast"
   ]
  },
  {
   "cell_type": "code",
   "execution_count": 91,
   "id": "fc7ef39f-a306-4ffa-8bc5-c1a935ed8f95",
   "metadata": {},
   "outputs": [
    {
     "data": {
      "text/html": [
       "<div>\n",
       "<style scoped>\n",
       "    .dataframe tbody tr th:only-of-type {\n",
       "        vertical-align: middle;\n",
       "    }\n",
       "\n",
       "    .dataframe tbody tr th {\n",
       "        vertical-align: top;\n",
       "    }\n",
       "\n",
       "    .dataframe thead th {\n",
       "        text-align: right;\n",
       "    }\n",
       "</style>\n",
       "<table border=\"1\" class=\"dataframe\">\n",
       "  <thead>\n",
       "    <tr style=\"text-align: right;\">\n",
       "      <th></th>\n",
       "      <th>co2_per_capita</th>\n",
       "      <th>ARIMA</th>\n",
       "      <th>diffval</th>\n",
       "      <th>forecast</th>\n",
       "    </tr>\n",
       "    <tr>\n",
       "      <th>year</th>\n",
       "      <th></th>\n",
       "      <th></th>\n",
       "      <th></th>\n",
       "      <th></th>\n",
       "    </tr>\n",
       "  </thead>\n",
       "  <tbody>\n",
       "    <tr>\n",
       "      <th>1900-01-01</th>\n",
       "      <td>2.395832</td>\n",
       "      <td>0.000000</td>\n",
       "      <td>NaN</td>\n",
       "      <td>NaN</td>\n",
       "    </tr>\n",
       "    <tr>\n",
       "      <th>1901-01-01</th>\n",
       "      <td>2.375619</td>\n",
       "      <td>2.395832</td>\n",
       "      <td>-0.020213</td>\n",
       "      <td>NaN</td>\n",
       "    </tr>\n",
       "    <tr>\n",
       "      <th>1902-01-01</th>\n",
       "      <td>2.365278</td>\n",
       "      <td>2.370785</td>\n",
       "      <td>-0.010340</td>\n",
       "      <td>NaN</td>\n",
       "    </tr>\n",
       "    <tr>\n",
       "      <th>1903-01-01</th>\n",
       "      <td>2.400300</td>\n",
       "      <td>2.360041</td>\n",
       "      <td>0.035021</td>\n",
       "      <td>NaN</td>\n",
       "    </tr>\n",
       "    <tr>\n",
       "      <th>1904-01-01</th>\n",
       "      <td>2.419300</td>\n",
       "      <td>2.403302</td>\n",
       "      <td>0.019000</td>\n",
       "      <td>NaN</td>\n",
       "    </tr>\n",
       "    <tr>\n",
       "      <th>...</th>\n",
       "      <td>...</td>\n",
       "      <td>...</td>\n",
       "      <td>...</td>\n",
       "      <td>...</td>\n",
       "    </tr>\n",
       "    <tr>\n",
       "      <th>2017-01-01</th>\n",
       "      <td>6.501851</td>\n",
       "      <td>6.377875</td>\n",
       "      <td>0.078574</td>\n",
       "      <td>7.605723</td>\n",
       "    </tr>\n",
       "    <tr>\n",
       "      <th>2018-01-01</th>\n",
       "      <td>6.448809</td>\n",
       "      <td>6.484426</td>\n",
       "      <td>-0.053043</td>\n",
       "      <td>7.617419</td>\n",
       "    </tr>\n",
       "    <tr>\n",
       "      <th>2019-01-01</th>\n",
       "      <td>6.175596</td>\n",
       "      <td>6.427805</td>\n",
       "      <td>-0.273213</td>\n",
       "      <td>7.629114</td>\n",
       "    </tr>\n",
       "    <tr>\n",
       "      <th>2020-01-01</th>\n",
       "      <td>5.677936</td>\n",
       "      <td>6.114270</td>\n",
       "      <td>-0.497660</td>\n",
       "      <td>7.640810</td>\n",
       "    </tr>\n",
       "    <tr>\n",
       "      <th>2021-01-01</th>\n",
       "      <td>5.756660</td>\n",
       "      <td>5.550508</td>\n",
       "      <td>0.078723</td>\n",
       "      <td>7.652506</td>\n",
       "    </tr>\n",
       "  </tbody>\n",
       "</table>\n",
       "<p>122 rows × 4 columns</p>\n",
       "</div>"
      ],
      "text/plain": [
       "            co2_per_capita     ARIMA   diffval  forecast\n",
       "year                                                    \n",
       "1900-01-01        2.395832  0.000000       NaN       NaN\n",
       "1901-01-01        2.375619  2.395832 -0.020213       NaN\n",
       "1902-01-01        2.365278  2.370785 -0.010340       NaN\n",
       "1903-01-01        2.400300  2.360041  0.035021       NaN\n",
       "1904-01-01        2.419300  2.403302  0.019000       NaN\n",
       "...                    ...       ...       ...       ...\n",
       "2017-01-01        6.501851  6.377875  0.078574  7.605723\n",
       "2018-01-01        6.448809  6.484426 -0.053043  7.617419\n",
       "2019-01-01        6.175596  6.427805 -0.273213  7.629114\n",
       "2020-01-01        5.677936  6.114270 -0.497660  7.640810\n",
       "2021-01-01        5.756660  5.550508  0.078723  7.652506\n",
       "\n",
       "[122 rows x 4 columns]"
      ]
     },
     "execution_count": 91,
     "metadata": {},
     "output_type": "execute_result"
    }
   ],
   "source": [
    "# Add the forecasted values to your DataFrame\n",
    "df['forecast'] = forecast\n",
    "\n",
    "# Display the DataFrame with the forecasted values\n",
    "df"
   ]
  },
  {
   "cell_type": "code",
   "execution_count": 92,
   "id": "fc195c5a-825f-4c8c-9022-78e3bd27cd6f",
   "metadata": {},
   "outputs": [],
   "source": [
    "forecast_steps = 70\n",
    "forecast = model_train_fit.forecast(steps=forecast_steps)"
   ]
  },
  {
   "cell_type": "code",
   "execution_count": 93,
   "id": "d911bf62-2a5c-4d92-900e-b3df58703ce1",
   "metadata": {},
   "outputs": [
    {
     "data": {
      "image/png": "[encoded data removed]",
      "text/plain": [
       "<Figure size 1400x700 with 1 Axes>"
      ]
     },
     "metadata": {},
     "output_type": "display_data"
    }
   ],
   "source": [
    "# Plotting the forecasted values\n",
    "plt.figure(figsize=(14, 7))\n",
    "plt.plot(forecast, label='Forecasted Data', color='green')\n",
    "plt.title('ARIMA Forecast for Next 50 Steps')\n",
    "plt.xlabel('Time Steps')\n",
    "plt.ylabel('CO2 Emissions Per Capita')\n",
    "plt.legend()\n",
    "plt.grid(True)\n",
    "plt.show()\n"
   ]
  },
  {
   "cell_type": "code",
   "execution_count": 94,
   "id": "f8d97080",
   "metadata": {},
   "outputs": [
    {
     "name": "stdout",
     "output_type": "stream",
     "text": [
      "Test MSE: 0.738\n",
      "Test MAE: 0.640\n",
      "Test RMSE: 0.859\n",
      "Test MAPE: 0.100\n"
     ]
    }
   ],
   "source": [
    "# Calculate the mean squared error\n",
    "mse = mean_squared_error(test['co2_per_capita'], test_forecast_series)\n",
    "# Print RMSE\n",
    "print('Test MSE: %.3f' % mse)\n",
    "\n",
    "# Calculate the mean absolute error\n",
    "mae = mean_absolute_error(test['co2_per_capita'], test_forecast_series)\n",
    "# Print MAE\n",
    "print('Test MAE: %.3f' % mae)\n",
    "\n",
    "# Calculate the mean absolute error\n",
    "rmse = math.sqrt(mean_squared_error(test['co2_per_capita'], test_forecast_series))\n",
    "# Print MAE\n",
    "print('Test RMSE: %.3f' % rmse)\n",
    "\n",
    "# Calculate the mean absolute error\n",
    "mape = np.mean(np.abs(test_forecast_series - test['co2_per_capita'])/np.abs(test['co2_per_capita']))\n",
    "# Print MAE\n",
    "print('Test MAPE: %.3f' % mape)\n"
   ]
  },
  {
   "cell_type": "code",
   "execution_count": 95,
   "id": "9b5c3ace",
   "metadata": {},
   "outputs": [],
   "source": [
    "\n",
    "# Modelling\n",
    "from sklearn.ensemble import RandomForestClassifier\n",
    "from sklearn.metrics import accuracy_score, confusion_matrix, precision_score, recall_score, ConfusionMatrixDisplay\n",
    "from sklearn.model_selection import RandomizedSearchCV, train_test_split\n",
    "from scipy.stats import randint\n",
    "\n",
    "# Tree Visualisation\n",
    "from sklearn.tree import export_graphviz\n",
    "from IPython.display import Image\n",
    "import graphviz"
   ]
  },
  {
   "cell_type": "code",
   "execution_count": 96,
   "id": "78041329-8668-456f-8ac6-9c10013a03ad",
   "metadata": {},
   "outputs": [
    {
     "data": {
      "text/html": [
       "<div>\n",
       "<style scoped>\n",
       "    .dataframe tbody tr th:only-of-type {\n",
       "        vertical-align: middle;\n",
       "    }\n",
       "\n",
       "    .dataframe tbody tr th {\n",
       "        vertical-align: top;\n",
       "    }\n",
       "\n",
       "    .dataframe thead th {\n",
       "        text-align: right;\n",
       "    }\n",
       "</style>\n",
       "<table border=\"1\" class=\"dataframe\">\n",
       "  <thead>\n",
       "    <tr style=\"text-align: right;\">\n",
       "      <th></th>\n",
       "      <th>country</th>\n",
       "      <th>year</th>\n",
       "      <th>iso_code</th>\n",
       "      <th>population</th>\n",
       "      <th>gdp</th>\n",
       "      <th>cement_co2</th>\n",
       "      <th>cement_co2_per_capita</th>\n",
       "      <th>co2</th>\n",
       "      <th>co2_growth_abs</th>\n",
       "      <th>co2_growth_prct</th>\n",
       "      <th>...</th>\n",
       "      <th>share_global_other_co2</th>\n",
       "      <th>share_of_temperature_change_from_ghg</th>\n",
       "      <th>temperature_change_from_ch4</th>\n",
       "      <th>temperature_change_from_co2</th>\n",
       "      <th>temperature_change_from_ghg</th>\n",
       "      <th>temperature_change_from_n2o</th>\n",
       "      <th>total_ghg</th>\n",
       "      <th>total_ghg_excluding_lucf</th>\n",
       "      <th>trade_co2</th>\n",
       "      <th>trade_co2_share</th>\n",
       "    </tr>\n",
       "  </thead>\n",
       "  <tbody>\n",
       "    <tr>\n",
       "      <th>0</th>\n",
       "      <td>Afghanistan</td>\n",
       "      <td>1850</td>\n",
       "      <td>AFG</td>\n",
       "      <td>3752993.0</td>\n",
       "      <td>NaN</td>\n",
       "      <td>NaN</td>\n",
       "      <td>NaN</td>\n",
       "      <td>NaN</td>\n",
       "      <td>NaN</td>\n",
       "      <td>NaN</td>\n",
       "      <td>...</td>\n",
       "      <td>NaN</td>\n",
       "      <td>NaN</td>\n",
       "      <td>NaN</td>\n",
       "      <td>NaN</td>\n",
       "      <td>NaN</td>\n",
       "      <td>NaN</td>\n",
       "      <td>NaN</td>\n",
       "      <td>NaN</td>\n",
       "      <td>NaN</td>\n",
       "      <td>NaN</td>\n",
       "    </tr>\n",
       "    <tr>\n",
       "      <th>1</th>\n",
       "      <td>Afghanistan</td>\n",
       "      <td>1851</td>\n",
       "      <td>AFG</td>\n",
       "      <td>3767956.0</td>\n",
       "      <td>NaN</td>\n",
       "      <td>NaN</td>\n",
       "      <td>NaN</td>\n",
       "      <td>NaN</td>\n",
       "      <td>NaN</td>\n",
       "      <td>NaN</td>\n",
       "      <td>...</td>\n",
       "      <td>NaN</td>\n",
       "      <td>0.165</td>\n",
       "      <td>0.0</td>\n",
       "      <td>0.0</td>\n",
       "      <td>0.0</td>\n",
       "      <td>0.0</td>\n",
       "      <td>NaN</td>\n",
       "      <td>NaN</td>\n",
       "      <td>NaN</td>\n",
       "      <td>NaN</td>\n",
       "    </tr>\n",
       "    <tr>\n",
       "      <th>2</th>\n",
       "      <td>Afghanistan</td>\n",
       "      <td>1852</td>\n",
       "      <td>AFG</td>\n",
       "      <td>3783940.0</td>\n",
       "      <td>NaN</td>\n",
       "      <td>NaN</td>\n",
       "      <td>NaN</td>\n",
       "      <td>NaN</td>\n",
       "      <td>NaN</td>\n",
       "      <td>NaN</td>\n",
       "      <td>...</td>\n",
       "      <td>NaN</td>\n",
       "      <td>0.164</td>\n",
       "      <td>0.0</td>\n",
       "      <td>0.0</td>\n",
       "      <td>0.0</td>\n",
       "      <td>0.0</td>\n",
       "      <td>NaN</td>\n",
       "      <td>NaN</td>\n",
       "      <td>NaN</td>\n",
       "      <td>NaN</td>\n",
       "    </tr>\n",
       "    <tr>\n",
       "      <th>3</th>\n",
       "      <td>Afghanistan</td>\n",
       "      <td>1853</td>\n",
       "      <td>AFG</td>\n",
       "      <td>3800954.0</td>\n",
       "      <td>NaN</td>\n",
       "      <td>NaN</td>\n",
       "      <td>NaN</td>\n",
       "      <td>NaN</td>\n",
       "      <td>NaN</td>\n",
       "      <td>NaN</td>\n",
       "      <td>...</td>\n",
       "      <td>NaN</td>\n",
       "      <td>0.164</td>\n",
       "      <td>0.0</td>\n",
       "      <td>0.0</td>\n",
       "      <td>0.0</td>\n",
       "      <td>0.0</td>\n",
       "      <td>NaN</td>\n",
       "      <td>NaN</td>\n",
       "      <td>NaN</td>\n",
       "      <td>NaN</td>\n",
       "    </tr>\n",
       "    <tr>\n",
       "      <th>4</th>\n",
       "      <td>Afghanistan</td>\n",
       "      <td>1854</td>\n",
       "      <td>AFG</td>\n",
       "      <td>3818038.0</td>\n",
       "      <td>NaN</td>\n",
       "      <td>NaN</td>\n",
       "      <td>NaN</td>\n",
       "      <td>NaN</td>\n",
       "      <td>NaN</td>\n",
       "      <td>NaN</td>\n",
       "      <td>...</td>\n",
       "      <td>NaN</td>\n",
       "      <td>0.163</td>\n",
       "      <td>0.0</td>\n",
       "      <td>0.0</td>\n",
       "      <td>0.0</td>\n",
       "      <td>0.0</td>\n",
       "      <td>NaN</td>\n",
       "      <td>NaN</td>\n",
       "      <td>NaN</td>\n",
       "      <td>NaN</td>\n",
       "    </tr>\n",
       "  </tbody>\n",
       "</table>\n",
       "<p>5 rows × 79 columns</p>\n",
       "</div>"
      ],
      "text/plain": [
       "       country  year iso_code  population  gdp  cement_co2  \\\n",
       "0  Afghanistan  1850      AFG   3752993.0  NaN         NaN   \n",
       "1  Afghanistan  1851      AFG   3767956.0  NaN         NaN   \n",
       "2  Afghanistan  1852      AFG   3783940.0  NaN         NaN   \n",
       "3  Afghanistan  1853      AFG   3800954.0  NaN         NaN   \n",
       "4  Afghanistan  1854      AFG   3818038.0  NaN         NaN   \n",
       "\n",
       "   cement_co2_per_capita  co2  co2_growth_abs  co2_growth_prct  ...  \\\n",
       "0                    NaN  NaN             NaN              NaN  ...   \n",
       "1                    NaN  NaN             NaN              NaN  ...   \n",
       "2                    NaN  NaN             NaN              NaN  ...   \n",
       "3                    NaN  NaN             NaN              NaN  ...   \n",
       "4                    NaN  NaN             NaN              NaN  ...   \n",
       "\n",
       "   share_global_other_co2  share_of_temperature_change_from_ghg  \\\n",
       "0                     NaN                                   NaN   \n",
       "1                     NaN                                 0.165   \n",
       "2                     NaN                                 0.164   \n",
       "3                     NaN                                 0.164   \n",
       "4                     NaN                                 0.163   \n",
       "\n",
       "   temperature_change_from_ch4  temperature_change_from_co2  \\\n",
       "0                          NaN                          NaN   \n",
       "1                          0.0                          0.0   \n",
       "2                          0.0                          0.0   \n",
       "3                          0.0                          0.0   \n",
       "4                          0.0                          0.0   \n",
       "\n",
       "   temperature_change_from_ghg  temperature_change_from_n2o  total_ghg  \\\n",
       "0                          NaN                          NaN        NaN   \n",
       "1                          0.0                          0.0        NaN   \n",
       "2                          0.0                          0.0        NaN   \n",
       "3                          0.0                          0.0        NaN   \n",
       "4                          0.0                          0.0        NaN   \n",
       "\n",
       "   total_ghg_excluding_lucf  trade_co2  trade_co2_share  \n",
       "0                       NaN        NaN              NaN  \n",
       "1                       NaN        NaN              NaN  \n",
       "2                       NaN        NaN              NaN  \n",
       "3                       NaN        NaN              NaN  \n",
       "4                       NaN        NaN              NaN  \n",
       "\n",
       "[5 rows x 79 columns]"
      ]
     },
     "execution_count": 96,
     "metadata": {},
     "output_type": "execute_result"
    }
   ],
   "source": [
    "dataset_2 = pd.read_csv(\"co2emission.csv\")\n",
    "dataset_2.head()"
   ]
  },
  {
   "cell_type": "code",
   "execution_count": 97,
   "id": "e68f825d-2d09-4076-9aad-92954632eee8",
   "metadata": {},
   "outputs": [
    {
     "data": {
      "text/html": [
       "<div>\n",
       "<style scoped>\n",
       "    .dataframe tbody tr th:only-of-type {\n",
       "        vertical-align: middle;\n",
       "    }\n",
       "\n",
       "    .dataframe tbody tr th {\n",
       "        vertical-align: top;\n",
       "    }\n",
       "\n",
       "    .dataframe thead th {\n",
       "        text-align: right;\n",
       "    }\n",
       "</style>\n",
       "<table border=\"1\" class=\"dataframe\">\n",
       "  <thead>\n",
       "    <tr style=\"text-align: right;\">\n",
       "      <th></th>\n",
       "      <th>country</th>\n",
       "      <th>year</th>\n",
       "      <th>iso_code</th>\n",
       "      <th>population</th>\n",
       "      <th>gdp</th>\n",
       "      <th>cement_co2</th>\n",
       "      <th>cement_co2_per_capita</th>\n",
       "      <th>co2</th>\n",
       "      <th>co2_growth_abs</th>\n",
       "      <th>co2_growth_prct</th>\n",
       "      <th>...</th>\n",
       "      <th>share_global_other_co2</th>\n",
       "      <th>share_of_temperature_change_from_ghg</th>\n",
       "      <th>temperature_change_from_ch4</th>\n",
       "      <th>temperature_change_from_co2</th>\n",
       "      <th>temperature_change_from_ghg</th>\n",
       "      <th>temperature_change_from_n2o</th>\n",
       "      <th>total_ghg</th>\n",
       "      <th>total_ghg_excluding_lucf</th>\n",
       "      <th>trade_co2</th>\n",
       "      <th>trade_co2_share</th>\n",
       "    </tr>\n",
       "  </thead>\n",
       "  <tbody>\n",
       "    <tr>\n",
       "      <th>788</th>\n",
       "      <td>Albania</td>\n",
       "      <td>1850</td>\n",
       "      <td>ALB</td>\n",
       "      <td>501490.0</td>\n",
       "      <td>NaN</td>\n",
       "      <td>NaN</td>\n",
       "      <td>NaN</td>\n",
       "      <td>NaN</td>\n",
       "      <td>NaN</td>\n",
       "      <td>NaN</td>\n",
       "      <td>...</td>\n",
       "      <td>NaN</td>\n",
       "      <td>NaN</td>\n",
       "      <td>NaN</td>\n",
       "      <td>NaN</td>\n",
       "      <td>NaN</td>\n",
       "      <td>NaN</td>\n",
       "      <td>NaN</td>\n",
       "      <td>NaN</td>\n",
       "      <td>NaN</td>\n",
       "      <td>NaN</td>\n",
       "    </tr>\n",
       "    <tr>\n",
       "      <th>789</th>\n",
       "      <td>Albania</td>\n",
       "      <td>1851</td>\n",
       "      <td>ALB</td>\n",
       "      <td>505313.0</td>\n",
       "      <td>NaN</td>\n",
       "      <td>NaN</td>\n",
       "      <td>NaN</td>\n",
       "      <td>NaN</td>\n",
       "      <td>NaN</td>\n",
       "      <td>NaN</td>\n",
       "      <td>...</td>\n",
       "      <td>NaN</td>\n",
       "      <td>0.034</td>\n",
       "      <td>0.0</td>\n",
       "      <td>0.0</td>\n",
       "      <td>0.0</td>\n",
       "      <td>0.0</td>\n",
       "      <td>NaN</td>\n",
       "      <td>NaN</td>\n",
       "      <td>NaN</td>\n",
       "      <td>NaN</td>\n",
       "    </tr>\n",
       "    <tr>\n",
       "      <th>790</th>\n",
       "      <td>Albania</td>\n",
       "      <td>1852</td>\n",
       "      <td>ALB</td>\n",
       "      <td>509659.0</td>\n",
       "      <td>NaN</td>\n",
       "      <td>NaN</td>\n",
       "      <td>NaN</td>\n",
       "      <td>NaN</td>\n",
       "      <td>NaN</td>\n",
       "      <td>NaN</td>\n",
       "      <td>...</td>\n",
       "      <td>NaN</td>\n",
       "      <td>0.034</td>\n",
       "      <td>0.0</td>\n",
       "      <td>0.0</td>\n",
       "      <td>0.0</td>\n",
       "      <td>0.0</td>\n",
       "      <td>NaN</td>\n",
       "      <td>NaN</td>\n",
       "      <td>NaN</td>\n",
       "      <td>NaN</td>\n",
       "    </tr>\n",
       "    <tr>\n",
       "      <th>791</th>\n",
       "      <td>Albania</td>\n",
       "      <td>1853</td>\n",
       "      <td>ALB</td>\n",
       "      <td>514536.0</td>\n",
       "      <td>NaN</td>\n",
       "      <td>NaN</td>\n",
       "      <td>NaN</td>\n",
       "      <td>NaN</td>\n",
       "      <td>NaN</td>\n",
       "      <td>NaN</td>\n",
       "      <td>...</td>\n",
       "      <td>NaN</td>\n",
       "      <td>0.034</td>\n",
       "      <td>0.0</td>\n",
       "      <td>0.0</td>\n",
       "      <td>0.0</td>\n",
       "      <td>0.0</td>\n",
       "      <td>NaN</td>\n",
       "      <td>NaN</td>\n",
       "      <td>NaN</td>\n",
       "      <td>NaN</td>\n",
       "    </tr>\n",
       "    <tr>\n",
       "      <th>792</th>\n",
       "      <td>Albania</td>\n",
       "      <td>1854</td>\n",
       "      <td>ALB</td>\n",
       "      <td>519460.0</td>\n",
       "      <td>NaN</td>\n",
       "      <td>NaN</td>\n",
       "      <td>NaN</td>\n",
       "      <td>NaN</td>\n",
       "      <td>NaN</td>\n",
       "      <td>NaN</td>\n",
       "      <td>...</td>\n",
       "      <td>NaN</td>\n",
       "      <td>0.034</td>\n",
       "      <td>0.0</td>\n",
       "      <td>0.0</td>\n",
       "      <td>0.0</td>\n",
       "      <td>0.0</td>\n",
       "      <td>NaN</td>\n",
       "      <td>NaN</td>\n",
       "      <td>NaN</td>\n",
       "      <td>NaN</td>\n",
       "    </tr>\n",
       "  </tbody>\n",
       "</table>\n",
       "<p>5 rows × 79 columns</p>\n",
       "</div>"
      ],
      "text/plain": [
       "     country  year iso_code  population  gdp  cement_co2  \\\n",
       "788  Albania  1850      ALB    501490.0  NaN         NaN   \n",
       "789  Albania  1851      ALB    505313.0  NaN         NaN   \n",
       "790  Albania  1852      ALB    509659.0  NaN         NaN   \n",
       "791  Albania  1853      ALB    514536.0  NaN         NaN   \n",
       "792  Albania  1854      ALB    519460.0  NaN         NaN   \n",
       "\n",
       "     cement_co2_per_capita  co2  co2_growth_abs  co2_growth_prct  ...  \\\n",
       "788                    NaN  NaN             NaN              NaN  ...   \n",
       "789                    NaN  NaN             NaN              NaN  ...   \n",
       "790                    NaN  NaN             NaN              NaN  ...   \n",
       "791                    NaN  NaN             NaN              NaN  ...   \n",
       "792                    NaN  NaN             NaN              NaN  ...   \n",
       "\n",
       "     share_global_other_co2  share_of_temperature_change_from_ghg  \\\n",
       "788                     NaN                                   NaN   \n",
       "789                     NaN                                 0.034   \n",
       "790                     NaN                                 0.034   \n",
       "791                     NaN                                 0.034   \n",
       "792                     NaN                                 0.034   \n",
       "\n",
       "     temperature_change_from_ch4  temperature_change_from_co2  \\\n",
       "788                          NaN                          NaN   \n",
       "789                          0.0                          0.0   \n",
       "790                          0.0                          0.0   \n",
       "791                          0.0                          0.0   \n",
       "792                          0.0                          0.0   \n",
       "\n",
       "     temperature_change_from_ghg  temperature_change_from_n2o  total_ghg  \\\n",
       "788                          NaN                          NaN        NaN   \n",
       "789                          0.0                          0.0        NaN   \n",
       "790                          0.0                          0.0        NaN   \n",
       "791                          0.0                          0.0        NaN   \n",
       "792                          0.0                          0.0        NaN   \n",
       "\n",
       "     total_ghg_excluding_lucf  trade_co2  trade_co2_share  \n",
       "788                       NaN        NaN              NaN  \n",
       "789                       NaN        NaN              NaN  \n",
       "790                       NaN        NaN              NaN  \n",
       "791                       NaN        NaN              NaN  \n",
       "792                       NaN        NaN              NaN  \n",
       "\n",
       "[5 rows x 79 columns]"
      ]
     },
     "execution_count": 97,
     "metadata": {},
     "output_type": "execute_result"
    }
   ],
   "source": [
    "europe = dataset_2[dataset_2[\"country\"].isin([\"Albania\",\"Austria\",\"Andorra\",\"Armenia\",\"Azerbaijan\",\n",
    "                                            \"Belarus\",\"Belgium\",\"Bosnia and Herzegovina\",\"Bulgaria\",\n",
    "                                            \"Croatia\",\"Cyprus\",\"Czechia\",\n",
    "                                            \"Denmark\",\n",
    "                                            \"Estonia\",\n",
    "                                            \"Finland\",\"France\",\n",
    "                                            \"Georgia\",\"Germany\",\"Greece\",\n",
    "                                            \"Hungary\",\n",
    "                                            \"Iceland\",\"Ireland\",\"Italy\",\n",
    "                                            \"Kazakhstan\",\"Kosovo\",\n",
    "                                            \"Latvia\",\"Liechtenstein\",\"Lithuania\",\"Luxembourg\",\n",
    "                                            \"Malta\",\"Moldova\",\"Montenegro\",\n",
    "                                            \"Netherlands\",\"North Macedonia\",\"Norway\",\n",
    "                                            \"Poland\",\"Portugal\",\n",
    "                                            \"Romania\",\"Russia\",\n",
    "                                            \"Serbia\",\"Slovakia\",\"Spain\",\"Sweden\",\"Switzerland\",\n",
    "                                           \"Turkey\",\n",
    "                                           \"Ukraine\", \"United Kingdom\"])]\n",
    "europe.head()"
   ]
  },
  {
   "cell_type": "code",
   "execution_count": 98,
   "id": "02cef401-a49c-41af-845d-359d1e29917d",
   "metadata": {},
   "outputs": [
    {
     "data": {
      "text/html": [
       "<div>\n",
       "<style scoped>\n",
       "    .dataframe tbody tr th:only-of-type {\n",
       "        vertical-align: middle;\n",
       "    }\n",
       "\n",
       "    .dataframe tbody tr th {\n",
       "        vertical-align: top;\n",
       "    }\n",
       "\n",
       "    .dataframe thead th {\n",
       "        text-align: right;\n",
       "    }\n",
       "</style>\n",
       "<table border=\"1\" class=\"dataframe\">\n",
       "  <thead>\n",
       "    <tr style=\"text-align: right;\">\n",
       "      <th></th>\n",
       "      <th>country</th>\n",
       "      <th>year</th>\n",
       "      <th>iso_code</th>\n",
       "      <th>population</th>\n",
       "      <th>gdp</th>\n",
       "      <th>cement_co2</th>\n",
       "      <th>cement_co2_per_capita</th>\n",
       "      <th>co2</th>\n",
       "      <th>co2_growth_abs</th>\n",
       "      <th>co2_growth_prct</th>\n",
       "      <th>...</th>\n",
       "      <th>share_global_other_co2</th>\n",
       "      <th>share_of_temperature_change_from_ghg</th>\n",
       "      <th>temperature_change_from_ch4</th>\n",
       "      <th>temperature_change_from_co2</th>\n",
       "      <th>temperature_change_from_ghg</th>\n",
       "      <th>temperature_change_from_n2o</th>\n",
       "      <th>total_ghg</th>\n",
       "      <th>total_ghg_excluding_lucf</th>\n",
       "      <th>trade_co2</th>\n",
       "      <th>trade_co2_share</th>\n",
       "    </tr>\n",
       "  </thead>\n",
       "  <tbody>\n",
       "    <tr>\n",
       "      <th>838</th>\n",
       "      <td>Albania</td>\n",
       "      <td>1900</td>\n",
       "      <td>ALB</td>\n",
       "      <td>805974.0</td>\n",
       "      <td>8.736000e+08</td>\n",
       "      <td>NaN</td>\n",
       "      <td>NaN</td>\n",
       "      <td>NaN</td>\n",
       "      <td>NaN</td>\n",
       "      <td>NaN</td>\n",
       "      <td>...</td>\n",
       "      <td>NaN</td>\n",
       "      <td>0.033</td>\n",
       "      <td>0.000</td>\n",
       "      <td>0.000</td>\n",
       "      <td>0.000</td>\n",
       "      <td>0.000</td>\n",
       "      <td>NaN</td>\n",
       "      <td>NaN</td>\n",
       "      <td>NaN</td>\n",
       "      <td>NaN</td>\n",
       "    </tr>\n",
       "    <tr>\n",
       "      <th>839</th>\n",
       "      <td>Albania</td>\n",
       "      <td>1901</td>\n",
       "      <td>ALB</td>\n",
       "      <td>813539.0</td>\n",
       "      <td>NaN</td>\n",
       "      <td>NaN</td>\n",
       "      <td>NaN</td>\n",
       "      <td>NaN</td>\n",
       "      <td>NaN</td>\n",
       "      <td>NaN</td>\n",
       "      <td>...</td>\n",
       "      <td>NaN</td>\n",
       "      <td>0.033</td>\n",
       "      <td>0.000</td>\n",
       "      <td>0.000</td>\n",
       "      <td>0.000</td>\n",
       "      <td>0.000</td>\n",
       "      <td>NaN</td>\n",
       "      <td>NaN</td>\n",
       "      <td>NaN</td>\n",
       "      <td>NaN</td>\n",
       "    </tr>\n",
       "    <tr>\n",
       "      <th>840</th>\n",
       "      <td>Albania</td>\n",
       "      <td>1902</td>\n",
       "      <td>ALB</td>\n",
       "      <td>821036.0</td>\n",
       "      <td>NaN</td>\n",
       "      <td>NaN</td>\n",
       "      <td>NaN</td>\n",
       "      <td>NaN</td>\n",
       "      <td>NaN</td>\n",
       "      <td>NaN</td>\n",
       "      <td>...</td>\n",
       "      <td>NaN</td>\n",
       "      <td>0.033</td>\n",
       "      <td>0.000</td>\n",
       "      <td>0.000</td>\n",
       "      <td>0.000</td>\n",
       "      <td>0.000</td>\n",
       "      <td>NaN</td>\n",
       "      <td>NaN</td>\n",
       "      <td>NaN</td>\n",
       "      <td>NaN</td>\n",
       "    </tr>\n",
       "    <tr>\n",
       "      <th>841</th>\n",
       "      <td>Albania</td>\n",
       "      <td>1903</td>\n",
       "      <td>ALB</td>\n",
       "      <td>828461.0</td>\n",
       "      <td>NaN</td>\n",
       "      <td>NaN</td>\n",
       "      <td>NaN</td>\n",
       "      <td>NaN</td>\n",
       "      <td>NaN</td>\n",
       "      <td>NaN</td>\n",
       "      <td>...</td>\n",
       "      <td>NaN</td>\n",
       "      <td>0.033</td>\n",
       "      <td>0.000</td>\n",
       "      <td>0.000</td>\n",
       "      <td>0.000</td>\n",
       "      <td>0.000</td>\n",
       "      <td>NaN</td>\n",
       "      <td>NaN</td>\n",
       "      <td>NaN</td>\n",
       "      <td>NaN</td>\n",
       "    </tr>\n",
       "    <tr>\n",
       "      <th>842</th>\n",
       "      <td>Albania</td>\n",
       "      <td>1904</td>\n",
       "      <td>ALB</td>\n",
       "      <td>835954.0</td>\n",
       "      <td>NaN</td>\n",
       "      <td>NaN</td>\n",
       "      <td>NaN</td>\n",
       "      <td>NaN</td>\n",
       "      <td>NaN</td>\n",
       "      <td>NaN</td>\n",
       "      <td>...</td>\n",
       "      <td>NaN</td>\n",
       "      <td>0.032</td>\n",
       "      <td>0.000</td>\n",
       "      <td>0.000</td>\n",
       "      <td>0.000</td>\n",
       "      <td>0.000</td>\n",
       "      <td>NaN</td>\n",
       "      <td>NaN</td>\n",
       "      <td>NaN</td>\n",
       "      <td>NaN</td>\n",
       "    </tr>\n",
       "    <tr>\n",
       "      <th>...</th>\n",
       "      <td>...</td>\n",
       "      <td>...</td>\n",
       "      <td>...</td>\n",
       "      <td>...</td>\n",
       "      <td>...</td>\n",
       "      <td>...</td>\n",
       "      <td>...</td>\n",
       "      <td>...</td>\n",
       "      <td>...</td>\n",
       "      <td>...</td>\n",
       "      <td>...</td>\n",
       "      <td>...</td>\n",
       "      <td>...</td>\n",
       "      <td>...</td>\n",
       "      <td>...</td>\n",
       "      <td>...</td>\n",
       "      <td>...</td>\n",
       "      <td>...</td>\n",
       "      <td>...</td>\n",
       "      <td>...</td>\n",
       "      <td>...</td>\n",
       "    </tr>\n",
       "    <tr>\n",
       "      <th>47932</th>\n",
       "      <td>United Kingdom</td>\n",
       "      <td>2017</td>\n",
       "      <td>GBR</td>\n",
       "      <td>66064808.0</td>\n",
       "      <td>2.506604e+12</td>\n",
       "      <td>4.410</td>\n",
       "      <td>0.067</td>\n",
       "      <td>387.367</td>\n",
       "      <td>-12.063</td>\n",
       "      <td>-3.020</td>\n",
       "      <td>...</td>\n",
       "      <td>0.986</td>\n",
       "      <td>2.556</td>\n",
       "      <td>0.004</td>\n",
       "      <td>0.033</td>\n",
       "      <td>0.039</td>\n",
       "      <td>0.002</td>\n",
       "      <td>450.65</td>\n",
       "      <td>461.61</td>\n",
       "      <td>160.795</td>\n",
       "      <td>41.510</td>\n",
       "    </tr>\n",
       "    <tr>\n",
       "      <th>47933</th>\n",
       "      <td>United Kingdom</td>\n",
       "      <td>2018</td>\n",
       "      <td>GBR</td>\n",
       "      <td>66432996.0</td>\n",
       "      <td>2.540210e+12</td>\n",
       "      <td>4.364</td>\n",
       "      <td>0.066</td>\n",
       "      <td>379.730</td>\n",
       "      <td>-7.637</td>\n",
       "      <td>-1.972</td>\n",
       "      <td>...</td>\n",
       "      <td>1.004</td>\n",
       "      <td>2.518</td>\n",
       "      <td>0.003</td>\n",
       "      <td>0.034</td>\n",
       "      <td>0.039</td>\n",
       "      <td>0.002</td>\n",
       "      <td>442.48</td>\n",
       "      <td>453.43</td>\n",
       "      <td>156.052</td>\n",
       "      <td>41.096</td>\n",
       "    </tr>\n",
       "    <tr>\n",
       "      <th>47934</th>\n",
       "      <td>United Kingdom</td>\n",
       "      <td>2019</td>\n",
       "      <td>GBR</td>\n",
       "      <td>66778660.0</td>\n",
       "      <td>NaN</td>\n",
       "      <td>4.448</td>\n",
       "      <td>0.067</td>\n",
       "      <td>364.753</td>\n",
       "      <td>-14.976</td>\n",
       "      <td>-3.944</td>\n",
       "      <td>...</td>\n",
       "      <td>1.041</td>\n",
       "      <td>2.481</td>\n",
       "      <td>0.003</td>\n",
       "      <td>0.034</td>\n",
       "      <td>0.039</td>\n",
       "      <td>0.002</td>\n",
       "      <td>429.13</td>\n",
       "      <td>440.08</td>\n",
       "      <td>149.386</td>\n",
       "      <td>40.955</td>\n",
       "    </tr>\n",
       "    <tr>\n",
       "      <th>47935</th>\n",
       "      <td>United Kingdom</td>\n",
       "      <td>2020</td>\n",
       "      <td>GBR</td>\n",
       "      <td>67059472.0</td>\n",
       "      <td>NaN</td>\n",
       "      <td>3.900</td>\n",
       "      <td>0.058</td>\n",
       "      <td>326.263</td>\n",
       "      <td>-38.490</td>\n",
       "      <td>-10.552</td>\n",
       "      <td>...</td>\n",
       "      <td>0.915</td>\n",
       "      <td>2.446</td>\n",
       "      <td>0.003</td>\n",
       "      <td>0.034</td>\n",
       "      <td>0.039</td>\n",
       "      <td>0.002</td>\n",
       "      <td>NaN</td>\n",
       "      <td>NaN</td>\n",
       "      <td>138.404</td>\n",
       "      <td>42.421</td>\n",
       "    </tr>\n",
       "    <tr>\n",
       "      <th>47936</th>\n",
       "      <td>United Kingdom</td>\n",
       "      <td>2021</td>\n",
       "      <td>GBR</td>\n",
       "      <td>67281040.0</td>\n",
       "      <td>NaN</td>\n",
       "      <td>3.900</td>\n",
       "      <td>0.058</td>\n",
       "      <td>346.773</td>\n",
       "      <td>20.510</td>\n",
       "      <td>6.286</td>\n",
       "      <td>...</td>\n",
       "      <td>0.924</td>\n",
       "      <td>2.411</td>\n",
       "      <td>0.003</td>\n",
       "      <td>0.034</td>\n",
       "      <td>0.039</td>\n",
       "      <td>0.002</td>\n",
       "      <td>NaN</td>\n",
       "      <td>NaN</td>\n",
       "      <td>NaN</td>\n",
       "      <td>NaN</td>\n",
       "    </tr>\n",
       "  </tbody>\n",
       "</table>\n",
       "<p>5734 rows × 79 columns</p>\n",
       "</div>"
      ],
      "text/plain": [
       "              country  year iso_code  population           gdp  cement_co2  \\\n",
       "838           Albania  1900      ALB    805974.0  8.736000e+08         NaN   \n",
       "839           Albania  1901      ALB    813539.0           NaN         NaN   \n",
       "840           Albania  1902      ALB    821036.0           NaN         NaN   \n",
       "841           Albania  1903      ALB    828461.0           NaN         NaN   \n",
       "842           Albania  1904      ALB    835954.0           NaN         NaN   \n",
       "...               ...   ...      ...         ...           ...         ...   \n",
       "47932  United Kingdom  2017      GBR  66064808.0  2.506604e+12       4.410   \n",
       "47933  United Kingdom  2018      GBR  66432996.0  2.540210e+12       4.364   \n",
       "47934  United Kingdom  2019      GBR  66778660.0           NaN       4.448   \n",
       "47935  United Kingdom  2020      GBR  67059472.0           NaN       3.900   \n",
       "47936  United Kingdom  2021      GBR  67281040.0           NaN       3.900   \n",
       "\n",
       "       cement_co2_per_capita      co2  co2_growth_abs  co2_growth_prct  ...  \\\n",
       "838                      NaN      NaN             NaN              NaN  ...   \n",
       "839                      NaN      NaN             NaN              NaN  ...   \n",
       "840                      NaN      NaN             NaN              NaN  ...   \n",
       "841                      NaN      NaN             NaN              NaN  ...   \n",
       "842                      NaN      NaN             NaN              NaN  ...   \n",
       "...                      ...      ...             ...              ...  ...   \n",
       "47932                  0.067  387.367         -12.063           -3.020  ...   \n",
       "47933                  0.066  379.730          -7.637           -1.972  ...   \n",
       "47934                  0.067  364.753         -14.976           -3.944  ...   \n",
       "47935                  0.058  326.263         -38.490          -10.552  ...   \n",
       "47936                  0.058  346.773          20.510            6.286  ...   \n",
       "\n",
       "       share_global_other_co2  share_of_temperature_change_from_ghg  \\\n",
       "838                       NaN                                 0.033   \n",
       "839                       NaN                                 0.033   \n",
       "840                       NaN                                 0.033   \n",
       "841                       NaN                                 0.033   \n",
       "842                       NaN                                 0.032   \n",
       "...                       ...                                   ...   \n",
       "47932                   0.986                                 2.556   \n",
       "47933                   1.004                                 2.518   \n",
       "47934                   1.041                                 2.481   \n",
       "47935                   0.915                                 2.446   \n",
       "47936                   0.924                                 2.411   \n",
       "\n",
       "       temperature_change_from_ch4  temperature_change_from_co2  \\\n",
       "838                          0.000                        0.000   \n",
       "839                          0.000                        0.000   \n",
       "840                          0.000                        0.000   \n",
       "841                          0.000                        0.000   \n",
       "842                          0.000                        0.000   \n",
       "...                            ...                          ...   \n",
       "47932                        0.004                        0.033   \n",
       "47933                        0.003                        0.034   \n",
       "47934                        0.003                        0.034   \n",
       "47935                        0.003                        0.034   \n",
       "47936                        0.003                        0.034   \n",
       "\n",
       "       temperature_change_from_ghg  temperature_change_from_n2o  total_ghg  \\\n",
       "838                          0.000                        0.000        NaN   \n",
       "839                          0.000                        0.000        NaN   \n",
       "840                          0.000                        0.000        NaN   \n",
       "841                          0.000                        0.000        NaN   \n",
       "842                          0.000                        0.000        NaN   \n",
       "...                            ...                          ...        ...   \n",
       "47932                        0.039                        0.002     450.65   \n",
       "47933                        0.039                        0.002     442.48   \n",
       "47934                        0.039                        0.002     429.13   \n",
       "47935                        0.039                        0.002        NaN   \n",
       "47936                        0.039                        0.002        NaN   \n",
       "\n",
       "       total_ghg_excluding_lucf  trade_co2  trade_co2_share  \n",
       "838                         NaN        NaN              NaN  \n",
       "839                         NaN        NaN              NaN  \n",
       "840                         NaN        NaN              NaN  \n",
       "841                         NaN        NaN              NaN  \n",
       "842                         NaN        NaN              NaN  \n",
       "...                         ...        ...              ...  \n",
       "47932                    461.61    160.795           41.510  \n",
       "47933                    453.43    156.052           41.096  \n",
       "47934                    440.08    149.386           40.955  \n",
       "47935                       NaN    138.404           42.421  \n",
       "47936                       NaN        NaN              NaN  \n",
       "\n",
       "[5734 rows x 79 columns]"
      ]
     },
     "execution_count": 98,
     "metadata": {},
     "output_type": "execute_result"
    }
   ],
   "source": [
    "europe_data = europe.loc[(europe[\"year\"] >= 1900)]\n",
    "europe_data"
   ]
  },
  {
   "cell_type": "code",
   "execution_count": 99,
   "id": "4f86e6fe-3338-49da-b78b-678baa04a40f",
   "metadata": {
    "scrolled": true
   },
   "outputs": [
    {
     "data": {
      "text/html": [
       "<div>\n",
       "<style scoped>\n",
       "    .dataframe tbody tr th:only-of-type {\n",
       "        vertical-align: middle;\n",
       "    }\n",
       "\n",
       "    .dataframe tbody tr th {\n",
       "        vertical-align: top;\n",
       "    }\n",
       "\n",
       "    .dataframe thead th {\n",
       "        text-align: right;\n",
       "    }\n",
       "</style>\n",
       "<table border=\"1\" class=\"dataframe\">\n",
       "  <thead>\n",
       "    <tr style=\"text-align: right;\">\n",
       "      <th></th>\n",
       "      <th>country</th>\n",
       "      <th>year</th>\n",
       "      <th>population</th>\n",
       "      <th>gdp</th>\n",
       "      <th>cement_co2</th>\n",
       "      <th>coal_co2</th>\n",
       "      <th>co2_per_capita</th>\n",
       "    </tr>\n",
       "  </thead>\n",
       "  <tbody>\n",
       "    <tr>\n",
       "      <th>47932</th>\n",
       "      <td>United Kingdom</td>\n",
       "      <td>2017</td>\n",
       "      <td>66064808.0</td>\n",
       "      <td>2.506604e+12</td>\n",
       "      <td>4.410</td>\n",
       "      <td>39.129</td>\n",
       "      <td>5.863</td>\n",
       "    </tr>\n",
       "    <tr>\n",
       "      <th>47933</th>\n",
       "      <td>United Kingdom</td>\n",
       "      <td>2018</td>\n",
       "      <td>66432996.0</td>\n",
       "      <td>2.540210e+12</td>\n",
       "      <td>4.364</td>\n",
       "      <td>33.280</td>\n",
       "      <td>5.716</td>\n",
       "    </tr>\n",
       "    <tr>\n",
       "      <th>47934</th>\n",
       "      <td>United Kingdom</td>\n",
       "      <td>2019</td>\n",
       "      <td>66778660.0</td>\n",
       "      <td>NaN</td>\n",
       "      <td>4.448</td>\n",
       "      <td>24.513</td>\n",
       "      <td>5.462</td>\n",
       "    </tr>\n",
       "    <tr>\n",
       "      <th>47935</th>\n",
       "      <td>United Kingdom</td>\n",
       "      <td>2020</td>\n",
       "      <td>67059472.0</td>\n",
       "      <td>NaN</td>\n",
       "      <td>3.900</td>\n",
       "      <td>22.809</td>\n",
       "      <td>4.865</td>\n",
       "    </tr>\n",
       "    <tr>\n",
       "      <th>47936</th>\n",
       "      <td>United Kingdom</td>\n",
       "      <td>2021</td>\n",
       "      <td>67281040.0</td>\n",
       "      <td>NaN</td>\n",
       "      <td>3.900</td>\n",
       "      <td>23.690</td>\n",
       "      <td>5.154</td>\n",
       "    </tr>\n",
       "  </tbody>\n",
       "</table>\n",
       "</div>"
      ],
      "text/plain": [
       "              country  year  population           gdp  cement_co2  coal_co2  \\\n",
       "47932  United Kingdom  2017  66064808.0  2.506604e+12       4.410    39.129   \n",
       "47933  United Kingdom  2018  66432996.0  2.540210e+12       4.364    33.280   \n",
       "47934  United Kingdom  2019  66778660.0           NaN       4.448    24.513   \n",
       "47935  United Kingdom  2020  67059472.0           NaN       3.900    22.809   \n",
       "47936  United Kingdom  2021  67281040.0           NaN       3.900    23.690   \n",
       "\n",
       "       co2_per_capita  \n",
       "47932           5.863  \n",
       "47933           5.716  \n",
       "47934           5.462  \n",
       "47935           4.865  \n",
       "47936           5.154  "
      ]
     },
     "execution_count": 99,
     "metadata": {},
     "output_type": "execute_result"
    }
   ],
   "source": [
    "new_data = europe_data[[\"country\", \"year\", \"population\", \"gdp\", \"cement_co2\", \"coal_co2\", \"co2_per_capita\"]]\n",
    "\n",
    "new_data.tail()"
   ]
  },
  {
   "cell_type": "code",
   "execution_count": 100,
   "id": "2184f928-bd69-415e-bd51-9ba6c7b5f724",
   "metadata": {},
   "outputs": [
    {
     "data": {
      "text/html": [
       "<div>\n",
       "<style scoped>\n",
       "    .dataframe tbody tr th:only-of-type {\n",
       "        vertical-align: middle;\n",
       "    }\n",
       "\n",
       "    .dataframe tbody tr th {\n",
       "        vertical-align: top;\n",
       "    }\n",
       "\n",
       "    .dataframe thead th {\n",
       "        text-align: right;\n",
       "    }\n",
       "</style>\n",
       "<table border=\"1\" class=\"dataframe\">\n",
       "  <thead>\n",
       "    <tr style=\"text-align: right;\">\n",
       "      <th></th>\n",
       "      <th>population</th>\n",
       "      <th>coal_co2</th>\n",
       "      <th>gdp</th>\n",
       "      <th>cement_co2</th>\n",
       "      <th>co2_per_capita</th>\n",
       "    </tr>\n",
       "    <tr>\n",
       "      <th>year</th>\n",
       "      <th></th>\n",
       "      <th></th>\n",
       "      <th></th>\n",
       "      <th></th>\n",
       "      <th></th>\n",
       "    </tr>\n",
       "  </thead>\n",
       "  <tbody>\n",
       "    <tr>\n",
       "      <th>1900</th>\n",
       "      <td>9.321342e+06</td>\n",
       "      <td>30.957868</td>\n",
       "      <td>6.271860e+10</td>\n",
       "      <td>0.000000</td>\n",
       "      <td>1.527100</td>\n",
       "    </tr>\n",
       "    <tr>\n",
       "      <th>1901</th>\n",
       "      <td>9.400948e+06</td>\n",
       "      <td>30.596579</td>\n",
       "      <td>7.314710e+10</td>\n",
       "      <td>0.000000</td>\n",
       "      <td>1.503350</td>\n",
       "    </tr>\n",
       "    <tr>\n",
       "      <th>1902</th>\n",
       "      <td>9.482077e+06</td>\n",
       "      <td>30.635474</td>\n",
       "      <td>7.435997e+10</td>\n",
       "      <td>0.000000</td>\n",
       "      <td>1.491200</td>\n",
       "    </tr>\n",
       "    <tr>\n",
       "      <th>1903</th>\n",
       "      <td>9.564770e+06</td>\n",
       "      <td>31.969789</td>\n",
       "      <td>7.567910e+10</td>\n",
       "      <td>0.000000</td>\n",
       "      <td>1.532350</td>\n",
       "    </tr>\n",
       "    <tr>\n",
       "      <th>1904</th>\n",
       "      <td>9.648308e+06</td>\n",
       "      <td>32.547263</td>\n",
       "      <td>7.713213e+10</td>\n",
       "      <td>0.000000</td>\n",
       "      <td>1.554675</td>\n",
       "    </tr>\n",
       "    <tr>\n",
       "      <th>1905</th>\n",
       "      <td>9.732702e+06</td>\n",
       "      <td>33.679921</td>\n",
       "      <td>7.894920e+10</td>\n",
       "      <td>0.000000</td>\n",
       "      <td>1.562725</td>\n",
       "    </tr>\n",
       "    <tr>\n",
       "      <th>1906</th>\n",
       "      <td>9.817939e+06</td>\n",
       "      <td>34.707263</td>\n",
       "      <td>8.155835e+10</td>\n",
       "      <td>0.000000</td>\n",
       "      <td>1.666125</td>\n",
       "    </tr>\n",
       "    <tr>\n",
       "      <th>1907</th>\n",
       "      <td>9.904094e+06</td>\n",
       "      <td>38.473000</td>\n",
       "      <td>8.405628e+10</td>\n",
       "      <td>0.000000</td>\n",
       "      <td>1.799100</td>\n",
       "    </tr>\n",
       "    <tr>\n",
       "      <th>1908</th>\n",
       "      <td>9.991112e+06</td>\n",
       "      <td>39.038026</td>\n",
       "      <td>8.390934e+10</td>\n",
       "      <td>0.015857</td>\n",
       "      <td>1.892925</td>\n",
       "    </tr>\n",
       "    <tr>\n",
       "      <th>1909</th>\n",
       "      <td>1.006564e+07</td>\n",
       "      <td>39.007711</td>\n",
       "      <td>8.603009e+10</td>\n",
       "      <td>0.015714</td>\n",
       "      <td>1.842150</td>\n",
       "    </tr>\n",
       "  </tbody>\n",
       "</table>\n",
       "</div>"
      ],
      "text/plain": [
       "        population   coal_co2           gdp  cement_co2  co2_per_capita\n",
       "year                                                                   \n",
       "1900  9.321342e+06  30.957868  6.271860e+10    0.000000        1.527100\n",
       "1901  9.400948e+06  30.596579  7.314710e+10    0.000000        1.503350\n",
       "1902  9.482077e+06  30.635474  7.435997e+10    0.000000        1.491200\n",
       "1903  9.564770e+06  31.969789  7.567910e+10    0.000000        1.532350\n",
       "1904  9.648308e+06  32.547263  7.713213e+10    0.000000        1.554675\n",
       "1905  9.732702e+06  33.679921  7.894920e+10    0.000000        1.562725\n",
       "1906  9.817939e+06  34.707263  8.155835e+10    0.000000        1.666125\n",
       "1907  9.904094e+06  38.473000  8.405628e+10    0.000000        1.799100\n",
       "1908  9.991112e+06  39.038026  8.390934e+10    0.015857        1.892925\n",
       "1909  1.006564e+07  39.007711  8.603009e+10    0.015714        1.842150"
      ]
     },
     "execution_count": 100,
     "metadata": {},
     "output_type": "execute_result"
    }
   ],
   "source": [
    "# Group by 'year' and calculate the mean of 'co2_per_capita' within each year group\n",
    "random_forest = europe_data.groupby('year')[['population','coal_co2', 'gdp', 'cement_co2', 'co2_per_capita']].mean().dropna()\n",
    "\n",
    "# Display the first 10 means per year\n",
    "random_forest.head(10)"
   ]
  },
  {
   "cell_type": "code",
   "execution_count": 101,
   "id": "74194fb6-eaa2-408b-b14f-1fb63425c95a",
   "metadata": {},
   "outputs": [
    {
     "name": "stdout",
     "output_type": "stream",
     "text": [
      "      population  coal_co2    gdp  cement_co2  co2_per_capita\n",
      "year                                                         \n",
      "1900       False     False  False       False           False\n",
      "1901       False     False  False       False           False\n",
      "1902       False     False  False       False           False\n",
      "1903       False     False  False       False           False\n",
      "1904       False     False  False       False           False\n",
      "...          ...       ...    ...         ...             ...\n",
      "2014       False     False  False       False           False\n",
      "2015       False     False  False       False           False\n",
      "2016       False     False  False       False           False\n",
      "2017       False     False  False       False           False\n",
      "2018       False     False  False       False           False\n",
      "\n",
      "[119 rows x 5 columns]\n"
     ]
    }
   ],
   "source": [
    "print(random_forest.isnull())"
   ]
  },
  {
   "cell_type": "code",
   "execution_count": 102,
   "id": "dc31d4f8-348b-478c-a27a-eaa01c59d004",
   "metadata": {},
   "outputs": [],
   "source": [
    "\n",
    "import numpy as np\n",
    "# Labels are the values we want to predict\n",
    "labels = np.array(random_forest['co2_per_capita'])\n",
    "# Remove the labels from the features\n",
    "# axis 1 refers to the columns\n",
    "random_forest= random_forest.drop('co2_per_capita', axis = 1)\n",
    "# Saving feature names for later use\n",
    "feature_list = list(random_forest.columns)\n",
    "# Convert to numpy array\n",
    "random_forest = np.array(random_forest)"
   ]
  },
  {
   "cell_type": "raw",
   "id": "ff39580b-ca72-4759-af4f-afe8bd05a6e5",
   "metadata": {},
   "source": [
    "new_data"
   ]
  },
  {
   "cell_type": "code",
   "execution_count": 103,
   "id": "6028377d-c2cf-4a33-b63c-3884809839f5",
   "metadata": {},
   "outputs": [],
   "source": [
    "# Using Skicit-learn to split data into training and testing sets\n",
    "from sklearn.model_selection import train_test_split\n",
    "# Split the data into training and testing sets\n",
    "train_features, test_features, train_labels, test_labels = train_test_split(random_forest, labels, test_size = 0.25, random_state = 42)"
   ]
  },
  {
   "cell_type": "code",
   "execution_count": 104,
   "id": "3284f1cb-6993-467d-8a2d-7b958e55b190",
   "metadata": {},
   "outputs": [
    {
     "data": {
      "text/plain": [
       "(119, 4)"
      ]
     },
     "execution_count": 104,
     "metadata": {},
     "output_type": "execute_result"
    }
   ],
   "source": [
    "random_forest.shape"
   ]
  },
  {
   "cell_type": "code",
   "execution_count": 105,
   "id": "3c13d979-d258-4c3f-bb09-1f41963d3861",
   "metadata": {},
   "outputs": [
    {
     "name": "stdout",
     "output_type": "stream",
     "text": [
      "Training Features Shape: (89, 4)\n",
      "Training Labels Shape: (89,)\n",
      "Testing Features Shape: (30, 4)\n",
      "Testing Labels Shape: (30,)\n"
     ]
    }
   ],
   "source": [
    "print('Training Features Shape:', train_features.shape)\n",
    "print('Training Labels Shape:', train_labels.shape)\n",
    "print('Testing Features Shape:', test_features.shape)\n",
    "print('Testing Labels Shape:', test_labels.shape)"
   ]
  },
  {
   "cell_type": "code",
   "execution_count": 106,
   "id": "d9c25546-f6c6-4736-bff4-97ebe9c291bc",
   "metadata": {},
   "outputs": [
    {
     "name": "stdout",
     "output_type": "stream",
     "text": [
      "Baseline MAE: 80588458537.99704\n"
     ]
    }
   ],
   "source": [
    "# Calculate the mean of the target variable\n",
    "baseline_prediction = np.mean(test_features)\n",
    "\n",
    "# Create an array of baseline predictions with the same length as the test set\n",
    "baseline_predictions = np.full_like(test_features, fill_value=baseline_prediction)\n",
    "\n",
    "#baseline_mse = mean_squared_error(test_features, baseline_predictions)\n",
    "baseline_mae = mean_absolute_error(test_features, baseline_predictions)\n",
    "\n",
    "# Print the rounded baseline MAE\n",
    "print(\"Baseline MAE:\", baseline_mae)"
   ]
  },
  {
   "cell_type": "code",
   "execution_count": 109,
   "id": "b62f72bd-c69f-4f27-b8d1-31bd393dc139",
   "metadata": {},
   "outputs": [
    {
     "name": "stdout",
     "output_type": "stream",
     "text": [
      "Mean Absolute Error: 0.15\n"
     ]
    }
   ],
   "source": [
    "# Use the forest's predict method on the test data\n",
    "predictions = rf.predict(test_features)\n",
    "# Calculate the absolute errors\n",
    "errors = abs(predictions - test_labels)\n",
    "# Print out the mean absolute error (mae)\n",
    "print('Mean Absolute Error:', round(np.mean(errors), 2))"
   ]
  },
  {
   "cell_type": "code",
   "execution_count": 107,
   "id": "60be9950-85ae-4706-8410-17ac98a91a8b",
   "metadata": {},
   "outputs": [],
   "source": [
    "\n",
    "# Instantiate model with 1000 decision trees\n",
    "rf = RandomForestRegressor(n_estimators = 100, random_state = 42)\n",
    "# Train the model on training data\n",
    "rf.fit(train_features, train_labels);"
   ]
  },
  {
   "cell_type": "code",
   "execution_count": 108,
   "id": "c722e53b-312b-4836-83a9-361a051213d7",
   "metadata": {},
   "outputs": [
    {
     "name": "stdout",
     "output_type": "stream",
     "text": [
      "Length of train_features: 89\n",
      "Length of train_labels: 89\n"
     ]
    }
   ],
   "source": [
    "print(\"Length of train_features:\", len(train_features))\n",
    "print(\"Length of train_labels:\", len(train_labels))"
   ]
  },
  {
   "cell_type": "code",
   "execution_count": 110,
   "id": "f8a5b7f2-e668-4314-87b6-a0fe5ef32491",
   "metadata": {},
   "outputs": [
    {
     "name": "stdout",
     "output_type": "stream",
     "text": [
      "Predictions:  [4.53453996 8.7569568  1.54835971 1.75634219 1.60799329 6.67171502\n",
      " 7.36891355 1.70798241 8.62900046 8.21663022 1.84914043 6.95333449\n",
      " 1.90783994 7.42911695 2.61838746 1.98687833 8.76069483 1.4321052\n",
      " 7.41655434 6.98667628 6.26653711 2.28240677 7.56374065 3.82329805\n",
      " 2.12060181 1.92984815 1.86266552 8.05199056 7.66828383 1.77296664] Test Features:  [[1.32432131e+07 6.42957500e+01 1.07119271e+11 1.30517778e+00]\n",
      " [1.71026067e+07 7.84361136e+01 3.20359984e+11 3.85935556e+00]\n",
      " [9.64830841e+06 3.25472632e+01 7.71321305e+10 0.00000000e+00]\n",
      " [1.23690765e+07 2.77320952e+01 9.43402418e+10 1.77930233e-01]\n",
      " [1.08850771e+07 3.23508718e+01 8.28687559e+10 2.93750000e-02]\n",
      " [1.83033281e+07 4.03235106e+01 5.87935376e+11 3.26561702e+00]\n",
      " [1.51205818e+07 6.99560909e+01 2.26205371e+11 3.26424444e+00]\n",
      " [1.01276363e+07 3.85182564e+01 7.09788845e+10 1.60000000e-02]\n",
      " [1.71814507e+07 7.02238043e+01 3.19930686e+11 3.60660870e+00]\n",
      " [1.55667538e+07 6.84273864e+01 2.25674497e+11 3.89866667e+00]\n",
      " [1.03531308e+07 4.01039118e+01 8.51108385e+10 1.61428571e-02]\n",
      " [1.80039926e+07 4.66048298e+01 5.48837125e+11 3.13217021e+00]\n",
      " [1.01762388e+07 4.05039474e+01 9.07989526e+10 2.01428571e-02]\n",
      " [1.74137497e+07 5.16020435e+01 3.31250793e+11 2.77000000e+00]\n",
      " [1.22006047e+07 5.37794000e+01 1.09447958e+11 5.12807692e-01]\n",
      " [1.13041465e+07 3.83767436e+01 8.75487987e+10 3.83048780e-01]\n",
      " [1.70146743e+07 8.03990909e+01 3.12231707e+11 3.80573333e+00]\n",
      " [9.32134235e+06 3.09578684e+01 6.27185960e+10 0.00000000e+00]\n",
      " [1.74284463e+07 4.88858478e+01 3.43767633e+11 2.82852174e+00]\n",
      " [1.78895118e+07 4.42611702e+01 5.27486131e+11 3.10165957e+00]\n",
      " [1.44694450e+07 7.10720000e+01 1.79699039e+11 2.52613333e+00]\n",
      " [1.20692808e+07 5.13232927e+01 1.09882930e+11 3.31414634e-01]\n",
      " [1.73970042e+07 5.24464783e+01 3.23323681e+11 2.93615217e+00]\n",
      " [1.28174944e+07 5.44152727e+01 9.18273192e+10 1.00806667e+00]\n",
      " [1.23184330e+07 4.34281707e+01 1.08300897e+11 2.25064516e-01]\n",
      " [1.02126710e+07 4.31566216e+01 9.37381060e+10 2.41428571e-02]\n",
      " [1.02845641e+07 4.28627941e+01 8.99296493e+10 2.18571429e-02]\n",
      " [1.52277227e+07 6.94842955e+01 2.32869237e+11 3.44735556e+00]\n",
      " [1.77726875e+07 4.68621489e+01 5.28440668e+11 3.53089362e+00]\n",
      " [1.07212864e+07 3.86470256e+01 7.74594090e+10 2.53750000e-02]]\n"
     ]
    }
   ],
   "source": [
    "print('Predictions: ',predictions, 'Test Features: ', test_features) "
   ]
  },
  {
   "cell_type": "code",
   "execution_count": 111,
   "id": "541d73be-9c0c-4b35-a8b5-4d45e4bfe45c",
   "metadata": {},
   "outputs": [],
   "source": [
    "from sklearn.metrics import confusion_matrix"
   ]
  },
  {
   "cell_type": "code",
   "execution_count": 112,
   "id": "659ae615-ad88-47a5-8cbd-242b80356199",
   "metadata": {},
   "outputs": [
    {
     "name": "stdout",
     "output_type": "stream",
     "text": [
      "Accuracy: 95.21 %.\n"
     ]
    }
   ],
   "source": [
    "# Calculate mean absolute percentage error (MAPE)\n",
    "mape = 100 * (errors / test_labels)\n",
    "# Calculate and display accuracy\n",
    "accuracy = 100 - np.mean(mape)\n",
    "print('Accuracy:', round(accuracy, 2), '%.')"
   ]
  },
  {
   "cell_type": "code",
   "execution_count": 113,
   "id": "32ac9142-555b-426a-bdc4-e72ac591dc1a",
   "metadata": {},
   "outputs": [],
   "source": [
    "# Import tools needed for visualization\n",
    "#from sklearn.tree import export_graphviz\n",
    "#import pydot\n",
    "# Pull out one tree from the forest\n",
    "tree = rf.estimators_[5]"
   ]
  },
  {
   "cell_type": "code",
   "execution_count": 114,
   "id": "52309aed-02ff-43aa-a179-e83ccc99371a",
   "metadata": {},
   "outputs": [],
   "source": [
    "\n",
    "# Pull out one tree from the forest\n",
    "tree = rf.estimators_[5]"
   ]
  },
  {
   "cell_type": "code",
   "execution_count": 115,
   "id": "bab20e3a-8da9-4ba8-8f25-eeedd2134c9c",
   "metadata": {},
   "outputs": [],
   "source": [
    "# Export the image to a dot file\n",
    "export_graphviz(tree, out_file = 'tree.dot', feature_names = feature_list, rounded = True, precision = 1)"
   ]
  },
  {
   "cell_type": "code",
   "execution_count": 118,
   "id": "9b34564c-5563-4f45-80ec-4a4062888653",
   "metadata": {},
   "outputs": [],
   "source": [
    "# Use dot file to create a graph\n",
    "(graph, ) = pydot.graph_from_dot_file('tree.dot')\n",
    "# Write graph to a png file\n",
    "graph.write_png('tree.png')"
   ]
  },
  {
   "cell_type": "code",
   "execution_count": 119,
   "id": "06dd42ab",
   "metadata": {},
   "outputs": [],
   "source": [
    "# Limit depth of tree to 3 levels\n",
    "rf_small = RandomForestRegressor(n_estimators=10, max_depth = 3)\n",
    "rf_small.fit(train_features, train_labels)\n",
    "# Extract the small tree\n",
    "tree_small = rf_small.estimators_[5]\n",
    "# Save the tree as a png image\n",
    "export_graphviz(tree_small, out_file = 'small_tree.dot', feature_names = feature_list, rounded = True, precision = 1)\n",
    "(graph, ) = pydot.graph_from_dot_file('small_tree.dot')\n",
    "graph.write_png('small_tree.png');"
   ]
  },
  {
   "cell_type": "code",
   "execution_count": 120,
   "id": "cccdbbf9-2685-4d70-b480-1952751fd264",
   "metadata": {},
   "outputs": [
    {
     "name": "stdout",
     "output_type": "stream",
     "text": [
      "Variable: cement_co2           Importance: 0.42\n",
      "Variable: population           Importance: 0.33\n",
      "Variable: gdp                  Importance: 0.23\n",
      "Variable: coal_co2             Importance: 0.01\n"
     ]
    }
   ],
   "source": [
    "# Get numerical feature importances\n",
    "importances = list(rf.feature_importances_)\n",
    "# List of tuples with variable and importance\n",
    "feature_importances = [(feature, round(importance, 2)) for feature, importance in zip(feature_list, importances)]\n",
    "# Sort the feature importances by most important first\n",
    "feature_importances = sorted(feature_importances, key = lambda x: x[1], reverse = True)\n",
    "# Print out the feature and importances \n",
    "[print('Variable: {:20} Importance: {}'.format(*pair)) for pair in feature_importances];"
   ]
  },
  {
   "cell_type": "code",
   "execution_count": 121,
   "id": "f58497f2-b946-4573-aad9-d4cd3f98233b",
   "metadata": {},
   "outputs": [
    {
     "name": "stdout",
     "output_type": "stream",
     "text": [
      "Variable: cement_co2           Importance: 0.42\n",
      "Variable: population           Importance: 0.33\n",
      "Variable: gdp                  Importance: 0.23\n",
      "Variable: coal_co2             Importance: 0.01\n"
     ]
    },
    {
     "data": {
      "image/png": "[encoded data removed]",
      "text/plain": [
       "<Figure size 1000x600 with 1 Axes>"
      ]
     },
     "metadata": {},
     "output_type": "display_data"
    }
   ],
   "source": [
    "\n",
    "# Assuming `rf` is your trained RandomForest model and `feature_list` is the list of feature names\n",
    "# Get numerical feature importances\n",
    "importances = list(rf.feature_importances_)\n",
    "\n",
    "# List of tuples with variable and importance, rounded to 2 decimal places\n",
    "feature_importances = [(feature, round(importance, 2)) for feature, importance in zip(feature_list, importances)]\n",
    "\n",
    "# Sort the feature importances by most important first\n",
    "feature_importances = sorted(feature_importances, key=lambda x: x[1], reverse=True)\n",
    "\n",
    "# Print out the feature and importances\n",
    "[print('Variable: {:20} Importance: {}'.format(*pair)) for pair in feature_importances]\n",
    "\n",
    "# Extract the sorted features and their importance values\n",
    "features, importances = zip(*feature_importances)\n",
    "\n",
    "# Plot the feature importances\n",
    "plt.figure(figsize=(10, 6))\n",
    "\n",
    "# Create color gradient\n",
    "colors = plt.cm.viridis(np.array(importances) / max(importances))\n",
    "\n",
    "# Plot horizontal bar chart\n",
    "bars = plt.barh(features, importances, color=colors)\n",
    "\n",
    "# Add value labels to the bars\n",
    "for bar in bars:\n",
    "    plt.text(bar.get_width() + 0.01, bar.get_y() + bar.get_height() / 2,\n",
    "             f'{bar.get_width():.2f}', va='center', ha='left', fontsize=10)\n",
    "\n",
    "plt.xlabel('Importance', fontsize=14)\n",
    "plt.ylabel('Features', fontsize=14)\n",
    "plt.title('Feature Importances', fontsize=16)\n",
    "plt.gca().invert_yaxis()  # Invert y-axis to have the most important feature at the top\n",
    "plt.grid(axis='x', linestyle='--', alpha=0.7)\n",
    "\n",
    "plt.show()\n"
   ]
  },
  {
   "cell_type": "code",
   "execution_count": 122,
   "id": "96bf3526",
   "metadata": {},
   "outputs": [
    {
     "name": "stdout",
     "output_type": "stream",
     "text": [
      "Mean Absolute Error: 0.15\n",
      "Accuracy: 95.64 %.\n"
     ]
    }
   ],
   "source": [
    "# New random forest with only the two most important variables\n",
    "rf_most_important = RandomForestRegressor(n_estimators= 1000, random_state=42)\n",
    "# Extract the two most important features\n",
    "important_indices = [feature_list.index('cement_co2'), feature_list.index('population')]\n",
    "train_important = train_features[:, important_indices]\n",
    "test_important = test_features[:, important_indices]\n",
    "# Train the random forest\n",
    "rf_most_important.fit(train_important, train_labels)\n",
    "# Make predictions and determine the error\n",
    "predictions = rf_most_important.predict(test_important)\n",
    "errors = abs(predictions - test_labels)\n",
    "# Display the performance metrics\n",
    "print('Mean Absolute Error:', round(np.mean(errors), 2))\n",
    "mape = np.mean(100 * (errors / test_labels))\n",
    "accuracy = 100 - mape\n",
    "print('Accuracy:', round(accuracy, 2), '%.')"
   ]
  },
  {
   "cell_type": "code",
   "execution_count": 123,
   "id": "7ddd2397-49c3-415c-b1d6-4497e8252bdf",
   "metadata": {},
   "outputs": [
    {
     "data": {
      "image/png": "[encoded data removed]",
      "text/plain": [
       "<Figure size 1000x600 with 1 Axes>"
      ]
     },
     "metadata": {},
     "output_type": "display_data"
    }
   ],
   "source": [
    "# Create a scatter plot\n",
    "plt.figure(figsize=(10, 6))\n",
    "plt.scatter(test_labels, predictions, edgecolors=(0, 0, 0))\n",
    "plt.plot([min(test_labels), max(test_labels)], [min(test_labels), max(test_labels)], 'r--')\n",
    "plt.xlabel('Actual CO2 Per Capita')\n",
    "plt.ylabel('Predicted CO2 Per Capita')\n",
    "plt.title('Actual vs Predicted CO2 Per Capita')\n",
    "plt.show()"
   ]
  }
 ],
 "metadata": {
  "kernelspec": {
   "display_name": "Python 3 (ipykernel)",
   "language": "python",
   "name": "python3"
  },
  "language_info": {
   "codemirror_mode": {
    "name": "ipython",
    "version": 3
   },
   "file_extension": ".py",
   "mimetype": "text/x-python",
   "name": "python",
   "nbconvert_exporter": "python",
   "pygments_lexer": "ipython3",
   "version": "3.11.7"
  }
 },
 "nbformat": 4,
 "nbformat_minor": 5
}
