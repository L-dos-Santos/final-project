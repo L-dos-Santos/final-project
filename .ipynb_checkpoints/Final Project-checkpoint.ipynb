{
 "cells": [
  {
   "cell_type": "code",
   "execution_count": 56,
   "id": "8794db34",
   "metadata": {},
   "outputs": [],
   "source": [
    "import pandas as pd\n",
    "import numpy as np\n",
    "import seaborn as sns\n",
    "from matplotlib import pyplot\n",
    "from statsmodels.tsa.stattools import adfuller\n",
    "import matplotlib.pyplot as plt\n",
    "\n",
    "import warnings\n",
    "warnings.filterwarnings('ignore')"
   ]
  },
  {
   "cell_type": "code",
   "execution_count": 57,
   "id": "ab145ac3",
   "metadata": {},
   "outputs": [
    {
     "data": {
      "text/html": [
       "<div>\n",
       "<style scoped>\n",
       "    .dataframe tbody tr th:only-of-type {\n",
       "        vertical-align: middle;\n",
       "    }\n",
       "\n",
       "    .dataframe tbody tr th {\n",
       "        vertical-align: top;\n",
       "    }\n",
       "\n",
       "    .dataframe thead th {\n",
       "        text-align: right;\n",
       "    }\n",
       "</style>\n",
       "<table border=\"1\" class=\"dataframe\">\n",
       "  <thead>\n",
       "    <tr style=\"text-align: right;\">\n",
       "      <th></th>\n",
       "      <th>country</th>\n",
       "      <th>year</th>\n",
       "      <th>iso_code</th>\n",
       "      <th>population</th>\n",
       "      <th>gdp</th>\n",
       "      <th>cement_co2</th>\n",
       "      <th>cement_co2_per_capita</th>\n",
       "      <th>co2</th>\n",
       "      <th>co2_growth_abs</th>\n",
       "      <th>co2_growth_prct</th>\n",
       "      <th>...</th>\n",
       "      <th>share_global_other_co2</th>\n",
       "      <th>share_of_temperature_change_from_ghg</th>\n",
       "      <th>temperature_change_from_ch4</th>\n",
       "      <th>temperature_change_from_co2</th>\n",
       "      <th>temperature_change_from_ghg</th>\n",
       "      <th>temperature_change_from_n2o</th>\n",
       "      <th>total_ghg</th>\n",
       "      <th>total_ghg_excluding_lucf</th>\n",
       "      <th>trade_co2</th>\n",
       "      <th>trade_co2_share</th>\n",
       "    </tr>\n",
       "  </thead>\n",
       "  <tbody>\n",
       "    <tr>\n",
       "      <th>0</th>\n",
       "      <td>Afghanistan</td>\n",
       "      <td>1850</td>\n",
       "      <td>AFG</td>\n",
       "      <td>3752993.0</td>\n",
       "      <td>NaN</td>\n",
       "      <td>NaN</td>\n",
       "      <td>NaN</td>\n",
       "      <td>NaN</td>\n",
       "      <td>NaN</td>\n",
       "      <td>NaN</td>\n",
       "      <td>...</td>\n",
       "      <td>NaN</td>\n",
       "      <td>NaN</td>\n",
       "      <td>NaN</td>\n",
       "      <td>NaN</td>\n",
       "      <td>NaN</td>\n",
       "      <td>NaN</td>\n",
       "      <td>NaN</td>\n",
       "      <td>NaN</td>\n",
       "      <td>NaN</td>\n",
       "      <td>NaN</td>\n",
       "    </tr>\n",
       "    <tr>\n",
       "      <th>1</th>\n",
       "      <td>Afghanistan</td>\n",
       "      <td>1851</td>\n",
       "      <td>AFG</td>\n",
       "      <td>3767956.0</td>\n",
       "      <td>NaN</td>\n",
       "      <td>NaN</td>\n",
       "      <td>NaN</td>\n",
       "      <td>NaN</td>\n",
       "      <td>NaN</td>\n",
       "      <td>NaN</td>\n",
       "      <td>...</td>\n",
       "      <td>NaN</td>\n",
       "      <td>0.165</td>\n",
       "      <td>0.0</td>\n",
       "      <td>0.0</td>\n",
       "      <td>0.0</td>\n",
       "      <td>0.0</td>\n",
       "      <td>NaN</td>\n",
       "      <td>NaN</td>\n",
       "      <td>NaN</td>\n",
       "      <td>NaN</td>\n",
       "    </tr>\n",
       "    <tr>\n",
       "      <th>2</th>\n",
       "      <td>Afghanistan</td>\n",
       "      <td>1852</td>\n",
       "      <td>AFG</td>\n",
       "      <td>3783940.0</td>\n",
       "      <td>NaN</td>\n",
       "      <td>NaN</td>\n",
       "      <td>NaN</td>\n",
       "      <td>NaN</td>\n",
       "      <td>NaN</td>\n",
       "      <td>NaN</td>\n",
       "      <td>...</td>\n",
       "      <td>NaN</td>\n",
       "      <td>0.164</td>\n",
       "      <td>0.0</td>\n",
       "      <td>0.0</td>\n",
       "      <td>0.0</td>\n",
       "      <td>0.0</td>\n",
       "      <td>NaN</td>\n",
       "      <td>NaN</td>\n",
       "      <td>NaN</td>\n",
       "      <td>NaN</td>\n",
       "    </tr>\n",
       "    <tr>\n",
       "      <th>3</th>\n",
       "      <td>Afghanistan</td>\n",
       "      <td>1853</td>\n",
       "      <td>AFG</td>\n",
       "      <td>3800954.0</td>\n",
       "      <td>NaN</td>\n",
       "      <td>NaN</td>\n",
       "      <td>NaN</td>\n",
       "      <td>NaN</td>\n",
       "      <td>NaN</td>\n",
       "      <td>NaN</td>\n",
       "      <td>...</td>\n",
       "      <td>NaN</td>\n",
       "      <td>0.164</td>\n",
       "      <td>0.0</td>\n",
       "      <td>0.0</td>\n",
       "      <td>0.0</td>\n",
       "      <td>0.0</td>\n",
       "      <td>NaN</td>\n",
       "      <td>NaN</td>\n",
       "      <td>NaN</td>\n",
       "      <td>NaN</td>\n",
       "    </tr>\n",
       "    <tr>\n",
       "      <th>4</th>\n",
       "      <td>Afghanistan</td>\n",
       "      <td>1854</td>\n",
       "      <td>AFG</td>\n",
       "      <td>3818038.0</td>\n",
       "      <td>NaN</td>\n",
       "      <td>NaN</td>\n",
       "      <td>NaN</td>\n",
       "      <td>NaN</td>\n",
       "      <td>NaN</td>\n",
       "      <td>NaN</td>\n",
       "      <td>...</td>\n",
       "      <td>NaN</td>\n",
       "      <td>0.163</td>\n",
       "      <td>0.0</td>\n",
       "      <td>0.0</td>\n",
       "      <td>0.0</td>\n",
       "      <td>0.0</td>\n",
       "      <td>NaN</td>\n",
       "      <td>NaN</td>\n",
       "      <td>NaN</td>\n",
       "      <td>NaN</td>\n",
       "    </tr>\n",
       "  </tbody>\n",
       "</table>\n",
       "<p>5 rows × 79 columns</p>\n",
       "</div>"
      ],
      "text/plain": [
       "       country  year iso_code  population  gdp  cement_co2  \\\n",
       "0  Afghanistan  1850      AFG   3752993.0  NaN         NaN   \n",
       "1  Afghanistan  1851      AFG   3767956.0  NaN         NaN   \n",
       "2  Afghanistan  1852      AFG   3783940.0  NaN         NaN   \n",
       "3  Afghanistan  1853      AFG   3800954.0  NaN         NaN   \n",
       "4  Afghanistan  1854      AFG   3818038.0  NaN         NaN   \n",
       "\n",
       "   cement_co2_per_capita  co2  co2_growth_abs  co2_growth_prct  ...  \\\n",
       "0                    NaN  NaN             NaN              NaN  ...   \n",
       "1                    NaN  NaN             NaN              NaN  ...   \n",
       "2                    NaN  NaN             NaN              NaN  ...   \n",
       "3                    NaN  NaN             NaN              NaN  ...   \n",
       "4                    NaN  NaN             NaN              NaN  ...   \n",
       "\n",
       "   share_global_other_co2  share_of_temperature_change_from_ghg  \\\n",
       "0                     NaN                                   NaN   \n",
       "1                     NaN                                 0.165   \n",
       "2                     NaN                                 0.164   \n",
       "3                     NaN                                 0.164   \n",
       "4                     NaN                                 0.163   \n",
       "\n",
       "   temperature_change_from_ch4  temperature_change_from_co2  \\\n",
       "0                          NaN                          NaN   \n",
       "1                          0.0                          0.0   \n",
       "2                          0.0                          0.0   \n",
       "3                          0.0                          0.0   \n",
       "4                          0.0                          0.0   \n",
       "\n",
       "   temperature_change_from_ghg  temperature_change_from_n2o  total_ghg  \\\n",
       "0                          NaN                          NaN        NaN   \n",
       "1                          0.0                          0.0        NaN   \n",
       "2                          0.0                          0.0        NaN   \n",
       "3                          0.0                          0.0        NaN   \n",
       "4                          0.0                          0.0        NaN   \n",
       "\n",
       "   total_ghg_excluding_lucf  trade_co2  trade_co2_share  \n",
       "0                       NaN        NaN              NaN  \n",
       "1                       NaN        NaN              NaN  \n",
       "2                       NaN        NaN              NaN  \n",
       "3                       NaN        NaN              NaN  \n",
       "4                       NaN        NaN              NaN  \n",
       "\n",
       "[5 rows x 79 columns]"
      ]
     },
     "execution_count": 57,
     "metadata": {},
     "output_type": "execute_result"
    }
   ],
   "source": [
    "dataset = pd.read_csv(\"co2emission.csv\")\n",
    "dataset.head()"
   ]
  },
  {
   "cell_type": "code",
   "execution_count": 58,
   "id": "ac7a5625",
   "metadata": {},
   "outputs": [
    {
     "data": {
      "text/plain": [
       "(50598, 79)"
      ]
     },
     "execution_count": 58,
     "metadata": {},
     "output_type": "execute_result"
    }
   ],
   "source": [
    "dataset.shape"
   ]
  },
  {
   "cell_type": "code",
   "execution_count": 59,
   "id": "4722e5f7",
   "metadata": {},
   "outputs": [
    {
     "data": {
      "text/html": [
       "<div>\n",
       "<style scoped>\n",
       "    .dataframe tbody tr th:only-of-type {\n",
       "        vertical-align: middle;\n",
       "    }\n",
       "\n",
       "    .dataframe tbody tr th {\n",
       "        vertical-align: top;\n",
       "    }\n",
       "\n",
       "    .dataframe thead th {\n",
       "        text-align: right;\n",
       "    }\n",
       "</style>\n",
       "<table border=\"1\" class=\"dataframe\">\n",
       "  <thead>\n",
       "    <tr style=\"text-align: right;\">\n",
       "      <th></th>\n",
       "      <th>country</th>\n",
       "      <th>year</th>\n",
       "      <th>co2_per_capita</th>\n",
       "    </tr>\n",
       "  </thead>\n",
       "  <tbody>\n",
       "    <tr>\n",
       "      <th>50593</th>\n",
       "      <td>Zimbabwe</td>\n",
       "      <td>2017</td>\n",
       "      <td>0.651</td>\n",
       "    </tr>\n",
       "    <tr>\n",
       "      <th>50594</th>\n",
       "      <td>Zimbabwe</td>\n",
       "      <td>2018</td>\n",
       "      <td>0.784</td>\n",
       "    </tr>\n",
       "    <tr>\n",
       "      <th>50595</th>\n",
       "      <td>Zimbabwe</td>\n",
       "      <td>2019</td>\n",
       "      <td>0.724</td>\n",
       "    </tr>\n",
       "    <tr>\n",
       "      <th>50596</th>\n",
       "      <td>Zimbabwe</td>\n",
       "      <td>2020</td>\n",
       "      <td>0.677</td>\n",
       "    </tr>\n",
       "    <tr>\n",
       "      <th>50597</th>\n",
       "      <td>Zimbabwe</td>\n",
       "      <td>2021</td>\n",
       "      <td>0.706</td>\n",
       "    </tr>\n",
       "  </tbody>\n",
       "</table>\n",
       "</div>"
      ],
      "text/plain": [
       "        country  year  co2_per_capita\n",
       "50593  Zimbabwe  2017           0.651\n",
       "50594  Zimbabwe  2018           0.784\n",
       "50595  Zimbabwe  2019           0.724\n",
       "50596  Zimbabwe  2020           0.677\n",
       "50597  Zimbabwe  2021           0.706"
      ]
     },
     "execution_count": 59,
     "metadata": {},
     "output_type": "execute_result"
    }
   ],
   "source": [
    "new_data = dataset[[\"country\", \"year\", \"co2_per_capita\"]]\n",
    "\n",
    "new_data.tail()"
   ]
  },
  {
   "cell_type": "code",
   "execution_count": 60,
   "id": "8e069efe",
   "metadata": {},
   "outputs": [
    {
     "data": {
      "text/html": [
       "<div>\n",
       "<style scoped>\n",
       "    .dataframe tbody tr th:only-of-type {\n",
       "        vertical-align: middle;\n",
       "    }\n",
       "\n",
       "    .dataframe tbody tr th {\n",
       "        vertical-align: top;\n",
       "    }\n",
       "\n",
       "    .dataframe thead th {\n",
       "        text-align: right;\n",
       "    }\n",
       "</style>\n",
       "<table border=\"1\" class=\"dataframe\">\n",
       "  <thead>\n",
       "    <tr style=\"text-align: right;\">\n",
       "      <th></th>\n",
       "      <th>country</th>\n",
       "      <th>year</th>\n",
       "      <th>co2_per_capita</th>\n",
       "    </tr>\n",
       "  </thead>\n",
       "  <tbody>\n",
       "    <tr>\n",
       "      <th>788</th>\n",
       "      <td>Albania</td>\n",
       "      <td>1850</td>\n",
       "      <td>NaN</td>\n",
       "    </tr>\n",
       "    <tr>\n",
       "      <th>789</th>\n",
       "      <td>Albania</td>\n",
       "      <td>1851</td>\n",
       "      <td>NaN</td>\n",
       "    </tr>\n",
       "    <tr>\n",
       "      <th>790</th>\n",
       "      <td>Albania</td>\n",
       "      <td>1852</td>\n",
       "      <td>NaN</td>\n",
       "    </tr>\n",
       "    <tr>\n",
       "      <th>791</th>\n",
       "      <td>Albania</td>\n",
       "      <td>1853</td>\n",
       "      <td>NaN</td>\n",
       "    </tr>\n",
       "    <tr>\n",
       "      <th>792</th>\n",
       "      <td>Albania</td>\n",
       "      <td>1854</td>\n",
       "      <td>NaN</td>\n",
       "    </tr>\n",
       "  </tbody>\n",
       "</table>\n",
       "</div>"
      ],
      "text/plain": [
       "     country  year  co2_per_capita\n",
       "788  Albania  1850             NaN\n",
       "789  Albania  1851             NaN\n",
       "790  Albania  1852             NaN\n",
       "791  Albania  1853             NaN\n",
       "792  Albania  1854             NaN"
      ]
     },
     "execution_count": 60,
     "metadata": {},
     "output_type": "execute_result"
    }
   ],
   "source": [
    "europe = new_data[new_data[\"country\"].isin([\"Albania\",\"Austria\",\"Andorra\",\"Armenia\",\"Azerbaijan\",\n",
    "                                            \"Belarus\",\"Belgium\",\"Bosnia and Herzegovina\",\"Bulgaria\",\n",
    "                                            \"Croatia\",\"Cyprus\",\"Czechia\",\n",
    "                                            \"Denmark\",\n",
    "                                            \"Estonia\",\n",
    "                                            \"Finland\",\"France\",\n",
    "                                            \"Georgia\",\"Germany\",\"Greece\",\n",
    "                                            \"Hungary\",\n",
    "                                            \"Iceland\",\"Ireland\",\"Italy\",\n",
    "                                            \"Kazakhstan\",\"Kosovo\",\n",
    "                                            \"Latvia\",\"Liechtenstein\",\"Lithuania\",\"Luxembourg\",\n",
    "                                            \"Malta\",\"Moldova\",\"Montenegro\",\n",
    "                                            \"Netherlands\",\"North Macedonia\",\"Norway\",\n",
    "                                            \"Poland\",\"Portugal\",\n",
    "                                            \"Romania\",\"Russia\",\n",
    "                                            \"Serbia\",\"Slovakia\",\"Spain\",\"Sweden\",\"Switzerland\",\n",
    "                                           \"Turkey\",\n",
    "                                           \"Ukraine\", \"United Kingdom\"])]\n",
    "europe.head()"
   ]
  },
  {
   "cell_type": "code",
   "execution_count": 61,
   "id": "191ae6b7-ebc0-4e6e-8645-8067f4723a75",
   "metadata": {},
   "outputs": [
    {
     "data": {
      "text/html": [
       "<div>\n",
       "<style scoped>\n",
       "    .dataframe tbody tr th:only-of-type {\n",
       "        vertical-align: middle;\n",
       "    }\n",
       "\n",
       "    .dataframe tbody tr th {\n",
       "        vertical-align: top;\n",
       "    }\n",
       "\n",
       "    .dataframe thead th {\n",
       "        text-align: right;\n",
       "    }\n",
       "</style>\n",
       "<table border=\"1\" class=\"dataframe\">\n",
       "  <thead>\n",
       "    <tr style=\"text-align: right;\">\n",
       "      <th></th>\n",
       "      <th>country</th>\n",
       "      <th>year</th>\n",
       "      <th>co2_per_capita</th>\n",
       "    </tr>\n",
       "  </thead>\n",
       "  <tbody>\n",
       "    <tr>\n",
       "      <th>838</th>\n",
       "      <td>Albania</td>\n",
       "      <td>1900</td>\n",
       "      <td>NaN</td>\n",
       "    </tr>\n",
       "    <tr>\n",
       "      <th>839</th>\n",
       "      <td>Albania</td>\n",
       "      <td>1901</td>\n",
       "      <td>NaN</td>\n",
       "    </tr>\n",
       "    <tr>\n",
       "      <th>840</th>\n",
       "      <td>Albania</td>\n",
       "      <td>1902</td>\n",
       "      <td>NaN</td>\n",
       "    </tr>\n",
       "    <tr>\n",
       "      <th>841</th>\n",
       "      <td>Albania</td>\n",
       "      <td>1903</td>\n",
       "      <td>NaN</td>\n",
       "    </tr>\n",
       "    <tr>\n",
       "      <th>842</th>\n",
       "      <td>Albania</td>\n",
       "      <td>1904</td>\n",
       "      <td>NaN</td>\n",
       "    </tr>\n",
       "    <tr>\n",
       "      <th>...</th>\n",
       "      <td>...</td>\n",
       "      <td>...</td>\n",
       "      <td>...</td>\n",
       "    </tr>\n",
       "    <tr>\n",
       "      <th>47932</th>\n",
       "      <td>United Kingdom</td>\n",
       "      <td>2017</td>\n",
       "      <td>5.863</td>\n",
       "    </tr>\n",
       "    <tr>\n",
       "      <th>47933</th>\n",
       "      <td>United Kingdom</td>\n",
       "      <td>2018</td>\n",
       "      <td>5.716</td>\n",
       "    </tr>\n",
       "    <tr>\n",
       "      <th>47934</th>\n",
       "      <td>United Kingdom</td>\n",
       "      <td>2019</td>\n",
       "      <td>5.462</td>\n",
       "    </tr>\n",
       "    <tr>\n",
       "      <th>47935</th>\n",
       "      <td>United Kingdom</td>\n",
       "      <td>2020</td>\n",
       "      <td>4.865</td>\n",
       "    </tr>\n",
       "    <tr>\n",
       "      <th>47936</th>\n",
       "      <td>United Kingdom</td>\n",
       "      <td>2021</td>\n",
       "      <td>5.154</td>\n",
       "    </tr>\n",
       "  </tbody>\n",
       "</table>\n",
       "<p>5734 rows × 3 columns</p>\n",
       "</div>"
      ],
      "text/plain": [
       "              country  year  co2_per_capita\n",
       "838           Albania  1900             NaN\n",
       "839           Albania  1901             NaN\n",
       "840           Albania  1902             NaN\n",
       "841           Albania  1903             NaN\n",
       "842           Albania  1904             NaN\n",
       "...               ...   ...             ...\n",
       "47932  United Kingdom  2017           5.863\n",
       "47933  United Kingdom  2018           5.716\n",
       "47934  United Kingdom  2019           5.462\n",
       "47935  United Kingdom  2020           4.865\n",
       "47936  United Kingdom  2021           5.154\n",
       "\n",
       "[5734 rows x 3 columns]"
      ]
     },
     "execution_count": 61,
     "metadata": {},
     "output_type": "execute_result"
    }
   ],
   "source": [
    "europe_data = europe.loc[(europe[\"year\"] >= 1900)]\n",
    "europe_data"
   ]
  },
  {
   "cell_type": "code",
   "execution_count": 62,
   "id": "cec6ef0d",
   "metadata": {},
   "outputs": [
    {
     "name": "stdout",
     "output_type": "stream",
     "text": [
      "       country   year  co2_per_capita\n",
      "838      False  False            True\n",
      "839      False  False            True\n",
      "840      False  False            True\n",
      "841      False  False            True\n",
      "842      False  False            True\n",
      "...        ...    ...             ...\n",
      "47932    False  False           False\n",
      "47933    False  False           False\n",
      "47934    False  False           False\n",
      "47935    False  False           False\n",
      "47936    False  False           False\n",
      "\n",
      "[5734 rows x 3 columns]\n"
     ]
    }
   ],
   "source": [
    "print(europe_data.isnull())"
   ]
  },
  {
   "cell_type": "code",
   "execution_count": 63,
   "id": "fe6eb4e2",
   "metadata": {},
   "outputs": [
    {
     "name": "stdout",
     "output_type": "stream",
     "text": [
      "country             0\n",
      "year                0\n",
      "co2_per_capita    426\n",
      "dtype: int64\n"
     ]
    }
   ],
   "source": [
    "missing_counts = europe_data.isnull().sum()\n",
    "print(missing_counts)"
   ]
  },
  {
   "cell_type": "code",
   "execution_count": 64,
   "id": "9050d7d3",
   "metadata": {},
   "outputs": [
    {
     "name": "stdout",
     "output_type": "stream",
     "text": [
      "<class 'pandas.core.frame.DataFrame'>\n",
      "Index: 8708 entries, 788 to 47936\n",
      "Data columns (total 3 columns):\n",
      " #   Column          Non-Null Count  Dtype  \n",
      "---  ------          --------------  -----  \n",
      " 0   country         8708 non-null   object \n",
      " 1   year            8708 non-null   int64  \n",
      " 2   co2_per_capita  7380 non-null   float64\n",
      "dtypes: float64(1), int64(1), object(1)\n",
      "memory usage: 272.1+ KB\n"
     ]
    },
    {
     "data": {
      "text/html": [
       "<div>\n",
       "<style scoped>\n",
       "    .dataframe tbody tr th:only-of-type {\n",
       "        vertical-align: middle;\n",
       "    }\n",
       "\n",
       "    .dataframe tbody tr th {\n",
       "        vertical-align: top;\n",
       "    }\n",
       "\n",
       "    .dataframe thead th {\n",
       "        text-align: right;\n",
       "    }\n",
       "</style>\n",
       "<table border=\"1\" class=\"dataframe\">\n",
       "  <thead>\n",
       "    <tr style=\"text-align: right;\">\n",
       "      <th></th>\n",
       "      <th>country</th>\n",
       "      <th>year</th>\n",
       "      <th>co2_per_capita</th>\n",
       "    </tr>\n",
       "  </thead>\n",
       "  <tbody>\n",
       "    <tr>\n",
       "      <th>788</th>\n",
       "      <td>Albania</td>\n",
       "      <td>1850</td>\n",
       "      <td>NaN</td>\n",
       "    </tr>\n",
       "    <tr>\n",
       "      <th>789</th>\n",
       "      <td>Albania</td>\n",
       "      <td>1851</td>\n",
       "      <td>NaN</td>\n",
       "    </tr>\n",
       "    <tr>\n",
       "      <th>790</th>\n",
       "      <td>Albania</td>\n",
       "      <td>1852</td>\n",
       "      <td>NaN</td>\n",
       "    </tr>\n",
       "    <tr>\n",
       "      <th>791</th>\n",
       "      <td>Albania</td>\n",
       "      <td>1853</td>\n",
       "      <td>NaN</td>\n",
       "    </tr>\n",
       "    <tr>\n",
       "      <th>792</th>\n",
       "      <td>Albania</td>\n",
       "      <td>1854</td>\n",
       "      <td>NaN</td>\n",
       "    </tr>\n",
       "  </tbody>\n",
       "</table>\n",
       "</div>"
      ],
      "text/plain": [
       "     country  year  co2_per_capita\n",
       "788  Albania  1850             NaN\n",
       "789  Albania  1851             NaN\n",
       "790  Albania  1852             NaN\n",
       "791  Albania  1853             NaN\n",
       "792  Albania  1854             NaN"
      ]
     },
     "execution_count": 64,
     "metadata": {},
     "output_type": "execute_result"
    }
   ],
   "source": [
    "europe.info()\n",
    "europe.head()"
   ]
  },
  {
   "cell_type": "code",
   "execution_count": 65,
   "id": "2cb58395",
   "metadata": {},
   "outputs": [
    {
     "data": {
      "text/html": [
       "<div>\n",
       "<style scoped>\n",
       "    .dataframe tbody tr th:only-of-type {\n",
       "        vertical-align: middle;\n",
       "    }\n",
       "\n",
       "    .dataframe tbody tr th {\n",
       "        vertical-align: top;\n",
       "    }\n",
       "\n",
       "    .dataframe thead th {\n",
       "        text-align: right;\n",
       "    }\n",
       "</style>\n",
       "<table border=\"1\" class=\"dataframe\">\n",
       "  <thead>\n",
       "    <tr style=\"text-align: right;\">\n",
       "      <th></th>\n",
       "      <th>country</th>\n",
       "      <th>year</th>\n",
       "      <th>co2_per_capita</th>\n",
       "    </tr>\n",
       "  </thead>\n",
       "  <tbody>\n",
       "    <tr>\n",
       "      <th>838</th>\n",
       "      <td>Albania</td>\n",
       "      <td>1900</td>\n",
       "      <td>1.232888</td>\n",
       "    </tr>\n",
       "    <tr>\n",
       "      <th>839</th>\n",
       "      <td>Albania</td>\n",
       "      <td>1901</td>\n",
       "      <td>1.232888</td>\n",
       "    </tr>\n",
       "    <tr>\n",
       "      <th>840</th>\n",
       "      <td>Albania</td>\n",
       "      <td>1902</td>\n",
       "      <td>1.232888</td>\n",
       "    </tr>\n",
       "    <tr>\n",
       "      <th>841</th>\n",
       "      <td>Albania</td>\n",
       "      <td>1903</td>\n",
       "      <td>1.232888</td>\n",
       "    </tr>\n",
       "    <tr>\n",
       "      <th>842</th>\n",
       "      <td>Albania</td>\n",
       "      <td>1904</td>\n",
       "      <td>1.232888</td>\n",
       "    </tr>\n",
       "    <tr>\n",
       "      <th>...</th>\n",
       "      <td>...</td>\n",
       "      <td>...</td>\n",
       "      <td>...</td>\n",
       "    </tr>\n",
       "    <tr>\n",
       "      <th>47932</th>\n",
       "      <td>United Kingdom</td>\n",
       "      <td>2017</td>\n",
       "      <td>5.863000</td>\n",
       "    </tr>\n",
       "    <tr>\n",
       "      <th>47933</th>\n",
       "      <td>United Kingdom</td>\n",
       "      <td>2018</td>\n",
       "      <td>5.716000</td>\n",
       "    </tr>\n",
       "    <tr>\n",
       "      <th>47934</th>\n",
       "      <td>United Kingdom</td>\n",
       "      <td>2019</td>\n",
       "      <td>5.462000</td>\n",
       "    </tr>\n",
       "    <tr>\n",
       "      <th>47935</th>\n",
       "      <td>United Kingdom</td>\n",
       "      <td>2020</td>\n",
       "      <td>4.865000</td>\n",
       "    </tr>\n",
       "    <tr>\n",
       "      <th>47936</th>\n",
       "      <td>United Kingdom</td>\n",
       "      <td>2021</td>\n",
       "      <td>5.154000</td>\n",
       "    </tr>\n",
       "  </tbody>\n",
       "</table>\n",
       "<p>5734 rows × 3 columns</p>\n",
       "</div>"
      ],
      "text/plain": [
       "              country  year  co2_per_capita\n",
       "838           Albania  1900        1.232888\n",
       "839           Albania  1901        1.232888\n",
       "840           Albania  1902        1.232888\n",
       "841           Albania  1903        1.232888\n",
       "842           Albania  1904        1.232888\n",
       "...               ...   ...             ...\n",
       "47932  United Kingdom  2017        5.863000\n",
       "47933  United Kingdom  2018        5.716000\n",
       "47934  United Kingdom  2019        5.462000\n",
       "47935  United Kingdom  2020        4.865000\n",
       "47936  United Kingdom  2021        5.154000\n",
       "\n",
       "[5734 rows x 3 columns]"
      ]
     },
     "execution_count": 65,
     "metadata": {},
     "output_type": "execute_result"
    }
   ],
   "source": [
    "grouped = europe_data.groupby(['country'])\n",
    "mean_values = grouped.mean()\n",
    "europe_data.loc[:,'co2_per_capita'] = grouped['co2_per_capita'].transform(lambda x: x.fillna(x.mean()))\n",
    "europe_data"
   ]
  },
  {
   "cell_type": "code",
   "execution_count": 66,
   "id": "e0b578e3",
   "metadata": {},
   "outputs": [
    {
     "data": {
      "text/plain": [
       "year\n",
       "1900    2.395832\n",
       "1901    2.375619\n",
       "1902    2.365278\n",
       "1903    2.400300\n",
       "1904    2.419300\n",
       "1905    2.426151\n",
       "1906    2.514151\n",
       "1907    2.627321\n",
       "1908    2.707172\n",
       "1909    2.663959\n",
       "Name: co2_per_capita, dtype: float64"
      ]
     },
     "execution_count": 66,
     "metadata": {},
     "output_type": "execute_result"
    }
   ],
   "source": [
    "# Group by 'year' and calculate the mean of 'co2_per_capita' within each year group\n",
    "mean_by_year = europe_data.groupby('year')['co2_per_capita'].mean()\n",
    "\n",
    "# Display the first 10 means per year\n",
    "mean_by_year.head(10)\n"
   ]
  },
  {
   "cell_type": "code",
   "execution_count": 67,
   "id": "a78599c1",
   "metadata": {},
   "outputs": [
    {
     "data": {
      "text/html": [
       "<div>\n",
       "<style scoped>\n",
       "    .dataframe tbody tr th:only-of-type {\n",
       "        vertical-align: middle;\n",
       "    }\n",
       "\n",
       "    .dataframe tbody tr th {\n",
       "        vertical-align: top;\n",
       "    }\n",
       "\n",
       "    .dataframe thead th {\n",
       "        text-align: right;\n",
       "    }\n",
       "</style>\n",
       "<table border=\"1\" class=\"dataframe\">\n",
       "  <thead>\n",
       "    <tr style=\"text-align: right;\">\n",
       "      <th></th>\n",
       "      <th>year</th>\n",
       "      <th>co2_per_capita</th>\n",
       "    </tr>\n",
       "  </thead>\n",
       "  <tbody>\n",
       "    <tr>\n",
       "      <th>0</th>\n",
       "      <td>1900</td>\n",
       "      <td>2.395832</td>\n",
       "    </tr>\n",
       "    <tr>\n",
       "      <th>1</th>\n",
       "      <td>1901</td>\n",
       "      <td>2.375619</td>\n",
       "    </tr>\n",
       "    <tr>\n",
       "      <th>2</th>\n",
       "      <td>1902</td>\n",
       "      <td>2.365278</td>\n",
       "    </tr>\n",
       "    <tr>\n",
       "      <th>3</th>\n",
       "      <td>1903</td>\n",
       "      <td>2.400300</td>\n",
       "    </tr>\n",
       "    <tr>\n",
       "      <th>4</th>\n",
       "      <td>1904</td>\n",
       "      <td>2.419300</td>\n",
       "    </tr>\n",
       "    <tr>\n",
       "      <th>...</th>\n",
       "      <td>...</td>\n",
       "      <td>...</td>\n",
       "    </tr>\n",
       "    <tr>\n",
       "      <th>117</th>\n",
       "      <td>2017</td>\n",
       "      <td>6.501851</td>\n",
       "    </tr>\n",
       "    <tr>\n",
       "      <th>118</th>\n",
       "      <td>2018</td>\n",
       "      <td>6.448809</td>\n",
       "    </tr>\n",
       "    <tr>\n",
       "      <th>119</th>\n",
       "      <td>2019</td>\n",
       "      <td>6.175596</td>\n",
       "    </tr>\n",
       "    <tr>\n",
       "      <th>120</th>\n",
       "      <td>2020</td>\n",
       "      <td>5.677936</td>\n",
       "    </tr>\n",
       "    <tr>\n",
       "      <th>121</th>\n",
       "      <td>2021</td>\n",
       "      <td>5.756660</td>\n",
       "    </tr>\n",
       "  </tbody>\n",
       "</table>\n",
       "<p>122 rows × 2 columns</p>\n",
       "</div>"
      ],
      "text/plain": [
       "     year  co2_per_capita\n",
       "0    1900        2.395832\n",
       "1    1901        2.375619\n",
       "2    1902        2.365278\n",
       "3    1903        2.400300\n",
       "4    1904        2.419300\n",
       "..    ...             ...\n",
       "117  2017        6.501851\n",
       "118  2018        6.448809\n",
       "119  2019        6.175596\n",
       "120  2020        5.677936\n",
       "121  2021        5.756660\n",
       "\n",
       "[122 rows x 2 columns]"
      ]
     },
     "execution_count": 67,
     "metadata": {},
     "output_type": "execute_result"
    }
   ],
   "source": [
    "# Convert Series to DataFrame\n",
    "df = mean_by_year.reset_index()\n",
    "\n",
    "# Display the DataFrame\n",
    "df\n"
   ]
  },
  {
   "cell_type": "code",
   "execution_count": 68,
   "id": "17e0903d",
   "metadata": {},
   "outputs": [
    {
     "name": "stdout",
     "output_type": "stream",
     "text": [
      "<class 'pandas.core.frame.DataFrame'>\n",
      "RangeIndex: 122 entries, 0 to 121\n",
      "Data columns (total 2 columns):\n",
      " #   Column          Non-Null Count  Dtype  \n",
      "---  ------          --------------  -----  \n",
      " 0   year            122 non-null    int64  \n",
      " 1   co2_per_capita  122 non-null    float64\n",
      "dtypes: float64(1), int64(1)\n",
      "memory usage: 2.0 KB\n"
     ]
    }
   ],
   "source": [
    "df.info()"
   ]
  },
  {
   "cell_type": "code",
   "execution_count": 69,
   "id": "67b5aa95",
   "metadata": {},
   "outputs": [
    {
     "name": "stdout",
     "output_type": "stream",
     "text": [
      "          year  co2_per_capita\n",
      "0   1900-01-01        2.395832\n",
      "1   1901-01-01        2.375619\n",
      "2   1902-01-01        2.365278\n",
      "3   1903-01-01        2.400300\n",
      "4   1904-01-01        2.419300\n",
      "..         ...             ...\n",
      "117 2017-01-01        6.501851\n",
      "118 2018-01-01        6.448809\n",
      "119 2019-01-01        6.175596\n",
      "120 2020-01-01        5.677936\n",
      "121 2021-01-01        5.756660\n",
      "\n",
      "[122 rows x 2 columns]\n",
      "year              datetime64[ns]\n",
      "co2_per_capita           float64\n",
      "dtype: object\n"
     ]
    }
   ],
   "source": [
    "# Convert 'year' column to datetime format without considering it as a timestamp\n",
    "df['year'] = pd.to_datetime(df['year'], format='%Y')\n",
    "\n",
    "print(df)\n",
    "print(df.dtypes)"
   ]
  },
  {
   "cell_type": "code",
   "execution_count": 70,
   "id": "235404c4",
   "metadata": {},
   "outputs": [
    {
     "data": {
      "text/html": [
       "<div>\n",
       "<style scoped>\n",
       "    .dataframe tbody tr th:only-of-type {\n",
       "        vertical-align: middle;\n",
       "    }\n",
       "\n",
       "    .dataframe tbody tr th {\n",
       "        vertical-align: top;\n",
       "    }\n",
       "\n",
       "    .dataframe thead th {\n",
       "        text-align: right;\n",
       "    }\n",
       "</style>\n",
       "<table border=\"1\" class=\"dataframe\">\n",
       "  <thead>\n",
       "    <tr style=\"text-align: right;\">\n",
       "      <th></th>\n",
       "      <th>year</th>\n",
       "      <th>co2_per_capita</th>\n",
       "    </tr>\n",
       "  </thead>\n",
       "  <tbody>\n",
       "    <tr>\n",
       "      <th>0</th>\n",
       "      <td>1900-01-01</td>\n",
       "      <td>2.395832</td>\n",
       "    </tr>\n",
       "    <tr>\n",
       "      <th>1</th>\n",
       "      <td>1901-01-01</td>\n",
       "      <td>2.375619</td>\n",
       "    </tr>\n",
       "    <tr>\n",
       "      <th>2</th>\n",
       "      <td>1902-01-01</td>\n",
       "      <td>2.365278</td>\n",
       "    </tr>\n",
       "    <tr>\n",
       "      <th>3</th>\n",
       "      <td>1903-01-01</td>\n",
       "      <td>2.400300</td>\n",
       "    </tr>\n",
       "    <tr>\n",
       "      <th>4</th>\n",
       "      <td>1904-01-01</td>\n",
       "      <td>2.419300</td>\n",
       "    </tr>\n",
       "    <tr>\n",
       "      <th>...</th>\n",
       "      <td>...</td>\n",
       "      <td>...</td>\n",
       "    </tr>\n",
       "    <tr>\n",
       "      <th>117</th>\n",
       "      <td>2017-01-01</td>\n",
       "      <td>6.501851</td>\n",
       "    </tr>\n",
       "    <tr>\n",
       "      <th>118</th>\n",
       "      <td>2018-01-01</td>\n",
       "      <td>6.448809</td>\n",
       "    </tr>\n",
       "    <tr>\n",
       "      <th>119</th>\n",
       "      <td>2019-01-01</td>\n",
       "      <td>6.175596</td>\n",
       "    </tr>\n",
       "    <tr>\n",
       "      <th>120</th>\n",
       "      <td>2020-01-01</td>\n",
       "      <td>5.677936</td>\n",
       "    </tr>\n",
       "    <tr>\n",
       "      <th>121</th>\n",
       "      <td>2021-01-01</td>\n",
       "      <td>5.756660</td>\n",
       "    </tr>\n",
       "  </tbody>\n",
       "</table>\n",
       "<p>122 rows × 2 columns</p>\n",
       "</div>"
      ],
      "text/plain": [
       "          year  co2_per_capita\n",
       "0   1900-01-01        2.395832\n",
       "1   1901-01-01        2.375619\n",
       "2   1902-01-01        2.365278\n",
       "3   1903-01-01        2.400300\n",
       "4   1904-01-01        2.419300\n",
       "..         ...             ...\n",
       "117 2017-01-01        6.501851\n",
       "118 2018-01-01        6.448809\n",
       "119 2019-01-01        6.175596\n",
       "120 2020-01-01        5.677936\n",
       "121 2021-01-01        5.756660\n",
       "\n",
       "[122 rows x 2 columns]"
      ]
     },
     "execution_count": 70,
     "metadata": {},
     "output_type": "execute_result"
    }
   ],
   "source": [
    "df"
   ]
  },
  {
   "cell_type": "code",
   "execution_count": 71,
   "id": "b41eeb47-e014-4b3d-b019-8481432808db",
   "metadata": {},
   "outputs": [],
   "source": [
    "\n",
    "#Convert 'year' column to integer type\n",
    "#df['year'] = df['year'].dt.year\n"
   ]
  },
  {
   "cell_type": "code",
   "execution_count": 72,
   "id": "66717558-b3d6-46be-9ea9-aaae27ac53ac",
   "metadata": {},
   "outputs": [
    {
     "name": "stdout",
     "output_type": "stream",
     "text": [
      "Empty DataFrame\n",
      "Columns: [year, co2_per_capita]\n",
      "Index: []\n"
     ]
    }
   ],
   "source": [
    "# Calculate IQR for column 'co2_per_capita'\n",
    "Q1 = df['co2_per_capita'].quantile(0.25)\n",
    "Q3 = df['co2_per_capita'].quantile(0.75)\n",
    "IQR = Q3 - Q1\n",
    "\n",
    "# Identify outliers\n",
    "threshold = 1.5\n",
    "outliers = df[(df['co2_per_capita'] < Q1 - threshold * IQR) | (df['co2_per_capita'] > Q3 + threshold * IQR)]\n",
    "print(outliers)\n"
   ]
  },
  {
   "cell_type": "raw",
   "id": "bc37a63e-a54c-44ad-8047-bf942b8c3b06",
   "metadata": {},
   "source": [
    "import plotly.express as px\n",
    "\n",
    "# Filter DataFrame to include data for every 5 years\n",
    "df_subset = df[df['year'] % 5 == 0]\n",
    "\n",
    "# Plotting\n",
    "fig = px.bar(df_subset, x='year', y='co2_per_capita', \n",
    "             labels={'year': 'Year', 'co2_per_capita': 'CO2 Emissions per Capita'},\n",
    "             title='CO2 Emissions Over the Years (Every 5 Years)',\n",
    "             color_discrete_sequence=['blue'])\n",
    "\n",
    "# Update layout for better readability\n",
    "fig.update_layout(xaxis=dict(tickangle=45),\n",
    "                  yaxis=dict(title='Mean Value'),\n",
    "                  legend_title='Legend',\n",
    "                  autosize=False,\n",
    "                  width=1000,\n",
    "                  height=600)\n",
    "\n",
    "# Show plot\n",
    "fig.show()"
   ]
  },
  {
   "cell_type": "code",
   "execution_count": 73,
   "id": "ee1fc7dc",
   "metadata": {},
   "outputs": [],
   "source": [
    "from statsmodels.graphics.tsaplots import plot_acf, plot_pacf"
   ]
  },
  {
   "cell_type": "code",
   "execution_count": 74,
   "id": "e59645e7",
   "metadata": {},
   "outputs": [
    {
     "data": {
      "image/png": "[encoded data removed]",
      "text/plain": [
       "<Figure size 640x480 with 1 Axes>"
      ]
     },
     "metadata": {},
     "output_type": "display_data"
    },
    {
     "data": {
      "image/png": "[encoded data removed]",
      "text/plain": [
       "<Figure size 640x480 with 1 Axes>"
      ]
     },
     "metadata": {},
     "output_type": "display_data"
    }
   ],
   "source": [
    "acf_original = plot_acf((df['co2_per_capita']))\n",
    "pacf_original = plot_pacf((df['co2_per_capita']))"
   ]
  },
  {
   "cell_type": "code",
   "execution_count": 75,
   "id": "60d18e6a",
   "metadata": {},
   "outputs": [],
   "source": [
    "import statsmodels.api as sm"
   ]
  },
  {
   "cell_type": "code",
   "execution_count": 76,
   "id": "006bef51",
   "metadata": {},
   "outputs": [
    {
     "data": {
      "image/png": "[encoded data removed]",
      "text/plain": [
       "<Figure size 640x480 with 1 Axes>"
      ]
     },
     "metadata": {},
     "output_type": "display_data"
    }
   ],
   "source": [
    "# qqplot for the 'Close' column\n",
    "x = sm.qqplot(df['co2_per_capita'], line = 's')"
   ]
  },
  {
   "cell_type": "code",
   "execution_count": 77,
   "id": "1dc7b643",
   "metadata": {},
   "outputs": [
    {
     "name": "stdout",
     "output_type": "stream",
     "text": [
      "ADF Test Results\n",
      "Null Hypothesis: The series has a unit root (non-stationary)\n",
      "ADF-Statistic: -1.1838322326020234\n",
      "P-Value: 0.680511724082201\n",
      "Number of lags: 1\n",
      "Number of observations: 120\n",
      "Critical Values: {'1%': -3.486055829282407, '5%': -2.8859430324074076, '10%': -2.5797850694444446}\n",
      "Note: If P-Value is smaller than 0.05, we reject the null hypothesis and the series is stationary\n"
     ]
    }
   ],
   "source": [
    "adftest = adfuller(df['co2_per_capita'])\n",
    "print(\"ADF Test Results\")\n",
    "print(\"Null Hypothesis: The series has a unit root (non-stationary)\")\n",
    "print(\"ADF-Statistic:\", adftest[0])\n",
    "print(\"P-Value:\", adftest[1])\n",
    "print(\"Number of lags:\", adftest[2])\n",
    "print(\"Number of observations:\", adftest[3])\n",
    "print(\"Critical Values:\", adftest[4])\n",
    "print(\"Note: If P-Value is smaller than 0.05, we reject the null hypothesis and the series is stationary\")"
   ]
  },
  {
   "cell_type": "code",
   "execution_count": 78,
   "id": "191e0246",
   "metadata": {},
   "outputs": [],
   "source": [
    "from statsmodels.tsa.arima.model import ARIMA\n",
    "from pmdarima import auto_arima"
   ]
  },
  {
   "cell_type": "code",
   "execution_count": 79,
   "id": "26b5337f",
   "metadata": {},
   "outputs": [
    {
     "name": "stdout",
     "output_type": "stream",
     "text": [
      "[[0, 0, 0, 562.4703268416656], [0, 0, 1, 412.59735871315297], [0, 0, 2, 294.84797259976744], [1, 0, 0, -3.6224074584299686], [1, 0, 1, -9.31018275543472], [1, 0, 2, -9.425985832748779], [2, 0, 0, -11.327132836982074], [2, 0, 1, -16.000370760513054], [2, 0, 2, -16.68535109248187], [0, 1, 0, -11.407116814033158], [0, 1, 1, -17.01855697648189], [0, 1, 2, -17.061730746043274], [1, 1, 0, -18.949477465863918], [1, 1, 1, -20.100000189567357], [1, 1, 2, -19.080918533634875], [2, 1, 0, -18.50468642417404], [2, 1, 1, -19.16081959265658], [2, 1, 2, -17.19444192838876], [0, 2, 0, 33.98112121683988], [0, 2, 1, -16.822927324755028], [0, 2, 2, -16.58741047615775], [1, 2, 0, 10.719914321615752], [1, 2, 1, -16.729951968758222], [1, 2, 2, -14.814095276190965], [2, 2, 0, 2.8059454275459483], [2, 2, 1, -14.81369222909511], [2, 2, 2, -12.84113511540037]]\n"
     ]
    }
   ],
   "source": [
    "# A nested loop is written to calculate the AIC values\n",
    "# The lowest AIC the better\n",
    "\n",
    "aic_values=[]\n",
    "for d in range(0,3):\n",
    "    for ari in range(0, 3):\n",
    "        for maj in range(0,3):\n",
    "            try:\n",
    "                arima_obj = ARIMA(df['co2_per_capita'], order=(ari,d,maj))\n",
    "                arima_obj_fit = arima_obj.fit()\n",
    "                aic_values.append([ari, d, maj, arima_obj_fit.aic])\n",
    "            except ValueError:\n",
    "                pass\n",
    "print(aic_values)"
   ]
  },
  {
   "cell_type": "code",
   "execution_count": 80,
   "id": "36d30be7",
   "metadata": {},
   "outputs": [
    {
     "name": "stdout",
     "output_type": "stream",
     "text": [
      "Performing stepwise search to minimize aic\n",
      " ARIMA(2,1,2)(0,0,0)[0] intercept   : AIC=-15.347, Time=0.33 sec\n",
      " ARIMA(0,1,0)(0,0,0)[0] intercept   : AIC=-11.202, Time=0.05 sec\n",
      " ARIMA(1,1,0)(0,0,0)[0] intercept   : AIC=-17.991, Time=0.06 sec\n",
      " ARIMA(0,1,1)(0,0,0)[0] intercept   : AIC=-16.320, Time=0.07 sec\n",
      " ARIMA(0,1,0)(0,0,0)[0]             : AIC=-11.407, Time=0.03 sec\n",
      " ARIMA(2,1,0)(0,0,0)[0] intercept   : AIC=-17.301, Time=0.08 sec\n",
      " ARIMA(1,1,1)(0,0,0)[0] intercept   : AIC=-18.447, Time=0.11 sec\n",
      " ARIMA(2,1,1)(0,0,0)[0] intercept   : AIC=-17.316, Time=0.23 sec\n",
      " ARIMA(1,1,2)(0,0,0)[0] intercept   : AIC=-17.241, Time=0.20 sec\n",
      " ARIMA(0,1,2)(0,0,0)[0] intercept   : AIC=-16.132, Time=0.10 sec\n",
      " ARIMA(1,1,1)(0,0,0)[0]             : AIC=-20.100, Time=0.08 sec\n",
      " ARIMA(0,1,1)(0,0,0)[0]             : AIC=-17.019, Time=0.04 sec\n",
      " ARIMA(1,1,0)(0,0,0)[0]             : AIC=-18.949, Time=0.03 sec\n",
      " ARIMA(2,1,1)(0,0,0)[0]             : AIC=-19.161, Time=0.19 sec\n",
      " ARIMA(1,1,2)(0,0,0)[0]             : AIC=-19.081, Time=0.12 sec\n",
      " ARIMA(0,1,2)(0,0,0)[0]             : AIC=-17.062, Time=0.05 sec\n",
      " ARIMA(2,1,0)(0,0,0)[0]             : AIC=-18.505, Time=0.08 sec\n",
      " ARIMA(2,1,2)(0,0,0)[0]             : AIC=-17.194, Time=0.28 sec\n",
      "\n",
      "Best model:  ARIMA(1,1,1)(0,0,0)[0]          \n",
      "Total fit time: 2.229 seconds\n"
     ]
    },
    {
     "data": {
      "text/html": [
       "<table class=\"simpletable\">\n",
       "<caption>SARIMAX Results</caption>\n",
       "<tr>\n",
       "  <th>Dep. Variable:</th>           <td>y</td>        <th>  No. Observations:  </th>   <td>122</td>  \n",
       "</tr>\n",
       "<tr>\n",
       "  <th>Model:</th>           <td>SARIMAX(1, 1, 1)</td> <th>  Log Likelihood     </th> <td>13.050</td> \n",
       "</tr>\n",
       "<tr>\n",
       "  <th>Date:</th>            <td>Tue, 14 May 2024</td> <th>  AIC                </th> <td>-20.100</td>\n",
       "</tr>\n",
       "<tr>\n",
       "  <th>Time:</th>                <td>22:17:07</td>     <th>  BIC                </th> <td>-11.713</td>\n",
       "</tr>\n",
       "<tr>\n",
       "  <th>Sample:</th>                  <td>0</td>        <th>  HQIC               </th> <td>-16.694</td>\n",
       "</tr>\n",
       "<tr>\n",
       "  <th></th>                      <td> - 122</td>      <th>                     </th>    <td> </td>   \n",
       "</tr>\n",
       "<tr>\n",
       "  <th>Covariance Type:</th>        <td>opg</td>       <th>                     </th>    <td> </td>   \n",
       "</tr>\n",
       "</table>\n",
       "<table class=\"simpletable\">\n",
       "<tr>\n",
       "     <td></td>       <th>coef</th>     <th>std err</th>      <th>z</th>      <th>P>|z|</th>  <th>[0.025</th>    <th>0.975]</th>  \n",
       "</tr>\n",
       "<tr>\n",
       "  <th>ar.L1</th>  <td>    0.8537</td> <td>    0.128</td> <td>    6.687</td> <td> 0.000</td> <td>    0.603</td> <td>    1.104</td>\n",
       "</tr>\n",
       "<tr>\n",
       "  <th>ma.L1</th>  <td>   -0.6816</td> <td>    0.149</td> <td>   -4.567</td> <td> 0.000</td> <td>   -0.974</td> <td>   -0.389</td>\n",
       "</tr>\n",
       "<tr>\n",
       "  <th>sigma2</th> <td>    0.0471</td> <td>    0.004</td> <td>   11.879</td> <td> 0.000</td> <td>    0.039</td> <td>    0.055</td>\n",
       "</tr>\n",
       "</table>\n",
       "<table class=\"simpletable\">\n",
       "<tr>\n",
       "  <th>Ljung-Box (L1) (Q):</th>     <td>0.25</td> <th>  Jarque-Bera (JB):  </th> <td>46.22</td>\n",
       "</tr>\n",
       "<tr>\n",
       "  <th>Prob(Q):</th>                <td>0.62</td> <th>  Prob(JB):          </th> <td>0.00</td> \n",
       "</tr>\n",
       "<tr>\n",
       "  <th>Heteroskedasticity (H):</th> <td>3.15</td> <th>  Skew:              </th> <td>-0.50</td>\n",
       "</tr>\n",
       "<tr>\n",
       "  <th>Prob(H) (two-sided):</th>    <td>0.00</td> <th>  Kurtosis:          </th> <td>5.86</td> \n",
       "</tr>\n",
       "</table><br/><br/>Warnings:<br/>[1] Covariance matrix calculated using the outer product of gradients (complex-step)."
      ],
      "text/latex": [
       "\\begin{center}\n",
       "\\begin{tabular}{lclc}\n",
       "\\toprule\n",
       "\\textbf{Dep. Variable:}          &        y         & \\textbf{  No. Observations:  } &    122      \\\\\n",
       "\\textbf{Model:}                  & SARIMAX(1, 1, 1) & \\textbf{  Log Likelihood     } &   13.050    \\\\\n",
       "\\textbf{Date:}                   & Tue, 14 May 2024 & \\textbf{  AIC                } &  -20.100    \\\\\n",
       "\\textbf{Time:}                   &     22:17:07     & \\textbf{  BIC                } &  -11.713    \\\\\n",
       "\\textbf{Sample:}                 &        0         & \\textbf{  HQIC               } &  -16.694    \\\\\n",
       "\\textbf{}                        &       - 122      & \\textbf{                     } &             \\\\\n",
       "\\textbf{Covariance Type:}        &       opg        & \\textbf{                     } &             \\\\\n",
       "\\bottomrule\n",
       "\\end{tabular}\n",
       "\\begin{tabular}{lcccccc}\n",
       "                & \\textbf{coef} & \\textbf{std err} & \\textbf{z} & \\textbf{P$> |$z$|$} & \\textbf{[0.025} & \\textbf{0.975]}  \\\\\n",
       "\\midrule\n",
       "\\textbf{ar.L1}  &       0.8537  &        0.128     &     6.687  &         0.000        &        0.603    &        1.104     \\\\\n",
       "\\textbf{ma.L1}  &      -0.6816  &        0.149     &    -4.567  &         0.000        &       -0.974    &       -0.389     \\\\\n",
       "\\textbf{sigma2} &       0.0471  &        0.004     &    11.879  &         0.000        &        0.039    &        0.055     \\\\\n",
       "\\bottomrule\n",
       "\\end{tabular}\n",
       "\\begin{tabular}{lclc}\n",
       "\\textbf{Ljung-Box (L1) (Q):}     & 0.25 & \\textbf{  Jarque-Bera (JB):  } & 46.22  \\\\\n",
       "\\textbf{Prob(Q):}                & 0.62 & \\textbf{  Prob(JB):          } &  0.00  \\\\\n",
       "\\textbf{Heteroskedasticity (H):} & 3.15 & \\textbf{  Skew:              } & -0.50  \\\\\n",
       "\\textbf{Prob(H) (two-sided):}    & 0.00 & \\textbf{  Kurtosis:          } &  5.86  \\\\\n",
       "\\bottomrule\n",
       "\\end{tabular}\n",
       "%\\caption{SARIMAX Results}\n",
       "\\end{center}\n",
       "\n",
       "Warnings: \\newline\n",
       " [1] Covariance matrix calculated using the outer product of gradients (complex-step)."
      ],
      "text/plain": [
       "<class 'statsmodels.iolib.summary.Summary'>\n",
       "\"\"\"\n",
       "                               SARIMAX Results                                \n",
       "==============================================================================\n",
       "Dep. Variable:                      y   No. Observations:                  122\n",
       "Model:               SARIMAX(1, 1, 1)   Log Likelihood                  13.050\n",
       "Date:                Tue, 14 May 2024   AIC                            -20.100\n",
       "Time:                        22:17:07   BIC                            -11.713\n",
       "Sample:                             0   HQIC                           -16.694\n",
       "                                - 122                                         \n",
       "Covariance Type:                  opg                                         \n",
       "==============================================================================\n",
       "                 coef    std err          z      P>|z|      [0.025      0.975]\n",
       "------------------------------------------------------------------------------\n",
       "ar.L1          0.8537      0.128      6.687      0.000       0.603       1.104\n",
       "ma.L1         -0.6816      0.149     -4.567      0.000      -0.974      -0.389\n",
       "sigma2         0.0471      0.004     11.879      0.000       0.039       0.055\n",
       "===================================================================================\n",
       "Ljung-Box (L1) (Q):                   0.25   Jarque-Bera (JB):                46.22\n",
       "Prob(Q):                              0.62   Prob(JB):                         0.00\n",
       "Heteroskedasticity (H):               3.15   Skew:                            -0.50\n",
       "Prob(H) (two-sided):                  0.00   Kurtosis:                         5.86\n",
       "===================================================================================\n",
       "\n",
       "Warnings:\n",
       "[1] Covariance matrix calculated using the outer product of gradients (complex-step).\n",
       "\"\"\""
      ]
     },
     "execution_count": 80,
     "metadata": {},
     "output_type": "execute_result"
    }
   ],
   "source": [
    "stepwise_fit = auto_arima(df['co2_per_capita'], trace = True,\n",
    "                         suppress_warnings = True)\n",
    "\n",
    "stepwise_fit.summary()"
   ]
  },
  {
   "cell_type": "markdown",
   "id": "27eab0f8",
   "metadata": {},
   "source": [
    "import statsmodels.api as sm"
   ]
  },
  {
   "cell_type": "code",
   "execution_count": 81,
   "id": "abf84f9c",
   "metadata": {},
   "outputs": [
    {
     "data": {
      "text/plain": [
       "1   -0.020213\n",
       "2   -0.010340\n",
       "3    0.035021\n",
       "4    0.019000\n",
       "5    0.006851\n",
       "Name: co2_per_capita, dtype: float64"
      ]
     },
     "execution_count": 81,
     "metadata": {},
     "output_type": "execute_result"
    }
   ],
   "source": [
    "# Store one difference value of the 'co2 per capita' column\n",
    "first_order_diff = df['co2_per_capita'].diff(1)\n",
    "# Drop the first row of 'co2 per capita' column because It has 'NaN' value\n",
    "first_order_diff = df['co2_per_capita'].diff(1).dropna()\n",
    "\n",
    "\n",
    "# Display the first five records\n",
    "first_order_diff.head()"
   ]
  },
  {
   "cell_type": "code",
   "execution_count": 82,
   "id": "b8bbcf11",
   "metadata": {},
   "outputs": [
    {
     "data": {
      "image/png": "[encoded data removed]",
      "text/plain": [
       "<Figure size 550x550 with 2 Axes>"
      ]
     },
     "metadata": {},
     "output_type": "display_data"
    }
   ],
   "source": [
    "# Declare the fig abd ax as two arguments \n",
    "fig, ax = plt.subplots(2, sharex = True)\n",
    "fig.set_size_inches(5.5, 5.5)\n",
    "df['co2_per_capita'].plot(ax = ax[0], color = 'b')\n",
    "ax[0].set_title('Co2 per capita values')\n",
    "first_order_diff.plot(ax = ax[1], color = 'r')\n",
    "ax[1].set_title('First-order differences');"
   ]
  },
  {
   "cell_type": "code",
   "execution_count": 83,
   "id": "60495d15",
   "metadata": {},
   "outputs": [
    {
     "data": {
      "text/html": [
       "<table class=\"simpletable\">\n",
       "<caption>SARIMAX Results</caption>\n",
       "<tr>\n",
       "  <th>Dep. Variable:</th>           <td>y</td>        <th>  No. Observations:  </th>   <td>122</td>  \n",
       "</tr>\n",
       "<tr>\n",
       "  <th>Model:</th>            <td>ARIMA(1, 1, 1)</td>  <th>  Log Likelihood     </th> <td>13.050</td> \n",
       "</tr>\n",
       "<tr>\n",
       "  <th>Date:</th>            <td>Tue, 14 May 2024</td> <th>  AIC                </th> <td>-20.100</td>\n",
       "</tr>\n",
       "<tr>\n",
       "  <th>Time:</th>                <td>22:17:08</td>     <th>  BIC                </th> <td>-11.713</td>\n",
       "</tr>\n",
       "<tr>\n",
       "  <th>Sample:</th>                  <td>0</td>        <th>  HQIC               </th> <td>-16.694</td>\n",
       "</tr>\n",
       "<tr>\n",
       "  <th></th>                      <td> - 122</td>      <th>                     </th>    <td> </td>   \n",
       "</tr>\n",
       "<tr>\n",
       "  <th>Covariance Type:</th>        <td>opg</td>       <th>                     </th>    <td> </td>   \n",
       "</tr>\n",
       "</table>\n",
       "<table class=\"simpletable\">\n",
       "<tr>\n",
       "     <td></td>       <th>coef</th>     <th>std err</th>      <th>z</th>      <th>P>|z|</th>  <th>[0.025</th>    <th>0.975]</th>  \n",
       "</tr>\n",
       "<tr>\n",
       "  <th>ar.L1</th>  <td>    0.8537</td> <td>    0.128</td> <td>    6.687</td> <td> 0.000</td> <td>    0.603</td> <td>    1.104</td>\n",
       "</tr>\n",
       "<tr>\n",
       "  <th>ma.L1</th>  <td>   -0.6816</td> <td>    0.149</td> <td>   -4.567</td> <td> 0.000</td> <td>   -0.974</td> <td>   -0.389</td>\n",
       "</tr>\n",
       "<tr>\n",
       "  <th>sigma2</th> <td>    0.0471</td> <td>    0.004</td> <td>   11.879</td> <td> 0.000</td> <td>    0.039</td> <td>    0.055</td>\n",
       "</tr>\n",
       "</table>\n",
       "<table class=\"simpletable\">\n",
       "<tr>\n",
       "  <th>Ljung-Box (L1) (Q):</th>     <td>0.25</td> <th>  Jarque-Bera (JB):  </th> <td>46.22</td>\n",
       "</tr>\n",
       "<tr>\n",
       "  <th>Prob(Q):</th>                <td>0.62</td> <th>  Prob(JB):          </th> <td>0.00</td> \n",
       "</tr>\n",
       "<tr>\n",
       "  <th>Heteroskedasticity (H):</th> <td>3.15</td> <th>  Skew:              </th> <td>-0.50</td>\n",
       "</tr>\n",
       "<tr>\n",
       "  <th>Prob(H) (two-sided):</th>    <td>0.00</td> <th>  Kurtosis:          </th> <td>5.86</td> \n",
       "</tr>\n",
       "</table><br/><br/>Warnings:<br/>[1] Covariance matrix calculated using the outer product of gradients (complex-step)."
      ],
      "text/latex": [
       "\\begin{center}\n",
       "\\begin{tabular}{lclc}\n",
       "\\toprule\n",
       "\\textbf{Dep. Variable:}          &        y         & \\textbf{  No. Observations:  } &    122      \\\\\n",
       "\\textbf{Model:}                  &  ARIMA(1, 1, 1)  & \\textbf{  Log Likelihood     } &   13.050    \\\\\n",
       "\\textbf{Date:}                   & Tue, 14 May 2024 & \\textbf{  AIC                } &  -20.100    \\\\\n",
       "\\textbf{Time:}                   &     22:17:08     & \\textbf{  BIC                } &  -11.713    \\\\\n",
       "\\textbf{Sample:}                 &        0         & \\textbf{  HQIC               } &  -16.694    \\\\\n",
       "\\textbf{}                        &       - 122      & \\textbf{                     } &             \\\\\n",
       "\\textbf{Covariance Type:}        &       opg        & \\textbf{                     } &             \\\\\n",
       "\\bottomrule\n",
       "\\end{tabular}\n",
       "\\begin{tabular}{lcccccc}\n",
       "                & \\textbf{coef} & \\textbf{std err} & \\textbf{z} & \\textbf{P$> |$z$|$} & \\textbf{[0.025} & \\textbf{0.975]}  \\\\\n",
       "\\midrule\n",
       "\\textbf{ar.L1}  &       0.8537  &        0.128     &     6.687  &         0.000        &        0.603    &        1.104     \\\\\n",
       "\\textbf{ma.L1}  &      -0.6816  &        0.149     &    -4.567  &         0.000        &       -0.974    &       -0.389     \\\\\n",
       "\\textbf{sigma2} &       0.0471  &        0.004     &    11.879  &         0.000        &        0.039    &        0.055     \\\\\n",
       "\\bottomrule\n",
       "\\end{tabular}\n",
       "\\begin{tabular}{lclc}\n",
       "\\textbf{Ljung-Box (L1) (Q):}     & 0.25 & \\textbf{  Jarque-Bera (JB):  } & 46.22  \\\\\n",
       "\\textbf{Prob(Q):}                & 0.62 & \\textbf{  Prob(JB):          } &  0.00  \\\\\n",
       "\\textbf{Heteroskedasticity (H):} & 3.15 & \\textbf{  Skew:              } & -0.50  \\\\\n",
       "\\textbf{Prob(H) (two-sided):}    & 0.00 & \\textbf{  Kurtosis:          } &  5.86  \\\\\n",
       "\\bottomrule\n",
       "\\end{tabular}\n",
       "%\\caption{SARIMAX Results}\n",
       "\\end{center}\n",
       "\n",
       "Warnings: \\newline\n",
       " [1] Covariance matrix calculated using the outer product of gradients (complex-step)."
      ],
      "text/plain": [
       "<class 'statsmodels.iolib.summary.Summary'>\n",
       "\"\"\"\n",
       "                               SARIMAX Results                                \n",
       "==============================================================================\n",
       "Dep. Variable:                      y   No. Observations:                  122\n",
       "Model:                 ARIMA(1, 1, 1)   Log Likelihood                  13.050\n",
       "Date:                Tue, 14 May 2024   AIC                            -20.100\n",
       "Time:                        22:17:08   BIC                            -11.713\n",
       "Sample:                             0   HQIC                           -16.694\n",
       "                                - 122                                         \n",
       "Covariance Type:                  opg                                         \n",
       "==============================================================================\n",
       "                 coef    std err          z      P>|z|      [0.025      0.975]\n",
       "------------------------------------------------------------------------------\n",
       "ar.L1          0.8537      0.128      6.687      0.000       0.603       1.104\n",
       "ma.L1         -0.6816      0.149     -4.567      0.000      -0.974      -0.389\n",
       "sigma2         0.0471      0.004     11.879      0.000       0.039       0.055\n",
       "===================================================================================\n",
       "Ljung-Box (L1) (Q):                   0.25   Jarque-Bera (JB):                46.22\n",
       "Prob(Q):                              0.62   Prob(JB):                         0.00\n",
       "Heteroskedasticity (H):               3.15   Skew:                            -0.50\n",
       "Prob(H) (two-sided):                  0.00   Kurtosis:                         5.86\n",
       "===================================================================================\n",
       "\n",
       "Warnings:\n",
       "[1] Covariance matrix calculated using the outer product of gradients (complex-step).\n",
       "\"\"\""
      ]
     },
     "execution_count": 83,
     "metadata": {},
     "output_type": "execute_result"
    }
   ],
   "source": [
    "model = ARIMA(df['co2_per_capita'].tolist(), order = (1, 1, 1))\n",
    "\n",
    "model_fit = model.fit()\n",
    "model_fit.summary()"
   ]
  },
  {
   "cell_type": "code",
   "execution_count": 84,
   "id": "177d66d7",
   "metadata": {},
   "outputs": [
    {
     "data": {
      "text/html": [
       "<div>\n",
       "<style scoped>\n",
       "    .dataframe tbody tr th:only-of-type {\n",
       "        vertical-align: middle;\n",
       "    }\n",
       "\n",
       "    .dataframe tbody tr th {\n",
       "        vertical-align: top;\n",
       "    }\n",
       "\n",
       "    .dataframe thead th {\n",
       "        text-align: right;\n",
       "    }\n",
       "</style>\n",
       "<table border=\"1\" class=\"dataframe\">\n",
       "  <thead>\n",
       "    <tr style=\"text-align: right;\">\n",
       "      <th></th>\n",
       "      <th>year</th>\n",
       "      <th>co2_per_capita</th>\n",
       "      <th>ARIMA</th>\n",
       "    </tr>\n",
       "  </thead>\n",
       "  <tbody>\n",
       "    <tr>\n",
       "      <th>0</th>\n",
       "      <td>1900-01-01</td>\n",
       "      <td>2.395832</td>\n",
       "      <td>0.000000</td>\n",
       "    </tr>\n",
       "    <tr>\n",
       "      <th>1</th>\n",
       "      <td>1901-01-01</td>\n",
       "      <td>2.375619</td>\n",
       "      <td>2.395832</td>\n",
       "    </tr>\n",
       "    <tr>\n",
       "      <th>2</th>\n",
       "      <td>1902-01-01</td>\n",
       "      <td>2.365278</td>\n",
       "      <td>2.370785</td>\n",
       "    </tr>\n",
       "    <tr>\n",
       "      <th>3</th>\n",
       "      <td>1903-01-01</td>\n",
       "      <td>2.400300</td>\n",
       "      <td>2.360041</td>\n",
       "    </tr>\n",
       "    <tr>\n",
       "      <th>4</th>\n",
       "      <td>1904-01-01</td>\n",
       "      <td>2.419300</td>\n",
       "      <td>2.403302</td>\n",
       "    </tr>\n",
       "  </tbody>\n",
       "</table>\n",
       "</div>"
      ],
      "text/plain": [
       "        year  co2_per_capita     ARIMA\n",
       "0 1900-01-01        2.395832  0.000000\n",
       "1 1901-01-01        2.375619  2.395832\n",
       "2 1902-01-01        2.365278  2.370785\n",
       "3 1903-01-01        2.400300  2.360041\n",
       "4 1904-01-01        2.419300  2.403302"
      ]
     },
     "execution_count": 84,
     "metadata": {},
     "output_type": "execute_result"
    }
   ],
   "source": [
    "# Declare the array 'pred' and append the values \n",
    "pred = model_fit.fittedvalues\n",
    "\n",
    "# Add a new column 'ARIMA' into dataframe\n",
    "df['ARIMA'] = pred\n",
    "\n",
    "# Residues and fitted values are added and stored into dataframe\n",
    "#diffval = model_fit.resid + model_fit.fittedvalues\n",
    "\n",
    "# Add a column 'diffval' into dataframe\n",
    "#df['diffval'] = diffval\n",
    "\n",
    "# Display first five records\n",
    "df.head()\n"
   ]
  },
  {
   "cell_type": "code",
   "execution_count": 85,
   "id": "0eb71348",
   "metadata": {},
   "outputs": [
    {
     "data": {
      "image/png": "[encoded data removed]",
      "text/plain": [
       "<Figure size 1500x1200 with 4 Axes>"
      ]
     },
     "metadata": {},
     "output_type": "display_data"
    }
   ],
   "source": [
    "# Diagnosing the model residuals\n",
    "model_fit.plot_diagnostics(figsize = (15, 12))\n",
    "plt.show()"
   ]
  },
  {
   "cell_type": "code",
   "execution_count": 86,
   "id": "550cfab3-7544-45cd-93a4-dc6d763c984e",
   "metadata": {},
   "outputs": [
    {
     "data": {
      "application/vnd.plotly.v1+json": {
       "config": {
        "plotlyServerURL": "https://plot.ly"
       },
       "data": [
        {
         "line": {
          "color": "blue"
         },
         "mode": "lines",
         "name": "Actual",
         "type": "scatter",
         "x": [
          "1902-01-01T00:00:00",
          "1903-01-01T00:00:00",
          "1904-01-01T00:00:00",
          "1905-01-01T00:00:00",
          "1906-01-01T00:00:00",
          "1907-01-01T00:00:00",
          "1908-01-01T00:00:00",
          "1909-01-01T00:00:00",
          "1910-01-01T00:00:00",
          "1911-01-01T00:00:00",
          "1912-01-01T00:00:00",
          "1913-01-01T00:00:00",
          "1914-01-01T00:00:00",
          "1915-01-01T00:00:00",
          "1916-01-01T00:00:00",
          "1917-01-01T00:00:00",
          "1918-01-01T00:00:00",
          "1919-01-01T00:00:00",
          "1920-01-01T00:00:00",
          "1921-01-01T00:00:00",
          "1922-01-01T00:00:00",
          "1923-01-01T00:00:00",
          "1924-01-01T00:00:00",
          "1925-01-01T00:00:00",
          "1926-01-01T00:00:00",
          "1927-01-01T00:00:00",
          "1928-01-01T00:00:00",
          "1929-01-01T00:00:00",
          "1930-01-01T00:00:00",
          "1931-01-01T00:00:00",
          "1932-01-01T00:00:00",
          "1933-01-01T00:00:00",
          "1934-01-01T00:00:00",
          "1935-01-01T00:00:00",
          "1936-01-01T00:00:00",
          "1937-01-01T00:00:00",
          "1938-01-01T00:00:00",
          "1939-01-01T00:00:00",
          "1940-01-01T00:00:00",
          "1941-01-01T00:00:00",
          "1942-01-01T00:00:00",
          "1943-01-01T00:00:00",
          "1944-01-01T00:00:00",
          "1945-01-01T00:00:00",
          "1946-01-01T00:00:00",
          "1947-01-01T00:00:00",
          "1948-01-01T00:00:00",
          "1949-01-01T00:00:00",
          "1950-01-01T00:00:00",
          "1951-01-01T00:00:00",
          "1952-01-01T00:00:00",
          "1953-01-01T00:00:00",
          "1954-01-01T00:00:00",
          "1955-01-01T00:00:00",
          "1956-01-01T00:00:00",
          "1957-01-01T00:00:00",
          "1958-01-01T00:00:00",
          "1959-01-01T00:00:00",
          "1960-01-01T00:00:00",
          "1961-01-01T00:00:00",
          "1962-01-01T00:00:00",
          "1963-01-01T00:00:00",
          "1964-01-01T00:00:00",
          "1965-01-01T00:00:00",
          "1966-01-01T00:00:00",
          "1967-01-01T00:00:00",
          "1968-01-01T00:00:00",
          "1969-01-01T00:00:00",
          "1970-01-01T00:00:00",
          "1971-01-01T00:00:00",
          "1972-01-01T00:00:00",
          "1973-01-01T00:00:00",
          "1974-01-01T00:00:00",
          "1975-01-01T00:00:00",
          "1976-01-01T00:00:00",
          "1977-01-01T00:00:00",
          "1978-01-01T00:00:00",
          "1979-01-01T00:00:00",
          "1980-01-01T00:00:00",
          "1981-01-01T00:00:00",
          "1982-01-01T00:00:00",
          "1983-01-01T00:00:00",
          "1984-01-01T00:00:00",
          "1985-01-01T00:00:00",
          "1986-01-01T00:00:00",
          "1987-01-01T00:00:00",
          "1988-01-01T00:00:00",
          "1989-01-01T00:00:00",
          "1990-01-01T00:00:00",
          "1991-01-01T00:00:00",
          "1992-01-01T00:00:00",
          "1993-01-01T00:00:00",
          "1994-01-01T00:00:00",
          "1995-01-01T00:00:00",
          "1996-01-01T00:00:00",
          "1997-01-01T00:00:00",
          "1998-01-01T00:00:00",
          "1999-01-01T00:00:00",
          "2000-01-01T00:00:00",
          "2001-01-01T00:00:00",
          "2002-01-01T00:00:00",
          "2003-01-01T00:00:00",
          "2004-01-01T00:00:00",
          "2005-01-01T00:00:00",
          "2006-01-01T00:00:00",
          "2007-01-01T00:00:00",
          "2008-01-01T00:00:00",
          "2009-01-01T00:00:00",
          "2010-01-01T00:00:00",
          "2011-01-01T00:00:00",
          "2012-01-01T00:00:00",
          "2013-01-01T00:00:00",
          "2014-01-01T00:00:00",
          "2015-01-01T00:00:00",
          "2016-01-01T00:00:00",
          "2017-01-01T00:00:00",
          "2018-01-01T00:00:00",
          "2019-01-01T00:00:00",
          "2020-01-01T00:00:00",
          "2021-01-01T00:00:00"
         ],
         "y": [
          2.3652784851887096,
          2.400299761784454,
          2.4192997617844543,
          2.4261508256142417,
          2.5141508256142417,
          2.6273210383801993,
          2.707172102209986,
          2.6639593362525393,
          2.58552080197358,
          2.7146189107206244,
          2.875529935865692,
          2.8419676104842178,
          2.820432365340832,
          2.717496195128066,
          2.7051557695961512,
          2.496943003638705,
          2.3671983227876408,
          2.0235846317608135,
          2.218691014739537,
          2.120882504101239,
          2.4083635915716886,
          2.462257208592965,
          2.535691014739537,
          2.509882504101239,
          2.43615909984592,
          2.728456972186345,
          2.7393718658033666,
          2.932903780696984,
          2.8479037806969836,
          2.7964569721863453,
          2.6550739934629415,
          2.670055107495932,
          2.799714681964017,
          2.8587572351555064,
          2.982927447921464,
          3.159629575581038,
          3.0949274479214637,
          3.141331703240613,
          3.183714681964017,
          3.265711351714248,
          3.0200305006504187,
          2.8301827670704003,
          2.7255870223895493,
          1.7539874092367445,
          2.2501150688112124,
          2.663157622002702,
          2.8112427283856807,
          2.9401150688112123,
          3.5163559080547113,
          3.828292078267477,
          3.9278452697568387,
          3.936249525075988,
          4.1142069718844985,
          4.4787601633738605,
          4.711526120820668,
          4.865185695288754,
          4.856972929331307,
          5.010696333586626,
          5.289058035714286,
          5.391845269756839,
          5.615419737841946,
          5.894653780395137,
          6.18048356762918,
          6.2909090995440735,
          6.447462291033434,
          6.5023133548632215,
          6.851696333586626,
          7.1537388867781155,
          7.609398461246201,
          7.750717610182371,
          7.993164418693009,
          8.340185695288755,
          8.255547397416413,
          8.148058035714286,
          8.497866546352583,
          8.515504844224925,
          8.764079312310031,
          8.93976016337386,
          8.791887822948329,
          8.46184526975684,
          8.268696333586625,
          8.201270801671733,
          8.341611227203648,
          8.601377184650456,
          8.655611227203647,
          8.590355908054711,
          8.557419737841945,
          8.563143142097264,
          8.982331306990881,
          8.591841945288754,
          8.057310030395136,
          7.720756838905776,
          7.414395136778116,
          7.19850151975684,
          7.417246200607902,
          7.256841945288754,
          7.213863221884498,
          7.015565349544073,
          7.095841945288753,
          7.22945896656535,
          7.269905775075988,
          7.534607902735562,
          7.622501519756839,
          7.550841945288754,
          7.6802036474164135,
          7.650735562310031,
          7.5127021276595745,
          6.934127659574468,
          7.212297872340426,
          7.047553191489362,
          6.8486170212765956,
          6.695936170212766,
          6.478744680851063,
          6.408404255319149,
          6.423276595744681,
          6.501851063829787,
          6.4488085106382975,
          6.175595744680851,
          5.6779361702127655,
          5.756659574468085
         ]
        },
        {
         "line": {
          "color": "red",
          "dash": "dash"
         },
         "mode": "lines",
         "name": "ARIMA Forecast",
         "type": "scatter",
         "x": [
          "1902-01-01T00:00:00",
          "1903-01-01T00:00:00",
          "1904-01-01T00:00:00",
          "1905-01-01T00:00:00",
          "1906-01-01T00:00:00",
          "1907-01-01T00:00:00",
          "1908-01-01T00:00:00",
          "1909-01-01T00:00:00",
          "1910-01-01T00:00:00",
          "1911-01-01T00:00:00",
          "1912-01-01T00:00:00",
          "1913-01-01T00:00:00",
          "1914-01-01T00:00:00",
          "1915-01-01T00:00:00",
          "1916-01-01T00:00:00",
          "1917-01-01T00:00:00",
          "1918-01-01T00:00:00",
          "1919-01-01T00:00:00",
          "1920-01-01T00:00:00",
          "1921-01-01T00:00:00",
          "1922-01-01T00:00:00",
          "1923-01-01T00:00:00",
          "1924-01-01T00:00:00",
          "1925-01-01T00:00:00",
          "1926-01-01T00:00:00",
          "1927-01-01T00:00:00",
          "1928-01-01T00:00:00",
          "1929-01-01T00:00:00",
          "1930-01-01T00:00:00",
          "1931-01-01T00:00:00",
          "1932-01-01T00:00:00",
          "1933-01-01T00:00:00",
          "1934-01-01T00:00:00",
          "1935-01-01T00:00:00",
          "1936-01-01T00:00:00",
          "1937-01-01T00:00:00",
          "1938-01-01T00:00:00",
          "1939-01-01T00:00:00",
          "1940-01-01T00:00:00",
          "1941-01-01T00:00:00",
          "1942-01-01T00:00:00",
          "1943-01-01T00:00:00",
          "1944-01-01T00:00:00",
          "1945-01-01T00:00:00",
          "1946-01-01T00:00:00",
          "1947-01-01T00:00:00",
          "1948-01-01T00:00:00",
          "1949-01-01T00:00:00",
          "1950-01-01T00:00:00",
          "1951-01-01T00:00:00",
          "1952-01-01T00:00:00",
          "1953-01-01T00:00:00",
          "1954-01-01T00:00:00",
          "1955-01-01T00:00:00",
          "1956-01-01T00:00:00",
          "1957-01-01T00:00:00",
          "1958-01-01T00:00:00",
          "1959-01-01T00:00:00",
          "1960-01-01T00:00:00",
          "1961-01-01T00:00:00",
          "1962-01-01T00:00:00",
          "1963-01-01T00:00:00",
          "1964-01-01T00:00:00",
          "1965-01-01T00:00:00",
          "1966-01-01T00:00:00",
          "1967-01-01T00:00:00",
          "1968-01-01T00:00:00",
          "1969-01-01T00:00:00",
          "1970-01-01T00:00:00",
          "1971-01-01T00:00:00",
          "1972-01-01T00:00:00",
          "1973-01-01T00:00:00",
          "1974-01-01T00:00:00",
          "1975-01-01T00:00:00",
          "1976-01-01T00:00:00",
          "1977-01-01T00:00:00",
          "1978-01-01T00:00:00",
          "1979-01-01T00:00:00",
          "1980-01-01T00:00:00",
          "1981-01-01T00:00:00",
          "1982-01-01T00:00:00",
          "1983-01-01T00:00:00",
          "1984-01-01T00:00:00",
          "1985-01-01T00:00:00",
          "1986-01-01T00:00:00",
          "1987-01-01T00:00:00",
          "1988-01-01T00:00:00",
          "1989-01-01T00:00:00",
          "1990-01-01T00:00:00",
          "1991-01-01T00:00:00",
          "1992-01-01T00:00:00",
          "1993-01-01T00:00:00",
          "1994-01-01T00:00:00",
          "1995-01-01T00:00:00",
          "1996-01-01T00:00:00",
          "1997-01-01T00:00:00",
          "1998-01-01T00:00:00",
          "1999-01-01T00:00:00",
          "2000-01-01T00:00:00",
          "2001-01-01T00:00:00",
          "2002-01-01T00:00:00",
          "2003-01-01T00:00:00",
          "2004-01-01T00:00:00",
          "2005-01-01T00:00:00",
          "2006-01-01T00:00:00",
          "2007-01-01T00:00:00",
          "2008-01-01T00:00:00",
          "2009-01-01T00:00:00",
          "2010-01-01T00:00:00",
          "2011-01-01T00:00:00",
          "2012-01-01T00:00:00",
          "2013-01-01T00:00:00",
          "2014-01-01T00:00:00",
          "2015-01-01T00:00:00",
          "2016-01-01T00:00:00",
          "2017-01-01T00:00:00",
          "2018-01-01T00:00:00",
          "2019-01-01T00:00:00",
          "2020-01-01T00:00:00",
          "2021-01-01T00:00:00"
         ],
         "y": [
          2.3707854605929364,
          2.3600407556462004,
          2.4033017799877263,
          2.424715009833973,
          2.431024782564767,
          2.5327257241393952,
          2.659512726444103,
          2.7428668800080933,
          2.6808427888101933,
          2.5835261872254107,
          2.735476128946616,
          2.9174347142441426,
          2.864754347767423,
          2.8322581215924223,
          2.7078449461959035,
          2.6964542148464203,
          2.455186416472719,
          2.316413099309657,
          1.9298467085543125,
          2.1883703504608127,
          2.0833869593885552,
          2.432271583129197,
          2.487825810404906,
          2.565753611746276,
          2.525932298802227,
          2.434413503372466,
          2.7775606848068564,
          2.7747186819150613,
          2.990295524769869,
          2.872396309874559,
          2.8042988553660986,
          2.636092262798237,
          2.6596949706654303,
          2.8149628291258884,
          2.879309282198081,
          3.0183006260567433,
          3.214143512733295,
          3.1209509850154977,
          3.167053609230227,
          3.2085390872815935,
          3.296740056723145,
          2.9989070058326788,
          2.7831194560372667,
          2.6755119702374706,
          1.5526807290227498,
          2.198270700715442,
          2.6988899670171724,
          2.8610775554055645,
          2.99625625982386,
          3.653770813951377,
          3.975625701991759,
          4.045396283033335,
          4.017817591102307,
          4.200423038622272,
          4.600250405813253,
          4.834383373146085,
          4.975363451429256,
          4.930656265007432,
          5.0873684494951315,
          5.389212860798292,
          5.477795977011779,
          5.712471962729243,
          6.008849652763343,
          6.307499319286674,
          6.396482304848967,
          6.546357235675389,
          6.579157318943803,
          6.964188386996506,
          7.282382935361832,
          7.77548333233141,
          7.888235706807071,
          8.128611863915236,
          8.492215141348002,
          8.344606606390192,
          8.19026532818216,
          8.586823686915817,
          8.579172344254989,
          8.850245009807708,
          9.028718229196581,
          8.827077781009276,
          8.429042573488793,
          8.213104541386363,
          8.151778391398908,
          8.332024844196066,
          8.639539145681724,
          8.690953816983736,
          8.603217195503698,
          8.560518828554418,
          8.566240245434935,
          9.056568832171724,
          8.575253189332216,
          7.954030349332577,
          7.592453897246143,
          7.274231325694425,
          7.065819580960247,
          7.364448805453007,
          7.19325602722758,
          7.163128445982,
          6.946865229283192,
          7.062828979479503,
          7.229948020437927,
          7.277198489629223,
          7.585123877028798,
          7.672056075133187,
          7.572288084275841,
          7.717079493416082,
          7.670799547878225,
          7.50262723367938,
          6.827709713238052,
          7.187626749274354,
          7.002391133800794,
          6.783605402517894,
          6.625354024661521,
          6.393265839249234,
          6.338039481985374,
          6.377875394132156,
          6.484425617671519,
          6.42780480565119,
          6.114270086533502,
          5.550508453231371
         ]
        }
       ],
       "layout": {
        "autosize": true,
        "legend": {
         "x": 0.7,
         "y": 0.95
        },
        "template": {
         "data": {
          "bar": [
           {
            "error_x": {
             "color": "#2a3f5f"
            },
            "error_y": {
             "color": "#2a3f5f"
            },
            "marker": {
             "line": {
              "color": "#E5ECF6",
              "width": 0.5
             },
             "pattern": {
              "fillmode": "overlay",
              "size": 10,
              "solidity": 0.2
             }
            },
            "type": "bar"
           }
          ],
          "barpolar": [
           {
            "marker": {
             "line": {
              "color": "#E5ECF6",
              "width": 0.5
             },
             "pattern": {
              "fillmode": "overlay",
              "size": 10,
              "solidity": 0.2
             }
            },
            "type": "barpolar"
           }
          ],
          "carpet": [
           {
            "aaxis": {
             "endlinecolor": "#2a3f5f",
             "gridcolor": "white",
             "linecolor": "white",
             "minorgridcolor": "white",
             "startlinecolor": "#2a3f5f"
            },
            "baxis": {
             "endlinecolor": "#2a3f5f",
             "gridcolor": "white",
             "linecolor": "white",
             "minorgridcolor": "white",
             "startlinecolor": "#2a3f5f"
            },
            "type": "carpet"
           }
          ],
          "choropleth": [
           {
            "colorbar": {
             "outlinewidth": 0,
             "ticks": ""
            },
            "type": "choropleth"
           }
          ],
          "contour": [
           {
            "colorbar": {
             "outlinewidth": 0,
             "ticks": ""
            },
            "colorscale": [
             [
              0,
              "#0d0887"
             ],
             [
              0.1111111111111111,
              "#46039f"
             ],
             [
              0.2222222222222222,
              "#7201a8"
             ],
             [
              0.3333333333333333,
              "#9c179e"
             ],
             [
              0.4444444444444444,
              "#bd3786"
             ],
             [
              0.5555555555555556,
              "#d8576b"
             ],
             [
              0.6666666666666666,
              "#ed7953"
             ],
             [
              0.7777777777777778,
              "#fb9f3a"
             ],
             [
              0.8888888888888888,
              "#fdca26"
             ],
             [
              1,
              "#f0f921"
             ]
            ],
            "type": "contour"
           }
          ],
          "contourcarpet": [
           {
            "colorbar": {
             "outlinewidth": 0,
             "ticks": ""
            },
            "type": "contourcarpet"
           }
          ],
          "heatmap": [
           {
            "colorbar": {
             "outlinewidth": 0,
             "ticks": ""
            },
            "colorscale": [
             [
              0,
              "#0d0887"
             ],
             [
              0.1111111111111111,
              "#46039f"
             ],
             [
              0.2222222222222222,
              "#7201a8"
             ],
             [
              0.3333333333333333,
              "#9c179e"
             ],
             [
              0.4444444444444444,
              "#bd3786"
             ],
             [
              0.5555555555555556,
              "#d8576b"
             ],
             [
              0.6666666666666666,
              "#ed7953"
             ],
             [
              0.7777777777777778,
              "#fb9f3a"
             ],
             [
              0.8888888888888888,
              "#fdca26"
             ],
             [
              1,
              "#f0f921"
             ]
            ],
            "type": "heatmap"
           }
          ],
          "heatmapgl": [
           {
            "colorbar": {
             "outlinewidth": 0,
             "ticks": ""
            },
            "colorscale": [
             [
              0,
              "#0d0887"
             ],
             [
              0.1111111111111111,
              "#46039f"
             ],
             [
              0.2222222222222222,
              "#7201a8"
             ],
             [
              0.3333333333333333,
              "#9c179e"
             ],
             [
              0.4444444444444444,
              "#bd3786"
             ],
             [
              0.5555555555555556,
              "#d8576b"
             ],
             [
              0.6666666666666666,
              "#ed7953"
             ],
             [
              0.7777777777777778,
              "#fb9f3a"
             ],
             [
              0.8888888888888888,
              "#fdca26"
             ],
             [
              1,
              "#f0f921"
             ]
            ],
            "type": "heatmapgl"
           }
          ],
          "histogram": [
           {
            "marker": {
             "pattern": {
              "fillmode": "overlay",
              "size": 10,
              "solidity": 0.2
             }
            },
            "type": "histogram"
           }
          ],
          "histogram2d": [
           {
            "colorbar": {
             "outlinewidth": 0,
             "ticks": ""
            },
            "colorscale": [
             [
              0,
              "#0d0887"
             ],
             [
              0.1111111111111111,
              "#46039f"
             ],
             [
              0.2222222222222222,
              "#7201a8"
             ],
             [
              0.3333333333333333,
              "#9c179e"
             ],
             [
              0.4444444444444444,
              "#bd3786"
             ],
             [
              0.5555555555555556,
              "#d8576b"
             ],
             [
              0.6666666666666666,
              "#ed7953"
             ],
             [
              0.7777777777777778,
              "#fb9f3a"
             ],
             [
              0.8888888888888888,
              "#fdca26"
             ],
             [
              1,
              "#f0f921"
             ]
            ],
            "type": "histogram2d"
           }
          ],
          "histogram2dcontour": [
           {
            "colorbar": {
             "outlinewidth": 0,
             "ticks": ""
            },
            "colorscale": [
             [
              0,
              "#0d0887"
             ],
             [
              0.1111111111111111,
              "#46039f"
             ],
             [
              0.2222222222222222,
              "#7201a8"
             ],
             [
              0.3333333333333333,
              "#9c179e"
             ],
             [
              0.4444444444444444,
              "#bd3786"
             ],
             [
              0.5555555555555556,
              "#d8576b"
             ],
             [
              0.6666666666666666,
              "#ed7953"
             ],
             [
              0.7777777777777778,
              "#fb9f3a"
             ],
             [
              0.8888888888888888,
              "#fdca26"
             ],
             [
              1,
              "#f0f921"
             ]
            ],
            "type": "histogram2dcontour"
           }
          ],
          "mesh3d": [
           {
            "colorbar": {
             "outlinewidth": 0,
             "ticks": ""
            },
            "type": "mesh3d"
           }
          ],
          "parcoords": [
           {
            "line": {
             "colorbar": {
              "outlinewidth": 0,
              "ticks": ""
             }
            },
            "type": "parcoords"
           }
          ],
          "pie": [
           {
            "automargin": true,
            "type": "pie"
           }
          ],
          "scatter": [
           {
            "fillpattern": {
             "fillmode": "overlay",
             "size": 10,
             "solidity": 0.2
            },
            "type": "scatter"
           }
          ],
          "scatter3d": [
           {
            "line": {
             "colorbar": {
              "outlinewidth": 0,
              "ticks": ""
             }
            },
            "marker": {
             "colorbar": {
              "outlinewidth": 0,
              "ticks": ""
             }
            },
            "type": "scatter3d"
           }
          ],
          "scattercarpet": [
           {
            "marker": {
             "colorbar": {
              "outlinewidth": 0,
              "ticks": ""
             }
            },
            "type": "scattercarpet"
           }
          ],
          "scattergeo": [
           {
            "marker": {
             "colorbar": {
              "outlinewidth": 0,
              "ticks": ""
             }
            },
            "type": "scattergeo"
           }
          ],
          "scattergl": [
           {
            "marker": {
             "colorbar": {
              "outlinewidth": 0,
              "ticks": ""
             }
            },
            "type": "scattergl"
           }
          ],
          "scattermapbox": [
           {
            "marker": {
             "colorbar": {
              "outlinewidth": 0,
              "ticks": ""
             }
            },
            "type": "scattermapbox"
           }
          ],
          "scatterpolar": [
           {
            "marker": {
             "colorbar": {
              "outlinewidth": 0,
              "ticks": ""
             }
            },
            "type": "scatterpolar"
           }
          ],
          "scatterpolargl": [
           {
            "marker": {
             "colorbar": {
              "outlinewidth": 0,
              "ticks": ""
             }
            },
            "type": "scatterpolargl"
           }
          ],
          "scatterternary": [
           {
            "marker": {
             "colorbar": {
              "outlinewidth": 0,
              "ticks": ""
             }
            },
            "type": "scatterternary"
           }
          ],
          "surface": [
           {
            "colorbar": {
             "outlinewidth": 0,
             "ticks": ""
            },
            "colorscale": [
             [
              0,
              "#0d0887"
             ],
             [
              0.1111111111111111,
              "#46039f"
             ],
             [
              0.2222222222222222,
              "#7201a8"
             ],
             [
              0.3333333333333333,
              "#9c179e"
             ],
             [
              0.4444444444444444,
              "#bd3786"
             ],
             [
              0.5555555555555556,
              "#d8576b"
             ],
             [
              0.6666666666666666,
              "#ed7953"
             ],
             [
              0.7777777777777778,
              "#fb9f3a"
             ],
             [
              0.8888888888888888,
              "#fdca26"
             ],
             [
              1,
              "#f0f921"
             ]
            ],
            "type": "surface"
           }
          ],
          "table": [
           {
            "cells": {
             "fill": {
              "color": "#EBF0F8"
             },
             "line": {
              "color": "white"
             }
            },
            "header": {
             "fill": {
              "color": "#C8D4E3"
             },
             "line": {
              "color": "white"
             }
            },
            "type": "table"
           }
          ]
         },
         "layout": {
          "annotationdefaults": {
           "arrowcolor": "#2a3f5f",
           "arrowhead": 0,
           "arrowwidth": 1
          },
          "autotypenumbers": "strict",
          "coloraxis": {
           "colorbar": {
            "outlinewidth": 0,
            "ticks": ""
           }
          },
          "colorscale": {
           "diverging": [
            [
             0,
             "#8e0152"
            ],
            [
             0.1,
             "#c51b7d"
            ],
            [
             0.2,
             "#de77ae"
            ],
            [
             0.3,
             "#f1b6da"
            ],
            [
             0.4,
             "#fde0ef"
            ],
            [
             0.5,
             "#f7f7f7"
            ],
            [
             0.6,
             "#e6f5d0"
            ],
            [
             0.7,
             "#b8e186"
            ],
            [
             0.8,
             "#7fbc41"
            ],
            [
             0.9,
             "#4d9221"
            ],
            [
             1,
             "#276419"
            ]
           ],
           "sequential": [
            [
             0,
             "#0d0887"
            ],
            [
             0.1111111111111111,
             "#46039f"
            ],
            [
             0.2222222222222222,
             "#7201a8"
            ],
            [
             0.3333333333333333,
             "#9c179e"
            ],
            [
             0.4444444444444444,
             "#bd3786"
            ],
            [
             0.5555555555555556,
             "#d8576b"
            ],
            [
             0.6666666666666666,
             "#ed7953"
            ],
            [
             0.7777777777777778,
             "#fb9f3a"
            ],
            [
             0.8888888888888888,
             "#fdca26"
            ],
            [
             1,
             "#f0f921"
            ]
           ],
           "sequentialminus": [
            [
             0,
             "#0d0887"
            ],
            [
             0.1111111111111111,
             "#46039f"
            ],
            [
             0.2222222222222222,
             "#7201a8"
            ],
            [
             0.3333333333333333,
             "#9c179e"
            ],
            [
             0.4444444444444444,
             "#bd3786"
            ],
            [
             0.5555555555555556,
             "#d8576b"
            ],
            [
             0.6666666666666666,
             "#ed7953"
            ],
            [
             0.7777777777777778,
             "#fb9f3a"
            ],
            [
             0.8888888888888888,
             "#fdca26"
            ],
            [
             1,
             "#f0f921"
            ]
           ]
          },
          "colorway": [
           "#636efa",
           "#EF553B",
           "#00cc96",
           "#ab63fa",
           "#FFA15A",
           "#19d3f3",
           "#FF6692",
           "#B6E880",
           "#FF97FF",
           "#FECB52"
          ],
          "font": {
           "color": "#2a3f5f"
          },
          "geo": {
           "bgcolor": "white",
           "lakecolor": "white",
           "landcolor": "#E5ECF6",
           "showlakes": true,
           "showland": true,
           "subunitcolor": "white"
          },
          "hoverlabel": {
           "align": "left"
          },
          "hovermode": "closest",
          "mapbox": {
           "style": "light"
          },
          "paper_bgcolor": "white",
          "plot_bgcolor": "#E5ECF6",
          "polar": {
           "angularaxis": {
            "gridcolor": "white",
            "linecolor": "white",
            "ticks": ""
           },
           "bgcolor": "#E5ECF6",
           "radialaxis": {
            "gridcolor": "white",
            "linecolor": "white",
            "ticks": ""
           }
          },
          "scene": {
           "xaxis": {
            "backgroundcolor": "#E5ECF6",
            "gridcolor": "white",
            "gridwidth": 2,
            "linecolor": "white",
            "showbackground": true,
            "ticks": "",
            "zerolinecolor": "white"
           },
           "yaxis": {
            "backgroundcolor": "#E5ECF6",
            "gridcolor": "white",
            "gridwidth": 2,
            "linecolor": "white",
            "showbackground": true,
            "ticks": "",
            "zerolinecolor": "white"
           },
           "zaxis": {
            "backgroundcolor": "#E5ECF6",
            "gridcolor": "white",
            "gridwidth": 2,
            "linecolor": "white",
            "showbackground": true,
            "ticks": "",
            "zerolinecolor": "white"
           }
          },
          "shapedefaults": {
           "line": {
            "color": "#2a3f5f"
           }
          },
          "ternary": {
           "aaxis": {
            "gridcolor": "white",
            "linecolor": "white",
            "ticks": ""
           },
           "baxis": {
            "gridcolor": "white",
            "linecolor": "white",
            "ticks": ""
           },
           "bgcolor": "#E5ECF6",
           "caxis": {
            "gridcolor": "white",
            "linecolor": "white",
            "ticks": ""
           }
          },
          "title": {
           "x": 0.05
          },
          "xaxis": {
           "automargin": true,
           "gridcolor": "white",
           "linecolor": "white",
           "ticks": "",
           "title": {
            "standoff": 15
           },
           "zerolinecolor": "white",
           "zerolinewidth": 2
          },
          "yaxis": {
           "automargin": true,
           "gridcolor": "white",
           "linecolor": "white",
           "ticks": "",
           "title": {
            "standoff": 15
           },
           "zerolinecolor": "white",
           "zerolinewidth": 2
          }
         }
        },
        "title": {
         "text": "ARIMA(1, 1, 1) Forecast vs. Actual CO2 Per Capita"
        },
        "xaxis": {
         "autorange": true,
         "range": [
          "1902-01-01",
          "2021-01-01"
         ],
         "title": {
          "text": "Year"
         },
         "type": "date"
        },
        "yaxis": {
         "autorange": true,
         "range": [
          1.1357980566255845,
          9.473451504568889
         ],
         "title": {
          "text": "CO2 Per Capita"
         },
         "type": "linear"
        }
       }
      },
      "image/png": "[encoded data removed]",
      "text/html": [
       "<div>                            <div id=\"c2d6677e-dd40-433d-8845-11cd686bba82\" class=\"plotly-graph-div\" style=\"height:525px; width:100%;\"></div>            <script type=\"text/javascript\">                require([\"plotly\"], function(Plotly) {                    window.PLOTLYENV=window.PLOTLYENV || {};                                    if (document.getElementById(\"c2d6677e-dd40-433d-8845-11cd686bba82\")) {                    Plotly.newPlot(                        \"c2d6677e-dd40-433d-8845-11cd686bba82\",                        [{\"line\":{\"color\":\"blue\"},\"mode\":\"lines\",\"name\":\"Actual\",\"x\":[\"1902-01-01T00:00:00\",\"1903-01-01T00:00:00\",\"1904-01-01T00:00:00\",\"1905-01-01T00:00:00\",\"1906-01-01T00:00:00\",\"1907-01-01T00:00:00\",\"1908-01-01T00:00:00\",\"1909-01-01T00:00:00\",\"1910-01-01T00:00:00\",\"1911-01-01T00:00:00\",\"1912-01-01T00:00:00\",\"1913-01-01T00:00:00\",\"1914-01-01T00:00:00\",\"1915-01-01T00:00:00\",\"1916-01-01T00:00:00\",\"1917-01-01T00:00:00\",\"1918-01-01T00:00:00\",\"1919-01-01T00:00:00\",\"1920-01-01T00:00:00\",\"1921-01-01T00:00:00\",\"1922-01-01T00:00:00\",\"1923-01-01T00:00:00\",\"1924-01-01T00:00:00\",\"1925-01-01T00:00:00\",\"1926-01-01T00:00:00\",\"1927-01-01T00:00:00\",\"1928-01-01T00:00:00\",\"1929-01-01T00:00:00\",\"1930-01-01T00:00:00\",\"1931-01-01T00:00:00\",\"1932-01-01T00:00:00\",\"1933-01-01T00:00:00\",\"1934-01-01T00:00:00\",\"1935-01-01T00:00:00\",\"1936-01-01T00:00:00\",\"1937-01-01T00:00:00\",\"1938-01-01T00:00:00\",\"1939-01-01T00:00:00\",\"1940-01-01T00:00:00\",\"1941-01-01T00:00:00\",\"1942-01-01T00:00:00\",\"1943-01-01T00:00:00\",\"1944-01-01T00:00:00\",\"1945-01-01T00:00:00\",\"1946-01-01T00:00:00\",\"1947-01-01T00:00:00\",\"1948-01-01T00:00:00\",\"1949-01-01T00:00:00\",\"1950-01-01T00:00:00\",\"1951-01-01T00:00:00\",\"1952-01-01T00:00:00\",\"1953-01-01T00:00:00\",\"1954-01-01T00:00:00\",\"1955-01-01T00:00:00\",\"1956-01-01T00:00:00\",\"1957-01-01T00:00:00\",\"1958-01-01T00:00:00\",\"1959-01-01T00:00:00\",\"1960-01-01T00:00:00\",\"1961-01-01T00:00:00\",\"1962-01-01T00:00:00\",\"1963-01-01T00:00:00\",\"1964-01-01T00:00:00\",\"1965-01-01T00:00:00\",\"1966-01-01T00:00:00\",\"1967-01-01T00:00:00\",\"1968-01-01T00:00:00\",\"1969-01-01T00:00:00\",\"1970-01-01T00:00:00\",\"1971-01-01T00:00:00\",\"1972-01-01T00:00:00\",\"1973-01-01T00:00:00\",\"1974-01-01T00:00:00\",\"1975-01-01T00:00:00\",\"1976-01-01T00:00:00\",\"1977-01-01T00:00:00\",\"1978-01-01T00:00:00\",\"1979-01-01T00:00:00\",\"1980-01-01T00:00:00\",\"1981-01-01T00:00:00\",\"1982-01-01T00:00:00\",\"1983-01-01T00:00:00\",\"1984-01-01T00:00:00\",\"1985-01-01T00:00:00\",\"1986-01-01T00:00:00\",\"1987-01-01T00:00:00\",\"1988-01-01T00:00:00\",\"1989-01-01T00:00:00\",\"1990-01-01T00:00:00\",\"1991-01-01T00:00:00\",\"1992-01-01T00:00:00\",\"1993-01-01T00:00:00\",\"1994-01-01T00:00:00\",\"1995-01-01T00:00:00\",\"1996-01-01T00:00:00\",\"1997-01-01T00:00:00\",\"1998-01-01T00:00:00\",\"1999-01-01T00:00:00\",\"2000-01-01T00:00:00\",\"2001-01-01T00:00:00\",\"2002-01-01T00:00:00\",\"2003-01-01T00:00:00\",\"2004-01-01T00:00:00\",\"2005-01-01T00:00:00\",\"2006-01-01T00:00:00\",\"2007-01-01T00:00:00\",\"2008-01-01T00:00:00\",\"2009-01-01T00:00:00\",\"2010-01-01T00:00:00\",\"2011-01-01T00:00:00\",\"2012-01-01T00:00:00\",\"2013-01-01T00:00:00\",\"2014-01-01T00:00:00\",\"2015-01-01T00:00:00\",\"2016-01-01T00:00:00\",\"2017-01-01T00:00:00\",\"2018-01-01T00:00:00\",\"2019-01-01T00:00:00\",\"2020-01-01T00:00:00\",\"2021-01-01T00:00:00\"],\"y\":[2.3652784851887096,2.400299761784454,2.4192997617844543,2.4261508256142417,2.5141508256142417,2.6273210383801993,2.707172102209986,2.6639593362525393,2.58552080197358,2.7146189107206244,2.875529935865692,2.8419676104842178,2.820432365340832,2.717496195128066,2.7051557695961512,2.496943003638705,2.3671983227876408,2.0235846317608135,2.218691014739537,2.120882504101239,2.4083635915716886,2.462257208592965,2.535691014739537,2.509882504101239,2.43615909984592,2.728456972186345,2.7393718658033666,2.932903780696984,2.8479037806969836,2.7964569721863453,2.6550739934629415,2.670055107495932,2.799714681964017,2.8587572351555064,2.982927447921464,3.159629575581038,3.0949274479214637,3.141331703240613,3.183714681964017,3.265711351714248,3.0200305006504187,2.8301827670704003,2.7255870223895493,1.7539874092367445,2.2501150688112124,2.663157622002702,2.8112427283856807,2.9401150688112123,3.5163559080547113,3.828292078267477,3.9278452697568387,3.936249525075988,4.1142069718844985,4.4787601633738605,4.711526120820668,4.865185695288754,4.856972929331307,5.010696333586626,5.289058035714286,5.391845269756839,5.615419737841946,5.894653780395137,6.18048356762918,6.2909090995440735,6.447462291033434,6.5023133548632215,6.851696333586626,7.1537388867781155,7.609398461246201,7.750717610182371,7.993164418693009,8.340185695288755,8.255547397416413,8.148058035714286,8.497866546352583,8.515504844224925,8.764079312310031,8.93976016337386,8.791887822948329,8.46184526975684,8.268696333586625,8.201270801671733,8.341611227203648,8.601377184650456,8.655611227203647,8.590355908054711,8.557419737841945,8.563143142097264,8.982331306990881,8.591841945288754,8.057310030395136,7.720756838905776,7.414395136778116,7.19850151975684,7.417246200607902,7.256841945288754,7.213863221884498,7.015565349544073,7.095841945288753,7.22945896656535,7.269905775075988,7.534607902735562,7.622501519756839,7.550841945288754,7.6802036474164135,7.650735562310031,7.5127021276595745,6.934127659574468,7.212297872340426,7.047553191489362,6.8486170212765956,6.695936170212766,6.478744680851063,6.408404255319149,6.423276595744681,6.501851063829787,6.4488085106382975,6.175595744680851,5.6779361702127655,5.756659574468085],\"type\":\"scatter\"},{\"line\":{\"color\":\"red\",\"dash\":\"dash\"},\"mode\":\"lines\",\"name\":\"ARIMA Forecast\",\"x\":[\"1902-01-01T00:00:00\",\"1903-01-01T00:00:00\",\"1904-01-01T00:00:00\",\"1905-01-01T00:00:00\",\"1906-01-01T00:00:00\",\"1907-01-01T00:00:00\",\"1908-01-01T00:00:00\",\"1909-01-01T00:00:00\",\"1910-01-01T00:00:00\",\"1911-01-01T00:00:00\",\"1912-01-01T00:00:00\",\"1913-01-01T00:00:00\",\"1914-01-01T00:00:00\",\"1915-01-01T00:00:00\",\"1916-01-01T00:00:00\",\"1917-01-01T00:00:00\",\"1918-01-01T00:00:00\",\"1919-01-01T00:00:00\",\"1920-01-01T00:00:00\",\"1921-01-01T00:00:00\",\"1922-01-01T00:00:00\",\"1923-01-01T00:00:00\",\"1924-01-01T00:00:00\",\"1925-01-01T00:00:00\",\"1926-01-01T00:00:00\",\"1927-01-01T00:00:00\",\"1928-01-01T00:00:00\",\"1929-01-01T00:00:00\",\"1930-01-01T00:00:00\",\"1931-01-01T00:00:00\",\"1932-01-01T00:00:00\",\"1933-01-01T00:00:00\",\"1934-01-01T00:00:00\",\"1935-01-01T00:00:00\",\"1936-01-01T00:00:00\",\"1937-01-01T00:00:00\",\"1938-01-01T00:00:00\",\"1939-01-01T00:00:00\",\"1940-01-01T00:00:00\",\"1941-01-01T00:00:00\",\"1942-01-01T00:00:00\",\"1943-01-01T00:00:00\",\"1944-01-01T00:00:00\",\"1945-01-01T00:00:00\",\"1946-01-01T00:00:00\",\"1947-01-01T00:00:00\",\"1948-01-01T00:00:00\",\"1949-01-01T00:00:00\",\"1950-01-01T00:00:00\",\"1951-01-01T00:00:00\",\"1952-01-01T00:00:00\",\"1953-01-01T00:00:00\",\"1954-01-01T00:00:00\",\"1955-01-01T00:00:00\",\"1956-01-01T00:00:00\",\"1957-01-01T00:00:00\",\"1958-01-01T00:00:00\",\"1959-01-01T00:00:00\",\"1960-01-01T00:00:00\",\"1961-01-01T00:00:00\",\"1962-01-01T00:00:00\",\"1963-01-01T00:00:00\",\"1964-01-01T00:00:00\",\"1965-01-01T00:00:00\",\"1966-01-01T00:00:00\",\"1967-01-01T00:00:00\",\"1968-01-01T00:00:00\",\"1969-01-01T00:00:00\",\"1970-01-01T00:00:00\",\"1971-01-01T00:00:00\",\"1972-01-01T00:00:00\",\"1973-01-01T00:00:00\",\"1974-01-01T00:00:00\",\"1975-01-01T00:00:00\",\"1976-01-01T00:00:00\",\"1977-01-01T00:00:00\",\"1978-01-01T00:00:00\",\"1979-01-01T00:00:00\",\"1980-01-01T00:00:00\",\"1981-01-01T00:00:00\",\"1982-01-01T00:00:00\",\"1983-01-01T00:00:00\",\"1984-01-01T00:00:00\",\"1985-01-01T00:00:00\",\"1986-01-01T00:00:00\",\"1987-01-01T00:00:00\",\"1988-01-01T00:00:00\",\"1989-01-01T00:00:00\",\"1990-01-01T00:00:00\",\"1991-01-01T00:00:00\",\"1992-01-01T00:00:00\",\"1993-01-01T00:00:00\",\"1994-01-01T00:00:00\",\"1995-01-01T00:00:00\",\"1996-01-01T00:00:00\",\"1997-01-01T00:00:00\",\"1998-01-01T00:00:00\",\"1999-01-01T00:00:00\",\"2000-01-01T00:00:00\",\"2001-01-01T00:00:00\",\"2002-01-01T00:00:00\",\"2003-01-01T00:00:00\",\"2004-01-01T00:00:00\",\"2005-01-01T00:00:00\",\"2006-01-01T00:00:00\",\"2007-01-01T00:00:00\",\"2008-01-01T00:00:00\",\"2009-01-01T00:00:00\",\"2010-01-01T00:00:00\",\"2011-01-01T00:00:00\",\"2012-01-01T00:00:00\",\"2013-01-01T00:00:00\",\"2014-01-01T00:00:00\",\"2015-01-01T00:00:00\",\"2016-01-01T00:00:00\",\"2017-01-01T00:00:00\",\"2018-01-01T00:00:00\",\"2019-01-01T00:00:00\",\"2020-01-01T00:00:00\",\"2021-01-01T00:00:00\"],\"y\":[2.3707854605929364,2.3600407556462004,2.4033017799877263,2.424715009833973,2.431024782564767,2.5327257241393952,2.659512726444103,2.7428668800080933,2.6808427888101933,2.5835261872254107,2.735476128946616,2.9174347142441426,2.864754347767423,2.8322581215924223,2.7078449461959035,2.6964542148464203,2.455186416472719,2.316413099309657,1.9298467085543125,2.1883703504608127,2.0833869593885552,2.432271583129197,2.487825810404906,2.565753611746276,2.525932298802227,2.434413503372466,2.7775606848068564,2.7747186819150613,2.990295524769869,2.872396309874559,2.8042988553660986,2.636092262798237,2.6596949706654303,2.8149628291258884,2.879309282198081,3.0183006260567433,3.214143512733295,3.1209509850154977,3.167053609230227,3.2085390872815935,3.296740056723145,2.9989070058326788,2.7831194560372667,2.6755119702374706,1.5526807290227498,2.198270700715442,2.6988899670171724,2.8610775554055645,2.99625625982386,3.653770813951377,3.975625701991759,4.045396283033335,4.017817591102307,4.200423038622272,4.600250405813253,4.834383373146085,4.975363451429256,4.930656265007432,5.0873684494951315,5.389212860798292,5.477795977011779,5.712471962729243,6.008849652763343,6.307499319286674,6.396482304848967,6.546357235675389,6.579157318943803,6.964188386996506,7.282382935361832,7.77548333233141,7.888235706807071,8.128611863915236,8.492215141348002,8.344606606390192,8.19026532818216,8.586823686915817,8.579172344254989,8.850245009807708,9.028718229196581,8.827077781009276,8.429042573488793,8.213104541386363,8.151778391398908,8.332024844196066,8.639539145681724,8.690953816983736,8.603217195503698,8.560518828554418,8.566240245434935,9.056568832171724,8.575253189332216,7.954030349332577,7.592453897246143,7.274231325694425,7.065819580960247,7.364448805453007,7.19325602722758,7.163128445982,6.946865229283192,7.062828979479503,7.229948020437927,7.277198489629223,7.585123877028798,7.672056075133187,7.572288084275841,7.717079493416082,7.670799547878225,7.50262723367938,6.827709713238052,7.187626749274354,7.002391133800794,6.783605402517894,6.625354024661521,6.393265839249234,6.338039481985374,6.377875394132156,6.484425617671519,6.42780480565119,6.114270086533502,5.550508453231371],\"type\":\"scatter\"}],                        {\"legend\":{\"x\":0.7,\"y\":0.95},\"title\":{\"text\":\"ARIMA(1, 1, 1) Forecast vs. Actual CO2 Per Capita\"},\"xaxis\":{\"title\":{\"text\":\"Year\"}},\"yaxis\":{\"title\":{\"text\":\"CO2 Per Capita\"}},\"template\":{\"data\":{\"histogram2dcontour\":[{\"type\":\"histogram2dcontour\",\"colorbar\":{\"outlinewidth\":0,\"ticks\":\"\"},\"colorscale\":[[0.0,\"#0d0887\"],[0.1111111111111111,\"#46039f\"],[0.2222222222222222,\"#7201a8\"],[0.3333333333333333,\"#9c179e\"],[0.4444444444444444,\"#bd3786\"],[0.5555555555555556,\"#d8576b\"],[0.6666666666666666,\"#ed7953\"],[0.7777777777777778,\"#fb9f3a\"],[0.8888888888888888,\"#fdca26\"],[1.0,\"#f0f921\"]]}],\"choropleth\":[{\"type\":\"choropleth\",\"colorbar\":{\"outlinewidth\":0,\"ticks\":\"\"}}],\"histogram2d\":[{\"type\":\"histogram2d\",\"colorbar\":{\"outlinewidth\":0,\"ticks\":\"\"},\"colorscale\":[[0.0,\"#0d0887\"],[0.1111111111111111,\"#46039f\"],[0.2222222222222222,\"#7201a8\"],[0.3333333333333333,\"#9c179e\"],[0.4444444444444444,\"#bd3786\"],[0.5555555555555556,\"#d8576b\"],[0.6666666666666666,\"#ed7953\"],[0.7777777777777778,\"#fb9f3a\"],[0.8888888888888888,\"#fdca26\"],[1.0,\"#f0f921\"]]}],\"heatmap\":[{\"type\":\"heatmap\",\"colorbar\":{\"outlinewidth\":0,\"ticks\":\"\"},\"colorscale\":[[0.0,\"#0d0887\"],[0.1111111111111111,\"#46039f\"],[0.2222222222222222,\"#7201a8\"],[0.3333333333333333,\"#9c179e\"],[0.4444444444444444,\"#bd3786\"],[0.5555555555555556,\"#d8576b\"],[0.6666666666666666,\"#ed7953\"],[0.7777777777777778,\"#fb9f3a\"],[0.8888888888888888,\"#fdca26\"],[1.0,\"#f0f921\"]]}],\"heatmapgl\":[{\"type\":\"heatmapgl\",\"colorbar\":{\"outlinewidth\":0,\"ticks\":\"\"},\"colorscale\":[[0.0,\"#0d0887\"],[0.1111111111111111,\"#46039f\"],[0.2222222222222222,\"#7201a8\"],[0.3333333333333333,\"#9c179e\"],[0.4444444444444444,\"#bd3786\"],[0.5555555555555556,\"#d8576b\"],[0.6666666666666666,\"#ed7953\"],[0.7777777777777778,\"#fb9f3a\"],[0.8888888888888888,\"#fdca26\"],[1.0,\"#f0f921\"]]}],\"contourcarpet\":[{\"type\":\"contourcarpet\",\"colorbar\":{\"outlinewidth\":0,\"ticks\":\"\"}}],\"contour\":[{\"type\":\"contour\",\"colorbar\":{\"outlinewidth\":0,\"ticks\":\"\"},\"colorscale\":[[0.0,\"#0d0887\"],[0.1111111111111111,\"#46039f\"],[0.2222222222222222,\"#7201a8\"],[0.3333333333333333,\"#9c179e\"],[0.4444444444444444,\"#bd3786\"],[0.5555555555555556,\"#d8576b\"],[0.6666666666666666,\"#ed7953\"],[0.7777777777777778,\"#fb9f3a\"],[0.8888888888888888,\"#fdca26\"],[1.0,\"#f0f921\"]]}],\"surface\":[{\"type\":\"surface\",\"colorbar\":{\"outlinewidth\":0,\"ticks\":\"\"},\"colorscale\":[[0.0,\"#0d0887\"],[0.1111111111111111,\"#46039f\"],[0.2222222222222222,\"#7201a8\"],[0.3333333333333333,\"#9c179e\"],[0.4444444444444444,\"#bd3786\"],[0.5555555555555556,\"#d8576b\"],[0.6666666666666666,\"#ed7953\"],[0.7777777777777778,\"#fb9f3a\"],[0.8888888888888888,\"#fdca26\"],[1.0,\"#f0f921\"]]}],\"mesh3d\":[{\"type\":\"mesh3d\",\"colorbar\":{\"outlinewidth\":0,\"ticks\":\"\"}}],\"scatter\":[{\"fillpattern\":{\"fillmode\":\"overlay\",\"size\":10,\"solidity\":0.2},\"type\":\"scatter\"}],\"parcoords\":[{\"type\":\"parcoords\",\"line\":{\"colorbar\":{\"outlinewidth\":0,\"ticks\":\"\"}}}],\"scatterpolargl\":[{\"type\":\"scatterpolargl\",\"marker\":{\"colorbar\":{\"outlinewidth\":0,\"ticks\":\"\"}}}],\"bar\":[{\"error_x\":{\"color\":\"#2a3f5f\"},\"error_y\":{\"color\":\"#2a3f5f\"},\"marker\":{\"line\":{\"color\":\"#E5ECF6\",\"width\":0.5},\"pattern\":{\"fillmode\":\"overlay\",\"size\":10,\"solidity\":0.2}},\"type\":\"bar\"}],\"scattergeo\":[{\"type\":\"scattergeo\",\"marker\":{\"colorbar\":{\"outlinewidth\":0,\"ticks\":\"\"}}}],\"scatterpolar\":[{\"type\":\"scatterpolar\",\"marker\":{\"colorbar\":{\"outlinewidth\":0,\"ticks\":\"\"}}}],\"histogram\":[{\"marker\":{\"pattern\":{\"fillmode\":\"overlay\",\"size\":10,\"solidity\":0.2}},\"type\":\"histogram\"}],\"scattergl\":[{\"type\":\"scattergl\",\"marker\":{\"colorbar\":{\"outlinewidth\":0,\"ticks\":\"\"}}}],\"scatter3d\":[{\"type\":\"scatter3d\",\"line\":{\"colorbar\":{\"outlinewidth\":0,\"ticks\":\"\"}},\"marker\":{\"colorbar\":{\"outlinewidth\":0,\"ticks\":\"\"}}}],\"scattermapbox\":[{\"type\":\"scattermapbox\",\"marker\":{\"colorbar\":{\"outlinewidth\":0,\"ticks\":\"\"}}}],\"scatterternary\":[{\"type\":\"scatterternary\",\"marker\":{\"colorbar\":{\"outlinewidth\":0,\"ticks\":\"\"}}}],\"scattercarpet\":[{\"type\":\"scattercarpet\",\"marker\":{\"colorbar\":{\"outlinewidth\":0,\"ticks\":\"\"}}}],\"carpet\":[{\"aaxis\":{\"endlinecolor\":\"#2a3f5f\",\"gridcolor\":\"white\",\"linecolor\":\"white\",\"minorgridcolor\":\"white\",\"startlinecolor\":\"#2a3f5f\"},\"baxis\":{\"endlinecolor\":\"#2a3f5f\",\"gridcolor\":\"white\",\"linecolor\":\"white\",\"minorgridcolor\":\"white\",\"startlinecolor\":\"#2a3f5f\"},\"type\":\"carpet\"}],\"table\":[{\"cells\":{\"fill\":{\"color\":\"#EBF0F8\"},\"line\":{\"color\":\"white\"}},\"header\":{\"fill\":{\"color\":\"#C8D4E3\"},\"line\":{\"color\":\"white\"}},\"type\":\"table\"}],\"barpolar\":[{\"marker\":{\"line\":{\"color\":\"#E5ECF6\",\"width\":0.5},\"pattern\":{\"fillmode\":\"overlay\",\"size\":10,\"solidity\":0.2}},\"type\":\"barpolar\"}],\"pie\":[{\"automargin\":true,\"type\":\"pie\"}]},\"layout\":{\"autotypenumbers\":\"strict\",\"colorway\":[\"#636efa\",\"#EF553B\",\"#00cc96\",\"#ab63fa\",\"#FFA15A\",\"#19d3f3\",\"#FF6692\",\"#B6E880\",\"#FF97FF\",\"#FECB52\"],\"font\":{\"color\":\"#2a3f5f\"},\"hovermode\":\"closest\",\"hoverlabel\":{\"align\":\"left\"},\"paper_bgcolor\":\"white\",\"plot_bgcolor\":\"#E5ECF6\",\"polar\":{\"bgcolor\":\"#E5ECF6\",\"angularaxis\":{\"gridcolor\":\"white\",\"linecolor\":\"white\",\"ticks\":\"\"},\"radialaxis\":{\"gridcolor\":\"white\",\"linecolor\":\"white\",\"ticks\":\"\"}},\"ternary\":{\"bgcolor\":\"#E5ECF6\",\"aaxis\":{\"gridcolor\":\"white\",\"linecolor\":\"white\",\"ticks\":\"\"},\"baxis\":{\"gridcolor\":\"white\",\"linecolor\":\"white\",\"ticks\":\"\"},\"caxis\":{\"gridcolor\":\"white\",\"linecolor\":\"white\",\"ticks\":\"\"}},\"coloraxis\":{\"colorbar\":{\"outlinewidth\":0,\"ticks\":\"\"}},\"colorscale\":{\"sequential\":[[0.0,\"#0d0887\"],[0.1111111111111111,\"#46039f\"],[0.2222222222222222,\"#7201a8\"],[0.3333333333333333,\"#9c179e\"],[0.4444444444444444,\"#bd3786\"],[0.5555555555555556,\"#d8576b\"],[0.6666666666666666,\"#ed7953\"],[0.7777777777777778,\"#fb9f3a\"],[0.8888888888888888,\"#fdca26\"],[1.0,\"#f0f921\"]],\"sequentialminus\":[[0.0,\"#0d0887\"],[0.1111111111111111,\"#46039f\"],[0.2222222222222222,\"#7201a8\"],[0.3333333333333333,\"#9c179e\"],[0.4444444444444444,\"#bd3786\"],[0.5555555555555556,\"#d8576b\"],[0.6666666666666666,\"#ed7953\"],[0.7777777777777778,\"#fb9f3a\"],[0.8888888888888888,\"#fdca26\"],[1.0,\"#f0f921\"]],\"diverging\":[[0,\"#8e0152\"],[0.1,\"#c51b7d\"],[0.2,\"#de77ae\"],[0.3,\"#f1b6da\"],[0.4,\"#fde0ef\"],[0.5,\"#f7f7f7\"],[0.6,\"#e6f5d0\"],[0.7,\"#b8e186\"],[0.8,\"#7fbc41\"],[0.9,\"#4d9221\"],[1,\"#276419\"]]},\"xaxis\":{\"gridcolor\":\"white\",\"linecolor\":\"white\",\"ticks\":\"\",\"title\":{\"standoff\":15},\"zerolinecolor\":\"white\",\"automargin\":true,\"zerolinewidth\":2},\"yaxis\":{\"gridcolor\":\"white\",\"linecolor\":\"white\",\"ticks\":\"\",\"title\":{\"standoff\":15},\"zerolinecolor\":\"white\",\"automargin\":true,\"zerolinewidth\":2},\"scene\":{\"xaxis\":{\"backgroundcolor\":\"#E5ECF6\",\"gridcolor\":\"white\",\"linecolor\":\"white\",\"showbackground\":true,\"ticks\":\"\",\"zerolinecolor\":\"white\",\"gridwidth\":2},\"yaxis\":{\"backgroundcolor\":\"#E5ECF6\",\"gridcolor\":\"white\",\"linecolor\":\"white\",\"showbackground\":true,\"ticks\":\"\",\"zerolinecolor\":\"white\",\"gridwidth\":2},\"zaxis\":{\"backgroundcolor\":\"#E5ECF6\",\"gridcolor\":\"white\",\"linecolor\":\"white\",\"showbackground\":true,\"ticks\":\"\",\"zerolinecolor\":\"white\",\"gridwidth\":2}},\"shapedefaults\":{\"line\":{\"color\":\"#2a3f5f\"}},\"annotationdefaults\":{\"arrowcolor\":\"#2a3f5f\",\"arrowhead\":0,\"arrowwidth\":1},\"geo\":{\"bgcolor\":\"white\",\"landcolor\":\"#E5ECF6\",\"subunitcolor\":\"white\",\"showland\":true,\"showlakes\":true,\"lakecolor\":\"white\"},\"title\":{\"x\":0.05},\"mapbox\":{\"style\":\"light\"}}}},                        {\"responsive\": true}                    ).then(function(){\n",
       "                            \n",
       "var gd = document.getElementById('c2d6677e-dd40-433d-8845-11cd686bba82');\n",
       "var x = new MutationObserver(function (mutations, observer) {{\n",
       "        var display = window.getComputedStyle(gd).display;\n",
       "        if (!display || display === 'none') {{\n",
       "            console.log([gd, 'removed!']);\n",
       "            Plotly.purge(gd);\n",
       "            observer.disconnect();\n",
       "        }}\n",
       "}});\n",
       "\n",
       "// Listen for the removal of the full notebook cells\n",
       "var notebookContainer = gd.closest('#notebook-container');\n",
       "if (notebookContainer) {{\n",
       "    x.observe(notebookContainer, {childList: true});\n",
       "}}\n",
       "\n",
       "// Listen for the clearing of the current output cell\n",
       "var outputEl = gd.closest('.output');\n",
       "if (outputEl) {{\n",
       "    x.observe(outputEl, {childList: true});\n",
       "}}\n",
       "\n",
       "                        })                };                });            </script>        </div>"
      ]
     },
     "metadata": {},
     "output_type": "display_data"
    }
   ],
   "source": [
    "import plotly.graph_objs as go\n",
    "# Set the index of the DataFrame to the 'Year' column\n",
    "df.set_index('year', inplace=True)\n",
    "\n",
    "\n",
    "# Create traces for actual and ARIMA forecast values\n",
    "trace_actual = go.Scatter(x=df.index[2:], y=df['co2_per_capita'].iloc[2:], mode='lines', name='Actual', line=dict(color='blue'))\n",
    "trace_arima = go.Scatter(x=df.index[2:], y=df['ARIMA'].iloc[2:], mode='lines', name='ARIMA Forecast', line=dict(color='red', dash='dash'))\n",
    "\n",
    "# Create layout\n",
    "layout = go.Layout(title='ARIMA(1, 1, 1) Forecast vs. Actual CO2 Per Capita',\n",
    "                   xaxis=dict(title='Year'),\n",
    "                   yaxis=dict(title='CO2 Per Capita'),\n",
    "                   legend=dict(x=0.7, y=0.95))\n",
    "\n",
    "# Combine traces and layout\n",
    "fig = go.Figure(data=[trace_actual, trace_arima], layout=layout)\n",
    "\n",
    "# Show plot\n",
    "fig.show()\n"
   ]
  },
  {
   "cell_type": "raw",
   "id": "6e08c729-f0ed-40c7-8361-33a1ca27764b",
   "metadata": {},
   "source": [
    "# Set the index of the DataFrame to the 'Year' column\n",
    "df.set_index('year', inplace=True)\n",
    "\n",
    "# Declare the objects f and array axarr\n",
    "f, axarr = plt.subplots(1, sharex=True)\n",
    "f.set_size_inches(5.5, 5.5)\n",
    "\n",
    "# Ignore first two rows because of difference factor d = 2\n",
    "df['co2_per_capita'].iloc[2:].plot(color='b', linestyle='-', ax=axarr, label='Actual')\n",
    "df['ARIMA'].iloc[2:].plot(color='r', linestyle='--', ax=axarr, label='ARIMA Forecast')\n",
    "axarr.set_title('ARIMA(1, 1, 1)')\n",
    "axarr.set_xlabel('Year')\n",
    "axarr.set_ylabel('CO2 Per Capita')\n",
    "axarr.legend()  # Add legend\n",
    "\n",
    "plt.show()\n"
   ]
  },
  {
   "cell_type": "code",
   "execution_count": 87,
   "id": "934f2c2b",
   "metadata": {},
   "outputs": [],
   "source": [
    "from sklearn.metrics import mean_squared_error"
   ]
  },
  {
   "cell_type": "code",
   "execution_count": null,
   "id": "3b838cde-3341-42cc-9955-f07ff3471135",
   "metadata": {},
   "outputs": [],
   "source": []
  },
  {
   "cell_type": "code",
   "execution_count": 88,
   "id": "8796a710-0fa7-4a1e-86c0-f35527cd7dec",
   "metadata": {},
   "outputs": [],
   "source": [
    "# Split the data into train and test\n",
    "train_size = int(len(df) * 0.8)\n",
    "train, test = df[0:train_size], df[train_size:len(df)]"
   ]
  },
  {
   "cell_type": "code",
   "execution_count": 89,
   "id": "930df5a9-c320-4a3c-ba48-12e84585d604",
   "metadata": {},
   "outputs": [
    {
     "data": {
      "text/html": [
       "<table class=\"simpletable\">\n",
       "<caption>SARIMAX Results</caption>\n",
       "<tr>\n",
       "  <th>Dep. Variable:</th>    <td>co2_per_capita</td>  <th>  No. Observations:  </th>   <td>97</td>   \n",
       "</tr>\n",
       "<tr>\n",
       "  <th>Model:</th>            <td>ARIMA(1, 1, 1)</td>  <th>  Log Likelihood     </th>  <td>9.331</td> \n",
       "</tr>\n",
       "<tr>\n",
       "  <th>Date:</th>            <td>Tue, 14 May 2024</td> <th>  AIC                </th> <td>-12.662</td>\n",
       "</tr>\n",
       "<tr>\n",
       "  <th>Time:</th>                <td>22:17:20</td>     <th>  BIC                </th> <td>-4.969</td> \n",
       "</tr>\n",
       "<tr>\n",
       "  <th>Sample:</th>             <td>01-01-1900</td>    <th>  HQIC               </th> <td>-9.552</td> \n",
       "</tr>\n",
       "<tr>\n",
       "  <th></th>                   <td>- 01-01-1996</td>   <th>                     </th>    <td> </td>   \n",
       "</tr>\n",
       "<tr>\n",
       "  <th>Covariance Type:</th>        <td>opg</td>       <th>                     </th>    <td> </td>   \n",
       "</tr>\n",
       "</table>\n",
       "<table class=\"simpletable\">\n",
       "<tr>\n",
       "     <td></td>       <th>coef</th>     <th>std err</th>      <th>z</th>      <th>P>|z|</th>  <th>[0.025</th>    <th>0.975]</th>  \n",
       "</tr>\n",
       "<tr>\n",
       "  <th>ar.L1</th>  <td>    0.7422</td> <td>    0.179</td> <td>    4.146</td> <td> 0.000</td> <td>    0.391</td> <td>    1.093</td>\n",
       "</tr>\n",
       "<tr>\n",
       "  <th>ma.L1</th>  <td>   -0.5027</td> <td>    0.208</td> <td>   -2.417</td> <td> 0.016</td> <td>   -0.910</td> <td>   -0.095</td>\n",
       "</tr>\n",
       "<tr>\n",
       "  <th>sigma2</th> <td>    0.0481</td> <td>    0.004</td> <td>   10.827</td> <td> 0.000</td> <td>    0.039</td> <td>    0.057</td>\n",
       "</tr>\n",
       "</table>\n",
       "<table class=\"simpletable\">\n",
       "<tr>\n",
       "  <th>Ljung-Box (L1) (Q):</th>     <td>0.02</td> <th>  Jarque-Bera (JB):  </th> <td>56.69</td>\n",
       "</tr>\n",
       "<tr>\n",
       "  <th>Prob(Q):</th>                <td>0.89</td> <th>  Prob(JB):          </th> <td>0.00</td> \n",
       "</tr>\n",
       "<tr>\n",
       "  <th>Heteroskedasticity (H):</th> <td>2.85</td> <th>  Skew:              </th> <td>-0.44</td>\n",
       "</tr>\n",
       "<tr>\n",
       "  <th>Prob(H) (two-sided):</th>    <td>0.00</td> <th>  Kurtosis:          </th> <td>6.66</td> \n",
       "</tr>\n",
       "</table><br/><br/>Warnings:<br/>[1] Covariance matrix calculated using the outer product of gradients (complex-step)."
      ],
      "text/latex": [
       "\\begin{center}\n",
       "\\begin{tabular}{lclc}\n",
       "\\toprule\n",
       "\\textbf{Dep. Variable:}          & co2\\_per\\_capita & \\textbf{  No. Observations:  } &     97      \\\\\n",
       "\\textbf{Model:}                  &  ARIMA(1, 1, 1)  & \\textbf{  Log Likelihood     } &   9.331     \\\\\n",
       "\\textbf{Date:}                   & Tue, 14 May 2024 & \\textbf{  AIC                } &  -12.662    \\\\\n",
       "\\textbf{Time:}                   &     22:17:20     & \\textbf{  BIC                } &   -4.969    \\\\\n",
       "\\textbf{Sample:}                 &    01-01-1900    & \\textbf{  HQIC               } &   -9.552    \\\\\n",
       "\\textbf{}                        &   - 01-01-1996   & \\textbf{                     } &             \\\\\n",
       "\\textbf{Covariance Type:}        &       opg        & \\textbf{                     } &             \\\\\n",
       "\\bottomrule\n",
       "\\end{tabular}\n",
       "\\begin{tabular}{lcccccc}\n",
       "                & \\textbf{coef} & \\textbf{std err} & \\textbf{z} & \\textbf{P$> |$z$|$} & \\textbf{[0.025} & \\textbf{0.975]}  \\\\\n",
       "\\midrule\n",
       "\\textbf{ar.L1}  &       0.7422  &        0.179     &     4.146  &         0.000        &        0.391    &        1.093     \\\\\n",
       "\\textbf{ma.L1}  &      -0.5027  &        0.208     &    -2.417  &         0.016        &       -0.910    &       -0.095     \\\\\n",
       "\\textbf{sigma2} &       0.0481  &        0.004     &    10.827  &         0.000        &        0.039    &        0.057     \\\\\n",
       "\\bottomrule\n",
       "\\end{tabular}\n",
       "\\begin{tabular}{lclc}\n",
       "\\textbf{Ljung-Box (L1) (Q):}     & 0.02 & \\textbf{  Jarque-Bera (JB):  } & 56.69  \\\\\n",
       "\\textbf{Prob(Q):}                & 0.89 & \\textbf{  Prob(JB):          } &  0.00  \\\\\n",
       "\\textbf{Heteroskedasticity (H):} & 2.85 & \\textbf{  Skew:              } & -0.44  \\\\\n",
       "\\textbf{Prob(H) (two-sided):}    & 0.00 & \\textbf{  Kurtosis:          } &  6.66  \\\\\n",
       "\\bottomrule\n",
       "\\end{tabular}\n",
       "%\\caption{SARIMAX Results}\n",
       "\\end{center}\n",
       "\n",
       "Warnings: \\newline\n",
       " [1] Covariance matrix calculated using the outer product of gradients (complex-step)."
      ],
      "text/plain": [
       "<class 'statsmodels.iolib.summary.Summary'>\n",
       "\"\"\"\n",
       "                               SARIMAX Results                                \n",
       "==============================================================================\n",
       "Dep. Variable:         co2_per_capita   No. Observations:                   97\n",
       "Model:                 ARIMA(1, 1, 1)   Log Likelihood                   9.331\n",
       "Date:                Tue, 14 May 2024   AIC                            -12.662\n",
       "Time:                        22:17:20   BIC                             -4.969\n",
       "Sample:                    01-01-1900   HQIC                            -9.552\n",
       "                         - 01-01-1996                                         \n",
       "Covariance Type:                  opg                                         \n",
       "==============================================================================\n",
       "                 coef    std err          z      P>|z|      [0.025      0.975]\n",
       "------------------------------------------------------------------------------\n",
       "ar.L1          0.7422      0.179      4.146      0.000       0.391       1.093\n",
       "ma.L1         -0.5027      0.208     -2.417      0.016      -0.910      -0.095\n",
       "sigma2         0.0481      0.004     10.827      0.000       0.039       0.057\n",
       "===================================================================================\n",
       "Ljung-Box (L1) (Q):                   0.02   Jarque-Bera (JB):                56.69\n",
       "Prob(Q):                              0.89   Prob(JB):                         0.00\n",
       "Heteroskedasticity (H):               2.85   Skew:                            -0.44\n",
       "Prob(H) (two-sided):                  0.00   Kurtosis:                         6.66\n",
       "===================================================================================\n",
       "\n",
       "Warnings:\n",
       "[1] Covariance matrix calculated using the outer product of gradients (complex-step).\n",
       "\"\"\""
      ]
     },
     "execution_count": 89,
     "metadata": {},
     "output_type": "execute_result"
    }
   ],
   "source": [
    "# Fit the ARIMA model on the training dataset\n",
    "model_train = ARIMA(train['co2_per_capita'], order=(1, 1, 1))\n",
    "model_train_fit = model_train.fit()\n",
    "model_train_fit.summary()"
   ]
  },
  {
   "cell_type": "code",
   "execution_count": 90,
   "id": "89b435fe-8319-49d4-8dbc-187c254bf3ae",
   "metadata": {},
   "outputs": [],
   "source": [
    "# Forecast on the test dataset\n",
    "test_forecast = model_train_fit.get_forecast(steps=len(test))\n",
    "test_forecast_series = pd.Series(test_forecast.predicted_mean, index=test.index)"
   ]
  },
  {
   "cell_type": "code",
   "execution_count": 91,
   "id": "07d1fb6b-9f5a-408d-93d4-d806f6642e7f",
   "metadata": {},
   "outputs": [
    {
     "name": "stdout",
     "output_type": "stream",
     "text": [
      "[7.36444881 7.19325603 7.16312845 6.94686523 7.06282898 7.22994802\n",
      " 7.27719849 7.58512388 7.67205608 7.57228808 7.71707949 7.67079955\n",
      " 7.50262723 6.82770971 7.18762675 7.00239113 6.7836054  6.62535402\n",
      " 6.39326584 6.33803948 6.37787539 6.48442562 6.42780481 6.11427009\n",
      " 5.55050845]\n"
     ]
    }
   ],
   "source": [
    "# Make Predictionson Test Set\n",
    "\n",
    "start = len(train)\n",
    "end = len(train) + len(test) -1\n",
    "pred = model_fit.predict(start = start, end = end, typ = 'levels')\n",
    "#pred.index = df.index[start: end +1]\n",
    "print(pred)"
   ]
  },
  {
   "cell_type": "raw",
   "id": "64a60e65-4c45-46ae-9993-5cccf81aa83d",
   "metadata": {},
   "source": [
    "# Compare predicted values with actual values\n",
    "comparison_df = pd.DataFrame({'Actual_CO2_Per_Capita': test['co2_per_capita'], 'Predicted_CO2_Per_Capita': pred})\n",
    "print(comparison_df)"
   ]
  },
  {
   "cell_type": "code",
   "execution_count": 128,
   "id": "cead2e74-ebf3-4d2e-8b17-62ccdf504386",
   "metadata": {},
   "outputs": [],
   "source": [
    "# Define the start and end dates for the future predictions\n",
    "start_date = '2020-01-01'\n",
    "end_date = pd.to_datetime(start_date) + pd.DateOffset(years=50)\n",
    "# Generate future dates\n",
    "future_index = pd.date_range(start=start_date, end=end_date, freq='Y')\n",
    "\n",
    "# Make future predictions\n",
    "forecast = model_fit.forecast(steps=len(future_index))"
   ]
  },
  {
   "cell_type": "code",
   "execution_count": 93,
   "id": "f8d97080",
   "metadata": {},
   "outputs": [
    {
     "name": "stdout",
     "output_type": "stream",
     "text": [
      "Test RMSE: 0.716\n"
     ]
    }
   ],
   "source": [
    "# Calculate the mean squared error\n",
    "mse = mean_squared_error(test['co2_per_capita'], test_forecast_series)\n",
    "rmse = mse**0.5\n",
    "# Print RMSE\n",
    "print('Test RMSE: %.3f' % rmse)"
   ]
  },
  {
   "cell_type": "code",
   "execution_count": 129,
   "id": "32c19f3d-30ac-4318-a1fc-334171ed3c13",
   "metadata": {},
   "outputs": [
    {
     "ename": "KeyError",
     "evalue": "'year'",
     "output_type": "error",
     "traceback": [
      "\u001b[1;31m---------------------------------------------------------------------------\u001b[0m",
      "\u001b[1;31mKeyError\u001b[0m                                  Traceback (most recent call last)",
      "File \u001b[1;32m~\\Downloads\\Newfolder\\Lib\\site-packages\\pandas\\core\\indexes\\base.py:3791\u001b[0m, in \u001b[0;36mIndex.get_loc\u001b[1;34m(self, key)\u001b[0m\n\u001b[0;32m   3790\u001b[0m \u001b[38;5;28;01mtry\u001b[39;00m:\n\u001b[1;32m-> 3791\u001b[0m     \u001b[38;5;28;01mreturn\u001b[39;00m \u001b[38;5;28mself\u001b[39m\u001b[38;5;241m.\u001b[39m_engine\u001b[38;5;241m.\u001b[39mget_loc(casted_key)\n\u001b[0;32m   3792\u001b[0m \u001b[38;5;28;01mexcept\u001b[39;00m \u001b[38;5;167;01mKeyError\u001b[39;00m \u001b[38;5;28;01mas\u001b[39;00m err:\n",
      "File \u001b[1;32mindex.pyx:152\u001b[0m, in \u001b[0;36mpandas._libs.index.IndexEngine.get_loc\u001b[1;34m()\u001b[0m\n",
      "File \u001b[1;32mindex.pyx:181\u001b[0m, in \u001b[0;36mpandas._libs.index.IndexEngine.get_loc\u001b[1;34m()\u001b[0m\n",
      "File \u001b[1;32mpandas\\_libs\\hashtable_class_helper.pxi:7080\u001b[0m, in \u001b[0;36mpandas._libs.hashtable.PyObjectHashTable.get_item\u001b[1;34m()\u001b[0m\n",
      "File \u001b[1;32mpandas\\_libs\\hashtable_class_helper.pxi:7088\u001b[0m, in \u001b[0;36mpandas._libs.hashtable.PyObjectHashTable.get_item\u001b[1;34m()\u001b[0m\n",
      "\u001b[1;31mKeyError\u001b[0m: 'year'",
      "\nThe above exception was the direct cause of the following exception:\n",
      "\u001b[1;31mKeyError\u001b[0m                                  Traceback (most recent call last)",
      "Cell \u001b[1;32mIn[129], line 5\u001b[0m\n\u001b[0;32m      3\u001b[0m \u001b[38;5;66;03m# Create traces for actual and predicted values\u001b[39;00m\n\u001b[0;32m      4\u001b[0m trace_actual \u001b[38;5;241m=\u001b[39m go\u001b[38;5;241m.\u001b[39mScatter(x\u001b[38;5;241m=\u001b[39mall_years[:\u001b[38;5;28mlen\u001b[39m(train)\u001b[38;5;241m+\u001b[39m\u001b[38;5;28mlen\u001b[39m(test)], y\u001b[38;5;241m=\u001b[39mdf[\u001b[38;5;124m'\u001b[39m\u001b[38;5;124mco2_per_capita\u001b[39m\u001b[38;5;124m'\u001b[39m][:\u001b[38;5;28mlen\u001b[39m(train)\u001b[38;5;241m+\u001b[39m\u001b[38;5;28mlen\u001b[39m(test)], mode\u001b[38;5;241m=\u001b[39m\u001b[38;5;124m'\u001b[39m\u001b[38;5;124mlines\u001b[39m\u001b[38;5;124m'\u001b[39m, name\u001b[38;5;241m=\u001b[39m\u001b[38;5;124m'\u001b[39m\u001b[38;5;124mActual CO2 Per Capita (Test Set)\u001b[39m\u001b[38;5;124m'\u001b[39m, line\u001b[38;5;241m=\u001b[39m\u001b[38;5;28mdict\u001b[39m(color\u001b[38;5;241m=\u001b[39m\u001b[38;5;124m'\u001b[39m\u001b[38;5;124mblue\u001b[39m\u001b[38;5;124m'\u001b[39m, width\u001b[38;5;241m=\u001b[39m\u001b[38;5;241m2\u001b[39m))\n\u001b[1;32m----> 5\u001b[0m trace_predicted_test \u001b[38;5;241m=\u001b[39m go\u001b[38;5;241m.\u001b[39mScatter(x\u001b[38;5;241m=\u001b[39mtest[\u001b[38;5;124m'\u001b[39m\u001b[38;5;124myear\u001b[39m\u001b[38;5;124m'\u001b[39m], y\u001b[38;5;241m=\u001b[39mpred, mode\u001b[38;5;241m=\u001b[39m\u001b[38;5;124m'\u001b[39m\u001b[38;5;124mlines\u001b[39m\u001b[38;5;124m'\u001b[39m, name\u001b[38;5;241m=\u001b[39m\u001b[38;5;124m'\u001b[39m\u001b[38;5;124mPredicted CO2 Per Capita (Test Set)\u001b[39m\u001b[38;5;124m'\u001b[39m, line\u001b[38;5;241m=\u001b[39m\u001b[38;5;28mdict\u001b[39m(color\u001b[38;5;241m=\u001b[39m\u001b[38;5;124m'\u001b[39m\u001b[38;5;124mred\u001b[39m\u001b[38;5;124m'\u001b[39m, width\u001b[38;5;241m=\u001b[39m\u001b[38;5;241m2\u001b[39m, dash\u001b[38;5;241m=\u001b[39m\u001b[38;5;124m'\u001b[39m\u001b[38;5;124mdash\u001b[39m\u001b[38;5;124m'\u001b[39m))\n\u001b[0;32m      6\u001b[0m trace_predicted_future \u001b[38;5;241m=\u001b[39m go\u001b[38;5;241m.\u001b[39mScatter(x\u001b[38;5;241m=\u001b[39mall_years[\u001b[38;5;28mlen\u001b[39m(train)\u001b[38;5;241m+\u001b[39m\u001b[38;5;28mlen\u001b[39m(test)\u001b[38;5;241m-\u001b[39m\u001b[38;5;241m1\u001b[39m:], y\u001b[38;5;241m=\u001b[39mall_pred[\u001b[38;5;28mlen\u001b[39m(train)\u001b[38;5;241m+\u001b[39m\u001b[38;5;28mlen\u001b[39m(test)\u001b[38;5;241m-\u001b[39m\u001b[38;5;241m1\u001b[39m:], mode\u001b[38;5;241m=\u001b[39m\u001b[38;5;124m'\u001b[39m\u001b[38;5;124mlines\u001b[39m\u001b[38;5;124m'\u001b[39m, name\u001b[38;5;241m=\u001b[39m\u001b[38;5;124m'\u001b[39m\u001b[38;5;124mPredicted CO2 Per Capita (Future)\u001b[39m\u001b[38;5;124m'\u001b[39m, line\u001b[38;5;241m=\u001b[39m\u001b[38;5;28mdict\u001b[39m(color\u001b[38;5;241m=\u001b[39m\u001b[38;5;124m'\u001b[39m\u001b[38;5;124mgreen\u001b[39m\u001b[38;5;124m'\u001b[39m, width\u001b[38;5;241m=\u001b[39m\u001b[38;5;241m2\u001b[39m, dash\u001b[38;5;241m=\u001b[39m\u001b[38;5;124m'\u001b[39m\u001b[38;5;124mdash\u001b[39m\u001b[38;5;124m'\u001b[39m))\n\u001b[0;32m      8\u001b[0m \u001b[38;5;66;03m# Create layout\u001b[39;00m\n",
      "File \u001b[1;32m~\\Downloads\\Newfolder\\Lib\\site-packages\\pandas\\core\\frame.py:3893\u001b[0m, in \u001b[0;36mDataFrame.__getitem__\u001b[1;34m(self, key)\u001b[0m\n\u001b[0;32m   3891\u001b[0m \u001b[38;5;28;01mif\u001b[39;00m \u001b[38;5;28mself\u001b[39m\u001b[38;5;241m.\u001b[39mcolumns\u001b[38;5;241m.\u001b[39mnlevels \u001b[38;5;241m>\u001b[39m \u001b[38;5;241m1\u001b[39m:\n\u001b[0;32m   3892\u001b[0m     \u001b[38;5;28;01mreturn\u001b[39;00m \u001b[38;5;28mself\u001b[39m\u001b[38;5;241m.\u001b[39m_getitem_multilevel(key)\n\u001b[1;32m-> 3893\u001b[0m indexer \u001b[38;5;241m=\u001b[39m \u001b[38;5;28mself\u001b[39m\u001b[38;5;241m.\u001b[39mcolumns\u001b[38;5;241m.\u001b[39mget_loc(key)\n\u001b[0;32m   3894\u001b[0m \u001b[38;5;28;01mif\u001b[39;00m is_integer(indexer):\n\u001b[0;32m   3895\u001b[0m     indexer \u001b[38;5;241m=\u001b[39m [indexer]\n",
      "File \u001b[1;32m~\\Downloads\\Newfolder\\Lib\\site-packages\\pandas\\core\\indexes\\base.py:3798\u001b[0m, in \u001b[0;36mIndex.get_loc\u001b[1;34m(self, key)\u001b[0m\n\u001b[0;32m   3793\u001b[0m     \u001b[38;5;28;01mif\u001b[39;00m \u001b[38;5;28misinstance\u001b[39m(casted_key, \u001b[38;5;28mslice\u001b[39m) \u001b[38;5;129;01mor\u001b[39;00m (\n\u001b[0;32m   3794\u001b[0m         \u001b[38;5;28misinstance\u001b[39m(casted_key, abc\u001b[38;5;241m.\u001b[39mIterable)\n\u001b[0;32m   3795\u001b[0m         \u001b[38;5;129;01mand\u001b[39;00m \u001b[38;5;28many\u001b[39m(\u001b[38;5;28misinstance\u001b[39m(x, \u001b[38;5;28mslice\u001b[39m) \u001b[38;5;28;01mfor\u001b[39;00m x \u001b[38;5;129;01min\u001b[39;00m casted_key)\n\u001b[0;32m   3796\u001b[0m     ):\n\u001b[0;32m   3797\u001b[0m         \u001b[38;5;28;01mraise\u001b[39;00m InvalidIndexError(key)\n\u001b[1;32m-> 3798\u001b[0m     \u001b[38;5;28;01mraise\u001b[39;00m \u001b[38;5;167;01mKeyError\u001b[39;00m(key) \u001b[38;5;28;01mfrom\u001b[39;00m \u001b[38;5;21;01merr\u001b[39;00m\n\u001b[0;32m   3799\u001b[0m \u001b[38;5;28;01mexcept\u001b[39;00m \u001b[38;5;167;01mTypeError\u001b[39;00m:\n\u001b[0;32m   3800\u001b[0m     \u001b[38;5;66;03m# If we have a listlike key, _check_indexing_error will raise\u001b[39;00m\n\u001b[0;32m   3801\u001b[0m     \u001b[38;5;66;03m#  InvalidIndexError. Otherwise we fall through and re-raise\u001b[39;00m\n\u001b[0;32m   3802\u001b[0m     \u001b[38;5;66;03m#  the TypeError.\u001b[39;00m\n\u001b[0;32m   3803\u001b[0m     \u001b[38;5;28mself\u001b[39m\u001b[38;5;241m.\u001b[39m_check_indexing_error(key)\n",
      "\u001b[1;31mKeyError\u001b[0m: 'year'"
     ]
    }
   ],
   "source": [
    "import plotly.graph_objs as go\n",
    "\n",
    "# Create traces for actual and predicted values\n",
    "trace_actual = go.Scatter(x=all_years[:len(train)+len(test)], y=df['co2_per_capita'][:len(train)+len(test)], mode='lines', name='Actual CO2 Per Capita (Test Set)', line=dict(color='blue', width=2))\n",
    "trace_predicted_test = go.Scatter(x=test['year'], y=pred, mode='lines', name='Predicted CO2 Per Capita (Test Set)', line=dict(color='red', width=2, dash='dash'))\n",
    "trace_predicted_future = go.Scatter(x=all_years[len(train)+len(test)-1:], y=all_pred[len(train)+len(test)-1:], mode='lines', name='Predicted CO2 Per Capita (Future)', line=dict(color='green', width=2, dash='dash'))\n",
    "\n",
    "# Create layout\n",
    "layout = go.Layout(title='Actual vs. Predicted CO2 Per Capita',\n",
    "                   xaxis=dict(title='Year'),\n",
    "                   yaxis=dict(title='CO2 Per Capita'),\n",
    "                   legend=dict(x=0.7, y=0.95))\n",
    "\n",
    "# Combine traces and layout\n",
    "fig = go.Figure(data=[trace_actual, trace_predicted_test, trace_predicted_future], layout=layout)\n",
    "\n",
    "# Show plot\n",
    "fig.show()\n"
   ]
  },
  {
   "cell_type": "code",
   "execution_count": 113,
   "id": "191f7314-7021-4cfe-b0ca-6dcb7f5838e9",
   "metadata": {},
   "outputs": [
    {
     "ename": "KeyError",
     "evalue": "'year'",
     "output_type": "error",
     "traceback": [
      "\u001b[1;31m---------------------------------------------------------------------------\u001b[0m",
      "\u001b[1;31mKeyError\u001b[0m                                  Traceback (most recent call last)",
      "File \u001b[1;32m~\\Downloads\\Newfolder\\Lib\\site-packages\\pandas\\core\\indexes\\base.py:3791\u001b[0m, in \u001b[0;36mIndex.get_loc\u001b[1;34m(self, key)\u001b[0m\n\u001b[0;32m   3790\u001b[0m \u001b[38;5;28;01mtry\u001b[39;00m:\n\u001b[1;32m-> 3791\u001b[0m     \u001b[38;5;28;01mreturn\u001b[39;00m \u001b[38;5;28mself\u001b[39m\u001b[38;5;241m.\u001b[39m_engine\u001b[38;5;241m.\u001b[39mget_loc(casted_key)\n\u001b[0;32m   3792\u001b[0m \u001b[38;5;28;01mexcept\u001b[39;00m \u001b[38;5;167;01mKeyError\u001b[39;00m \u001b[38;5;28;01mas\u001b[39;00m err:\n",
      "File \u001b[1;32mindex.pyx:152\u001b[0m, in \u001b[0;36mpandas._libs.index.IndexEngine.get_loc\u001b[1;34m()\u001b[0m\n",
      "File \u001b[1;32mindex.pyx:181\u001b[0m, in \u001b[0;36mpandas._libs.index.IndexEngine.get_loc\u001b[1;34m()\u001b[0m\n",
      "File \u001b[1;32mpandas\\_libs\\hashtable_class_helper.pxi:7080\u001b[0m, in \u001b[0;36mpandas._libs.hashtable.PyObjectHashTable.get_item\u001b[1;34m()\u001b[0m\n",
      "File \u001b[1;32mpandas\\_libs\\hashtable_class_helper.pxi:7088\u001b[0m, in \u001b[0;36mpandas._libs.hashtable.PyObjectHashTable.get_item\u001b[1;34m()\u001b[0m\n",
      "\u001b[1;31mKeyError\u001b[0m: 'year'",
      "\nThe above exception was the direct cause of the following exception:\n",
      "\u001b[1;31mKeyError\u001b[0m                                  Traceback (most recent call last)",
      "Cell \u001b[1;32mIn[113], line 5\u001b[0m\n\u001b[0;32m      3\u001b[0m \u001b[38;5;66;03m# Create traces for actual and predicted values\u001b[39;00m\n\u001b[0;32m      4\u001b[0m trace_actual \u001b[38;5;241m=\u001b[39m go\u001b[38;5;241m.\u001b[39mScatter(x\u001b[38;5;241m=\u001b[39mall_years[:\u001b[38;5;28mlen\u001b[39m(train)\u001b[38;5;241m+\u001b[39m\u001b[38;5;28mlen\u001b[39m(test)], y\u001b[38;5;241m=\u001b[39mdf[\u001b[38;5;124m'\u001b[39m\u001b[38;5;124mco2_per_capita\u001b[39m\u001b[38;5;124m'\u001b[39m][:\u001b[38;5;28mlen\u001b[39m(train)\u001b[38;5;241m+\u001b[39m\u001b[38;5;28mlen\u001b[39m(test)], mode\u001b[38;5;241m=\u001b[39m\u001b[38;5;124m'\u001b[39m\u001b[38;5;124mlines\u001b[39m\u001b[38;5;124m'\u001b[39m, name\u001b[38;5;241m=\u001b[39m\u001b[38;5;124m'\u001b[39m\u001b[38;5;124mActual CO2 Per Capita (Test Set)\u001b[39m\u001b[38;5;124m'\u001b[39m, line\u001b[38;5;241m=\u001b[39m\u001b[38;5;28mdict\u001b[39m(color\u001b[38;5;241m=\u001b[39m\u001b[38;5;124m'\u001b[39m\u001b[38;5;124mblue\u001b[39m\u001b[38;5;124m'\u001b[39m, width\u001b[38;5;241m=\u001b[39m\u001b[38;5;241m2\u001b[39m))\n\u001b[1;32m----> 5\u001b[0m trace_predicted_test \u001b[38;5;241m=\u001b[39m go\u001b[38;5;241m.\u001b[39mScatter(x\u001b[38;5;241m=\u001b[39mtest[\u001b[38;5;124m'\u001b[39m\u001b[38;5;124myear\u001b[39m\u001b[38;5;124m'\u001b[39m], y\u001b[38;5;241m=\u001b[39mpred, mode\u001b[38;5;241m=\u001b[39m\u001b[38;5;124m'\u001b[39m\u001b[38;5;124mlines\u001b[39m\u001b[38;5;124m'\u001b[39m, name\u001b[38;5;241m=\u001b[39m\u001b[38;5;124m'\u001b[39m\u001b[38;5;124mPredicted CO2 Per Capita (Test Set)\u001b[39m\u001b[38;5;124m'\u001b[39m, line\u001b[38;5;241m=\u001b[39m\u001b[38;5;28mdict\u001b[39m(color\u001b[38;5;241m=\u001b[39m\u001b[38;5;124m'\u001b[39m\u001b[38;5;124mred\u001b[39m\u001b[38;5;124m'\u001b[39m, width\u001b[38;5;241m=\u001b[39m\u001b[38;5;241m2\u001b[39m, dash\u001b[38;5;241m=\u001b[39m\u001b[38;5;124m'\u001b[39m\u001b[38;5;124mdash\u001b[39m\u001b[38;5;124m'\u001b[39m))\n\u001b[0;32m      6\u001b[0m trace_predicted_future \u001b[38;5;241m=\u001b[39m go\u001b[38;5;241m.\u001b[39mScatter(x\u001b[38;5;241m=\u001b[39mall_years[\u001b[38;5;28mlen\u001b[39m(train)\u001b[38;5;241m+\u001b[39m\u001b[38;5;28mlen\u001b[39m(test)\u001b[38;5;241m-\u001b[39m\u001b[38;5;241m1\u001b[39m:], y\u001b[38;5;241m=\u001b[39mall_pred[\u001b[38;5;28mlen\u001b[39m(train)\u001b[38;5;241m+\u001b[39m\u001b[38;5;28mlen\u001b[39m(test)\u001b[38;5;241m-\u001b[39m\u001b[38;5;241m1\u001b[39m:], mode\u001b[38;5;241m=\u001b[39m\u001b[38;5;124m'\u001b[39m\u001b[38;5;124mlines\u001b[39m\u001b[38;5;124m'\u001b[39m, name\u001b[38;5;241m=\u001b[39m\u001b[38;5;124m'\u001b[39m\u001b[38;5;124mPredicted CO2 Per Capita (Future)\u001b[39m\u001b[38;5;124m'\u001b[39m, line\u001b[38;5;241m=\u001b[39m\u001b[38;5;28mdict\u001b[39m(color\u001b[38;5;241m=\u001b[39m\u001b[38;5;124m'\u001b[39m\u001b[38;5;124mgreen\u001b[39m\u001b[38;5;124m'\u001b[39m, width\u001b[38;5;241m=\u001b[39m\u001b[38;5;241m2\u001b[39m, dash\u001b[38;5;241m=\u001b[39m\u001b[38;5;124m'\u001b[39m\u001b[38;5;124mdash\u001b[39m\u001b[38;5;124m'\u001b[39m))\n\u001b[0;32m      8\u001b[0m \u001b[38;5;66;03m# Create layout\u001b[39;00m\n",
      "File \u001b[1;32m~\\Downloads\\Newfolder\\Lib\\site-packages\\pandas\\core\\frame.py:3893\u001b[0m, in \u001b[0;36mDataFrame.__getitem__\u001b[1;34m(self, key)\u001b[0m\n\u001b[0;32m   3891\u001b[0m \u001b[38;5;28;01mif\u001b[39;00m \u001b[38;5;28mself\u001b[39m\u001b[38;5;241m.\u001b[39mcolumns\u001b[38;5;241m.\u001b[39mnlevels \u001b[38;5;241m>\u001b[39m \u001b[38;5;241m1\u001b[39m:\n\u001b[0;32m   3892\u001b[0m     \u001b[38;5;28;01mreturn\u001b[39;00m \u001b[38;5;28mself\u001b[39m\u001b[38;5;241m.\u001b[39m_getitem_multilevel(key)\n\u001b[1;32m-> 3893\u001b[0m indexer \u001b[38;5;241m=\u001b[39m \u001b[38;5;28mself\u001b[39m\u001b[38;5;241m.\u001b[39mcolumns\u001b[38;5;241m.\u001b[39mget_loc(key)\n\u001b[0;32m   3894\u001b[0m \u001b[38;5;28;01mif\u001b[39;00m is_integer(indexer):\n\u001b[0;32m   3895\u001b[0m     indexer \u001b[38;5;241m=\u001b[39m [indexer]\n",
      "File \u001b[1;32m~\\Downloads\\Newfolder\\Lib\\site-packages\\pandas\\core\\indexes\\base.py:3798\u001b[0m, in \u001b[0;36mIndex.get_loc\u001b[1;34m(self, key)\u001b[0m\n\u001b[0;32m   3793\u001b[0m     \u001b[38;5;28;01mif\u001b[39;00m \u001b[38;5;28misinstance\u001b[39m(casted_key, \u001b[38;5;28mslice\u001b[39m) \u001b[38;5;129;01mor\u001b[39;00m (\n\u001b[0;32m   3794\u001b[0m         \u001b[38;5;28misinstance\u001b[39m(casted_key, abc\u001b[38;5;241m.\u001b[39mIterable)\n\u001b[0;32m   3795\u001b[0m         \u001b[38;5;129;01mand\u001b[39;00m \u001b[38;5;28many\u001b[39m(\u001b[38;5;28misinstance\u001b[39m(x, \u001b[38;5;28mslice\u001b[39m) \u001b[38;5;28;01mfor\u001b[39;00m x \u001b[38;5;129;01min\u001b[39;00m casted_key)\n\u001b[0;32m   3796\u001b[0m     ):\n\u001b[0;32m   3797\u001b[0m         \u001b[38;5;28;01mraise\u001b[39;00m InvalidIndexError(key)\n\u001b[1;32m-> 3798\u001b[0m     \u001b[38;5;28;01mraise\u001b[39;00m \u001b[38;5;167;01mKeyError\u001b[39;00m(key) \u001b[38;5;28;01mfrom\u001b[39;00m \u001b[38;5;21;01merr\u001b[39;00m\n\u001b[0;32m   3799\u001b[0m \u001b[38;5;28;01mexcept\u001b[39;00m \u001b[38;5;167;01mTypeError\u001b[39;00m:\n\u001b[0;32m   3800\u001b[0m     \u001b[38;5;66;03m# If we have a listlike key, _check_indexing_error will raise\u001b[39;00m\n\u001b[0;32m   3801\u001b[0m     \u001b[38;5;66;03m#  InvalidIndexError. Otherwise we fall through and re-raise\u001b[39;00m\n\u001b[0;32m   3802\u001b[0m     \u001b[38;5;66;03m#  the TypeError.\u001b[39;00m\n\u001b[0;32m   3803\u001b[0m     \u001b[38;5;28mself\u001b[39m\u001b[38;5;241m.\u001b[39m_check_indexing_error(key)\n",
      "\u001b[1;31mKeyError\u001b[0m: 'year'"
     ]
    }
   ],
   "source": [
    "import plotly.graph_objs as go\n",
    "\n",
    "# Create traces for actual and predicted values\n",
    "trace_actual = go.Scatter(x=all_years[:len(train)+len(test)], y=df['co2_per_capita'][:len(train)+len(test)], mode='lines', name='Actual CO2 Per Capita (Test Set)', line=dict(color='blue', width=2))\n",
    "trace_predicted_test = go.Scatter(x=test['year'], y=pred, mode='lines', name='Predicted CO2 Per Capita (Test Set)', line=dict(color='red', width=2, dash='dash'))\n",
    "trace_predicted_future = go.Scatter(x=all_years[len(train)+len(test)-1:], y=all_pred[len(train)+len(test)-1:], mode='lines', name='Predicted CO2 Per Capita (Future)', line=dict(color='green', width=2, dash='dash'))\n",
    "\n",
    "# Create layout\n",
    "layout = go.Layout(title='Actual vs. Predicted CO2 Per Capita',\n",
    "                   xaxis=dict(title='Year'),\n",
    "                   yaxis=dict(title='CO2 Per Capita'),\n",
    "                   legend=dict(x=0.7, y=0.95))\n",
    "\n",
    "# Combine traces and layout\n",
    "fig = go.Figure(data=[trace_actual, trace_predicted_test, trace_predicted_future], layout=layout)\n",
    "\n",
    "# Show plot\n",
    "fig.show()\n"
   ]
  },
  {
   "cell_type": "code",
   "execution_count": 114,
   "id": "4aa1a295-dba8-469f-a03b-13d0433f5eb6",
   "metadata": {},
   "outputs": [
    {
     "ename": "KeyError",
     "evalue": "'year'",
     "output_type": "error",
     "traceback": [
      "\u001b[1;31m---------------------------------------------------------------------------\u001b[0m",
      "\u001b[1;31mKeyError\u001b[0m                                  Traceback (most recent call last)",
      "File \u001b[1;32m~\\Downloads\\Newfolder\\Lib\\site-packages\\pandas\\core\\indexes\\base.py:3791\u001b[0m, in \u001b[0;36mIndex.get_loc\u001b[1;34m(self, key)\u001b[0m\n\u001b[0;32m   3790\u001b[0m \u001b[38;5;28;01mtry\u001b[39;00m:\n\u001b[1;32m-> 3791\u001b[0m     \u001b[38;5;28;01mreturn\u001b[39;00m \u001b[38;5;28mself\u001b[39m\u001b[38;5;241m.\u001b[39m_engine\u001b[38;5;241m.\u001b[39mget_loc(casted_key)\n\u001b[0;32m   3792\u001b[0m \u001b[38;5;28;01mexcept\u001b[39;00m \u001b[38;5;167;01mKeyError\u001b[39;00m \u001b[38;5;28;01mas\u001b[39;00m err:\n",
      "File \u001b[1;32mindex.pyx:152\u001b[0m, in \u001b[0;36mpandas._libs.index.IndexEngine.get_loc\u001b[1;34m()\u001b[0m\n",
      "File \u001b[1;32mindex.pyx:181\u001b[0m, in \u001b[0;36mpandas._libs.index.IndexEngine.get_loc\u001b[1;34m()\u001b[0m\n",
      "File \u001b[1;32mpandas\\_libs\\hashtable_class_helper.pxi:7080\u001b[0m, in \u001b[0;36mpandas._libs.hashtable.PyObjectHashTable.get_item\u001b[1;34m()\u001b[0m\n",
      "File \u001b[1;32mpandas\\_libs\\hashtable_class_helper.pxi:7088\u001b[0m, in \u001b[0;36mpandas._libs.hashtable.PyObjectHashTable.get_item\u001b[1;34m()\u001b[0m\n",
      "\u001b[1;31mKeyError\u001b[0m: 'year'",
      "\nThe above exception was the direct cause of the following exception:\n",
      "\u001b[1;31mKeyError\u001b[0m                                  Traceback (most recent call last)",
      "Cell \u001b[1;32mIn[114], line 8\u001b[0m\n\u001b[0;32m      5\u001b[0m plt\u001b[38;5;241m.\u001b[39mplot(all_years[:\u001b[38;5;28mlen\u001b[39m(train)\u001b[38;5;241m+\u001b[39m\u001b[38;5;28mlen\u001b[39m(test)], df[\u001b[38;5;124m'\u001b[39m\u001b[38;5;124mco2_per_capita\u001b[39m\u001b[38;5;124m'\u001b[39m][:\u001b[38;5;28mlen\u001b[39m(train)\u001b[38;5;241m+\u001b[39m\u001b[38;5;28mlen\u001b[39m(test)], label\u001b[38;5;241m=\u001b[39m\u001b[38;5;124m'\u001b[39m\u001b[38;5;124mActual CO2 Per Capita (Test Set)\u001b[39m\u001b[38;5;124m'\u001b[39m, color\u001b[38;5;241m=\u001b[39m\u001b[38;5;124m'\u001b[39m\u001b[38;5;124mblue\u001b[39m\u001b[38;5;124m'\u001b[39m, linestyle\u001b[38;5;241m=\u001b[39m\u001b[38;5;124m'\u001b[39m\u001b[38;5;124m-\u001b[39m\u001b[38;5;124m'\u001b[39m)\n\u001b[0;32m      7\u001b[0m \u001b[38;5;66;03m# Plot predicted CO2 Per Capita for the test set\u001b[39;00m\n\u001b[1;32m----> 8\u001b[0m plt\u001b[38;5;241m.\u001b[39mplot(test[\u001b[38;5;124m'\u001b[39m\u001b[38;5;124myear\u001b[39m\u001b[38;5;124m'\u001b[39m], pred, label\u001b[38;5;241m=\u001b[39m\u001b[38;5;124m'\u001b[39m\u001b[38;5;124mPredicted CO2 Per Capita (Test Set)\u001b[39m\u001b[38;5;124m'\u001b[39m, color\u001b[38;5;241m=\u001b[39m\u001b[38;5;124m'\u001b[39m\u001b[38;5;124mred\u001b[39m\u001b[38;5;124m'\u001b[39m, linestyle\u001b[38;5;241m=\u001b[39m\u001b[38;5;124m'\u001b[39m\u001b[38;5;124m--\u001b[39m\u001b[38;5;124m'\u001b[39m)\n\u001b[0;32m     10\u001b[0m \u001b[38;5;66;03m# Plot predicted CO2 Per Capita for the future\u001b[39;00m\n\u001b[0;32m     11\u001b[0m plt\u001b[38;5;241m.\u001b[39mplot(all_years[\u001b[38;5;28mlen\u001b[39m(train)\u001b[38;5;241m+\u001b[39m\u001b[38;5;28mlen\u001b[39m(test)\u001b[38;5;241m-\u001b[39m\u001b[38;5;241m1\u001b[39m:], all_pred[\u001b[38;5;28mlen\u001b[39m(train)\u001b[38;5;241m+\u001b[39m\u001b[38;5;28mlen\u001b[39m(test)\u001b[38;5;241m-\u001b[39m\u001b[38;5;241m1\u001b[39m:], label\u001b[38;5;241m=\u001b[39m\u001b[38;5;124m'\u001b[39m\u001b[38;5;124mPredicted CO2 Per Capita (Future)\u001b[39m\u001b[38;5;124m'\u001b[39m, color\u001b[38;5;241m=\u001b[39m\u001b[38;5;124m'\u001b[39m\u001b[38;5;124mgreen\u001b[39m\u001b[38;5;124m'\u001b[39m, linestyle\u001b[38;5;241m=\u001b[39m\u001b[38;5;124m'\u001b[39m\u001b[38;5;124m--\u001b[39m\u001b[38;5;124m'\u001b[39m)\n",
      "File \u001b[1;32m~\\Downloads\\Newfolder\\Lib\\site-packages\\pandas\\core\\frame.py:3893\u001b[0m, in \u001b[0;36mDataFrame.__getitem__\u001b[1;34m(self, key)\u001b[0m\n\u001b[0;32m   3891\u001b[0m \u001b[38;5;28;01mif\u001b[39;00m \u001b[38;5;28mself\u001b[39m\u001b[38;5;241m.\u001b[39mcolumns\u001b[38;5;241m.\u001b[39mnlevels \u001b[38;5;241m>\u001b[39m \u001b[38;5;241m1\u001b[39m:\n\u001b[0;32m   3892\u001b[0m     \u001b[38;5;28;01mreturn\u001b[39;00m \u001b[38;5;28mself\u001b[39m\u001b[38;5;241m.\u001b[39m_getitem_multilevel(key)\n\u001b[1;32m-> 3893\u001b[0m indexer \u001b[38;5;241m=\u001b[39m \u001b[38;5;28mself\u001b[39m\u001b[38;5;241m.\u001b[39mcolumns\u001b[38;5;241m.\u001b[39mget_loc(key)\n\u001b[0;32m   3894\u001b[0m \u001b[38;5;28;01mif\u001b[39;00m is_integer(indexer):\n\u001b[0;32m   3895\u001b[0m     indexer \u001b[38;5;241m=\u001b[39m [indexer]\n",
      "File \u001b[1;32m~\\Downloads\\Newfolder\\Lib\\site-packages\\pandas\\core\\indexes\\base.py:3798\u001b[0m, in \u001b[0;36mIndex.get_loc\u001b[1;34m(self, key)\u001b[0m\n\u001b[0;32m   3793\u001b[0m     \u001b[38;5;28;01mif\u001b[39;00m \u001b[38;5;28misinstance\u001b[39m(casted_key, \u001b[38;5;28mslice\u001b[39m) \u001b[38;5;129;01mor\u001b[39;00m (\n\u001b[0;32m   3794\u001b[0m         \u001b[38;5;28misinstance\u001b[39m(casted_key, abc\u001b[38;5;241m.\u001b[39mIterable)\n\u001b[0;32m   3795\u001b[0m         \u001b[38;5;129;01mand\u001b[39;00m \u001b[38;5;28many\u001b[39m(\u001b[38;5;28misinstance\u001b[39m(x, \u001b[38;5;28mslice\u001b[39m) \u001b[38;5;28;01mfor\u001b[39;00m x \u001b[38;5;129;01min\u001b[39;00m casted_key)\n\u001b[0;32m   3796\u001b[0m     ):\n\u001b[0;32m   3797\u001b[0m         \u001b[38;5;28;01mraise\u001b[39;00m InvalidIndexError(key)\n\u001b[1;32m-> 3798\u001b[0m     \u001b[38;5;28;01mraise\u001b[39;00m \u001b[38;5;167;01mKeyError\u001b[39;00m(key) \u001b[38;5;28;01mfrom\u001b[39;00m \u001b[38;5;21;01merr\u001b[39;00m\n\u001b[0;32m   3799\u001b[0m \u001b[38;5;28;01mexcept\u001b[39;00m \u001b[38;5;167;01mTypeError\u001b[39;00m:\n\u001b[0;32m   3800\u001b[0m     \u001b[38;5;66;03m# If we have a listlike key, _check_indexing_error will raise\u001b[39;00m\n\u001b[0;32m   3801\u001b[0m     \u001b[38;5;66;03m#  InvalidIndexError. Otherwise we fall through and re-raise\u001b[39;00m\n\u001b[0;32m   3802\u001b[0m     \u001b[38;5;66;03m#  the TypeError.\u001b[39;00m\n\u001b[0;32m   3803\u001b[0m     \u001b[38;5;28mself\u001b[39m\u001b[38;5;241m.\u001b[39m_check_indexing_error(key)\n",
      "\u001b[1;31mKeyError\u001b[0m: 'year'"
     ]
    },
    {
     "data": {
      "image/png": "[encoded data removed]",
      "text/plain": [
       "<Figure size 2000x1200 with 1 Axes>"
      ]
     },
     "metadata": {},
     "output_type": "display_data"
    }
   ],
   "source": [
    "# Plot actual and predicted values\n",
    "plt.figure(figsize=(20, 12))\n",
    "\n",
    "# Plot actual CO2 Per Capita\n",
    "plt.plot(all_years[:len(train)+len(test)], df['co2_per_capita'][:len(train)+len(test)], label='Actual CO2 Per Capita (Test Set)', color='blue', linestyle='-')\n",
    "\n",
    "# Plot predicted CO2 Per Capita for the test set\n",
    "plt.plot(test['year'], pred, label='Predicted CO2 Per Capita (Test Set)', color='red', linestyle='--')\n",
    "\n",
    "# Plot predicted CO2 Per Capita for the future\n",
    "plt.plot(all_years[len(train)+len(test)-1:], all_pred[len(train)+len(test)-1:], label='Predicted CO2 Per Capita (Future)', color='green', linestyle='--')\n",
    "\n",
    "plt.xlabel('Year')\n",
    "plt.ylabel('CO2 Per Capita')\n",
    "plt.title('Actual vs. Predicted CO2 Per Capita')\n",
    "plt.legend()\n",
    "plt.grid(True)\n",
    "plt.show()\n"
   ]
  },
  {
   "cell_type": "code",
   "execution_count": 115,
   "id": "b61c4341-10a8-4340-b1b2-ca4e29bbb939",
   "metadata": {},
   "outputs": [
    {
     "ename": "KeyError",
     "evalue": "'year'",
     "output_type": "error",
     "traceback": [
      "\u001b[1;31m---------------------------------------------------------------------------\u001b[0m",
      "\u001b[1;31mKeyError\u001b[0m                                  Traceback (most recent call last)",
      "File \u001b[1;32m~\\Downloads\\Newfolder\\Lib\\site-packages\\pandas\\core\\indexes\\base.py:3791\u001b[0m, in \u001b[0;36mIndex.get_loc\u001b[1;34m(self, key)\u001b[0m\n\u001b[0;32m   3790\u001b[0m \u001b[38;5;28;01mtry\u001b[39;00m:\n\u001b[1;32m-> 3791\u001b[0m     \u001b[38;5;28;01mreturn\u001b[39;00m \u001b[38;5;28mself\u001b[39m\u001b[38;5;241m.\u001b[39m_engine\u001b[38;5;241m.\u001b[39mget_loc(casted_key)\n\u001b[0;32m   3792\u001b[0m \u001b[38;5;28;01mexcept\u001b[39;00m \u001b[38;5;167;01mKeyError\u001b[39;00m \u001b[38;5;28;01mas\u001b[39;00m err:\n",
      "File \u001b[1;32mindex.pyx:152\u001b[0m, in \u001b[0;36mpandas._libs.index.IndexEngine.get_loc\u001b[1;34m()\u001b[0m\n",
      "File \u001b[1;32mindex.pyx:181\u001b[0m, in \u001b[0;36mpandas._libs.index.IndexEngine.get_loc\u001b[1;34m()\u001b[0m\n",
      "File \u001b[1;32mpandas\\_libs\\hashtable_class_helper.pxi:7080\u001b[0m, in \u001b[0;36mpandas._libs.hashtable.PyObjectHashTable.get_item\u001b[1;34m()\u001b[0m\n",
      "File \u001b[1;32mpandas\\_libs\\hashtable_class_helper.pxi:7088\u001b[0m, in \u001b[0;36mpandas._libs.hashtable.PyObjectHashTable.get_item\u001b[1;34m()\u001b[0m\n",
      "\u001b[1;31mKeyError\u001b[0m: 'year'",
      "\nThe above exception was the direct cause of the following exception:\n",
      "\u001b[1;31mKeyError\u001b[0m                                  Traceback (most recent call last)",
      "Cell \u001b[1;32mIn[115], line 5\u001b[0m\n\u001b[0;32m      2\u001b[0m plt\u001b[38;5;241m.\u001b[39mfigure(figsize\u001b[38;5;241m=\u001b[39m(\u001b[38;5;241m20\u001b[39m, \u001b[38;5;241m12\u001b[39m))\n\u001b[0;32m      4\u001b[0m \u001b[38;5;66;03m# Plot actual CO2 Per Capita\u001b[39;00m\n\u001b[1;32m----> 5\u001b[0m plt\u001b[38;5;241m.\u001b[39mplot(test[\u001b[38;5;124m'\u001b[39m\u001b[38;5;124myear\u001b[39m\u001b[38;5;124m'\u001b[39m], test[\u001b[38;5;124m'\u001b[39m\u001b[38;5;124mco2_per_capita\u001b[39m\u001b[38;5;124m'\u001b[39m], label\u001b[38;5;241m=\u001b[39m\u001b[38;5;124m'\u001b[39m\u001b[38;5;124mActual CO2 Per Capita\u001b[39m\u001b[38;5;124m'\u001b[39m, color\u001b[38;5;241m=\u001b[39m\u001b[38;5;124m'\u001b[39m\u001b[38;5;124mblue\u001b[39m\u001b[38;5;124m'\u001b[39m, linestyle\u001b[38;5;241m=\u001b[39m\u001b[38;5;124m'\u001b[39m\u001b[38;5;124m-\u001b[39m\u001b[38;5;124m'\u001b[39m)\n\u001b[0;32m      7\u001b[0m \u001b[38;5;66;03m# Plot predicted CO2 Per Capita for the test set\u001b[39;00m\n\u001b[0;32m      8\u001b[0m plt\u001b[38;5;241m.\u001b[39mplot(test[\u001b[38;5;124m'\u001b[39m\u001b[38;5;124myear\u001b[39m\u001b[38;5;124m'\u001b[39m], pred, label\u001b[38;5;241m=\u001b[39m\u001b[38;5;124m'\u001b[39m\u001b[38;5;124mPredicted CO2 Per Capita (Test Set)\u001b[39m\u001b[38;5;124m'\u001b[39m, color\u001b[38;5;241m=\u001b[39m\u001b[38;5;124m'\u001b[39m\u001b[38;5;124mred\u001b[39m\u001b[38;5;124m'\u001b[39m, linestyle\u001b[38;5;241m=\u001b[39m\u001b[38;5;124m'\u001b[39m\u001b[38;5;124m--\u001b[39m\u001b[38;5;124m'\u001b[39m)\n",
      "File \u001b[1;32m~\\Downloads\\Newfolder\\Lib\\site-packages\\pandas\\core\\frame.py:3893\u001b[0m, in \u001b[0;36mDataFrame.__getitem__\u001b[1;34m(self, key)\u001b[0m\n\u001b[0;32m   3891\u001b[0m \u001b[38;5;28;01mif\u001b[39;00m \u001b[38;5;28mself\u001b[39m\u001b[38;5;241m.\u001b[39mcolumns\u001b[38;5;241m.\u001b[39mnlevels \u001b[38;5;241m>\u001b[39m \u001b[38;5;241m1\u001b[39m:\n\u001b[0;32m   3892\u001b[0m     \u001b[38;5;28;01mreturn\u001b[39;00m \u001b[38;5;28mself\u001b[39m\u001b[38;5;241m.\u001b[39m_getitem_multilevel(key)\n\u001b[1;32m-> 3893\u001b[0m indexer \u001b[38;5;241m=\u001b[39m \u001b[38;5;28mself\u001b[39m\u001b[38;5;241m.\u001b[39mcolumns\u001b[38;5;241m.\u001b[39mget_loc(key)\n\u001b[0;32m   3894\u001b[0m \u001b[38;5;28;01mif\u001b[39;00m is_integer(indexer):\n\u001b[0;32m   3895\u001b[0m     indexer \u001b[38;5;241m=\u001b[39m [indexer]\n",
      "File \u001b[1;32m~\\Downloads\\Newfolder\\Lib\\site-packages\\pandas\\core\\indexes\\base.py:3798\u001b[0m, in \u001b[0;36mIndex.get_loc\u001b[1;34m(self, key)\u001b[0m\n\u001b[0;32m   3793\u001b[0m     \u001b[38;5;28;01mif\u001b[39;00m \u001b[38;5;28misinstance\u001b[39m(casted_key, \u001b[38;5;28mslice\u001b[39m) \u001b[38;5;129;01mor\u001b[39;00m (\n\u001b[0;32m   3794\u001b[0m         \u001b[38;5;28misinstance\u001b[39m(casted_key, abc\u001b[38;5;241m.\u001b[39mIterable)\n\u001b[0;32m   3795\u001b[0m         \u001b[38;5;129;01mand\u001b[39;00m \u001b[38;5;28many\u001b[39m(\u001b[38;5;28misinstance\u001b[39m(x, \u001b[38;5;28mslice\u001b[39m) \u001b[38;5;28;01mfor\u001b[39;00m x \u001b[38;5;129;01min\u001b[39;00m casted_key)\n\u001b[0;32m   3796\u001b[0m     ):\n\u001b[0;32m   3797\u001b[0m         \u001b[38;5;28;01mraise\u001b[39;00m InvalidIndexError(key)\n\u001b[1;32m-> 3798\u001b[0m     \u001b[38;5;28;01mraise\u001b[39;00m \u001b[38;5;167;01mKeyError\u001b[39;00m(key) \u001b[38;5;28;01mfrom\u001b[39;00m \u001b[38;5;21;01merr\u001b[39;00m\n\u001b[0;32m   3799\u001b[0m \u001b[38;5;28;01mexcept\u001b[39;00m \u001b[38;5;167;01mTypeError\u001b[39;00m:\n\u001b[0;32m   3800\u001b[0m     \u001b[38;5;66;03m# If we have a listlike key, _check_indexing_error will raise\u001b[39;00m\n\u001b[0;32m   3801\u001b[0m     \u001b[38;5;66;03m#  InvalidIndexError. Otherwise we fall through and re-raise\u001b[39;00m\n\u001b[0;32m   3802\u001b[0m     \u001b[38;5;66;03m#  the TypeError.\u001b[39;00m\n\u001b[0;32m   3803\u001b[0m     \u001b[38;5;28mself\u001b[39m\u001b[38;5;241m.\u001b[39m_check_indexing_error(key)\n",
      "\u001b[1;31mKeyError\u001b[0m: 'year'"
     ]
    },
    {
     "data": {
      "text/plain": [
       "<Figure size 2000x1200 with 0 Axes>"
      ]
     },
     "metadata": {},
     "output_type": "display_data"
    }
   ],
   "source": [
    "# Plot actual and predicted values\n",
    "plt.figure(figsize=(20, 12))\n",
    "\n",
    "# Plot actual CO2 Per Capita\n",
    "plt.plot(test['year'], test['co2_per_capita'], label='Actual CO2 Per Capita', color='blue', linestyle='-')\n",
    "\n",
    "# Plot predicted CO2 Per Capita for the test set\n",
    "plt.plot(test['year'], pred, label='Predicted CO2 Per Capita (Test Set)', color='red', linestyle='--')\n",
    "\n",
    "# Plot predicted CO2 Per Capita for the future\n",
    "plt.plot(all_years[len(train)+len(test)-1:], all_pred[len(train)+len(test)-1:], label='Predicted CO2 Per Capita (Future)', color='green', linestyle='--')\n",
    "\n",
    "plt.xlabel('Year')\n",
    "plt.ylabel('CO2 Per Capita')\n",
    "plt.title('Actual vs. Predicted CO2 Per Capita')\n",
    "plt.legend()\n",
    "plt.grid(True)\n",
    "plt.show()\n"
   ]
  },
  {
   "cell_type": "code",
   "execution_count": 116,
   "id": "a71bfa2a-e997-40dd-aaf5-93c21ebf0486",
   "metadata": {},
   "outputs": [
    {
     "ename": "KeyError",
     "evalue": "'year'",
     "output_type": "error",
     "traceback": [
      "\u001b[1;31m---------------------------------------------------------------------------\u001b[0m",
      "\u001b[1;31mKeyError\u001b[0m                                  Traceback (most recent call last)",
      "File \u001b[1;32m~\\Downloads\\Newfolder\\Lib\\site-packages\\pandas\\core\\indexes\\base.py:3791\u001b[0m, in \u001b[0;36mIndex.get_loc\u001b[1;34m(self, key)\u001b[0m\n\u001b[0;32m   3790\u001b[0m \u001b[38;5;28;01mtry\u001b[39;00m:\n\u001b[1;32m-> 3791\u001b[0m     \u001b[38;5;28;01mreturn\u001b[39;00m \u001b[38;5;28mself\u001b[39m\u001b[38;5;241m.\u001b[39m_engine\u001b[38;5;241m.\u001b[39mget_loc(casted_key)\n\u001b[0;32m   3792\u001b[0m \u001b[38;5;28;01mexcept\u001b[39;00m \u001b[38;5;167;01mKeyError\u001b[39;00m \u001b[38;5;28;01mas\u001b[39;00m err:\n",
      "File \u001b[1;32mindex.pyx:152\u001b[0m, in \u001b[0;36mpandas._libs.index.IndexEngine.get_loc\u001b[1;34m()\u001b[0m\n",
      "File \u001b[1;32mindex.pyx:181\u001b[0m, in \u001b[0;36mpandas._libs.index.IndexEngine.get_loc\u001b[1;34m()\u001b[0m\n",
      "File \u001b[1;32mpandas\\_libs\\hashtable_class_helper.pxi:7080\u001b[0m, in \u001b[0;36mpandas._libs.hashtable.PyObjectHashTable.get_item\u001b[1;34m()\u001b[0m\n",
      "File \u001b[1;32mpandas\\_libs\\hashtable_class_helper.pxi:7088\u001b[0m, in \u001b[0;36mpandas._libs.hashtable.PyObjectHashTable.get_item\u001b[1;34m()\u001b[0m\n",
      "\u001b[1;31mKeyError\u001b[0m: 'year'",
      "\nThe above exception was the direct cause of the following exception:\n",
      "\u001b[1;31mKeyError\u001b[0m                                  Traceback (most recent call last)",
      "Cell \u001b[1;32mIn[116], line 5\u001b[0m\n\u001b[0;32m      3\u001b[0m \u001b[38;5;66;03m# Create traces for actual and predicted values\u001b[39;00m\n\u001b[0;32m      4\u001b[0m trace_actual \u001b[38;5;241m=\u001b[39m go\u001b[38;5;241m.\u001b[39mScatter(x\u001b[38;5;241m=\u001b[39mall_years[:\u001b[38;5;28mlen\u001b[39m(train)\u001b[38;5;241m+\u001b[39m\u001b[38;5;28mlen\u001b[39m(test)], y\u001b[38;5;241m=\u001b[39mall_pred[:\u001b[38;5;28mlen\u001b[39m(train)\u001b[38;5;241m+\u001b[39m\u001b[38;5;28mlen\u001b[39m(test)], mode\u001b[38;5;241m=\u001b[39m\u001b[38;5;124m'\u001b[39m\u001b[38;5;124mlines\u001b[39m\u001b[38;5;124m'\u001b[39m, name\u001b[38;5;241m=\u001b[39m\u001b[38;5;124m'\u001b[39m\u001b[38;5;124mActual CO2 Per Capita (Historical Data)\u001b[39m\u001b[38;5;124m'\u001b[39m, line\u001b[38;5;241m=\u001b[39m\u001b[38;5;28mdict\u001b[39m(color\u001b[38;5;241m=\u001b[39m\u001b[38;5;124m'\u001b[39m\u001b[38;5;124mblue\u001b[39m\u001b[38;5;124m'\u001b[39m))\n\u001b[1;32m----> 5\u001b[0m trace_predicted_test \u001b[38;5;241m=\u001b[39m go\u001b[38;5;241m.\u001b[39mScatter(x\u001b[38;5;241m=\u001b[39mtest[\u001b[38;5;124m'\u001b[39m\u001b[38;5;124myear\u001b[39m\u001b[38;5;124m'\u001b[39m], y\u001b[38;5;241m=\u001b[39mpred, mode\u001b[38;5;241m=\u001b[39m\u001b[38;5;124m'\u001b[39m\u001b[38;5;124mlines\u001b[39m\u001b[38;5;124m'\u001b[39m, name\u001b[38;5;241m=\u001b[39m\u001b[38;5;124m'\u001b[39m\u001b[38;5;124mPredicted CO2 Per Capita (Test Set)\u001b[39m\u001b[38;5;124m'\u001b[39m, line\u001b[38;5;241m=\u001b[39m\u001b[38;5;28mdict\u001b[39m(color\u001b[38;5;241m=\u001b[39m\u001b[38;5;124m'\u001b[39m\u001b[38;5;124mred\u001b[39m\u001b[38;5;124m'\u001b[39m, dash\u001b[38;5;241m=\u001b[39m\u001b[38;5;124m'\u001b[39m\u001b[38;5;124mdash\u001b[39m\u001b[38;5;124m'\u001b[39m))\n\u001b[0;32m      6\u001b[0m trace_predicted_future \u001b[38;5;241m=\u001b[39m go\u001b[38;5;241m.\u001b[39mScatter(x\u001b[38;5;241m=\u001b[39mall_years[\u001b[38;5;28mlen\u001b[39m(train)\u001b[38;5;241m+\u001b[39m\u001b[38;5;28mlen\u001b[39m(test)\u001b[38;5;241m-\u001b[39m\u001b[38;5;241m1\u001b[39m:], y\u001b[38;5;241m=\u001b[39mall_pred[\u001b[38;5;28mlen\u001b[39m(train)\u001b[38;5;241m+\u001b[39m\u001b[38;5;28mlen\u001b[39m(test)\u001b[38;5;241m-\u001b[39m\u001b[38;5;241m1\u001b[39m:], mode\u001b[38;5;241m=\u001b[39m\u001b[38;5;124m'\u001b[39m\u001b[38;5;124mlines\u001b[39m\u001b[38;5;124m'\u001b[39m, name\u001b[38;5;241m=\u001b[39m\u001b[38;5;124m'\u001b[39m\u001b[38;5;124mPredicted CO2 Per Capita (Future)\u001b[39m\u001b[38;5;124m'\u001b[39m, line\u001b[38;5;241m=\u001b[39m\u001b[38;5;28mdict\u001b[39m(color\u001b[38;5;241m=\u001b[39m\u001b[38;5;124m'\u001b[39m\u001b[38;5;124mred\u001b[39m\u001b[38;5;124m'\u001b[39m, dash\u001b[38;5;241m=\u001b[39m\u001b[38;5;124m'\u001b[39m\u001b[38;5;124mdash\u001b[39m\u001b[38;5;124m'\u001b[39m))\n\u001b[0;32m      8\u001b[0m \u001b[38;5;66;03m# Create layout\u001b[39;00m\n",
      "File \u001b[1;32m~\\Downloads\\Newfolder\\Lib\\site-packages\\pandas\\core\\frame.py:3893\u001b[0m, in \u001b[0;36mDataFrame.__getitem__\u001b[1;34m(self, key)\u001b[0m\n\u001b[0;32m   3891\u001b[0m \u001b[38;5;28;01mif\u001b[39;00m \u001b[38;5;28mself\u001b[39m\u001b[38;5;241m.\u001b[39mcolumns\u001b[38;5;241m.\u001b[39mnlevels \u001b[38;5;241m>\u001b[39m \u001b[38;5;241m1\u001b[39m:\n\u001b[0;32m   3892\u001b[0m     \u001b[38;5;28;01mreturn\u001b[39;00m \u001b[38;5;28mself\u001b[39m\u001b[38;5;241m.\u001b[39m_getitem_multilevel(key)\n\u001b[1;32m-> 3893\u001b[0m indexer \u001b[38;5;241m=\u001b[39m \u001b[38;5;28mself\u001b[39m\u001b[38;5;241m.\u001b[39mcolumns\u001b[38;5;241m.\u001b[39mget_loc(key)\n\u001b[0;32m   3894\u001b[0m \u001b[38;5;28;01mif\u001b[39;00m is_integer(indexer):\n\u001b[0;32m   3895\u001b[0m     indexer \u001b[38;5;241m=\u001b[39m [indexer]\n",
      "File \u001b[1;32m~\\Downloads\\Newfolder\\Lib\\site-packages\\pandas\\core\\indexes\\base.py:3798\u001b[0m, in \u001b[0;36mIndex.get_loc\u001b[1;34m(self, key)\u001b[0m\n\u001b[0;32m   3793\u001b[0m     \u001b[38;5;28;01mif\u001b[39;00m \u001b[38;5;28misinstance\u001b[39m(casted_key, \u001b[38;5;28mslice\u001b[39m) \u001b[38;5;129;01mor\u001b[39;00m (\n\u001b[0;32m   3794\u001b[0m         \u001b[38;5;28misinstance\u001b[39m(casted_key, abc\u001b[38;5;241m.\u001b[39mIterable)\n\u001b[0;32m   3795\u001b[0m         \u001b[38;5;129;01mand\u001b[39;00m \u001b[38;5;28many\u001b[39m(\u001b[38;5;28misinstance\u001b[39m(x, \u001b[38;5;28mslice\u001b[39m) \u001b[38;5;28;01mfor\u001b[39;00m x \u001b[38;5;129;01min\u001b[39;00m casted_key)\n\u001b[0;32m   3796\u001b[0m     ):\n\u001b[0;32m   3797\u001b[0m         \u001b[38;5;28;01mraise\u001b[39;00m InvalidIndexError(key)\n\u001b[1;32m-> 3798\u001b[0m     \u001b[38;5;28;01mraise\u001b[39;00m \u001b[38;5;167;01mKeyError\u001b[39;00m(key) \u001b[38;5;28;01mfrom\u001b[39;00m \u001b[38;5;21;01merr\u001b[39;00m\n\u001b[0;32m   3799\u001b[0m \u001b[38;5;28;01mexcept\u001b[39;00m \u001b[38;5;167;01mTypeError\u001b[39;00m:\n\u001b[0;32m   3800\u001b[0m     \u001b[38;5;66;03m# If we have a listlike key, _check_indexing_error will raise\u001b[39;00m\n\u001b[0;32m   3801\u001b[0m     \u001b[38;5;66;03m#  InvalidIndexError. Otherwise we fall through and re-raise\u001b[39;00m\n\u001b[0;32m   3802\u001b[0m     \u001b[38;5;66;03m#  the TypeError.\u001b[39;00m\n\u001b[0;32m   3803\u001b[0m     \u001b[38;5;28mself\u001b[39m\u001b[38;5;241m.\u001b[39m_check_indexing_error(key)\n",
      "\u001b[1;31mKeyError\u001b[0m: 'year'"
     ]
    }
   ],
   "source": [
    "import plotly.graph_objs as go\n",
    "\n",
    "# Create traces for actual and predicted values\n",
    "trace_actual = go.Scatter(x=all_years[:len(train)+len(test)], y=all_pred[:len(train)+len(test)], mode='lines', name='Actual CO2 Per Capita (Historical Data)', line=dict(color='blue'))\n",
    "trace_predicted_test = go.Scatter(x=test['year'], y=pred, mode='lines', name='Predicted CO2 Per Capita (Test Set)', line=dict(color='red', dash='dash'))\n",
    "trace_predicted_future = go.Scatter(x=all_years[len(train)+len(test)-1:], y=all_pred[len(train)+len(test)-1:], mode='lines', name='Predicted CO2 Per Capita (Future)', line=dict(color='red', dash='dash'))\n",
    "\n",
    "# Create layout\n",
    "layout = go.Layout(title='Actual vs. Predicted CO2 Per Capita',\n",
    "                   xaxis=dict(title='Year'),\n",
    "                   yaxis=dict(title='CO2 Per Capita'),\n",
    "                   legend=dict(x=0.7, y=0.95))\n",
    "\n",
    "# Combine traces and layout\n",
    "fig = go.Figure(data=[trace_actual, trace_predicted_future], layout=layout)\n",
    "\n",
    "# Show plot\n",
    "fig.show()\n"
   ]
  },
  {
   "cell_type": "code",
   "execution_count": 119,
   "id": "bc944883",
   "metadata": {},
   "outputs": [],
   "source": [
    "# Define the start and end dates for the future predictions\n",
    "start_date = '2020-01-01'\n",
    "end_date = pd.to_datetime(start_date) + pd.DateOffset(years=50)\n",
    "\n",
    "# Generate future dates\n",
    "future_index = pd.date_range(start=start_date, end=end_date, freq='Y')\n",
    "\n",
    "# Make future predictions\n",
    "forecast = model_fit.forecast(steps=len(future_index))"
   ]
  },
  {
   "cell_type": "code",
   "execution_count": 120,
   "id": "6975f3da",
   "metadata": {},
   "outputs": [
    {
     "data": {
      "image/png": "[encoded data removed]",
      "text/plain": [
       "<Figure size 640x480 with 1 Axes>"
      ]
     },
     "metadata": {},
     "output_type": "display_data"
    }
   ],
   "source": [
    "\n",
    "# Plot your existing data\n",
    "plt.plot(df.index, df['co2_per_capita'], label='Actual Data')\n",
    "\n",
    "# Plot the future predictions\n",
    "plt.plot(future_index, forecast, color='r', linestyle='--', label='Future Predictions')\n",
    "\n",
    "# Set labels and title\n",
    "plt.xlabel('Year')\n",
    "plt.ylabel('CO2 Per Capita')\n",
    "plt.title('Actual Data and Future Predictions with ARIMA Model')\n",
    "plt.legend()\n",
    "\n",
    "# Show plot\n",
    "plt.show()"
   ]
  },
  {
   "cell_type": "code",
   "execution_count": 121,
   "id": "f3f7d9e7",
   "metadata": {},
   "outputs": [
    {
     "name": "stdout",
     "output_type": "stream",
     "text": [
      "[5.68335101 5.62077072 5.56734868 5.52174463 5.48281446 5.44958148\n",
      " 5.42121195 5.39699414 5.37632045 5.35867223]\n"
     ]
    }
   ],
   "source": [
    "\n",
    "# Make future predictions\n",
    "future_periods = 10  # Number of future periods to predict\n",
    "forecast = model_fit.forecast(steps=future_periods)\n",
    "\n",
    "# Print or use the forecasted values\n",
    "print(forecast)"
   ]
  },
  {
   "cell_type": "code",
   "execution_count": 123,
   "id": "430b7b0d",
   "metadata": {},
   "outputs": [
    {
     "data": {
      "text/plain": [
       "array([5.68335101, 5.62077072, 5.56734868, 5.52174463, 5.48281446,\n",
       "       5.44958148, 5.42121195, 5.39699414, 5.37632045, 5.35867223])"
      ]
     },
     "execution_count": 123,
     "metadata": {},
     "output_type": "execute_result"
    }
   ],
   "source": [
    "forecast"
   ]
  },
  {
   "cell_type": "code",
   "execution_count": 124,
   "id": "f47b77a5",
   "metadata": {},
   "outputs": [
    {
     "ename": "KeyError",
     "evalue": "'year'",
     "output_type": "error",
     "traceback": [
      "\u001b[1;31m---------------------------------------------------------------------------\u001b[0m",
      "\u001b[1;31mKeyError\u001b[0m                                  Traceback (most recent call last)",
      "File \u001b[1;32m~\\Downloads\\Newfolder\\Lib\\site-packages\\pandas\\core\\indexes\\base.py:3791\u001b[0m, in \u001b[0;36mIndex.get_loc\u001b[1;34m(self, key)\u001b[0m\n\u001b[0;32m   3790\u001b[0m \u001b[38;5;28;01mtry\u001b[39;00m:\n\u001b[1;32m-> 3791\u001b[0m     \u001b[38;5;28;01mreturn\u001b[39;00m \u001b[38;5;28mself\u001b[39m\u001b[38;5;241m.\u001b[39m_engine\u001b[38;5;241m.\u001b[39mget_loc(casted_key)\n\u001b[0;32m   3792\u001b[0m \u001b[38;5;28;01mexcept\u001b[39;00m \u001b[38;5;167;01mKeyError\u001b[39;00m \u001b[38;5;28;01mas\u001b[39;00m err:\n",
      "File \u001b[1;32mindex.pyx:152\u001b[0m, in \u001b[0;36mpandas._libs.index.IndexEngine.get_loc\u001b[1;34m()\u001b[0m\n",
      "File \u001b[1;32mindex.pyx:181\u001b[0m, in \u001b[0;36mpandas._libs.index.IndexEngine.get_loc\u001b[1;34m()\u001b[0m\n",
      "File \u001b[1;32mpandas\\_libs\\hashtable_class_helper.pxi:7080\u001b[0m, in \u001b[0;36mpandas._libs.hashtable.PyObjectHashTable.get_item\u001b[1;34m()\u001b[0m\n",
      "File \u001b[1;32mpandas\\_libs\\hashtable_class_helper.pxi:7088\u001b[0m, in \u001b[0;36mpandas._libs.hashtable.PyObjectHashTable.get_item\u001b[1;34m()\u001b[0m\n",
      "\u001b[1;31mKeyError\u001b[0m: 'year'",
      "\nThe above exception was the direct cause of the following exception:\n",
      "\u001b[1;31mKeyError\u001b[0m                                  Traceback (most recent call last)",
      "Cell \u001b[1;32mIn[124], line 4\u001b[0m\n\u001b[0;32m      1\u001b[0m \u001b[38;5;28;01mimport\u001b[39;00m \u001b[38;5;21;01mplotly\u001b[39;00m\u001b[38;5;21;01m.\u001b[39;00m\u001b[38;5;21;01mgraph_objects\u001b[39;00m \u001b[38;5;28;01mas\u001b[39;00m \u001b[38;5;21;01mgo\u001b[39;00m\n\u001b[0;32m      3\u001b[0m \u001b[38;5;66;03m# Create traces for actual data, ARIMA forecast, and future predictions\u001b[39;00m\n\u001b[1;32m----> 4\u001b[0m trace_actual \u001b[38;5;241m=\u001b[39m go\u001b[38;5;241m.\u001b[39mScatter(x\u001b[38;5;241m=\u001b[39mdf[\u001b[38;5;124m'\u001b[39m\u001b[38;5;124myear\u001b[39m\u001b[38;5;124m'\u001b[39m], y\u001b[38;5;241m=\u001b[39mdf[\u001b[38;5;124m'\u001b[39m\u001b[38;5;124mco2_per_capita\u001b[39m\u001b[38;5;124m'\u001b[39m], mode\u001b[38;5;241m=\u001b[39m\u001b[38;5;124m'\u001b[39m\u001b[38;5;124mlines\u001b[39m\u001b[38;5;124m'\u001b[39m, name\u001b[38;5;241m=\u001b[39m\u001b[38;5;124m'\u001b[39m\u001b[38;5;124mActual Data\u001b[39m\u001b[38;5;124m'\u001b[39m, line\u001b[38;5;241m=\u001b[39m\u001b[38;5;28mdict\u001b[39m(color\u001b[38;5;241m=\u001b[39m\u001b[38;5;124m'\u001b[39m\u001b[38;5;124mblue\u001b[39m\u001b[38;5;124m'\u001b[39m))\n\u001b[0;32m      5\u001b[0m trace_arima \u001b[38;5;241m=\u001b[39m go\u001b[38;5;241m.\u001b[39mScatter(x\u001b[38;5;241m=\u001b[39mdf[\u001b[38;5;124m'\u001b[39m\u001b[38;5;124myear\u001b[39m\u001b[38;5;124m'\u001b[39m], y\u001b[38;5;241m=\u001b[39mdf[\u001b[38;5;124m'\u001b[39m\u001b[38;5;124mArima\u001b[39m\u001b[38;5;124m'\u001b[39m], mode\u001b[38;5;241m=\u001b[39m\u001b[38;5;124m'\u001b[39m\u001b[38;5;124mlines\u001b[39m\u001b[38;5;124m'\u001b[39m, name\u001b[38;5;241m=\u001b[39m\u001b[38;5;124m'\u001b[39m\u001b[38;5;124mARIMA Forecast\u001b[39m\u001b[38;5;124m'\u001b[39m, line\u001b[38;5;241m=\u001b[39m\u001b[38;5;28mdict\u001b[39m(color\u001b[38;5;241m=\u001b[39m\u001b[38;5;124m'\u001b[39m\u001b[38;5;124mred\u001b[39m\u001b[38;5;124m'\u001b[39m, dash\u001b[38;5;241m=\u001b[39m\u001b[38;5;124m'\u001b[39m\u001b[38;5;124mdash\u001b[39m\u001b[38;5;124m'\u001b[39m))\n\u001b[0;32m      6\u001b[0m trace_future \u001b[38;5;241m=\u001b[39m go\u001b[38;5;241m.\u001b[39mScatter(x\u001b[38;5;241m=\u001b[39mfuture_index, y\u001b[38;5;241m=\u001b[39mforecast, mode\u001b[38;5;241m=\u001b[39m\u001b[38;5;124m'\u001b[39m\u001b[38;5;124mlines\u001b[39m\u001b[38;5;124m'\u001b[39m, name\u001b[38;5;241m=\u001b[39m\u001b[38;5;124m'\u001b[39m\u001b[38;5;124mFuture Predictions\u001b[39m\u001b[38;5;124m'\u001b[39m, line\u001b[38;5;241m=\u001b[39m\u001b[38;5;28mdict\u001b[39m(color\u001b[38;5;241m=\u001b[39m\u001b[38;5;124m'\u001b[39m\u001b[38;5;124mgreen\u001b[39m\u001b[38;5;124m'\u001b[39m, dash\u001b[38;5;241m=\u001b[39m\u001b[38;5;124m'\u001b[39m\u001b[38;5;124mdash\u001b[39m\u001b[38;5;124m'\u001b[39m))\n",
      "File \u001b[1;32m~\\Downloads\\Newfolder\\Lib\\site-packages\\pandas\\core\\frame.py:3893\u001b[0m, in \u001b[0;36mDataFrame.__getitem__\u001b[1;34m(self, key)\u001b[0m\n\u001b[0;32m   3891\u001b[0m \u001b[38;5;28;01mif\u001b[39;00m \u001b[38;5;28mself\u001b[39m\u001b[38;5;241m.\u001b[39mcolumns\u001b[38;5;241m.\u001b[39mnlevels \u001b[38;5;241m>\u001b[39m \u001b[38;5;241m1\u001b[39m:\n\u001b[0;32m   3892\u001b[0m     \u001b[38;5;28;01mreturn\u001b[39;00m \u001b[38;5;28mself\u001b[39m\u001b[38;5;241m.\u001b[39m_getitem_multilevel(key)\n\u001b[1;32m-> 3893\u001b[0m indexer \u001b[38;5;241m=\u001b[39m \u001b[38;5;28mself\u001b[39m\u001b[38;5;241m.\u001b[39mcolumns\u001b[38;5;241m.\u001b[39mget_loc(key)\n\u001b[0;32m   3894\u001b[0m \u001b[38;5;28;01mif\u001b[39;00m is_integer(indexer):\n\u001b[0;32m   3895\u001b[0m     indexer \u001b[38;5;241m=\u001b[39m [indexer]\n",
      "File \u001b[1;32m~\\Downloads\\Newfolder\\Lib\\site-packages\\pandas\\core\\indexes\\base.py:3798\u001b[0m, in \u001b[0;36mIndex.get_loc\u001b[1;34m(self, key)\u001b[0m\n\u001b[0;32m   3793\u001b[0m     \u001b[38;5;28;01mif\u001b[39;00m \u001b[38;5;28misinstance\u001b[39m(casted_key, \u001b[38;5;28mslice\u001b[39m) \u001b[38;5;129;01mor\u001b[39;00m (\n\u001b[0;32m   3794\u001b[0m         \u001b[38;5;28misinstance\u001b[39m(casted_key, abc\u001b[38;5;241m.\u001b[39mIterable)\n\u001b[0;32m   3795\u001b[0m         \u001b[38;5;129;01mand\u001b[39;00m \u001b[38;5;28many\u001b[39m(\u001b[38;5;28misinstance\u001b[39m(x, \u001b[38;5;28mslice\u001b[39m) \u001b[38;5;28;01mfor\u001b[39;00m x \u001b[38;5;129;01min\u001b[39;00m casted_key)\n\u001b[0;32m   3796\u001b[0m     ):\n\u001b[0;32m   3797\u001b[0m         \u001b[38;5;28;01mraise\u001b[39;00m InvalidIndexError(key)\n\u001b[1;32m-> 3798\u001b[0m     \u001b[38;5;28;01mraise\u001b[39;00m \u001b[38;5;167;01mKeyError\u001b[39;00m(key) \u001b[38;5;28;01mfrom\u001b[39;00m \u001b[38;5;21;01merr\u001b[39;00m\n\u001b[0;32m   3799\u001b[0m \u001b[38;5;28;01mexcept\u001b[39;00m \u001b[38;5;167;01mTypeError\u001b[39;00m:\n\u001b[0;32m   3800\u001b[0m     \u001b[38;5;66;03m# If we have a listlike key, _check_indexing_error will raise\u001b[39;00m\n\u001b[0;32m   3801\u001b[0m     \u001b[38;5;66;03m#  InvalidIndexError. Otherwise we fall through and re-raise\u001b[39;00m\n\u001b[0;32m   3802\u001b[0m     \u001b[38;5;66;03m#  the TypeError.\u001b[39;00m\n\u001b[0;32m   3803\u001b[0m     \u001b[38;5;28mself\u001b[39m\u001b[38;5;241m.\u001b[39m_check_indexing_error(key)\n",
      "\u001b[1;31mKeyError\u001b[0m: 'year'"
     ]
    }
   ],
   "source": [
    "import plotly.graph_objects as go\n",
    "\n",
    "# Create traces for actual data, ARIMA forecast, and future predictions\n",
    "trace_actual = go.Scatter(x=df['year'], y=df['co2_per_capita'], mode='lines', name='Actual Data', line=dict(color='blue'))\n",
    "trace_arima = go.Scatter(x=df['year'], y=df['Arima'], mode='lines', name='ARIMA Forecast', line=dict(color='red', dash='dash'))\n",
    "trace_future = go.Scatter(x=future_index, y=forecast, mode='lines', name='Future Predictions', line=dict(color='green', dash='dash'))\n",
    "\n",
    "# Combine traces into a data list\n",
    "data = [trace_actual, trace_arima, trace_future]\n",
    "\n",
    "# Create layout with title and axis labels\n",
    "layout = go.Layout(title='CO2 Per Capita: Actual, ARIMA Forecast, and Future Predictions',\n",
    "                   xaxis=dict(title='Year'),\n",
    "                   yaxis=dict(title='CO2 Per Capita'))\n",
    "\n",
    "# Create figure with data and layout\n",
    "fig = go.Figure(data=data, layout=layout)\n",
    "\n",
    "# Show dynamic plot\n",
    "fig.show()\n"
   ]
  },
  {
   "cell_type": "code",
   "execution_count": 125,
   "id": "912d97d2",
   "metadata": {},
   "outputs": [
    {
     "ename": "NameError",
     "evalue": "name 'predictions' is not defined",
     "output_type": "error",
     "traceback": [
      "\u001b[1;31m---------------------------------------------------------------------------\u001b[0m",
      "\u001b[1;31mNameError\u001b[0m                                 Traceback (most recent call last)",
      "Cell \u001b[1;32mIn[125], line 5\u001b[0m\n\u001b[0;32m      2\u001b[0m \u001b[38;5;28;01mfrom\u001b[39;00m \u001b[38;5;21;01mnumpy\u001b[39;00m \u001b[38;5;28;01mimport\u001b[39;00m sqrt\n\u001b[0;32m      4\u001b[0m \u001b[38;5;66;03m# Compute RMSE\u001b[39;00m\n\u001b[1;32m----> 5\u001b[0m rmse \u001b[38;5;241m=\u001b[39m sqrt(mean_squared_error(df[\u001b[38;5;124m'\u001b[39m\u001b[38;5;124mco2_per_capita\u001b[39m\u001b[38;5;124m'\u001b[39m], predictions))\n\u001b[0;32m      7\u001b[0m \u001b[38;5;66;03m# Print RMSE\u001b[39;00m\n\u001b[0;32m      8\u001b[0m \u001b[38;5;28mprint\u001b[39m(\u001b[38;5;124m'\u001b[39m\u001b[38;5;124mTest RMSE: \u001b[39m\u001b[38;5;132;01m%.3f\u001b[39;00m\u001b[38;5;124m'\u001b[39m \u001b[38;5;241m%\u001b[39m rmse)\n",
      "\u001b[1;31mNameError\u001b[0m: name 'predictions' is not defined"
     ]
    }
   ],
   "source": [
    "from sklearn.metrics import mean_squared_error\n",
    "from numpy import sqrt\n",
    "\n",
    "# Compute RMSE\n",
    "rmse = sqrt(mean_squared_error(df['co2_per_capita'], predictions))\n",
    "\n",
    "# Print RMSE\n",
    "print('Test RMSE: %.3f' % rmse)\n"
   ]
  },
  {
   "cell_type": "code",
   "execution_count": 126,
   "id": "405dd218",
   "metadata": {},
   "outputs": [
    {
     "name": "stdout",
     "output_type": "stream",
     "text": [
      "                               SARIMAX Results                                \n",
      "==============================================================================\n",
      "Dep. Variable:         co2_per_capita   No. Observations:                  122\n",
      "Model:                 ARIMA(1, 1, 1)   Log Likelihood                  13.050\n",
      "Date:                Tue, 14 May 2024   AIC                            -20.100\n",
      "Time:                        22:41:45   BIC                            -11.713\n",
      "Sample:                    01-01-1900   HQIC                           -16.694\n",
      "                         - 01-01-2021                                         \n",
      "Covariance Type:                  opg                                         \n",
      "==============================================================================\n",
      "                 coef    std err          z      P>|z|      [0.025      0.975]\n",
      "------------------------------------------------------------------------------\n",
      "ar.L1          0.8537      0.128      6.687      0.000       0.603       1.104\n",
      "ma.L1         -0.6816      0.149     -4.567      0.000      -0.974      -0.389\n",
      "sigma2         0.0471      0.004     11.879      0.000       0.039       0.055\n",
      "===================================================================================\n",
      "Ljung-Box (L1) (Q):                   0.25   Jarque-Bera (JB):                46.22\n",
      "Prob(Q):                              0.62   Prob(JB):                         0.00\n",
      "Heteroskedasticity (H):               3.15   Skew:                            -0.50\n",
      "Prob(H) (two-sided):                  0.00   Kurtosis:                         5.86\n",
      "===================================================================================\n",
      "\n",
      "Warnings:\n",
      "[1] Covariance matrix calculated using the outer product of gradients (complex-step).\n"
     ]
    }
   ],
   "source": [
    "# Fit ARIMA model\n",
    "model = ARIMA(df['co2_per_capita'], order=(1, 1, 1))\n",
    "model_fit = model.fit()\n",
    "\n",
    "# Generate forecasts\n",
    "forecast_values = model_fit.forecast(steps=len(df))\n",
    "\n",
    "# Add forecasts to DataFrame\n",
    "df['arima_forecast'] = forecast_values\n",
    "\n",
    "# Print model summary\n",
    "print(model_fit.summary())\n"
   ]
  },
  {
   "cell_type": "code",
   "execution_count": null,
   "id": "ca7d292a",
   "metadata": {},
   "outputs": [],
   "source": [
    "pyplot.plot(test)\n",
    "pyplot.plot(predictions, color = 'red')\n",
    "pyplot.show()"
   ]
  },
  {
   "cell_type": "code",
   "execution_count": null,
   "id": "9b5c3ace",
   "metadata": {},
   "outputs": [],
   "source": []
  }
 ],
 "metadata": {
  "kernelspec": {
   "display_name": "Python 3 (ipykernel)",
   "language": "python",
   "name": "python3"
  },
  "language_info": {
   "codemirror_mode": {
    "name": "ipython",
    "version": 3
   },
   "file_extension": ".py",
   "mimetype": "text/x-python",
   "name": "python",
   "nbconvert_exporter": "python",
   "pygments_lexer": "ipython3",
   "version": "3.11.7"
  }
 },
 "nbformat": 4,
 "nbformat_minor": 5
}
