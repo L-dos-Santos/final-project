{
 "cells": [
  {
   "cell_type": "code",
   "execution_count": 1,
   "id": "86fb5a57",
   "metadata": {},
   "outputs": [],
   "source": [
    "import pandas as pd\n",
    "import numpy as np\n",
    "import seaborn as sns\n",
    "#import seaborn as seabornInstance\n",
    "import matplotlib.pyplot as plt\n",
    "import warnings\n",
    "warnings.filterwarnings('ignore')\n",
    "#from scipy.interpolate import CubicSpline\n",
    "#from sklearn.model_selection import train_test_split\n",
    "#from sklearn.linear_model import LinearRegression\n",
    "#from sklearn import metrics"
   ]
  },
  {
   "cell_type": "code",
   "execution_count": 2,
   "id": "ca0f1954",
   "metadata": {},
   "outputs": [],
   "source": [
    "from sklearn import tree\n",
    "from sklearn.model_selection import train_test_split\n",
    "from sklearn.tree import DecisionTreeRegressor"
   ]
  },
  {
   "cell_type": "code",
   "execution_count": 5,
   "id": "33d13aae",
   "metadata": {},
   "outputs": [
    {
     "data": {
      "text/html": [
       "<div>\n",
       "<style scoped>\n",
       "    .dataframe tbody tr th:only-of-type {\n",
       "        vertical-align: middle;\n",
       "    }\n",
       "\n",
       "    .dataframe tbody tr th {\n",
       "        vertical-align: top;\n",
       "    }\n",
       "\n",
       "    .dataframe thead th {\n",
       "        text-align: right;\n",
       "    }\n",
       "</style>\n",
       "<table border=\"1\" class=\"dataframe\">\n",
       "  <thead>\n",
       "    <tr style=\"text-align: right;\">\n",
       "      <th></th>\n",
       "      <th>country</th>\n",
       "      <th>year</th>\n",
       "      <th>iso_code</th>\n",
       "      <th>population</th>\n",
       "      <th>gdp</th>\n",
       "      <th>cement_co2</th>\n",
       "      <th>cement_co2_per_capita</th>\n",
       "      <th>co2</th>\n",
       "      <th>co2_growth_abs</th>\n",
       "      <th>co2_growth_prct</th>\n",
       "      <th>...</th>\n",
       "      <th>share_global_other_co2</th>\n",
       "      <th>share_of_temperature_change_from_ghg</th>\n",
       "      <th>temperature_change_from_ch4</th>\n",
       "      <th>temperature_change_from_co2</th>\n",
       "      <th>temperature_change_from_ghg</th>\n",
       "      <th>temperature_change_from_n2o</th>\n",
       "      <th>total_ghg</th>\n",
       "      <th>total_ghg_excluding_lucf</th>\n",
       "      <th>trade_co2</th>\n",
       "      <th>trade_co2_share</th>\n",
       "    </tr>\n",
       "  </thead>\n",
       "  <tbody>\n",
       "    <tr>\n",
       "      <th>0</th>\n",
       "      <td>Afghanistan</td>\n",
       "      <td>1850</td>\n",
       "      <td>AFG</td>\n",
       "      <td>3752993.0</td>\n",
       "      <td>NaN</td>\n",
       "      <td>NaN</td>\n",
       "      <td>NaN</td>\n",
       "      <td>NaN</td>\n",
       "      <td>NaN</td>\n",
       "      <td>NaN</td>\n",
       "      <td>...</td>\n",
       "      <td>NaN</td>\n",
       "      <td>NaN</td>\n",
       "      <td>NaN</td>\n",
       "      <td>NaN</td>\n",
       "      <td>NaN</td>\n",
       "      <td>NaN</td>\n",
       "      <td>NaN</td>\n",
       "      <td>NaN</td>\n",
       "      <td>NaN</td>\n",
       "      <td>NaN</td>\n",
       "    </tr>\n",
       "    <tr>\n",
       "      <th>1</th>\n",
       "      <td>Afghanistan</td>\n",
       "      <td>1851</td>\n",
       "      <td>AFG</td>\n",
       "      <td>3767956.0</td>\n",
       "      <td>NaN</td>\n",
       "      <td>NaN</td>\n",
       "      <td>NaN</td>\n",
       "      <td>NaN</td>\n",
       "      <td>NaN</td>\n",
       "      <td>NaN</td>\n",
       "      <td>...</td>\n",
       "      <td>NaN</td>\n",
       "      <td>0.165</td>\n",
       "      <td>0.000</td>\n",
       "      <td>0.000</td>\n",
       "      <td>0.000</td>\n",
       "      <td>0.0</td>\n",
       "      <td>NaN</td>\n",
       "      <td>NaN</td>\n",
       "      <td>NaN</td>\n",
       "      <td>NaN</td>\n",
       "    </tr>\n",
       "    <tr>\n",
       "      <th>2</th>\n",
       "      <td>Afghanistan</td>\n",
       "      <td>1852</td>\n",
       "      <td>AFG</td>\n",
       "      <td>3783940.0</td>\n",
       "      <td>NaN</td>\n",
       "      <td>NaN</td>\n",
       "      <td>NaN</td>\n",
       "      <td>NaN</td>\n",
       "      <td>NaN</td>\n",
       "      <td>NaN</td>\n",
       "      <td>...</td>\n",
       "      <td>NaN</td>\n",
       "      <td>0.164</td>\n",
       "      <td>0.000</td>\n",
       "      <td>0.000</td>\n",
       "      <td>0.000</td>\n",
       "      <td>0.0</td>\n",
       "      <td>NaN</td>\n",
       "      <td>NaN</td>\n",
       "      <td>NaN</td>\n",
       "      <td>NaN</td>\n",
       "    </tr>\n",
       "    <tr>\n",
       "      <th>3</th>\n",
       "      <td>Afghanistan</td>\n",
       "      <td>1853</td>\n",
       "      <td>AFG</td>\n",
       "      <td>3800954.0</td>\n",
       "      <td>NaN</td>\n",
       "      <td>NaN</td>\n",
       "      <td>NaN</td>\n",
       "      <td>NaN</td>\n",
       "      <td>NaN</td>\n",
       "      <td>NaN</td>\n",
       "      <td>...</td>\n",
       "      <td>NaN</td>\n",
       "      <td>0.164</td>\n",
       "      <td>0.000</td>\n",
       "      <td>0.000</td>\n",
       "      <td>0.000</td>\n",
       "      <td>0.0</td>\n",
       "      <td>NaN</td>\n",
       "      <td>NaN</td>\n",
       "      <td>NaN</td>\n",
       "      <td>NaN</td>\n",
       "    </tr>\n",
       "    <tr>\n",
       "      <th>4</th>\n",
       "      <td>Afghanistan</td>\n",
       "      <td>1854</td>\n",
       "      <td>AFG</td>\n",
       "      <td>3818038.0</td>\n",
       "      <td>NaN</td>\n",
       "      <td>NaN</td>\n",
       "      <td>NaN</td>\n",
       "      <td>NaN</td>\n",
       "      <td>NaN</td>\n",
       "      <td>NaN</td>\n",
       "      <td>...</td>\n",
       "      <td>NaN</td>\n",
       "      <td>0.163</td>\n",
       "      <td>0.000</td>\n",
       "      <td>0.000</td>\n",
       "      <td>0.000</td>\n",
       "      <td>0.0</td>\n",
       "      <td>NaN</td>\n",
       "      <td>NaN</td>\n",
       "      <td>NaN</td>\n",
       "      <td>NaN</td>\n",
       "    </tr>\n",
       "    <tr>\n",
       "      <th>...</th>\n",
       "      <td>...</td>\n",
       "      <td>...</td>\n",
       "      <td>...</td>\n",
       "      <td>...</td>\n",
       "      <td>...</td>\n",
       "      <td>...</td>\n",
       "      <td>...</td>\n",
       "      <td>...</td>\n",
       "      <td>...</td>\n",
       "      <td>...</td>\n",
       "      <td>...</td>\n",
       "      <td>...</td>\n",
       "      <td>...</td>\n",
       "      <td>...</td>\n",
       "      <td>...</td>\n",
       "      <td>...</td>\n",
       "      <td>...</td>\n",
       "      <td>...</td>\n",
       "      <td>...</td>\n",
       "      <td>...</td>\n",
       "      <td>...</td>\n",
       "    </tr>\n",
       "    <tr>\n",
       "      <th>50593</th>\n",
       "      <td>Zimbabwe</td>\n",
       "      <td>2017</td>\n",
       "      <td>ZWE</td>\n",
       "      <td>14751101.0</td>\n",
       "      <td>2.194784e+10</td>\n",
       "      <td>0.469</td>\n",
       "      <td>0.032</td>\n",
       "      <td>9.596</td>\n",
       "      <td>-0.937</td>\n",
       "      <td>-8.899</td>\n",
       "      <td>...</td>\n",
       "      <td>NaN</td>\n",
       "      <td>0.114</td>\n",
       "      <td>0.001</td>\n",
       "      <td>0.001</td>\n",
       "      <td>0.002</td>\n",
       "      <td>0.0</td>\n",
       "      <td>115.59</td>\n",
       "      <td>28.30</td>\n",
       "      <td>0.910</td>\n",
       "      <td>9.486</td>\n",
       "    </tr>\n",
       "    <tr>\n",
       "      <th>50594</th>\n",
       "      <td>Zimbabwe</td>\n",
       "      <td>2018</td>\n",
       "      <td>ZWE</td>\n",
       "      <td>15052191.0</td>\n",
       "      <td>2.271535e+10</td>\n",
       "      <td>0.558</td>\n",
       "      <td>0.037</td>\n",
       "      <td>11.795</td>\n",
       "      <td>2.199</td>\n",
       "      <td>22.920</td>\n",
       "      <td>...</td>\n",
       "      <td>NaN</td>\n",
       "      <td>0.114</td>\n",
       "      <td>0.001</td>\n",
       "      <td>0.001</td>\n",
       "      <td>0.002</td>\n",
       "      <td>0.0</td>\n",
       "      <td>118.22</td>\n",
       "      <td>30.83</td>\n",
       "      <td>0.771</td>\n",
       "      <td>6.537</td>\n",
       "    </tr>\n",
       "    <tr>\n",
       "      <th>50595</th>\n",
       "      <td>Zimbabwe</td>\n",
       "      <td>2019</td>\n",
       "      <td>ZWE</td>\n",
       "      <td>15354606.0</td>\n",
       "      <td>NaN</td>\n",
       "      <td>0.570</td>\n",
       "      <td>0.037</td>\n",
       "      <td>11.115</td>\n",
       "      <td>-0.681</td>\n",
       "      <td>-5.772</td>\n",
       "      <td>...</td>\n",
       "      <td>NaN</td>\n",
       "      <td>0.113</td>\n",
       "      <td>0.001</td>\n",
       "      <td>0.001</td>\n",
       "      <td>0.002</td>\n",
       "      <td>0.0</td>\n",
       "      <td>117.96</td>\n",
       "      <td>30.53</td>\n",
       "      <td>0.978</td>\n",
       "      <td>8.795</td>\n",
       "    </tr>\n",
       "    <tr>\n",
       "      <th>50596</th>\n",
       "      <td>Zimbabwe</td>\n",
       "      <td>2020</td>\n",
       "      <td>ZWE</td>\n",
       "      <td>15669663.0</td>\n",
       "      <td>NaN</td>\n",
       "      <td>0.570</td>\n",
       "      <td>0.036</td>\n",
       "      <td>10.608</td>\n",
       "      <td>-0.507</td>\n",
       "      <td>-4.559</td>\n",
       "      <td>...</td>\n",
       "      <td>NaN</td>\n",
       "      <td>0.112</td>\n",
       "      <td>0.001</td>\n",
       "      <td>0.001</td>\n",
       "      <td>0.002</td>\n",
       "      <td>0.0</td>\n",
       "      <td>NaN</td>\n",
       "      <td>NaN</td>\n",
       "      <td>1.006</td>\n",
       "      <td>9.481</td>\n",
       "    </tr>\n",
       "    <tr>\n",
       "      <th>50597</th>\n",
       "      <td>Zimbabwe</td>\n",
       "      <td>2021</td>\n",
       "      <td>ZWE</td>\n",
       "      <td>15993525.0</td>\n",
       "      <td>NaN</td>\n",
       "      <td>0.570</td>\n",
       "      <td>0.036</td>\n",
       "      <td>11.296</td>\n",
       "      <td>0.688</td>\n",
       "      <td>6.488</td>\n",
       "      <td>...</td>\n",
       "      <td>NaN</td>\n",
       "      <td>0.111</td>\n",
       "      <td>0.001</td>\n",
       "      <td>0.001</td>\n",
       "      <td>0.002</td>\n",
       "      <td>0.0</td>\n",
       "      <td>NaN</td>\n",
       "      <td>NaN</td>\n",
       "      <td>NaN</td>\n",
       "      <td>NaN</td>\n",
       "    </tr>\n",
       "  </tbody>\n",
       "</table>\n",
       "<p>50598 rows × 79 columns</p>\n",
       "</div>"
      ],
      "text/plain": [
       "           country  year iso_code  population           gdp  cement_co2  \\\n",
       "0      Afghanistan  1850      AFG   3752993.0           NaN         NaN   \n",
       "1      Afghanistan  1851      AFG   3767956.0           NaN         NaN   \n",
       "2      Afghanistan  1852      AFG   3783940.0           NaN         NaN   \n",
       "3      Afghanistan  1853      AFG   3800954.0           NaN         NaN   \n",
       "4      Afghanistan  1854      AFG   3818038.0           NaN         NaN   \n",
       "...            ...   ...      ...         ...           ...         ...   \n",
       "50593     Zimbabwe  2017      ZWE  14751101.0  2.194784e+10       0.469   \n",
       "50594     Zimbabwe  2018      ZWE  15052191.0  2.271535e+10       0.558   \n",
       "50595     Zimbabwe  2019      ZWE  15354606.0           NaN       0.570   \n",
       "50596     Zimbabwe  2020      ZWE  15669663.0           NaN       0.570   \n",
       "50597     Zimbabwe  2021      ZWE  15993525.0           NaN       0.570   \n",
       "\n",
       "       cement_co2_per_capita     co2  co2_growth_abs  co2_growth_prct  ...  \\\n",
       "0                        NaN     NaN             NaN              NaN  ...   \n",
       "1                        NaN     NaN             NaN              NaN  ...   \n",
       "2                        NaN     NaN             NaN              NaN  ...   \n",
       "3                        NaN     NaN             NaN              NaN  ...   \n",
       "4                        NaN     NaN             NaN              NaN  ...   \n",
       "...                      ...     ...             ...              ...  ...   \n",
       "50593                  0.032   9.596          -0.937           -8.899  ...   \n",
       "50594                  0.037  11.795           2.199           22.920  ...   \n",
       "50595                  0.037  11.115          -0.681           -5.772  ...   \n",
       "50596                  0.036  10.608          -0.507           -4.559  ...   \n",
       "50597                  0.036  11.296           0.688            6.488  ...   \n",
       "\n",
       "       share_global_other_co2  share_of_temperature_change_from_ghg  \\\n",
       "0                         NaN                                   NaN   \n",
       "1                         NaN                                 0.165   \n",
       "2                         NaN                                 0.164   \n",
       "3                         NaN                                 0.164   \n",
       "4                         NaN                                 0.163   \n",
       "...                       ...                                   ...   \n",
       "50593                     NaN                                 0.114   \n",
       "50594                     NaN                                 0.114   \n",
       "50595                     NaN                                 0.113   \n",
       "50596                     NaN                                 0.112   \n",
       "50597                     NaN                                 0.111   \n",
       "\n",
       "       temperature_change_from_ch4  temperature_change_from_co2  \\\n",
       "0                              NaN                          NaN   \n",
       "1                            0.000                        0.000   \n",
       "2                            0.000                        0.000   \n",
       "3                            0.000                        0.000   \n",
       "4                            0.000                        0.000   \n",
       "...                            ...                          ...   \n",
       "50593                        0.001                        0.001   \n",
       "50594                        0.001                        0.001   \n",
       "50595                        0.001                        0.001   \n",
       "50596                        0.001                        0.001   \n",
       "50597                        0.001                        0.001   \n",
       "\n",
       "       temperature_change_from_ghg  temperature_change_from_n2o  total_ghg  \\\n",
       "0                              NaN                          NaN        NaN   \n",
       "1                            0.000                          0.0        NaN   \n",
       "2                            0.000                          0.0        NaN   \n",
       "3                            0.000                          0.0        NaN   \n",
       "4                            0.000                          0.0        NaN   \n",
       "...                            ...                          ...        ...   \n",
       "50593                        0.002                          0.0     115.59   \n",
       "50594                        0.002                          0.0     118.22   \n",
       "50595                        0.002                          0.0     117.96   \n",
       "50596                        0.002                          0.0        NaN   \n",
       "50597                        0.002                          0.0        NaN   \n",
       "\n",
       "       total_ghg_excluding_lucf  trade_co2  trade_co2_share  \n",
       "0                           NaN        NaN              NaN  \n",
       "1                           NaN        NaN              NaN  \n",
       "2                           NaN        NaN              NaN  \n",
       "3                           NaN        NaN              NaN  \n",
       "4                           NaN        NaN              NaN  \n",
       "...                         ...        ...              ...  \n",
       "50593                     28.30      0.910            9.486  \n",
       "50594                     30.83      0.771            6.537  \n",
       "50595                     30.53      0.978            8.795  \n",
       "50596                       NaN      1.006            9.481  \n",
       "50597                       NaN        NaN              NaN  \n",
       "\n",
       "[50598 rows x 79 columns]"
      ]
     },
     "execution_count": 5,
     "metadata": {},
     "output_type": "execute_result"
    }
   ],
   "source": [
    "dataset = pd.read_csv(\"co2emission.csv\")\n",
    "dataset"
   ]
  },
  {
   "cell_type": "code",
   "execution_count": 6,
   "id": "78333c5a",
   "metadata": {},
   "outputs": [
    {
     "data": {
      "text/html": [
       "<div>\n",
       "<style scoped>\n",
       "    .dataframe tbody tr th:only-of-type {\n",
       "        vertical-align: middle;\n",
       "    }\n",
       "\n",
       "    .dataframe tbody tr th {\n",
       "        vertical-align: top;\n",
       "    }\n",
       "\n",
       "    .dataframe thead th {\n",
       "        text-align: right;\n",
       "    }\n",
       "</style>\n",
       "<table border=\"1\" class=\"dataframe\">\n",
       "  <thead>\n",
       "    <tr style=\"text-align: right;\">\n",
       "      <th></th>\n",
       "      <th>country</th>\n",
       "      <th>year</th>\n",
       "      <th>co2_per_capita</th>\n",
       "    </tr>\n",
       "  </thead>\n",
       "  <tbody>\n",
       "    <tr>\n",
       "      <th>0</th>\n",
       "      <td>Afghanistan</td>\n",
       "      <td>1850</td>\n",
       "      <td>NaN</td>\n",
       "    </tr>\n",
       "    <tr>\n",
       "      <th>1</th>\n",
       "      <td>Afghanistan</td>\n",
       "      <td>1851</td>\n",
       "      <td>NaN</td>\n",
       "    </tr>\n",
       "    <tr>\n",
       "      <th>2</th>\n",
       "      <td>Afghanistan</td>\n",
       "      <td>1852</td>\n",
       "      <td>NaN</td>\n",
       "    </tr>\n",
       "    <tr>\n",
       "      <th>3</th>\n",
       "      <td>Afghanistan</td>\n",
       "      <td>1853</td>\n",
       "      <td>NaN</td>\n",
       "    </tr>\n",
       "    <tr>\n",
       "      <th>4</th>\n",
       "      <td>Afghanistan</td>\n",
       "      <td>1854</td>\n",
       "      <td>NaN</td>\n",
       "    </tr>\n",
       "  </tbody>\n",
       "</table>\n",
       "</div>"
      ],
      "text/plain": [
       "       country  year  co2_per_capita\n",
       "0  Afghanistan  1850             NaN\n",
       "1  Afghanistan  1851             NaN\n",
       "2  Afghanistan  1852             NaN\n",
       "3  Afghanistan  1853             NaN\n",
       "4  Afghanistan  1854             NaN"
      ]
     },
     "execution_count": 6,
     "metadata": {},
     "output_type": "execute_result"
    }
   ],
   "source": [
    "new_data = dataset[[\"country\", \"year\", \"co2_per_capita\"]]\n",
    "new_data.head()"
   ]
  },
  {
   "cell_type": "code",
   "execution_count": 7,
   "id": "96471e4b",
   "metadata": {},
   "outputs": [
    {
     "data": {
      "text/html": [
       "<div>\n",
       "<style scoped>\n",
       "    .dataframe tbody tr th:only-of-type {\n",
       "        vertical-align: middle;\n",
       "    }\n",
       "\n",
       "    .dataframe tbody tr th {\n",
       "        vertical-align: top;\n",
       "    }\n",
       "\n",
       "    .dataframe thead th {\n",
       "        text-align: right;\n",
       "    }\n",
       "</style>\n",
       "<table border=\"1\" class=\"dataframe\">\n",
       "  <thead>\n",
       "    <tr style=\"text-align: right;\">\n",
       "      <th></th>\n",
       "      <th>country</th>\n",
       "      <th>year</th>\n",
       "      <th>co2_per_capita</th>\n",
       "    </tr>\n",
       "  </thead>\n",
       "  <tbody>\n",
       "    <tr>\n",
       "      <th>788</th>\n",
       "      <td>Albania</td>\n",
       "      <td>1850</td>\n",
       "      <td>NaN</td>\n",
       "    </tr>\n",
       "    <tr>\n",
       "      <th>789</th>\n",
       "      <td>Albania</td>\n",
       "      <td>1851</td>\n",
       "      <td>NaN</td>\n",
       "    </tr>\n",
       "    <tr>\n",
       "      <th>790</th>\n",
       "      <td>Albania</td>\n",
       "      <td>1852</td>\n",
       "      <td>NaN</td>\n",
       "    </tr>\n",
       "    <tr>\n",
       "      <th>791</th>\n",
       "      <td>Albania</td>\n",
       "      <td>1853</td>\n",
       "      <td>NaN</td>\n",
       "    </tr>\n",
       "    <tr>\n",
       "      <th>792</th>\n",
       "      <td>Albania</td>\n",
       "      <td>1854</td>\n",
       "      <td>NaN</td>\n",
       "    </tr>\n",
       "  </tbody>\n",
       "</table>\n",
       "</div>"
      ],
      "text/plain": [
       "     country  year  co2_per_capita\n",
       "788  Albania  1850             NaN\n",
       "789  Albania  1851             NaN\n",
       "790  Albania  1852             NaN\n",
       "791  Albania  1853             NaN\n",
       "792  Albania  1854             NaN"
      ]
     },
     "execution_count": 7,
     "metadata": {},
     "output_type": "execute_result"
    }
   ],
   "source": [
    "europe = new_data[new_data[\"country\"].isin([\"Albania\",\"Austria\",\"Andorra\",\"Armenia\",\"Azerbaijan\",\n",
    "                                            \"Belarus\",\"Belgium\",\"Bosnia and Herzegovina\",\"Bulgaria\",\n",
    "                                            \"Croatia\",\"Cyprus\",\"Czechia\",\n",
    "                                            \"Denmark\",\n",
    "                                            \"Estonia\",\n",
    "                                            \"Finland\",\"France\",\n",
    "                                            \"Georgia\",\"Germany\",\"Greece\",\n",
    "                                            \"Hungary\",\n",
    "                                            \"Iceland\",\"Ireland\",\"Italy\",\n",
    "                                            \"Kazakhstan\",\"Kosovo\",\n",
    "                                            \"Latvia\",\"Liechtenstein\",\"Lithuania\",\"Luxembourg\",\n",
    "                                            \"Malta\",\"Moldova\",\"Montenegro\",\n",
    "                                            \"Netherlands\",\"North Macedonia\",\"Norway\",\n",
    "                                            \"Poland\",\"Portugal\",\n",
    "                                            \"Romania\",\"Russia\",\n",
    "                                            \"Serbia\",\"Slovakia\",\"Spain\",\"Sweden\",\"Switzerland\",\n",
    "                                           \"Turkey\",\n",
    "                                           \"Ukraine\", \"United Kingdom\"])]\n",
    "europe.head()"
   ]
  },
  {
   "cell_type": "code",
   "execution_count": 10,
   "id": "38c35303",
   "metadata": {},
   "outputs": [
    {
     "data": {
      "text/html": [
       "<div>\n",
       "<style scoped>\n",
       "    .dataframe tbody tr th:only-of-type {\n",
       "        vertical-align: middle;\n",
       "    }\n",
       "\n",
       "    .dataframe tbody tr th {\n",
       "        vertical-align: top;\n",
       "    }\n",
       "\n",
       "    .dataframe thead th {\n",
       "        text-align: right;\n",
       "    }\n",
       "</style>\n",
       "<table border=\"1\" class=\"dataframe\">\n",
       "  <thead>\n",
       "    <tr style=\"text-align: right;\">\n",
       "      <th></th>\n",
       "      <th>country</th>\n",
       "      <th>year</th>\n",
       "      <th>co2_per_capita</th>\n",
       "    </tr>\n",
       "  </thead>\n",
       "  <tbody>\n",
       "    <tr>\n",
       "      <th>838</th>\n",
       "      <td>Albania</td>\n",
       "      <td>1900</td>\n",
       "      <td>NaN</td>\n",
       "    </tr>\n",
       "    <tr>\n",
       "      <th>839</th>\n",
       "      <td>Albania</td>\n",
       "      <td>1901</td>\n",
       "      <td>NaN</td>\n",
       "    </tr>\n",
       "    <tr>\n",
       "      <th>840</th>\n",
       "      <td>Albania</td>\n",
       "      <td>1902</td>\n",
       "      <td>NaN</td>\n",
       "    </tr>\n",
       "    <tr>\n",
       "      <th>841</th>\n",
       "      <td>Albania</td>\n",
       "      <td>1903</td>\n",
       "      <td>NaN</td>\n",
       "    </tr>\n",
       "    <tr>\n",
       "      <th>842</th>\n",
       "      <td>Albania</td>\n",
       "      <td>1904</td>\n",
       "      <td>NaN</td>\n",
       "    </tr>\n",
       "    <tr>\n",
       "      <th>...</th>\n",
       "      <td>...</td>\n",
       "      <td>...</td>\n",
       "      <td>...</td>\n",
       "    </tr>\n",
       "    <tr>\n",
       "      <th>47932</th>\n",
       "      <td>United Kingdom</td>\n",
       "      <td>2017</td>\n",
       "      <td>5.863</td>\n",
       "    </tr>\n",
       "    <tr>\n",
       "      <th>47933</th>\n",
       "      <td>United Kingdom</td>\n",
       "      <td>2018</td>\n",
       "      <td>5.716</td>\n",
       "    </tr>\n",
       "    <tr>\n",
       "      <th>47934</th>\n",
       "      <td>United Kingdom</td>\n",
       "      <td>2019</td>\n",
       "      <td>5.462</td>\n",
       "    </tr>\n",
       "    <tr>\n",
       "      <th>47935</th>\n",
       "      <td>United Kingdom</td>\n",
       "      <td>2020</td>\n",
       "      <td>4.865</td>\n",
       "    </tr>\n",
       "    <tr>\n",
       "      <th>47936</th>\n",
       "      <td>United Kingdom</td>\n",
       "      <td>2021</td>\n",
       "      <td>5.154</td>\n",
       "    </tr>\n",
       "  </tbody>\n",
       "</table>\n",
       "<p>5734 rows × 3 columns</p>\n",
       "</div>"
      ],
      "text/plain": [
       "              country  year  co2_per_capita\n",
       "838           Albania  1900             NaN\n",
       "839           Albania  1901             NaN\n",
       "840           Albania  1902             NaN\n",
       "841           Albania  1903             NaN\n",
       "842           Albania  1904             NaN\n",
       "...               ...   ...             ...\n",
       "47932  United Kingdom  2017           5.863\n",
       "47933  United Kingdom  2018           5.716\n",
       "47934  United Kingdom  2019           5.462\n",
       "47935  United Kingdom  2020           4.865\n",
       "47936  United Kingdom  2021           5.154\n",
       "\n",
       "[5734 rows x 3 columns]"
      ]
     },
     "execution_count": 10,
     "metadata": {},
     "output_type": "execute_result"
    }
   ],
   "source": [
    "europe_data = europe.loc[(europe[\"year\"] >= 1900)]\n",
    "europe_data"
   ]
  },
  {
   "cell_type": "code",
   "execution_count": 11,
   "id": "42399bed",
   "metadata": {},
   "outputs": [
    {
     "data": {
      "text/html": [
       "<div>\n",
       "<style scoped>\n",
       "    .dataframe tbody tr th:only-of-type {\n",
       "        vertical-align: middle;\n",
       "    }\n",
       "\n",
       "    .dataframe tbody tr th {\n",
       "        vertical-align: top;\n",
       "    }\n",
       "\n",
       "    .dataframe thead th {\n",
       "        text-align: right;\n",
       "    }\n",
       "</style>\n",
       "<table border=\"1\" class=\"dataframe\">\n",
       "  <thead>\n",
       "    <tr style=\"text-align: right;\">\n",
       "      <th></th>\n",
       "      <th>country</th>\n",
       "      <th>year</th>\n",
       "      <th>co2_per_capita</th>\n",
       "    </tr>\n",
       "  </thead>\n",
       "  <tbody>\n",
       "    <tr>\n",
       "      <th>838</th>\n",
       "      <td>Albania</td>\n",
       "      <td>1900</td>\n",
       "      <td>1.232888</td>\n",
       "    </tr>\n",
       "    <tr>\n",
       "      <th>839</th>\n",
       "      <td>Albania</td>\n",
       "      <td>1901</td>\n",
       "      <td>1.232888</td>\n",
       "    </tr>\n",
       "    <tr>\n",
       "      <th>840</th>\n",
       "      <td>Albania</td>\n",
       "      <td>1902</td>\n",
       "      <td>1.232888</td>\n",
       "    </tr>\n",
       "    <tr>\n",
       "      <th>841</th>\n",
       "      <td>Albania</td>\n",
       "      <td>1903</td>\n",
       "      <td>1.232888</td>\n",
       "    </tr>\n",
       "    <tr>\n",
       "      <th>842</th>\n",
       "      <td>Albania</td>\n",
       "      <td>1904</td>\n",
       "      <td>1.232888</td>\n",
       "    </tr>\n",
       "    <tr>\n",
       "      <th>...</th>\n",
       "      <td>...</td>\n",
       "      <td>...</td>\n",
       "      <td>...</td>\n",
       "    </tr>\n",
       "    <tr>\n",
       "      <th>47932</th>\n",
       "      <td>United Kingdom</td>\n",
       "      <td>2017</td>\n",
       "      <td>5.863000</td>\n",
       "    </tr>\n",
       "    <tr>\n",
       "      <th>47933</th>\n",
       "      <td>United Kingdom</td>\n",
       "      <td>2018</td>\n",
       "      <td>5.716000</td>\n",
       "    </tr>\n",
       "    <tr>\n",
       "      <th>47934</th>\n",
       "      <td>United Kingdom</td>\n",
       "      <td>2019</td>\n",
       "      <td>5.462000</td>\n",
       "    </tr>\n",
       "    <tr>\n",
       "      <th>47935</th>\n",
       "      <td>United Kingdom</td>\n",
       "      <td>2020</td>\n",
       "      <td>4.865000</td>\n",
       "    </tr>\n",
       "    <tr>\n",
       "      <th>47936</th>\n",
       "      <td>United Kingdom</td>\n",
       "      <td>2021</td>\n",
       "      <td>5.154000</td>\n",
       "    </tr>\n",
       "  </tbody>\n",
       "</table>\n",
       "<p>5734 rows × 3 columns</p>\n",
       "</div>"
      ],
      "text/plain": [
       "              country  year  co2_per_capita\n",
       "838           Albania  1900        1.232888\n",
       "839           Albania  1901        1.232888\n",
       "840           Albania  1902        1.232888\n",
       "841           Albania  1903        1.232888\n",
       "842           Albania  1904        1.232888\n",
       "...               ...   ...             ...\n",
       "47932  United Kingdom  2017        5.863000\n",
       "47933  United Kingdom  2018        5.716000\n",
       "47934  United Kingdom  2019        5.462000\n",
       "47935  United Kingdom  2020        4.865000\n",
       "47936  United Kingdom  2021        5.154000\n",
       "\n",
       "[5734 rows x 3 columns]"
      ]
     },
     "execution_count": 11,
     "metadata": {},
     "output_type": "execute_result"
    }
   ],
   "source": [
    "grouped = europe_data.groupby(['country'])\n",
    "mean_values = grouped.mean()\n",
    "europe_data.loc[:,'co2_per_capita'] = grouped['co2_per_capita'].transform(lambda x: x.fillna(x.mean()))\n",
    "europe_data"
   ]
  },
  {
   "cell_type": "code",
   "execution_count": 12,
   "id": "3fcd611f",
   "metadata": {},
   "outputs": [
    {
     "data": {
      "text/plain": [
       "year\n",
       "1900    2.395832\n",
       "1901    2.375619\n",
       "1902    2.365278\n",
       "1903    2.400300\n",
       "1904    2.419300\n",
       "1905    2.426151\n",
       "1906    2.514151\n",
       "1907    2.627321\n",
       "1908    2.707172\n",
       "1909    2.663959\n",
       "Name: co2_per_capita, dtype: float64"
      ]
     },
     "execution_count": 12,
     "metadata": {},
     "output_type": "execute_result"
    }
   ],
   "source": [
    "# Group by 'year' and calculate the mean of 'co2_per_capita' within each year group\n",
    "mean_by_year = europe_data.groupby('year')['co2_per_capita'].mean()\n",
    "\n",
    "# Display the first 10 means per year\n",
    "mean_by_year.head(10)\n"
   ]
  },
  {
   "cell_type": "code",
   "execution_count": 13,
   "id": "fec3251a",
   "metadata": {},
   "outputs": [
    {
     "data": {
      "text/html": [
       "<div>\n",
       "<style scoped>\n",
       "    .dataframe tbody tr th:only-of-type {\n",
       "        vertical-align: middle;\n",
       "    }\n",
       "\n",
       "    .dataframe tbody tr th {\n",
       "        vertical-align: top;\n",
       "    }\n",
       "\n",
       "    .dataframe thead th {\n",
       "        text-align: right;\n",
       "    }\n",
       "</style>\n",
       "<table border=\"1\" class=\"dataframe\">\n",
       "  <thead>\n",
       "    <tr style=\"text-align: right;\">\n",
       "      <th></th>\n",
       "      <th>year</th>\n",
       "      <th>co2_per_capita</th>\n",
       "    </tr>\n",
       "  </thead>\n",
       "  <tbody>\n",
       "    <tr>\n",
       "      <th>0</th>\n",
       "      <td>1900</td>\n",
       "      <td>2.395832</td>\n",
       "    </tr>\n",
       "    <tr>\n",
       "      <th>1</th>\n",
       "      <td>1901</td>\n",
       "      <td>2.375619</td>\n",
       "    </tr>\n",
       "    <tr>\n",
       "      <th>2</th>\n",
       "      <td>1902</td>\n",
       "      <td>2.365278</td>\n",
       "    </tr>\n",
       "    <tr>\n",
       "      <th>3</th>\n",
       "      <td>1903</td>\n",
       "      <td>2.400300</td>\n",
       "    </tr>\n",
       "    <tr>\n",
       "      <th>4</th>\n",
       "      <td>1904</td>\n",
       "      <td>2.419300</td>\n",
       "    </tr>\n",
       "    <tr>\n",
       "      <th>...</th>\n",
       "      <td>...</td>\n",
       "      <td>...</td>\n",
       "    </tr>\n",
       "    <tr>\n",
       "      <th>117</th>\n",
       "      <td>2017</td>\n",
       "      <td>6.501851</td>\n",
       "    </tr>\n",
       "    <tr>\n",
       "      <th>118</th>\n",
       "      <td>2018</td>\n",
       "      <td>6.448809</td>\n",
       "    </tr>\n",
       "    <tr>\n",
       "      <th>119</th>\n",
       "      <td>2019</td>\n",
       "      <td>6.175596</td>\n",
       "    </tr>\n",
       "    <tr>\n",
       "      <th>120</th>\n",
       "      <td>2020</td>\n",
       "      <td>5.677936</td>\n",
       "    </tr>\n",
       "    <tr>\n",
       "      <th>121</th>\n",
       "      <td>2021</td>\n",
       "      <td>5.756660</td>\n",
       "    </tr>\n",
       "  </tbody>\n",
       "</table>\n",
       "<p>122 rows × 2 columns</p>\n",
       "</div>"
      ],
      "text/plain": [
       "     year  co2_per_capita\n",
       "0    1900        2.395832\n",
       "1    1901        2.375619\n",
       "2    1902        2.365278\n",
       "3    1903        2.400300\n",
       "4    1904        2.419300\n",
       "..    ...             ...\n",
       "117  2017        6.501851\n",
       "118  2018        6.448809\n",
       "119  2019        6.175596\n",
       "120  2020        5.677936\n",
       "121  2021        5.756660\n",
       "\n",
       "[122 rows x 2 columns]"
      ]
     },
     "execution_count": 13,
     "metadata": {},
     "output_type": "execute_result"
    }
   ],
   "source": [
    "# Convert Series to DataFrame\n",
    "df = mean_by_year.reset_index()\n",
    "\n",
    "# Display the DataFrame\n",
    "df"
   ]
  },
  {
   "cell_type": "code",
   "execution_count": 14,
   "id": "64b649ec",
   "metadata": {},
   "outputs": [
    {
     "name": "stdout",
     "output_type": "stream",
     "text": [
      "          year  co2_per_capita\n",
      "0   1900-01-01        2.395832\n",
      "1   1901-01-01        2.375619\n",
      "2   1902-01-01        2.365278\n",
      "3   1903-01-01        2.400300\n",
      "4   1904-01-01        2.419300\n",
      "..         ...             ...\n",
      "117 2017-01-01        6.501851\n",
      "118 2018-01-01        6.448809\n",
      "119 2019-01-01        6.175596\n",
      "120 2020-01-01        5.677936\n",
      "121 2021-01-01        5.756660\n",
      "\n",
      "[122 rows x 2 columns]\n",
      "year              datetime64[ns]\n",
      "co2_per_capita           float64\n",
      "dtype: object\n"
     ]
    }
   ],
   "source": [
    "# Convert 'year' column to datetime format without considering it as a timestamp\n",
    "df['year'] = pd.to_datetime(df['year'], format='%Y')\n",
    "\n",
    "print(df)\n",
    "print(df.dtypes)"
   ]
  },
  {
   "cell_type": "code",
   "execution_count": 26,
   "id": "d88b9bc1",
   "metadata": {},
   "outputs": [],
   "source": [
    "X = df[['year']]\n",
    "y = df['co2_per_capita']"
   ]
  },
  {
   "cell_type": "code",
   "execution_count": 27,
   "id": "9df2aefd",
   "metadata": {},
   "outputs": [],
   "source": [
    "X_train, X_test, y_train, y_test = train_test_split(X, y, random_state=0, train_size = 0.75)"
   ]
  },
  {
   "cell_type": "code",
   "execution_count": 28,
   "id": "b86e04cd",
   "metadata": {},
   "outputs": [],
   "source": [
    "reg = DecisionTreeRegressor(max_depth = 2, random_state = 0)"
   ]
  },
  {
   "cell_type": "code",
   "execution_count": 29,
   "id": "2127f58e",
   "metadata": {},
   "outputs": [
    {
     "data": {
      "text/plain": [
       "DecisionTreeRegressor(max_depth=2, random_state=0)"
      ]
     },
     "execution_count": 29,
     "metadata": {},
     "output_type": "execute_result"
    }
   ],
   "source": [
    "reg.fit(X_train, y_train)\n"
   ]
  },
  {
   "cell_type": "code",
   "execution_count": 30,
   "id": "f73380ec",
   "metadata": {},
   "outputs": [
    {
     "data": {
      "text/plain": [
       "array([7.65310587, 7.65310587, 2.68690095, 7.65310587, 2.68690095,\n",
       "       2.68690095, 2.68690095, 2.68690095, 7.65310587, 7.65310587])"
      ]
     },
     "execution_count": 30,
     "metadata": {},
     "output_type": "execute_result"
    }
   ],
   "source": [
    "reg.predict(X_test[0:10])"
   ]
  },
  {
   "cell_type": "code",
   "execution_count": 31,
   "id": "d11ae446",
   "metadata": {},
   "outputs": [
    {
     "data": {
      "text/html": [
       "<div>\n",
       "<style scoped>\n",
       "    .dataframe tbody tr th:only-of-type {\n",
       "        vertical-align: middle;\n",
       "    }\n",
       "\n",
       "    .dataframe tbody tr th {\n",
       "        vertical-align: top;\n",
       "    }\n",
       "\n",
       "    .dataframe thead th {\n",
       "        text-align: right;\n",
       "    }\n",
       "</style>\n",
       "<table border=\"1\" class=\"dataframe\">\n",
       "  <thead>\n",
       "    <tr style=\"text-align: right;\">\n",
       "      <th></th>\n",
       "      <th>year</th>\n",
       "    </tr>\n",
       "  </thead>\n",
       "  <tbody>\n",
       "    <tr>\n",
       "      <th>84</th>\n",
       "      <td>1984-01-01</td>\n",
       "    </tr>\n",
       "  </tbody>\n",
       "</table>\n",
       "</div>"
      ],
      "text/plain": [
       "         year\n",
       "84 1984-01-01"
      ]
     },
     "execution_count": 31,
     "metadata": {},
     "output_type": "execute_result"
    }
   ],
   "source": [
    "X_test.head(1)"
   ]
  },
  {
   "cell_type": "code",
   "execution_count": 32,
   "id": "b33d1951",
   "metadata": {},
   "outputs": [
    {
     "data": {
      "text/plain": [
       "array([7.65310587])"
      ]
     },
     "execution_count": 32,
     "metadata": {},
     "output_type": "execute_result"
    }
   ],
   "source": [
    "# predict 1 observation.\n",
    "reg.predict(X_test.iloc[0].values.reshape(1,-1))"
   ]
  },
  {
   "cell_type": "code",
   "execution_count": 18,
   "id": "a53e1cd4",
   "metadata": {},
   "outputs": [],
   "source": [
    "from pmdarima import auto_arima"
   ]
  },
  {
   "cell_type": "code",
   "execution_count": 19,
   "id": "3d0bb5fd",
   "metadata": {},
   "outputs": [
    {
     "data": {
      "text/html": [
       "<div>\n",
       "<style scoped>\n",
       "    .dataframe tbody tr th:only-of-type {\n",
       "        vertical-align: middle;\n",
       "    }\n",
       "\n",
       "    .dataframe tbody tr th {\n",
       "        vertical-align: top;\n",
       "    }\n",
       "\n",
       "    .dataframe thead th {\n",
       "        text-align: right;\n",
       "    }\n",
       "</style>\n",
       "<table border=\"1\" class=\"dataframe\">\n",
       "  <thead>\n",
       "    <tr style=\"text-align: right;\">\n",
       "      <th></th>\n",
       "      <th>year</th>\n",
       "      <th>co2_per_capita</th>\n",
       "    </tr>\n",
       "  </thead>\n",
       "  <tbody>\n",
       "    <tr>\n",
       "      <th>0</th>\n",
       "      <td>1900-01-01</td>\n",
       "      <td>1.527100</td>\n",
       "    </tr>\n",
       "    <tr>\n",
       "      <th>1</th>\n",
       "      <td>1901-01-01</td>\n",
       "      <td>1.503350</td>\n",
       "    </tr>\n",
       "    <tr>\n",
       "      <th>2</th>\n",
       "      <td>1902-01-01</td>\n",
       "      <td>1.491200</td>\n",
       "    </tr>\n",
       "    <tr>\n",
       "      <th>3</th>\n",
       "      <td>1903-01-01</td>\n",
       "      <td>1.532350</td>\n",
       "    </tr>\n",
       "    <tr>\n",
       "      <th>4</th>\n",
       "      <td>1904-01-01</td>\n",
       "      <td>1.554675</td>\n",
       "    </tr>\n",
       "    <tr>\n",
       "      <th>...</th>\n",
       "      <td>...</td>\n",
       "      <td>...</td>\n",
       "    </tr>\n",
       "    <tr>\n",
       "      <th>117</th>\n",
       "      <td>2017-01-01</td>\n",
       "      <td>6.501851</td>\n",
       "    </tr>\n",
       "    <tr>\n",
       "      <th>118</th>\n",
       "      <td>2018-01-01</td>\n",
       "      <td>6.448809</td>\n",
       "    </tr>\n",
       "    <tr>\n",
       "      <th>119</th>\n",
       "      <td>2019-01-01</td>\n",
       "      <td>6.175596</td>\n",
       "    </tr>\n",
       "    <tr>\n",
       "      <th>120</th>\n",
       "      <td>2020-01-01</td>\n",
       "      <td>5.677936</td>\n",
       "    </tr>\n",
       "    <tr>\n",
       "      <th>121</th>\n",
       "      <td>2021-01-01</td>\n",
       "      <td>5.756660</td>\n",
       "    </tr>\n",
       "  </tbody>\n",
       "</table>\n",
       "<p>122 rows × 2 columns</p>\n",
       "</div>"
      ],
      "text/plain": [
       "          year  co2_per_capita\n",
       "0   1900-01-01        1.527100\n",
       "1   1901-01-01        1.503350\n",
       "2   1902-01-01        1.491200\n",
       "3   1903-01-01        1.532350\n",
       "4   1904-01-01        1.554675\n",
       "..         ...             ...\n",
       "117 2017-01-01        6.501851\n",
       "118 2018-01-01        6.448809\n",
       "119 2019-01-01        6.175596\n",
       "120 2020-01-01        5.677936\n",
       "121 2021-01-01        5.756660\n",
       "\n",
       "[122 rows x 2 columns]"
      ]
     },
     "execution_count": 19,
     "metadata": {},
     "output_type": "execute_result"
    }
   ],
   "source": [
    "df"
   ]
  },
  {
   "cell_type": "code",
   "execution_count": 20,
   "id": "c0c31c42",
   "metadata": {},
   "outputs": [
    {
     "name": "stdout",
     "output_type": "stream",
     "text": [
      "Performing stepwise search to minimize aic\n",
      " ARIMA(2,1,2)(0,0,0)[0] intercept   : AIC=-26.760, Time=0.63 sec\n",
      " ARIMA(0,1,0)(0,0,0)[0] intercept   : AIC=-15.439, Time=0.10 sec\n",
      " ARIMA(1,1,0)(0,0,0)[0] intercept   : AIC=-29.197, Time=0.09 sec\n",
      " ARIMA(0,1,1)(0,0,0)[0] intercept   : AIC=-25.986, Time=0.09 sec\n",
      " ARIMA(0,1,0)(0,0,0)[0]             : AIC=-14.509, Time=0.07 sec\n",
      " ARIMA(2,1,0)(0,0,0)[0] intercept   : AIC=-28.275, Time=0.14 sec\n",
      " ARIMA(1,1,1)(0,0,0)[0] intercept   : AIC=-29.061, Time=0.17 sec\n",
      " ARIMA(2,1,1)(0,0,0)[0] intercept   : AIC=-28.769, Time=0.60 sec\n",
      " ARIMA(1,1,0)(0,0,0)[0]             : AIC=-29.795, Time=0.05 sec\n",
      " ARIMA(2,1,0)(0,0,0)[0]             : AIC=-29.178, Time=0.13 sec\n",
      " ARIMA(1,1,1)(0,0,0)[0]             : AIC=-30.405, Time=0.11 sec\n",
      " ARIMA(0,1,1)(0,0,0)[0]             : AIC=-25.985, Time=0.05 sec\n",
      " ARIMA(2,1,1)(0,0,0)[0]             : AIC=-30.579, Time=0.14 sec\n",
      " ARIMA(3,1,1)(0,0,0)[0]             : AIC=-28.581, Time=0.29 sec\n",
      " ARIMA(2,1,2)(0,0,0)[0]             : AIC=-28.580, Time=0.29 sec\n",
      " ARIMA(1,1,2)(0,0,0)[0]             : AIC=-30.384, Time=0.17 sec\n",
      " ARIMA(3,1,0)(0,0,0)[0]             : AIC=-27.841, Time=0.09 sec\n",
      " ARIMA(3,1,2)(0,0,0)[0]             : AIC=-26.643, Time=0.26 sec\n",
      "\n",
      "Best model:  ARIMA(2,1,1)(0,0,0)[0]          \n",
      "Total fit time: 3.576 seconds\n"
     ]
    },
    {
     "data": {
      "text/html": [
       "<table class=\"simpletable\">\n",
       "<caption>SARIMAX Results</caption>\n",
       "<tr>\n",
       "  <th>Dep. Variable:</th>           <td>y</td>        <th>  No. Observations:  </th>   <td>122</td>  \n",
       "</tr>\n",
       "<tr>\n",
       "  <th>Model:</th>           <td>SARIMAX(2, 1, 1)</td> <th>  Log Likelihood     </th> <td>19.289</td> \n",
       "</tr>\n",
       "<tr>\n",
       "  <th>Date:</th>            <td>Tue, 07 May 2024</td> <th>  AIC                </th> <td>-30.579</td>\n",
       "</tr>\n",
       "<tr>\n",
       "  <th>Time:</th>                <td>10:04:04</td>     <th>  BIC                </th> <td>-19.395</td>\n",
       "</tr>\n",
       "<tr>\n",
       "  <th>Sample:</th>                  <td>0</td>        <th>  HQIC               </th> <td>-26.037</td>\n",
       "</tr>\n",
       "<tr>\n",
       "  <th></th>                      <td> - 122</td>      <th>                     </th>    <td> </td>   \n",
       "</tr>\n",
       "<tr>\n",
       "  <th>Covariance Type:</th>        <td>opg</td>       <th>                     </th>    <td> </td>   \n",
       "</tr>\n",
       "</table>\n",
       "<table class=\"simpletable\">\n",
       "<tr>\n",
       "     <td></td>       <th>coef</th>     <th>std err</th>      <th>z</th>      <th>P>|z|</th>  <th>[0.025</th>    <th>0.975]</th>  \n",
       "</tr>\n",
       "<tr>\n",
       "  <th>ar.L1</th>  <td>    1.1551</td> <td>    0.146</td> <td>    7.931</td> <td> 0.000</td> <td>    0.870</td> <td>    1.441</td>\n",
       "</tr>\n",
       "<tr>\n",
       "  <th>ar.L2</th>  <td>   -0.1962</td> <td>    0.105</td> <td>   -1.868</td> <td> 0.062</td> <td>   -0.402</td> <td>    0.010</td>\n",
       "</tr>\n",
       "<tr>\n",
       "  <th>ma.L1</th>  <td>   -0.8664</td> <td>    0.121</td> <td>   -7.132</td> <td> 0.000</td> <td>   -1.105</td> <td>   -0.628</td>\n",
       "</tr>\n",
       "<tr>\n",
       "  <th>sigma2</th> <td>    0.0425</td> <td>    0.005</td> <td>    9.212</td> <td> 0.000</td> <td>    0.033</td> <td>    0.051</td>\n",
       "</tr>\n",
       "</table>\n",
       "<table class=\"simpletable\">\n",
       "<tr>\n",
       "  <th>Ljung-Box (L1) (Q):</th>     <td>0.00</td> <th>  Jarque-Bera (JB):  </th> <td>5.66</td>\n",
       "</tr>\n",
       "<tr>\n",
       "  <th>Prob(Q):</th>                <td>0.99</td> <th>  Prob(JB):          </th> <td>0.06</td>\n",
       "</tr>\n",
       "<tr>\n",
       "  <th>Heteroskedasticity (H):</th> <td>2.66</td> <th>  Skew:              </th> <td>0.15</td>\n",
       "</tr>\n",
       "<tr>\n",
       "  <th>Prob(H) (two-sided):</th>    <td>0.00</td> <th>  Kurtosis:          </th> <td>4.02</td>\n",
       "</tr>\n",
       "</table><br/><br/>Warnings:<br/>[1] Covariance matrix calculated using the outer product of gradients (complex-step)."
      ],
      "text/latex": [
       "\\begin{center}\n",
       "\\begin{tabular}{lclc}\n",
       "\\toprule\n",
       "\\textbf{Dep. Variable:}          &        y         & \\textbf{  No. Observations:  } &    122      \\\\\n",
       "\\textbf{Model:}                  & SARIMAX(2, 1, 1) & \\textbf{  Log Likelihood     } &   19.289    \\\\\n",
       "\\textbf{Date:}                   & Tue, 07 May 2024 & \\textbf{  AIC                } &  -30.579    \\\\\n",
       "\\textbf{Time:}                   &     10:04:04     & \\textbf{  BIC                } &  -19.395    \\\\\n",
       "\\textbf{Sample:}                 &        0         & \\textbf{  HQIC               } &  -26.037    \\\\\n",
       "\\textbf{}                        &       - 122      & \\textbf{                     } &             \\\\\n",
       "\\textbf{Covariance Type:}        &       opg        & \\textbf{                     } &             \\\\\n",
       "\\bottomrule\n",
       "\\end{tabular}\n",
       "\\begin{tabular}{lcccccc}\n",
       "                & \\textbf{coef} & \\textbf{std err} & \\textbf{z} & \\textbf{P$> |$z$|$} & \\textbf{[0.025} & \\textbf{0.975]}  \\\\\n",
       "\\midrule\n",
       "\\textbf{ar.L1}  &       1.1551  &        0.146     &     7.931  &         0.000        &        0.870    &        1.441     \\\\\n",
       "\\textbf{ar.L2}  &      -0.1962  &        0.105     &    -1.868  &         0.062        &       -0.402    &        0.010     \\\\\n",
       "\\textbf{ma.L1}  &      -0.8664  &        0.121     &    -7.132  &         0.000        &       -1.105    &       -0.628     \\\\\n",
       "\\textbf{sigma2} &       0.0425  &        0.005     &     9.212  &         0.000        &        0.033    &        0.051     \\\\\n",
       "\\bottomrule\n",
       "\\end{tabular}\n",
       "\\begin{tabular}{lclc}\n",
       "\\textbf{Ljung-Box (L1) (Q):}     & 0.00 & \\textbf{  Jarque-Bera (JB):  } & 5.66  \\\\\n",
       "\\textbf{Prob(Q):}                & 0.99 & \\textbf{  Prob(JB):          } & 0.06  \\\\\n",
       "\\textbf{Heteroskedasticity (H):} & 2.66 & \\textbf{  Skew:              } & 0.15  \\\\\n",
       "\\textbf{Prob(H) (two-sided):}    & 0.00 & \\textbf{  Kurtosis:          } & 4.02  \\\\\n",
       "\\bottomrule\n",
       "\\end{tabular}\n",
       "%\\caption{SARIMAX Results}\n",
       "\\end{center}\n",
       "\n",
       "Warnings: \\newline\n",
       " [1] Covariance matrix calculated using the outer product of gradients (complex-step)."
      ],
      "text/plain": [
       "<class 'statsmodels.iolib.summary.Summary'>\n",
       "\"\"\"\n",
       "                               SARIMAX Results                                \n",
       "==============================================================================\n",
       "Dep. Variable:                      y   No. Observations:                  122\n",
       "Model:               SARIMAX(2, 1, 1)   Log Likelihood                  19.289\n",
       "Date:                Tue, 07 May 2024   AIC                            -30.579\n",
       "Time:                        10:04:04   BIC                            -19.395\n",
       "Sample:                             0   HQIC                           -26.037\n",
       "                                - 122                                         \n",
       "Covariance Type:                  opg                                         \n",
       "==============================================================================\n",
       "                 coef    std err          z      P>|z|      [0.025      0.975]\n",
       "------------------------------------------------------------------------------\n",
       "ar.L1          1.1551      0.146      7.931      0.000       0.870       1.441\n",
       "ar.L2         -0.1962      0.105     -1.868      0.062      -0.402       0.010\n",
       "ma.L1         -0.8664      0.121     -7.132      0.000      -1.105      -0.628\n",
       "sigma2         0.0425      0.005      9.212      0.000       0.033       0.051\n",
       "===================================================================================\n",
       "Ljung-Box (L1) (Q):                   0.00   Jarque-Bera (JB):                 5.66\n",
       "Prob(Q):                              0.99   Prob(JB):                         0.06\n",
       "Heteroskedasticity (H):               2.66   Skew:                             0.15\n",
       "Prob(H) (two-sided):                  0.00   Kurtosis:                         4.02\n",
       "===================================================================================\n",
       "\n",
       "Warnings:\n",
       "[1] Covariance matrix calculated using the outer product of gradients (complex-step).\n",
       "\"\"\""
      ]
     },
     "execution_count": 20,
     "metadata": {},
     "output_type": "execute_result"
    }
   ],
   "source": [
    "stepwise_fit = auto_arima(df.co2_per_capita, trace = True,\n",
    "                         suppress_warnings = True)\n",
    "\n",
    "stepwise_fit.summary()"
   ]
  },
  {
   "cell_type": "code",
   "execution_count": 21,
   "id": "2c54c442",
   "metadata": {},
   "outputs": [
    {
     "data": {
      "image/png": "[encoded data removed]",
      "text/plain": [
       "<Figure size 432x288 with 1 Axes>"
      ]
     },
     "metadata": {
      "needs_background": "light"
     },
     "output_type": "display_data"
    }
   ],
   "source": [
    "df = np.log(df.co2_per_capita)\n",
    "df.plot();"
   ]
  },
  {
   "cell_type": "code",
   "execution_count": 22,
   "id": "0dd4f674",
   "metadata": {},
   "outputs": [
    {
     "name": "stdout",
     "output_type": "stream",
     "text": [
      "(122,)\n",
      "(92,) (30,)\n"
     ]
    }
   ],
   "source": [
    "print(df.shape)\n",
    "df_train = df.iloc[:-30]\n",
    "df_test = df.iloc[-30:]\n",
    "print(df_train.shape, df_test.shape)"
   ]
  },
  {
   "cell_type": "code",
   "execution_count": 23,
   "id": "c508d1e5",
   "metadata": {},
   "outputs": [],
   "source": [
    "from statsmodels.tsa.arima.model import ARIMA"
   ]
  },
  {
   "cell_type": "code",
   "execution_count": 25,
   "id": "1b4a4bcc",
   "metadata": {},
   "outputs": [
    {
     "name": "stdout",
     "output_type": "stream",
     "text": [
      "                               SARIMAX Results                                \n",
      "==============================================================================\n",
      "Dep. Variable:         co2_per_capita   No. Observations:                   92\n",
      "Model:                 ARIMA(2, 1, 1)   Log Likelihood                 100.007\n",
      "Date:                Tue, 07 May 2024   AIC                           -192.015\n",
      "Time:                        10:06:42   BIC                           -181.972\n",
      "Sample:                             0   HQIC                          -187.963\n",
      "                                 - 92                                         \n",
      "Covariance Type:                  opg                                         \n",
      "==============================================================================\n",
      "                 coef    std err          z      P>|z|      [0.025      0.975]\n",
      "------------------------------------------------------------------------------\n",
      "ar.L1         -0.1048      0.564     -0.186      0.853      -1.210       1.000\n",
      "ar.L2          0.1994      0.123      1.623      0.105      -0.041       0.440\n",
      "ma.L1          0.2162      0.584      0.370      0.711      -0.928       1.360\n",
      "sigma2         0.0065      0.001     10.561      0.000       0.005       0.008\n",
      "===================================================================================\n",
      "Ljung-Box (L1) (Q):                   0.12   Jarque-Bera (JB):                98.92\n",
      "Prob(Q):                              0.73   Prob(JB):                         0.00\n",
      "Heteroskedasticity (H):               0.12   Skew:                             0.58\n",
      "Prob(H) (two-sided):                  0.00   Kurtosis:                         7.97\n",
      "===================================================================================\n",
      "\n",
      "Warnings:\n",
      "[1] Covariance matrix calculated using the outer product of gradients (complex-step).\n"
     ]
    }
   ],
   "source": [
    "model = ARIMA(df_train, order = (2,1,1))\n",
    "model_fit = model.fit()\n",
    "print(model_fit.summary())"
   ]
  },
  {
   "cell_type": "code",
   "execution_count": 26,
   "id": "6fface7b",
   "metadata": {},
   "outputs": [
    {
     "name": "stdout",
     "output_type": "stream",
     "text": [
      "92     2.163165\n",
      "93     2.153981\n",
      "94     2.155369\n",
      "95     2.153392\n",
      "96     2.153877\n",
      "97     2.153432\n",
      "98     2.153575\n",
      "99     2.153471\n",
      "100    2.153510\n",
      "101    2.153486\n",
      "102    2.153496\n",
      "103    2.153490\n",
      "104    2.153493\n",
      "105    2.153491\n",
      "106    2.153492\n",
      "107    2.153492\n",
      "108    2.153492\n",
      "109    2.153492\n",
      "110    2.153492\n",
      "111    2.153492\n",
      "112    2.153492\n",
      "113    2.153492\n",
      "114    2.153492\n",
      "115    2.153492\n",
      "116    2.153492\n",
      "117    2.153492\n",
      "118    2.153492\n",
      "119    2.153492\n",
      "120    2.153492\n",
      "121    2.153492\n",
      "Name: predicted_mean, dtype: float64\n"
     ]
    }
   ],
   "source": [
    "#Make predctions on test set\n",
    "start = len(df_train)\n",
    "end = len(df_train) + len(df_test)-1\n",
    "pred = model_fit.predict(start=start, end=end, typ='levels')\n",
    "pred.index = df.index[start:end+1]\n",
    "print(pred)"
   ]
  },
  {
   "cell_type": "code",
   "execution_count": 28,
   "id": "b1e3551e",
   "metadata": {
    "scrolled": true
   },
   "outputs": [
    {
     "data": {
      "image/png": "[encoded data removed]",
      "text/plain": [
       "<Figure size 432x288 with 1 Axes>"
      ]
     },
     "metadata": {
      "needs_background": "light"
     },
     "output_type": "display_data"
    }
   ],
   "source": [
    "pred.plot(legend = True)\n",
    "df_test.plot(legend = True);"
   ]
  },
  {
   "cell_type": "code",
   "execution_count": 49,
   "id": "4b93ab6c",
   "metadata": {},
   "outputs": [
    {
     "name": "stdout",
     "output_type": "stream",
     "text": [
      "<class 'pandas.core.frame.DataFrame'>\n",
      "RangeIndex: 122 entries, 0 to 121\n",
      "Data columns (total 2 columns):\n",
      " #   Column          Non-Null Count  Dtype         \n",
      "---  ------          --------------  -----         \n",
      " 0   year            122 non-null    datetime64[ns]\n",
      " 1   co2_per_capita  122 non-null    float64       \n",
      "dtypes: datetime64[ns](1), float64(1)\n",
      "memory usage: 2.0 KB\n"
     ]
    }
   ],
   "source": [
    "df.info()"
   ]
  },
  {
   "cell_type": "code",
   "execution_count": 29,
   "id": "3c28bc22",
   "metadata": {},
   "outputs": [],
   "source": [
    "from statsmodels.graphics.tsaplots import plot_acf, plot_pacf"
   ]
  },
  {
   "cell_type": "code",
   "execution_count": 30,
   "id": "4d46c464",
   "metadata": {},
   "outputs": [
    {
     "data": {
      "image/png": "[encoded data removed]",
      "text/plain": [
       "<Figure size 432x288 with 1 Axes>"
      ]
     },
     "metadata": {
      "needs_background": "light"
     },
     "output_type": "display_data"
    },
    {
     "data": {
      "image/png": "[encoded data removed]",
      "text/plain": [
       "<Figure size 432x288 with 1 Axes>"
      ]
     },
     "metadata": {
      "needs_background": "light"
     },
     "output_type": "display_data"
    }
   ],
   "source": [
    "acf_original = plot_acf(df_train)\n",
    "pacf_original = plot_pacf(df_train)"
   ]
  },
  {
   "cell_type": "code",
   "execution_count": 31,
   "id": "62fb4a12",
   "metadata": {},
   "outputs": [],
   "source": [
    "from statsmodels.tsa.stattools import adfuller"
   ]
  },
  {
   "cell_type": "code",
   "execution_count": 32,
   "id": "747d9fbd",
   "metadata": {},
   "outputs": [
    {
     "name": "stdout",
     "output_type": "stream",
     "text": [
      "ADF Test Results\n",
      "Null Hypothesis: The series has a unit root (non-stationary)\n",
      "ADF-Statistic: -0.31441365582596886\n",
      "P-Value: 0.9234379741855306\n",
      "Number of lags: 0\n",
      "Number of observations: 91\n",
      "Critical Values: {'1%': -3.50434289821397, '5%': -2.8938659630479413, '10%': -2.5840147047458037}\n",
      "Note: If P-Value is smaller than 0.05, we reject the null hypothesis and the series is stationary\n"
     ]
    }
   ],
   "source": [
    "adftest = adfuller(df_train)\n",
    "print(\"ADF Test Results\")\n",
    "print(\"Null Hypothesis: The series has a unit root (non-stationary)\")\n",
    "print(\"ADF-Statistic:\", adftest[0])\n",
    "print(\"P-Value:\", adftest[1])\n",
    "print(\"Number of lags:\", adftest[2])\n",
    "print(\"Number of observations:\", adftest[3])\n",
    "print(\"Critical Values:\", adftest[4])\n",
    "print(\"Note: If P-Value is smaller than 0.05, we reject the null hypothesis and the series is stationary\")"
   ]
  },
  {
   "cell_type": "code",
   "execution_count": 33,
   "id": "97d0ff59",
   "metadata": {},
   "outputs": [
    {
     "data": {
      "image/png": "[encoded data removed]",
      "text/plain": [
       "<Figure size 432x288 with 1 Axes>"
      ]
     },
     "metadata": {
      "needs_background": "light"
     },
     "output_type": "display_data"
    }
   ],
   "source": [
    "df_train_diff = df_train.diff().dropna()\n",
    "df_train_diff.plot();"
   ]
  },
  {
   "cell_type": "code",
   "execution_count": 34,
   "id": "7861cff9",
   "metadata": {},
   "outputs": [
    {
     "data": {
      "image/png": "[encoded data removed]",
      "text/plain": [
       "<Figure size 432x288 with 1 Axes>"
      ]
     },
     "metadata": {
      "needs_background": "light"
     },
     "output_type": "display_data"
    },
    {
     "data": {
      "image/png": "[encoded data removed]",
      "text/plain": [
       "<Figure size 432x288 with 1 Axes>"
      ]
     },
     "metadata": {
      "needs_background": "light"
     },
     "output_type": "display_data"
    }
   ],
   "source": [
    "acf_diff = plot_acf(df_train_diff)\n",
    "pacf_diff = plot_pacf(df_train_diff)"
   ]
  },
  {
   "cell_type": "code",
   "execution_count": 35,
   "id": "306573f2",
   "metadata": {},
   "outputs": [
    {
     "name": "stdout",
     "output_type": "stream",
     "text": [
      "ADF Test Results\n",
      "Null Hypothesis: The series has a unit root (non-stationary)\n",
      "ADF-Statistic: -8.663502381790371\n",
      "P-Value: 4.7522750589381685e-14\n",
      "Number of lags: 0\n",
      "Number of observations: 90\n",
      "Critical Values: {'1%': -3.505190196159122, '5%': -2.894232085048011, '10%': -2.5842101234567902}\n",
      "Note: If P-Value is smaller than 0.05, we reject the null hypothesis and the series is stationary\n"
     ]
    }
   ],
   "source": [
    "adftest = adfuller(df_train_diff)\n",
    "print(\"ADF Test Results\")\n",
    "print(\"Null Hypothesis: The series has a unit root (non-stationary)\")\n",
    "print(\"ADF-Statistic:\", adftest[0])\n",
    "print(\"P-Value:\", adftest[1])\n",
    "print(\"Number of lags:\", adftest[2])\n",
    "print(\"Number of observations:\", adftest[3])\n",
    "print(\"Critical Values:\", adftest[4])\n",
    "print(\"Note: If P-Value is smaller than 0.05, we reject the null hypothesis and the series is stationary\")"
   ]
  },
  {
   "cell_type": "code",
   "execution_count": 19,
   "id": "f0fb66ab",
   "metadata": {},
   "outputs": [],
   "source": []
  },
  {
   "cell_type": "code",
   "execution_count": 36,
   "id": "d83bf756",
   "metadata": {},
   "outputs": [
    {
     "name": "stdout",
     "output_type": "stream",
     "text": [
      "                               SARIMAX Results                                \n",
      "==============================================================================\n",
      "Dep. Variable:         co2_per_capita   No. Observations:                   92\n",
      "Model:                 ARIMA(2, 1, 0)   Log Likelihood                  99.981\n",
      "Date:                Tue, 07 May 2024   AIC                           -193.962\n",
      "Time:                        10:08:29   BIC                           -186.430\n",
      "Sample:                             0   HQIC                          -190.923\n",
      "                                 - 92                                         \n",
      "Covariance Type:                  opg                                         \n",
      "==============================================================================\n",
      "                 coef    std err          z      P>|z|      [0.025      0.975]\n",
      "------------------------------------------------------------------------------\n",
      "ar.L1          0.1043      0.053      1.983      0.047       0.001       0.207\n",
      "ar.L2          0.1752      0.075      2.328      0.020       0.028       0.323\n",
      "sigma2         0.0065      0.001     11.001      0.000       0.005       0.008\n",
      "===================================================================================\n",
      "Ljung-Box (L1) (Q):                   0.07   Jarque-Bera (JB):                95.50\n",
      "Prob(Q):                              0.79   Prob(JB):                         0.00\n",
      "Heteroskedasticity (H):               0.12   Skew:                             0.62\n",
      "Prob(H) (two-sided):                  0.00   Kurtosis:                         7.86\n",
      "===================================================================================\n",
      "\n",
      "Warnings:\n",
      "[1] Covariance matrix calculated using the outer product of gradients (complex-step).\n"
     ]
    }
   ],
   "source": [
    "model = ARIMA(df_train, order = (2,1,0))\n",
    "model_fit = model.fit()\n",
    "print(model_fit.summary())"
   ]
  },
  {
   "cell_type": "code",
   "execution_count": 37,
   "id": "8ced6795",
   "metadata": {},
   "outputs": [
    {
     "data": {
      "image/png": "[encoded data removed]",
      "text/plain": [
       "<Figure size 432x288 with 2 Axes>"
      ]
     },
     "metadata": {
      "needs_background": "light"
     },
     "output_type": "display_data"
    }
   ],
   "source": [
    "residuals = model_fit.resid[1:]\n",
    "fig, ax = plt.subplots(1,2)\n",
    "residuals.plot(title = 'Residuals', ax = ax[0])\n",
    "residuals.plot(title = 'Density', kind = 'kde', ax = ax[1])\n",
    "plt.show()"
   ]
  },
  {
   "cell_type": "code",
   "execution_count": 22,
   "id": "4a1db7d6",
   "metadata": {},
   "outputs": [
    {
     "data": {
      "image/png": "[encoded data removed]",
      "text/plain": [
       "<Figure size 432x288 with 1 Axes>"
      ]
     },
     "metadata": {
      "needs_background": "light"
     },
     "output_type": "display_data"
    },
    {
     "data": {
      "image/png": "[encoded data removed]",
      "text/plain": [
       "<Figure size 432x288 with 1 Axes>"
      ]
     },
     "metadata": {
      "needs_background": "light"
     },
     "output_type": "display_data"
    }
   ],
   "source": [
    "acf_residuals = plot_acf(residuals)\n",
    "pacf_residuals = plot_pacf(residuals)"
   ]
  },
  {
   "cell_type": "markdown",
   "id": "b1f57da6",
   "metadata": {},
   "source": [
    "forecast_test = model_fit.forecast(len(df_test))\n",
    "#df['forecast_manual'] = [None]*len(df_train) + list(forecast_test)\n",
    "df['forecast_manual'] = pd.to_numeric(df['forecast_manual'], errors = 'coerce')\n",
    "df.plot()"
   ]
  },
  {
   "cell_type": "code",
   "execution_count": 38,
   "id": "bf205aa9",
   "metadata": {},
   "outputs": [
    {
     "data": {
      "text/plain": [
       "<AxesSubplot:>"
      ]
     },
     "execution_count": 38,
     "metadata": {},
     "output_type": "execute_result"
    },
    {
     "data": {
      "image/png": "[encoded data removed]",
      "text/plain": [
       "<Figure size 432x288 with 1 Axes>"
      ]
     },
     "metadata": {
      "needs_background": "light"
     },
     "output_type": "display_data"
    }
   ],
   "source": [
    "df.plot()"
   ]
  },
  {
   "cell_type": "code",
   "execution_count": null,
   "id": "9ae17fc9",
   "metadata": {},
   "outputs": [],
   "source": []
  }
 ],
 "metadata": {
  "kernelspec": {
   "display_name": "Python 3 (ipykernel)",
   "language": "python",
   "name": "python3"
  },
  "language_info": {
   "codemirror_mode": {
    "name": "ipython",
    "version": 3
   },
   "file_extension": ".py",
   "mimetype": "text/x-python",
   "name": "python",
   "nbconvert_exporter": "python",
   "pygments_lexer": "ipython3",
   "version": "3.9.12"
  }
 },
 "nbformat": 4,
 "nbformat_minor": 5
}
